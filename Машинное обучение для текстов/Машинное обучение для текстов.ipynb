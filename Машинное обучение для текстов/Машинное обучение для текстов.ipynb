{
 "cells": [
  {
   "cell_type": "markdown",
   "metadata": {
    "toc": true
   },
   "source": [
    "<h1>Содержание<span class=\"tocSkip\"></span></h1>\n",
    "<div class=\"toc\"><ul class=\"toc-item\"><li><span><a href=\"#Подготовка\" data-toc-modified-id=\"Подготовка-1\">Подготовка</a></span><ul class=\"toc-item\"><li><ul class=\"toc-item\"><li><span><a href=\"#Вывод:\" data-toc-modified-id=\"Вывод:-1.0.1\">Вывод:</a></span></li></ul></li></ul></li><li><span><a href=\"#Обучение\" data-toc-modified-id=\"Обучение-2\">Обучение</a></span><ul class=\"toc-item\"><li><span><a href=\"#LogisticRegression\" data-toc-modified-id=\"LogisticRegression-2.1\">LogisticRegression</a></span></li><li><span><a href=\"#DecisionTreeClassifier\" data-toc-modified-id=\"DecisionTreeClassifier-2.2\">DecisionTreeClassifier</a></span></li><li><span><a href=\"#LGBMClassifier\" data-toc-modified-id=\"LGBMClassifier-2.3\">LGBMClassifier</a></span></li><li><span><a href=\"#Вывод:\" data-toc-modified-id=\"Вывод:-2.4\">Вывод:</a></span></li><li><span><a href=\"#Предсказание-лучшей-модели-на-тестовой-выборке\" data-toc-modified-id=\"Предсказание-лучшей-модели-на-тестовой-выборке-2.5\">Предсказание лучшей модели на тестовой выборке</a></span></li></ul></li><li><span><a href=\"#Выводы\" data-toc-modified-id=\"Выводы-3\">Выводы</a></span></li></ul></div>"
   ]
  },
  {
   "cell_type": "markdown",
   "metadata": {},
   "source": [
    "# Проект"
   ]
  },
  {
   "cell_type": "markdown",
   "metadata": {},
   "source": [
    "Интернет-магазин запускает новый сервис. Теперь пользователи могут редактировать и дополнять описания товаров, как в вики-сообществах. То есть клиенты предлагают свои правки и комментируют изменения других. Магазину нужен инструмент, который будет искать токсичные комментарии и отправлять их на модерацию. \n",
    "\n",
    "Обучим модель классифицировать комментарии на позитивные и негативные. В нашем распоряжении набор данных с разметкой о токсичности правок.\n",
    "\n",
    "Построим модель со значением метрики качества *F1* не меньше 0.75. "
   ]
  },
  {
   "cell_type": "markdown",
   "metadata": {},
   "source": [
    "## Подготовка"
   ]
  },
  {
   "cell_type": "code",
   "execution_count": 1,
   "metadata": {},
   "outputs": [
    {
     "name": "stderr",
     "output_type": "stream",
     "text": [
      "[nltk_data] Downloading package averaged_perceptron_tagger to\n",
      "[nltk_data]     /home/jovyan/nltk_data...\n",
      "[nltk_data]   Package averaged_perceptron_tagger is already up-to-\n",
      "[nltk_data]       date!\n"
     ]
    }
   ],
   "source": [
    "#Загрузим необходимые библиотеки\n",
    "import numpy as np\n",
    "import pandas as pd\n",
    "import re\n",
    "import time\n",
    "import nltk\n",
    "nltk.download('averaged_perceptron_tagger')\n",
    "from lightgbm import LGBMClassifier\n",
    "from nltk.stem import WordNetLemmatizer #Лемматизация\n",
    "from nltk.corpus import wordnet\n",
    "from nltk.corpus import stopwords as nltk_stopwords #Список стоп-слов\n",
    "from nltk import pos_tag\n",
    "from sklearn.feature_extraction.text import TfidfVectorizer\n",
    "from sklearn.model_selection import train_test_split, cross_val_score, GridSearchCV\n",
    "from sklearn.linear_model import LogisticRegression, SGDClassifier\n",
    "from sklearn.tree import DecisionTreeClassifier\n",
    "from catboost import CatBoostClassifier\n",
    "from sklearn.metrics import f1_score, precision_score, recall_score, accuracy_score, roc_auc_score, roc_curve, classification_report\n",
    "from sklearn.utils import shuffle\n",
    "from sklearn.model_selection import GridSearchCV\n",
    "import xgboost as xgb\n",
    "import matplotlib.pyplot as plt\n",
    "import warnings\n",
    "warnings.filterwarnings('ignore')\n",
    "RANDOM_STATE = 12345\n"
   ]
  },
  {
   "cell_type": "code",
   "execution_count": 2,
   "metadata": {},
   "outputs": [
    {
     "data": {
      "text/html": [
       "<div>\n",
       "<style scoped>\n",
       "    .dataframe tbody tr th:only-of-type {\n",
       "        vertical-align: middle;\n",
       "    }\n",
       "\n",
       "    .dataframe tbody tr th {\n",
       "        vertical-align: top;\n",
       "    }\n",
       "\n",
       "    .dataframe thead th {\n",
       "        text-align: right;\n",
       "    }\n",
       "</style>\n",
       "<table border=\"1\" class=\"dataframe\">\n",
       "  <thead>\n",
       "    <tr style=\"text-align: right;\">\n",
       "      <th></th>\n",
       "      <th>Unnamed: 0</th>\n",
       "      <th>text</th>\n",
       "      <th>toxic</th>\n",
       "    </tr>\n",
       "  </thead>\n",
       "  <tbody>\n",
       "    <tr>\n",
       "      <th>0</th>\n",
       "      <td>0</td>\n",
       "      <td>Explanation\\nWhy the edits made under my usern...</td>\n",
       "      <td>0</td>\n",
       "    </tr>\n",
       "    <tr>\n",
       "      <th>1</th>\n",
       "      <td>1</td>\n",
       "      <td>D'aww! He matches this background colour I'm s...</td>\n",
       "      <td>0</td>\n",
       "    </tr>\n",
       "    <tr>\n",
       "      <th>2</th>\n",
       "      <td>2</td>\n",
       "      <td>Hey man, I'm really not trying to edit war. It...</td>\n",
       "      <td>0</td>\n",
       "    </tr>\n",
       "    <tr>\n",
       "      <th>3</th>\n",
       "      <td>3</td>\n",
       "      <td>\"\\nMore\\nI can't make any real suggestions on ...</td>\n",
       "      <td>0</td>\n",
       "    </tr>\n",
       "    <tr>\n",
       "      <th>4</th>\n",
       "      <td>4</td>\n",
       "      <td>You, sir, are my hero. Any chance you remember...</td>\n",
       "      <td>0</td>\n",
       "    </tr>\n",
       "  </tbody>\n",
       "</table>\n",
       "</div>"
      ],
      "text/plain": [
       "   Unnamed: 0                                               text  toxic\n",
       "0           0  Explanation\\nWhy the edits made under my usern...      0\n",
       "1           1  D'aww! He matches this background colour I'm s...      0\n",
       "2           2  Hey man, I'm really not trying to edit war. It...      0\n",
       "3           3  \"\\nMore\\nI can't make any real suggestions on ...      0\n",
       "4           4  You, sir, are my hero. Any chance you remember...      0"
      ]
     },
     "execution_count": 2,
     "metadata": {},
     "output_type": "execute_result"
    }
   ],
   "source": [
    "#Загрузим предоставленный нам датасет\n",
    "tox_df = pd.read_csv('/datasets/toxic_comments.csv')\n",
    "tox_df.head()"
   ]
  },
  {
   "cell_type": "code",
   "execution_count": 3,
   "metadata": {},
   "outputs": [
    {
     "name": "stdout",
     "output_type": "stream",
     "text": [
      "<class 'pandas.core.frame.DataFrame'>\n",
      "RangeIndex: 159292 entries, 0 to 159291\n",
      "Data columns (total 3 columns):\n",
      " #   Column      Non-Null Count   Dtype \n",
      "---  ------      --------------   ----- \n",
      " 0   Unnamed: 0  159292 non-null  int64 \n",
      " 1   text        159292 non-null  object\n",
      " 2   toxic       159292 non-null  int64 \n",
      "dtypes: int64(2), object(1)\n",
      "memory usage: 3.6+ MB\n"
     ]
    }
   ],
   "source": [
    "tox_df.info()"
   ]
  },
  {
   "cell_type": "code",
   "execution_count": 4,
   "metadata": {},
   "outputs": [
    {
     "data": {
      "text/html": [
       "<div>\n",
       "<style scoped>\n",
       "    .dataframe tbody tr th:only-of-type {\n",
       "        vertical-align: middle;\n",
       "    }\n",
       "\n",
       "    .dataframe tbody tr th {\n",
       "        vertical-align: top;\n",
       "    }\n",
       "\n",
       "    .dataframe thead th {\n",
       "        text-align: right;\n",
       "    }\n",
       "</style>\n",
       "<table border=\"1\" class=\"dataframe\">\n",
       "  <thead>\n",
       "    <tr style=\"text-align: right;\">\n",
       "      <th></th>\n",
       "      <th>Unnamed: 0</th>\n",
       "      <th>toxic</th>\n",
       "    </tr>\n",
       "  </thead>\n",
       "  <tbody>\n",
       "    <tr>\n",
       "      <th>count</th>\n",
       "      <td>159292.000000</td>\n",
       "      <td>159292.000000</td>\n",
       "    </tr>\n",
       "    <tr>\n",
       "      <th>mean</th>\n",
       "      <td>79725.697242</td>\n",
       "      <td>0.101612</td>\n",
       "    </tr>\n",
       "    <tr>\n",
       "      <th>std</th>\n",
       "      <td>46028.837471</td>\n",
       "      <td>0.302139</td>\n",
       "    </tr>\n",
       "    <tr>\n",
       "      <th>min</th>\n",
       "      <td>0.000000</td>\n",
       "      <td>0.000000</td>\n",
       "    </tr>\n",
       "    <tr>\n",
       "      <th>25%</th>\n",
       "      <td>39872.750000</td>\n",
       "      <td>0.000000</td>\n",
       "    </tr>\n",
       "    <tr>\n",
       "      <th>50%</th>\n",
       "      <td>79721.500000</td>\n",
       "      <td>0.000000</td>\n",
       "    </tr>\n",
       "    <tr>\n",
       "      <th>75%</th>\n",
       "      <td>119573.250000</td>\n",
       "      <td>0.000000</td>\n",
       "    </tr>\n",
       "    <tr>\n",
       "      <th>max</th>\n",
       "      <td>159450.000000</td>\n",
       "      <td>1.000000</td>\n",
       "    </tr>\n",
       "  </tbody>\n",
       "</table>\n",
       "</div>"
      ],
      "text/plain": [
       "          Unnamed: 0          toxic\n",
       "count  159292.000000  159292.000000\n",
       "mean    79725.697242       0.101612\n",
       "std     46028.837471       0.302139\n",
       "min         0.000000       0.000000\n",
       "25%     39872.750000       0.000000\n",
       "50%     79721.500000       0.000000\n",
       "75%    119573.250000       0.000000\n",
       "max    159450.000000       1.000000"
      ]
     },
     "execution_count": 4,
     "metadata": {},
     "output_type": "execute_result"
    }
   ],
   "source": [
    "tox_df.describe()"
   ]
  },
  {
   "cell_type": "code",
   "execution_count": 5,
   "metadata": {},
   "outputs": [
    {
     "data": {
      "text/plain": [
       "0    143106\n",
       "1     16186\n",
       "Name: toxic, dtype: int64"
      ]
     },
     "execution_count": 5,
     "metadata": {},
     "output_type": "execute_result"
    }
   ],
   "source": [
    "# Количество токичных и нетоксичных комментариев\n",
    "tox_df['toxic'].value_counts()"
   ]
  },
  {
   "cell_type": "code",
   "execution_count": 6,
   "metadata": {},
   "outputs": [
    {
     "data": {
      "text/plain": [
       "0"
      ]
     },
     "execution_count": 6,
     "metadata": {},
     "output_type": "execute_result"
    }
   ],
   "source": [
    "# Проверим на дубликаты\n",
    "tox_df.duplicated().sum()"
   ]
  },
  {
   "cell_type": "code",
   "execution_count": 7,
   "metadata": {},
   "outputs": [
    {
     "data": {
      "text/plain": [
       "0"
      ]
     },
     "execution_count": 7,
     "metadata": {},
     "output_type": "execute_result"
    }
   ],
   "source": [
    "tox_df.index.duplicated().sum()"
   ]
  },
  {
   "cell_type": "markdown",
   "metadata": {},
   "source": [
    "#### Вывод:\n",
    "Дубликаты отсутствуют.\n",
    "Данные не сбалансированы."
   ]
  },
  {
   "cell_type": "code",
   "execution_count": 8,
   "metadata": {},
   "outputs": [],
   "source": [
    "# Лемматизируем данные\n",
    "# Функция для преобразования POS тегов из nltk в формат WordNet\n",
    "def get_wordnet_pos(tag):\n",
    "    if tag.startswith('J'):\n",
    "        return wordnet.ADJ\n",
    "    elif tag.startswith('V'):\n",
    "        return wordnet.VERB\n",
    "    elif tag.startswith('N'):\n",
    "        return wordnet.NOUN\n",
    "    elif tag.startswith('R'):\n",
    "        return wordnet.ADV\n",
    "    else:\n",
    "        return wordnet.NOUN\n",
    "\n",
    "# Лемматизируем текст с использованием POS тэгов\n",
    "def lemmatize_text(text):\n",
    "    text = text.lower()  # Привести к нижнему регистру\n",
    "    tokens = text.split()  # Разбиваем на токены\n",
    "    pos_tags = pos_tag(tokens)  # Получаем POS теги\n",
    "    lemmatizer = WordNetLemmatizer()\n",
    "    lemmatized_tokens = [lemmatizer.lemmatize(token, get_wordnet_pos(tag)) for token, tag in pos_tags]\n",
    "    cleared_text = re.sub(r\"[^a-zA-Z]\", ' ', ' '.join(lemmatized_tokens))\n",
    "    return ' '.join(cleared_text.split())\n",
    "\n",
    "tox_df['lemm_text'] = tox_df['text'].apply(lemmatize_text)\n",
    "tox_df = tox_df.drop(['text'], axis=1)"
   ]
  },
  {
   "cell_type": "code",
   "execution_count": 9,
   "metadata": {},
   "outputs": [],
   "source": [
    "# Разобьем данные на выборки \n",
    "target = tox_df['toxic']\n",
    "features = tox_df.drop(['toxic'], axis=1)\n",
    "\n",
    "features_train, features_test, target_train, target_test = train_test_split(features, \n",
    "                                                                              target, \n",
    "                                                                              test_size=0.2, \n",
    "                                                                              random_state=12345)"
   ]
  },
  {
   "cell_type": "code",
   "execution_count": 10,
   "metadata": {},
   "outputs": [
    {
     "name": "stderr",
     "output_type": "stream",
     "text": [
      "[nltk_data] Downloading package stopwords to /home/jovyan/nltk_data...\n",
      "[nltk_data]   Package stopwords is already up-to-date!\n"
     ]
    },
    {
     "name": "stdout",
     "output_type": "stream",
     "text": [
      "(127433, 143002)\n",
      "(31859, 143002)\n"
     ]
    }
   ],
   "source": [
    "# Обработаем текстовые данные для задач машинного обучения\n",
    "# Загрузка стоп-слов\n",
    "nltk.download('stopwords')\n",
    "stopwords = set(nltk_stopwords.words('english'))\n",
    "\n",
    "# Создание TF-IDF-векторизатора\n",
    "count_tf_idf = TfidfVectorizer(stop_words=stopwords)\n",
    "\n",
    "# Обучение и преобразование данных\n",
    "features_train = count_tf_idf.fit_transform(features_train['lemm_text'].values)\n",
    "features_test = count_tf_idf.transform(features_test['lemm_text'].values)\n",
    "print(features_train.shape)\n",
    "print(features_test.shape)\n",
    "cv_counts = 2"
   ]
  },
  {
   "cell_type": "code",
   "execution_count": 11,
   "metadata": {},
   "outputs": [
    {
     "name": "stdout",
     "output_type": "stream",
     "text": [
      "F1 на CV 0.6758897106059467\n"
     ]
    }
   ],
   "source": [
    "# Выполним кросс-валидацию модели машинного обучения и оценим её производительность по метрике F1\n",
    "classificator = LogisticRegression()\n",
    "train_f1 = cross_val_score(classificator, \n",
    "                      features_train, \n",
    "                      target_train, \n",
    "                      cv=cv_counts, \n",
    "                      scoring='f1').mean()\n",
    "print('F1 на CV', train_f1)"
   ]
  },
  {
   "cell_type": "markdown",
   "metadata": {},
   "source": [
    "## Обучение"
   ]
  },
  {
   "cell_type": "code",
   "execution_count": 12,
   "metadata": {},
   "outputs": [],
   "source": [
    "# Создадим функцию для создания, обучения и оценки модели, а также сохранения результатов\n",
    "# Инициализация DataFrame для хранения результатов\n",
    "df_results = pd.DataFrame(columns=['name_model', 'best_score_', 'parameters', 'time_c'])\n",
    "\n",
    "def create_model(classificator, param_grid, model_name, features_train, target_train):\n",
    "    '''\n",
    "    Параметры:\n",
    "    classificator -- модель классификатора\n",
    "    param_grid -- сетка гиперпараметров для оптимизации\n",
    "    model_name -- название модели для вывода\n",
    "    features_train -- обучающая выборка признаков\n",
    "    targets_train -- обучающая выборка меток\n",
    "    '''\n",
    "    # Начало работы с индикатором выполнения\n",
    "    start_time = time.time()\n",
    "    \n",
    "    # Настройка GridSearchCV для поиска лучших параметров\n",
    "    grid_search = GridSearchCV(classificator, param_grid, scoring='f1', cv=3, return_train_score=True)\n",
    "    \n",
    "    # Обучение модели\n",
    "    grid_search.fit(features_train, target_train)\n",
    "    \n",
    "    # Расчет времени выполнения\n",
    "    elapsed_time = time.time() - start_time\n",
    "    \n",
    "    # Извлечение лучших параметров и лучшего результата\n",
    "    best_params = grid_search.best_params_\n",
    "    best_score = grid_search.best_score_\n",
    "    \n",
    "    # Добавление результатов в DataFrame, если такая модель еще не добавлена\n",
    "    if model_name not in list(df_results['name_model']):\n",
    "        df_results.loc[len(df_results.index)] = [model_name, best_score, best_params, elapsed_time]\n",
    "    \n",
    "    # Вывод результатов\n",
    "    display(df_results)\n"
   ]
  },
  {
   "cell_type": "markdown",
   "metadata": {},
   "source": [
    "### LogisticRegression"
   ]
  },
  {
   "cell_type": "code",
   "execution_count": 13,
   "metadata": {},
   "outputs": [
    {
     "data": {
      "text/html": [
       "<div>\n",
       "<style scoped>\n",
       "    .dataframe tbody tr th:only-of-type {\n",
       "        vertical-align: middle;\n",
       "    }\n",
       "\n",
       "    .dataframe tbody tr th {\n",
       "        vertical-align: top;\n",
       "    }\n",
       "\n",
       "    .dataframe thead th {\n",
       "        text-align: right;\n",
       "    }\n",
       "</style>\n",
       "<table border=\"1\" class=\"dataframe\">\n",
       "  <thead>\n",
       "    <tr style=\"text-align: right;\">\n",
       "      <th></th>\n",
       "      <th>name_model</th>\n",
       "      <th>best_score_</th>\n",
       "      <th>parameters</th>\n",
       "      <th>time_c</th>\n",
       "    </tr>\n",
       "  </thead>\n",
       "  <tbody>\n",
       "    <tr>\n",
       "      <th>0</th>\n",
       "      <td>LogisticRegression</td>\n",
       "      <td>0.75529</td>\n",
       "      <td>{'C': 10}</td>\n",
       "      <td>135.288768</td>\n",
       "    </tr>\n",
       "  </tbody>\n",
       "</table>\n",
       "</div>"
      ],
      "text/plain": [
       "           name_model  best_score_ parameters      time_c\n",
       "0  LogisticRegression      0.75529  {'C': 10}  135.288768"
      ]
     },
     "metadata": {},
     "output_type": "display_data"
    }
   ],
   "source": [
    "logreg = LogisticRegression(fit_intercept=True, \n",
    "                                class_weight='balanced', \n",
    "                                random_state=RANDOM_STATE,\n",
    "                                solver='liblinear'\n",
    "                                )\n",
    "logreg_param = {'C': [1, 10]}   \n",
    "create_model(logreg, logreg_param, 'LogisticRegression', features_train, target_train)"
   ]
  },
  {
   "cell_type": "markdown",
   "metadata": {},
   "source": [
    "### DecisionTreeClassifier"
   ]
  },
  {
   "cell_type": "code",
   "execution_count": 14,
   "metadata": {},
   "outputs": [
    {
     "data": {
      "text/html": [
       "<div>\n",
       "<style scoped>\n",
       "    .dataframe tbody tr th:only-of-type {\n",
       "        vertical-align: middle;\n",
       "    }\n",
       "\n",
       "    .dataframe tbody tr th {\n",
       "        vertical-align: top;\n",
       "    }\n",
       "\n",
       "    .dataframe thead th {\n",
       "        text-align: right;\n",
       "    }\n",
       "</style>\n",
       "<table border=\"1\" class=\"dataframe\">\n",
       "  <thead>\n",
       "    <tr style=\"text-align: right;\">\n",
       "      <th></th>\n",
       "      <th>name_model</th>\n",
       "      <th>best_score_</th>\n",
       "      <th>parameters</th>\n",
       "      <th>time_c</th>\n",
       "    </tr>\n",
       "  </thead>\n",
       "  <tbody>\n",
       "    <tr>\n",
       "      <th>0</th>\n",
       "      <td>LogisticRegression</td>\n",
       "      <td>0.755290</td>\n",
       "      <td>{'C': 10}</td>\n",
       "      <td>135.288768</td>\n",
       "    </tr>\n",
       "    <tr>\n",
       "      <th>1</th>\n",
       "      <td>DecisionTreeClassifier</td>\n",
       "      <td>0.617569</td>\n",
       "      <td>{'max_depth': 30}</td>\n",
       "      <td>103.038885</td>\n",
       "    </tr>\n",
       "  </tbody>\n",
       "</table>\n",
       "</div>"
      ],
      "text/plain": [
       "               name_model  best_score_         parameters      time_c\n",
       "0      LogisticRegression     0.755290          {'C': 10}  135.288768\n",
       "1  DecisionTreeClassifier     0.617569  {'max_depth': 30}  103.038885"
      ]
     },
     "metadata": {},
     "output_type": "display_data"
    }
   ],
   "source": [
    "dtc = DecisionTreeClassifier(class_weight='balanced', \n",
    "                                      random_state=RANDOM_STATE\n",
    "                                      )\n",
    "dtc_param = {'max_depth': [30]}\n",
    "    \n",
    "create_model(dtc, dtc_param, 'DecisionTreeClassifier', features_train, target_train)"
   ]
  },
  {
   "cell_type": "markdown",
   "metadata": {},
   "source": [
    "### LGBMClassifier"
   ]
  },
  {
   "cell_type": "code",
   "execution_count": 15,
   "metadata": {},
   "outputs": [
    {
     "data": {
      "text/html": [
       "<div>\n",
       "<style scoped>\n",
       "    .dataframe tbody tr th:only-of-type {\n",
       "        vertical-align: middle;\n",
       "    }\n",
       "\n",
       "    .dataframe tbody tr th {\n",
       "        vertical-align: top;\n",
       "    }\n",
       "\n",
       "    .dataframe thead th {\n",
       "        text-align: right;\n",
       "    }\n",
       "</style>\n",
       "<table border=\"1\" class=\"dataframe\">\n",
       "  <thead>\n",
       "    <tr style=\"text-align: right;\">\n",
       "      <th></th>\n",
       "      <th>name_model</th>\n",
       "      <th>best_score_</th>\n",
       "      <th>parameters</th>\n",
       "      <th>time_c</th>\n",
       "    </tr>\n",
       "  </thead>\n",
       "  <tbody>\n",
       "    <tr>\n",
       "      <th>0</th>\n",
       "      <td>LogisticRegression</td>\n",
       "      <td>0.755290</td>\n",
       "      <td>{'C': 10}</td>\n",
       "      <td>135.288768</td>\n",
       "    </tr>\n",
       "    <tr>\n",
       "      <th>1</th>\n",
       "      <td>DecisionTreeClassifier</td>\n",
       "      <td>0.617569</td>\n",
       "      <td>{'max_depth': 30}</td>\n",
       "      <td>103.038885</td>\n",
       "    </tr>\n",
       "    <tr>\n",
       "      <th>2</th>\n",
       "      <td>LGBMClassifier</td>\n",
       "      <td>0.709030</td>\n",
       "      <td>{'max_depth': 10, 'n_estimators': 100}</td>\n",
       "      <td>489.437148</td>\n",
       "    </tr>\n",
       "  </tbody>\n",
       "</table>\n",
       "</div>"
      ],
      "text/plain": [
       "               name_model  best_score_  \\\n",
       "0      LogisticRegression     0.755290   \n",
       "1  DecisionTreeClassifier     0.617569   \n",
       "2          LGBMClassifier     0.709030   \n",
       "\n",
       "                               parameters      time_c  \n",
       "0                               {'C': 10}  135.288768  \n",
       "1                       {'max_depth': 30}  103.038885  \n",
       "2  {'max_depth': 10, 'n_estimators': 100}  489.437148  "
      ]
     },
     "metadata": {},
     "output_type": "display_data"
    }
   ],
   "source": [
    "lgbm = LGBMClassifier(learning_rate=0.15, \n",
    "                      random_state=RANDOM_STATE,\n",
    "                      n_jobs=-1\n",
    "                      )\n",
    "lgbm_param = {'max_depth': [10],\n",
    "                   'n_estimators': [100]\n",
    "                  }\n",
    "    \n",
    "create_model(lgbm, lgbm_param, 'LGBMClassifier', features_train, target_train)"
   ]
  },
  {
   "cell_type": "markdown",
   "metadata": {},
   "source": [
    "### Вывод:\n",
    "Лучшей моделью по метрике F1 и времени обучения оказалась логическая регрессия "
   ]
  },
  {
   "cell_type": "markdown",
   "metadata": {},
   "source": [
    "### Предсказание лучшей модели на тестовой выборке"
   ]
  },
  {
   "cell_type": "code",
   "execution_count": 16,
   "metadata": {},
   "outputs": [
    {
     "name": "stdout",
     "output_type": "stream",
     "text": [
      "F1 метрика на тестовой выборке: 0.7651601830663617\n"
     ]
    }
   ],
   "source": [
    "best_logreg = LogisticRegression(\n",
    "    fit_intercept=True,\n",
    "    class_weight='balanced',\n",
    "    random_state=RANDOM_STATE,\n",
    "    solver='liblinear',\n",
    "    C=10  # Лучшее значение гиперпараметра C\n",
    ")\n",
    "\n",
    "# Обучаем модель на тренировочных данных\n",
    "best_logreg.fit(features_train, target_train)\n",
    "\n",
    "# Выполняем предсказание на тестовой выборке\n",
    "predictions = best_logreg.predict(features_test)\n",
    "\n",
    "# Рассчитываем метрику F1 на тестовой выборке\n",
    "f1 = f1_score(target_test, predictions)\n",
    "print(\"F1 метрика на тестовой выборке:\", f1)"
   ]
  },
  {
   "cell_type": "markdown",
   "metadata": {},
   "source": [
    "## Выводы"
   ]
  },
  {
   "cell_type": "markdown",
   "metadata": {},
   "source": [
    "В ходе работы мы выполнили следующие действия:\n",
    "- Импортировали необходимые нам библиотеки\n",
    "- Загрузили датасет с данными и изучили его\n",
    "- Количество токсичных комментариев - **143106**, нетоксичных - **16186**\n",
    "- Проверили данные на пропуски и дубликаты\n",
    "- Лемматизировали данные\n",
    "- Разбили данные на обучающую и тестовую выборки\\\n",
    "\n",
    "Лучшую модель искали среди **LogisticRegression**, **DecisionTreeClassifier** и **LGBMClassifier**\\\n",
    "Лучшие гиперпараметры искали с помощью кроссвалидации\n",
    " "
   ]
  },
  {
   "cell_type": "code",
   "execution_count": 17,
   "metadata": {},
   "outputs": [
    {
     "data": {
      "text/html": [
       "<div>\n",
       "<style scoped>\n",
       "    .dataframe tbody tr th:only-of-type {\n",
       "        vertical-align: middle;\n",
       "    }\n",
       "\n",
       "    .dataframe tbody tr th {\n",
       "        vertical-align: top;\n",
       "    }\n",
       "\n",
       "    .dataframe thead th {\n",
       "        text-align: right;\n",
       "    }\n",
       "</style>\n",
       "<table border=\"1\" class=\"dataframe\">\n",
       "  <thead>\n",
       "    <tr style=\"text-align: right;\">\n",
       "      <th></th>\n",
       "      <th>name_model</th>\n",
       "      <th>best_score_</th>\n",
       "      <th>parameters</th>\n",
       "      <th>time_c</th>\n",
       "    </tr>\n",
       "  </thead>\n",
       "  <tbody>\n",
       "    <tr>\n",
       "      <th>0</th>\n",
       "      <td>LogisticRegression</td>\n",
       "      <td>0.755290</td>\n",
       "      <td>{'C': 10}</td>\n",
       "      <td>135.288768</td>\n",
       "    </tr>\n",
       "    <tr>\n",
       "      <th>1</th>\n",
       "      <td>DecisionTreeClassifier</td>\n",
       "      <td>0.617569</td>\n",
       "      <td>{'max_depth': 30}</td>\n",
       "      <td>103.038885</td>\n",
       "    </tr>\n",
       "    <tr>\n",
       "      <th>2</th>\n",
       "      <td>LGBMClassifier</td>\n",
       "      <td>0.709030</td>\n",
       "      <td>{'max_depth': 10, 'n_estimators': 100}</td>\n",
       "      <td>489.437148</td>\n",
       "    </tr>\n",
       "  </tbody>\n",
       "</table>\n",
       "</div>"
      ],
      "text/plain": [
       "               name_model  best_score_  \\\n",
       "0      LogisticRegression     0.755290   \n",
       "1  DecisionTreeClassifier     0.617569   \n",
       "2          LGBMClassifier     0.709030   \n",
       "\n",
       "                               parameters      time_c  \n",
       "0                               {'C': 10}  135.288768  \n",
       "1                       {'max_depth': 30}  103.038885  \n",
       "2  {'max_depth': 10, 'n_estimators': 100}  489.437148  "
      ]
     },
     "execution_count": 17,
     "metadata": {},
     "output_type": "execute_result"
    }
   ],
   "source": [
    "df_results"
   ]
  },
  {
   "cell_type": "markdown",
   "metadata": {},
   "source": [
    "В итоге лучшей оказалась модель логической регрессии с параметром **'C': 10**, которая показала результат F1-метрики в 0.76 при кроссвалидации и относительно небольшим временем обучения.\n",
    "\n",
    "На тестовой выборке F1 равен **0.77479**\n",
    "\n",
    "Интернет-магазину рекомендуется использовать модель логической регрессии для разделения комментариев на токсичные и нормальные."
   ]
  }
 ],
 "metadata": {
  "ExecuteTimeLog": [
   {
    "duration": 1972,
    "start_time": "2025-02-05T11:49:44.479Z"
   },
   {
    "duration": 1106,
    "start_time": "2025-02-05T11:49:54.404Z"
   },
   {
    "duration": 1067,
    "start_time": "2025-02-05T11:50:13.559Z"
   },
   {
    "duration": 972,
    "start_time": "2025-02-05T11:50:33.776Z"
   },
   {
    "duration": 40,
    "start_time": "2025-02-05T11:50:45.571Z"
   },
   {
    "duration": 22,
    "start_time": "2025-02-05T11:50:55.526Z"
   },
   {
    "duration": 7,
    "start_time": "2025-02-05T11:51:49.822Z"
   },
   {
    "duration": 6,
    "start_time": "2025-02-05T11:52:30.653Z"
   },
   {
    "duration": 9,
    "start_time": "2025-02-05T11:53:03.725Z"
   },
   {
    "duration": 134,
    "start_time": "2025-02-05T12:07:41.396Z"
   },
   {
    "duration": 253,
    "start_time": "2025-02-05T12:07:48.831Z"
   },
   {
    "duration": 10,
    "start_time": "2025-02-05T12:08:13.359Z"
   },
   {
    "duration": 4,
    "start_time": "2025-02-05T12:08:18.092Z"
   },
   {
    "duration": 3,
    "start_time": "2025-02-05T12:30:25.011Z"
   },
   {
    "duration": 8317,
    "start_time": "2025-02-05T12:31:15.270Z"
   },
   {
    "duration": 159,
    "start_time": "2025-02-05T12:43:56.358Z"
   },
   {
    "duration": 38,
    "start_time": "2025-02-05T12:44:04.464Z"
   },
   {
    "duration": 13444,
    "start_time": "2025-02-05T12:44:05.407Z"
   },
   {
    "duration": 69094,
    "start_time": "2025-02-05T13:14:07.179Z"
   },
   {
    "duration": 1661,
    "start_time": "2025-02-05T15:38:13.593Z"
   },
   {
    "duration": 949,
    "start_time": "2025-02-05T15:38:15.256Z"
   },
   {
    "duration": 42,
    "start_time": "2025-02-05T15:38:16.206Z"
   },
   {
    "duration": 20,
    "start_time": "2025-02-05T15:38:16.250Z"
   },
   {
    "duration": 6,
    "start_time": "2025-02-05T15:38:16.273Z"
   },
   {
    "duration": 247,
    "start_time": "2025-02-05T15:38:16.281Z"
   },
   {
    "duration": 4,
    "start_time": "2025-02-05T15:38:16.530Z"
   },
   {
    "duration": 7077,
    "start_time": "2025-02-05T15:38:16.536Z"
   },
   {
    "duration": 43,
    "start_time": "2025-02-05T15:38:23.615Z"
   },
   {
    "duration": 12252,
    "start_time": "2025-02-05T15:38:23.660Z"
   },
   {
    "duration": 67348,
    "start_time": "2025-02-05T15:38:35.913Z"
   },
   {
    "duration": 8,
    "start_time": "2025-02-05T16:14:27.333Z"
   },
   {
    "duration": 4,
    "start_time": "2025-02-05T16:16:39.182Z"
   },
   {
    "duration": 121,
    "start_time": "2025-02-05T16:17:04.054Z"
   },
   {
    "duration": 7,
    "start_time": "2025-02-05T16:17:16.201Z"
   },
   {
    "duration": 10,
    "start_time": "2025-02-05T16:17:17.747Z"
   },
   {
    "duration": 1580,
    "start_time": "2025-02-05T16:17:51.653Z"
   },
   {
    "duration": 933,
    "start_time": "2025-02-05T16:17:53.235Z"
   },
   {
    "duration": 32,
    "start_time": "2025-02-05T16:17:54.169Z"
   },
   {
    "duration": 21,
    "start_time": "2025-02-05T16:17:54.202Z"
   },
   {
    "duration": 25,
    "start_time": "2025-02-05T16:17:54.225Z"
   },
   {
    "duration": 227,
    "start_time": "2025-02-05T16:17:54.252Z"
   },
   {
    "duration": 4,
    "start_time": "2025-02-05T16:17:54.480Z"
   },
   {
    "duration": 7036,
    "start_time": "2025-02-05T16:17:54.486Z"
   },
   {
    "duration": 41,
    "start_time": "2025-02-05T16:18:01.524Z"
   },
   {
    "duration": 11965,
    "start_time": "2025-02-05T16:18:01.567Z"
   },
   {
    "duration": 67032,
    "start_time": "2025-02-05T16:18:13.534Z"
   },
   {
    "duration": 10,
    "start_time": "2025-02-05T16:19:20.568Z"
   },
   {
    "duration": 163,
    "start_time": "2025-02-05T16:19:20.580Z"
   },
   {
    "duration": 13,
    "start_time": "2025-02-05T16:23:09.375Z"
   },
   {
    "duration": 14,
    "start_time": "2025-02-05T16:24:40.851Z"
   },
   {
    "duration": 4,
    "start_time": "2025-02-05T16:24:46.248Z"
   },
   {
    "duration": 7,
    "start_time": "2025-02-05T16:24:49.744Z"
   },
   {
    "duration": 128368,
    "start_time": "2025-02-05T16:24:50.314Z"
   },
   {
    "duration": 1735,
    "start_time": "2025-02-09T10:05:57.185Z"
   },
   {
    "duration": 980,
    "start_time": "2025-02-09T10:05:58.922Z"
   },
   {
    "duration": 45,
    "start_time": "2025-02-09T10:05:59.904Z"
   },
   {
    "duration": 21,
    "start_time": "2025-02-09T10:05:59.952Z"
   },
   {
    "duration": 6,
    "start_time": "2025-02-09T10:05:59.974Z"
   },
   {
    "duration": 263,
    "start_time": "2025-02-09T10:05:59.982Z"
   },
   {
    "duration": 4,
    "start_time": "2025-02-09T10:06:00.248Z"
   },
   {
    "duration": 7545,
    "start_time": "2025-02-09T10:06:00.254Z"
   },
   {
    "duration": 53,
    "start_time": "2025-02-09T10:06:07.801Z"
   },
   {
    "duration": 12434,
    "start_time": "2025-02-09T10:06:07.857Z"
   },
   {
    "duration": 72069,
    "start_time": "2025-02-09T10:06:20.293Z"
   },
   {
    "duration": 7,
    "start_time": "2025-02-09T10:07:32.364Z"
   },
   {
    "duration": 128514,
    "start_time": "2025-02-09T10:07:32.373Z"
   },
   {
    "duration": 126,
    "start_time": "2025-02-09T10:10:42.077Z"
   },
   {
    "duration": 112513,
    "start_time": "2025-02-09T10:11:01.398Z"
   },
   {
    "duration": 10,
    "start_time": "2025-02-09T10:13:56.524Z"
   },
   {
    "duration": 11,
    "start_time": "2025-02-09T10:14:14.569Z"
   },
   {
    "duration": 97,
    "start_time": "2025-02-09T10:15:23.165Z"
   },
   {
    "duration": 13,
    "start_time": "2025-02-09T10:15:28.195Z"
   },
   {
    "duration": 1933,
    "start_time": "2025-02-09T11:03:13.494Z"
   },
   {
    "duration": 1081,
    "start_time": "2025-02-09T11:03:15.429Z"
   },
   {
    "duration": 50,
    "start_time": "2025-02-09T11:03:16.511Z"
   },
   {
    "duration": 24,
    "start_time": "2025-02-09T11:03:16.564Z"
   },
   {
    "duration": 6,
    "start_time": "2025-02-09T11:03:16.590Z"
   },
   {
    "duration": 276,
    "start_time": "2025-02-09T11:03:16.598Z"
   },
   {
    "duration": 5,
    "start_time": "2025-02-09T11:03:16.876Z"
   },
   {
    "duration": 8258,
    "start_time": "2025-02-09T11:03:16.882Z"
   },
   {
    "duration": 56,
    "start_time": "2025-02-09T11:03:25.142Z"
   },
   {
    "duration": 13637,
    "start_time": "2025-02-09T11:03:25.201Z"
   },
   {
    "duration": 73537,
    "start_time": "2025-02-09T11:03:38.840Z"
   },
   {
    "duration": 8,
    "start_time": "2025-02-09T11:04:52.378Z"
   },
   {
    "duration": 118505,
    "start_time": "2025-02-09T11:04:52.388Z"
   },
   {
    "duration": 123411,
    "start_time": "2025-02-09T11:06:50.895Z"
   },
   {
    "duration": 1748,
    "start_time": "2025-02-09T11:32:40.150Z"
   },
   {
    "duration": 1063,
    "start_time": "2025-02-09T11:32:41.901Z"
   },
   {
    "duration": 34,
    "start_time": "2025-02-09T11:32:42.966Z"
   },
   {
    "duration": 22,
    "start_time": "2025-02-09T11:32:43.003Z"
   },
   {
    "duration": 29,
    "start_time": "2025-02-09T11:32:43.027Z"
   },
   {
    "duration": 261,
    "start_time": "2025-02-09T11:32:43.058Z"
   },
   {
    "duration": 4,
    "start_time": "2025-02-09T11:32:43.320Z"
   },
   {
    "duration": 7689,
    "start_time": "2025-02-09T11:32:43.326Z"
   },
   {
    "duration": 53,
    "start_time": "2025-02-09T11:32:51.017Z"
   },
   {
    "duration": 12740,
    "start_time": "2025-02-09T11:32:51.073Z"
   },
   {
    "duration": 72850,
    "start_time": "2025-02-09T11:33:03.814Z"
   },
   {
    "duration": 8,
    "start_time": "2025-02-09T11:34:16.666Z"
   },
   {
    "duration": 2204,
    "start_time": "2025-02-09T11:34:29.969Z"
   },
   {
    "duration": 1095,
    "start_time": "2025-02-09T11:34:32.175Z"
   },
   {
    "duration": 38,
    "start_time": "2025-02-09T11:34:33.272Z"
   },
   {
    "duration": 61,
    "start_time": "2025-02-09T11:34:33.312Z"
   },
   {
    "duration": 7,
    "start_time": "2025-02-09T11:34:33.374Z"
   },
   {
    "duration": 260,
    "start_time": "2025-02-09T11:34:33.382Z"
   },
   {
    "duration": 7,
    "start_time": "2025-02-09T11:34:33.644Z"
   },
   {
    "duration": 7778,
    "start_time": "2025-02-09T11:34:33.653Z"
   },
   {
    "duration": 46,
    "start_time": "2025-02-09T11:34:41.432Z"
   },
   {
    "duration": 13286,
    "start_time": "2025-02-09T11:34:41.481Z"
   },
   {
    "duration": 73503,
    "start_time": "2025-02-09T11:34:54.769Z"
   },
   {
    "duration": 80,
    "start_time": "2025-02-09T11:36:08.274Z"
   },
   {
    "duration": 128532,
    "start_time": "2025-02-09T11:36:08.357Z"
   },
   {
    "duration": 119751,
    "start_time": "2025-02-09T11:38:16.891Z"
   },
   {
    "duration": 147,
    "start_time": "2025-02-09T11:40:16.643Z"
   },
   {
    "duration": 27,
    "start_time": "2025-02-09T11:58:57.467Z"
   },
   {
    "duration": 0,
    "start_time": "2025-02-09T12:31:25.785Z"
   },
   {
    "duration": 495071,
    "start_time": "2025-02-09T12:31:29.812Z"
   },
   {
    "duration": 11,
    "start_time": "2025-02-09T13:21:48.752Z"
   },
   {
    "duration": 5,
    "start_time": "2025-02-09T13:22:07.051Z"
   },
   {
    "duration": 11,
    "start_time": "2025-02-09T13:22:13.934Z"
   },
   {
    "duration": 10,
    "start_time": "2025-02-09T13:22:57.021Z"
   },
   {
    "duration": 25347,
    "start_time": "2025-02-09T13:28:41.052Z"
   },
   {
    "duration": 5,
    "start_time": "2025-02-09T13:29:38.580Z"
   },
   {
    "duration": 25392,
    "start_time": "2025-02-09T13:29:45.338Z"
   },
   {
    "duration": 25087,
    "start_time": "2025-02-09T13:30:37.404Z"
   },
   {
    "duration": 10,
    "start_time": "2025-02-09T13:44:09.809Z"
   },
   {
    "duration": 1875,
    "start_time": "2025-02-09T13:48:34.857Z"
   },
   {
    "duration": 1050,
    "start_time": "2025-02-09T13:48:36.734Z"
   },
   {
    "duration": 37,
    "start_time": "2025-02-09T13:48:37.786Z"
   },
   {
    "duration": 41,
    "start_time": "2025-02-09T13:48:37.825Z"
   },
   {
    "duration": 6,
    "start_time": "2025-02-09T13:48:37.868Z"
   },
   {
    "duration": 265,
    "start_time": "2025-02-09T13:48:37.875Z"
   },
   {
    "duration": 9,
    "start_time": "2025-02-09T13:48:38.142Z"
   },
   {
    "duration": 7536,
    "start_time": "2025-02-09T13:48:38.152Z"
   },
   {
    "duration": 44,
    "start_time": "2025-02-09T13:48:45.690Z"
   },
   {
    "duration": 12480,
    "start_time": "2025-02-09T13:48:45.737Z"
   },
   {
    "duration": 70045,
    "start_time": "2025-02-09T13:48:58.219Z"
   },
   {
    "duration": 8,
    "start_time": "2025-02-09T13:50:08.266Z"
   },
   {
    "duration": 128908,
    "start_time": "2025-02-09T13:50:08.276Z"
   },
   {
    "duration": 113782,
    "start_time": "2025-02-09T13:52:17.186Z"
   },
   {
    "duration": 1289786,
    "start_time": "2025-02-09T13:54:10.970Z"
   },
   {
    "duration": 25129,
    "start_time": "2025-02-09T14:15:40.760Z"
   },
   {
    "duration": 10,
    "start_time": "2025-02-09T14:16:05.891Z"
   },
   {
    "duration": 1974,
    "start_time": "2025-02-10T13:03:03.207Z"
   },
   {
    "duration": 885,
    "start_time": "2025-02-10T13:03:05.183Z"
   },
   {
    "duration": 44,
    "start_time": "2025-02-10T13:03:06.070Z"
   },
   {
    "duration": 28,
    "start_time": "2025-02-10T13:03:06.116Z"
   },
   {
    "duration": 6,
    "start_time": "2025-02-10T13:03:06.146Z"
   },
   {
    "duration": 241,
    "start_time": "2025-02-10T13:03:06.153Z"
   },
   {
    "duration": 4,
    "start_time": "2025-02-10T13:03:06.396Z"
   },
   {
    "duration": 7385,
    "start_time": "2025-02-10T13:03:06.413Z"
   },
   {
    "duration": 40,
    "start_time": "2025-02-10T13:03:13.799Z"
   },
   {
    "duration": 11758,
    "start_time": "2025-02-10T13:03:13.842Z"
   },
   {
    "duration": 68439,
    "start_time": "2025-02-10T13:03:25.602Z"
   },
   {
    "duration": 10,
    "start_time": "2025-02-10T13:04:34.043Z"
   },
   {
    "duration": 105133,
    "start_time": "2025-02-10T13:04:34.055Z"
   },
   {
    "duration": 496776,
    "start_time": "2025-02-10T13:06:19.189Z"
   },
   {
    "duration": 25184,
    "start_time": "2025-02-10T13:14:35.968Z"
   },
   {
    "duration": 8,
    "start_time": "2025-02-10T13:15:01.154Z"
   },
   {
    "duration": 6,
    "start_time": "2025-02-10T13:27:14.731Z"
   },
   {
    "duration": 1349,
    "start_time": "2025-02-10T13:44:49.415Z"
   },
   {
    "duration": 9,
    "start_time": "2025-02-10T13:45:44.621Z"
   },
   {
    "duration": 1780,
    "start_time": "2025-02-10T13:46:04.388Z"
   },
   {
    "duration": 990,
    "start_time": "2025-02-10T13:46:06.170Z"
   },
   {
    "duration": 30,
    "start_time": "2025-02-10T13:46:07.162Z"
   },
   {
    "duration": 36,
    "start_time": "2025-02-10T13:46:07.194Z"
   },
   {
    "duration": 6,
    "start_time": "2025-02-10T13:46:07.232Z"
   },
   {
    "duration": 246,
    "start_time": "2025-02-10T13:46:07.239Z"
   },
   {
    "duration": 4,
    "start_time": "2025-02-10T13:46:07.486Z"
   },
   {
    "duration": 678,
    "start_time": "2025-02-10T13:46:07.492Z"
   },
   {
    "duration": 0,
    "start_time": "2025-02-10T13:46:08.172Z"
   },
   {
    "duration": 0,
    "start_time": "2025-02-10T13:46:08.173Z"
   },
   {
    "duration": 0,
    "start_time": "2025-02-10T13:46:08.174Z"
   },
   {
    "duration": 0,
    "start_time": "2025-02-10T13:46:08.176Z"
   },
   {
    "duration": 0,
    "start_time": "2025-02-10T13:46:08.177Z"
   },
   {
    "duration": 0,
    "start_time": "2025-02-10T13:46:08.178Z"
   },
   {
    "duration": 0,
    "start_time": "2025-02-10T13:46:08.179Z"
   },
   {
    "duration": 0,
    "start_time": "2025-02-10T13:46:08.180Z"
   },
   {
    "duration": 11,
    "start_time": "2025-02-10T13:49:17.532Z"
   },
   {
    "duration": 661,
    "start_time": "2025-02-10T13:49:29.393Z"
   },
   {
    "duration": 1778,
    "start_time": "2025-02-10T13:49:45.999Z"
   },
   {
    "duration": 910,
    "start_time": "2025-02-10T13:49:47.779Z"
   },
   {
    "duration": 38,
    "start_time": "2025-02-10T13:49:48.691Z"
   },
   {
    "duration": 21,
    "start_time": "2025-02-10T13:49:48.731Z"
   },
   {
    "duration": 6,
    "start_time": "2025-02-10T13:49:48.755Z"
   },
   {
    "duration": 257,
    "start_time": "2025-02-10T13:49:48.763Z"
   },
   {
    "duration": 4,
    "start_time": "2025-02-10T13:49:49.022Z"
   },
   {
    "duration": 488706,
    "start_time": "2025-02-10T13:49:49.027Z"
   },
   {
    "duration": 31,
    "start_time": "2025-02-10T13:57:57.735Z"
   },
   {
    "duration": 11779,
    "start_time": "2025-02-10T13:57:57.768Z"
   },
   {
    "duration": 77280,
    "start_time": "2025-02-10T13:58:09.549Z"
   },
   {
    "duration": 8,
    "start_time": "2025-02-10T13:59:26.830Z"
   },
   {
    "duration": 101644,
    "start_time": "2025-02-10T13:59:26.839Z"
   },
   {
    "duration": 451879,
    "start_time": "2025-02-10T14:01:08.486Z"
   },
   {
    "duration": 26198,
    "start_time": "2025-02-10T14:08:40.368Z"
   },
   {
    "duration": 11,
    "start_time": "2025-02-10T14:09:06.569Z"
   },
   {
    "duration": 141,
    "start_time": "2025-02-10T14:17:03.295Z"
   },
   {
    "duration": 4,
    "start_time": "2025-02-10T14:18:26.854Z"
   },
   {
    "duration": 16,
    "start_time": "2025-02-10T14:34:08.633Z"
   },
   {
    "duration": 273,
    "start_time": "2025-02-10T15:41:34.081Z"
   },
   {
    "duration": 12,
    "start_time": "2025-02-10T15:41:58.631Z"
   },
   {
    "duration": 12,
    "start_time": "2025-02-10T15:42:23.738Z"
   },
   {
    "duration": 4,
    "start_time": "2025-02-10T15:42:29.215Z"
   },
   {
    "duration": 1945,
    "start_time": "2025-02-10T15:44:47.691Z"
   },
   {
    "duration": 948,
    "start_time": "2025-02-10T15:44:49.639Z"
   },
   {
    "duration": 36,
    "start_time": "2025-02-10T15:44:50.588Z"
   },
   {
    "duration": 29,
    "start_time": "2025-02-10T15:44:50.626Z"
   },
   {
    "duration": 5,
    "start_time": "2025-02-10T15:44:50.657Z"
   },
   {
    "duration": 264,
    "start_time": "2025-02-10T15:44:50.664Z"
   },
   {
    "duration": 4,
    "start_time": "2025-02-10T15:44:50.930Z"
   },
   {
    "duration": 487932,
    "start_time": "2025-02-10T15:44:50.936Z"
   },
   {
    "duration": 43,
    "start_time": "2025-02-10T15:52:58.870Z"
   },
   {
    "duration": 39,
    "start_time": "2025-02-10T15:52:58.916Z"
   },
   {
    "duration": 7311,
    "start_time": "2025-02-10T15:52:58.957Z"
   },
   {
    "duration": 2031,
    "start_time": "2025-02-10T15:54:08.320Z"
   },
   {
    "duration": 1020,
    "start_time": "2025-02-10T15:54:10.353Z"
   },
   {
    "duration": 39,
    "start_time": "2025-02-10T15:54:11.375Z"
   },
   {
    "duration": 22,
    "start_time": "2025-02-10T15:54:11.416Z"
   },
   {
    "duration": 6,
    "start_time": "2025-02-10T15:54:11.439Z"
   },
   {
    "duration": 264,
    "start_time": "2025-02-10T15:54:11.446Z"
   },
   {
    "duration": 4,
    "start_time": "2025-02-10T15:54:11.714Z"
   },
   {
    "duration": 500731,
    "start_time": "2025-02-10T15:54:11.719Z"
   },
   {
    "duration": 33,
    "start_time": "2025-02-10T16:02:32.452Z"
   },
   {
    "duration": 7275,
    "start_time": "2025-02-10T16:02:32.487Z"
   },
   {
    "duration": 76781,
    "start_time": "2025-02-10T16:02:39.764Z"
   },
   {
    "duration": 10,
    "start_time": "2025-02-10T16:03:56.547Z"
   },
   {
    "duration": 103811,
    "start_time": "2025-02-10T16:03:56.559Z"
   },
   {
    "duration": 3494,
    "start_time": "2025-02-10T16:05:55.270Z"
   },
   {
    "duration": 967,
    "start_time": "2025-02-10T16:05:58.766Z"
   },
   {
    "duration": 26,
    "start_time": "2025-02-10T16:05:59.735Z"
   },
   {
    "duration": 19,
    "start_time": "2025-02-10T16:05:59.763Z"
   },
   {
    "duration": 28,
    "start_time": "2025-02-10T16:05:59.785Z"
   },
   {
    "duration": 236,
    "start_time": "2025-02-10T16:05:59.815Z"
   },
   {
    "duration": 4,
    "start_time": "2025-02-10T16:06:00.053Z"
   },
   {
    "duration": 504839,
    "start_time": "2025-02-10T16:06:00.058Z"
   },
   {
    "duration": 47,
    "start_time": "2025-02-10T16:14:24.898Z"
   },
   {
    "duration": 7352,
    "start_time": "2025-02-10T16:14:24.947Z"
   },
   {
    "duration": 76839,
    "start_time": "2025-02-10T16:14:32.301Z"
   },
   {
    "duration": 7,
    "start_time": "2025-02-10T16:15:49.142Z"
   },
   {
    "duration": 104380,
    "start_time": "2025-02-10T16:15:49.151Z"
   },
   {
    "duration": 638715,
    "start_time": "2025-02-10T16:17:33.534Z"
   },
   {
    "duration": 26100,
    "start_time": "2025-02-10T16:28:12.254Z"
   },
   {
    "duration": 9,
    "start_time": "2025-02-10T16:28:38.356Z"
   },
   {
    "duration": 1837,
    "start_time": "2025-02-10T16:29:25.737Z"
   },
   {
    "duration": 954,
    "start_time": "2025-02-10T16:29:27.576Z"
   },
   {
    "duration": 31,
    "start_time": "2025-02-10T16:29:28.531Z"
   },
   {
    "duration": 21,
    "start_time": "2025-02-10T16:29:28.564Z"
   },
   {
    "duration": 28,
    "start_time": "2025-02-10T16:29:28.586Z"
   },
   {
    "duration": 247,
    "start_time": "2025-02-10T16:29:28.616Z"
   },
   {
    "duration": 5,
    "start_time": "2025-02-10T16:29:28.864Z"
   },
   {
    "duration": 481301,
    "start_time": "2025-02-10T16:29:28.870Z"
   },
   {
    "duration": 48,
    "start_time": "2025-02-10T16:37:30.173Z"
   },
   {
    "duration": 6949,
    "start_time": "2025-02-10T16:37:30.224Z"
   },
   {
    "duration": 74357,
    "start_time": "2025-02-10T16:37:37.175Z"
   },
   {
    "duration": 8,
    "start_time": "2025-02-10T16:38:51.533Z"
   },
   {
    "duration": 135310,
    "start_time": "2025-02-10T16:38:51.542Z"
   },
   {
    "duration": 102677,
    "start_time": "2025-02-10T16:41:06.853Z"
   },
   {
    "duration": 457386,
    "start_time": "2025-02-10T16:42:49.531Z"
   },
   {
    "duration": 26129,
    "start_time": "2025-02-10T16:50:26.921Z"
   },
   {
    "duration": 9,
    "start_time": "2025-02-10T16:50:53.052Z"
   },
   {
    "duration": 1261,
    "start_time": "2025-02-10T16:58:30.103Z"
   },
   {
    "duration": 1812,
    "start_time": "2025-02-10T17:01:02.625Z"
   },
   {
    "duration": 1023,
    "start_time": "2025-02-10T17:01:04.439Z"
   },
   {
    "duration": 33,
    "start_time": "2025-02-10T17:01:05.464Z"
   },
   {
    "duration": 20,
    "start_time": "2025-02-10T17:01:05.513Z"
   },
   {
    "duration": 8,
    "start_time": "2025-02-10T17:01:05.535Z"
   },
   {
    "duration": 249,
    "start_time": "2025-02-10T17:01:05.545Z"
   },
   {
    "duration": 3,
    "start_time": "2025-02-10T17:01:05.796Z"
   },
   {
    "duration": 511056,
    "start_time": "2025-02-10T17:01:05.801Z"
   },
   {
    "duration": 32,
    "start_time": "2025-02-10T17:09:36.859Z"
   },
   {
    "duration": 7054,
    "start_time": "2025-02-10T17:09:36.893Z"
   },
   {
    "duration": 77076,
    "start_time": "2025-02-10T17:09:43.948Z"
   },
   {
    "duration": 7,
    "start_time": "2025-02-10T17:11:01.026Z"
   },
   {
    "duration": 135316,
    "start_time": "2025-02-10T17:11:01.035Z"
   },
   {
    "duration": 103051,
    "start_time": "2025-02-10T17:13:16.353Z"
   },
   {
    "duration": 489501,
    "start_time": "2025-02-10T17:14:59.414Z"
   },
   {
    "duration": 26141,
    "start_time": "2025-02-10T17:23:08.918Z"
   },
   {
    "duration": 9,
    "start_time": "2025-02-10T17:23:35.061Z"
   }
  ],
  "kernelspec": {
   "display_name": "Python 3 (ipykernel)",
   "language": "python",
   "name": "python3"
  },
  "language_info": {
   "codemirror_mode": {
    "name": "ipython",
    "version": 3
   },
   "file_extension": ".py",
   "mimetype": "text/x-python",
   "name": "python",
   "nbconvert_exporter": "python",
   "pygments_lexer": "ipython3",
   "version": "3.9.5"
  },
  "toc": {
   "base_numbering": 1,
   "nav_menu": {},
   "number_sections": false,
   "sideBar": true,
   "skip_h1_title": true,
   "title_cell": "Содержание",
   "title_sidebar": "Contents",
   "toc_cell": true,
   "toc_position": {
    "height": "calc(100% - 180px)",
    "left": "10px",
    "top": "150px",
    "width": "302.377px"
   },
   "toc_section_display": true,
   "toc_window_display": true
  }
 },
 "nbformat": 4,
 "nbformat_minor": 2
}
