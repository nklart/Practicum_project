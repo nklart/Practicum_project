{
 "cells": [
  {
   "cell_type": "markdown",
   "metadata": {},
   "source": [
    "# Выбор локации для скважины"
   ]
  },
  {
   "cell_type": "markdown",
   "metadata": {},
   "source": [
    "Мы работаете в добывающей компании «ГлавРосГосНефть». Нужно решить, где бурить новую скважину.\n",
    "\n",
    "нам предоставлены пробы нефти в трёх регионах: в каждом 10 000 месторождений, где измерили качество нефти и объём её запасов. Построим модель машинного обучения, которая поможет определить регион, где добыча принесёт наибольшую прибыль. Проанализируем возможную прибыль и риски техникой *Bootstrap.*\n",
    "\n",
    "Шаги для выбора локации:\n",
    "\n",
    "- В избранном регионе ищут месторождения, для каждого определяют значения признаков;\n",
    "- Строят модель и оценивают объём запасов;\n",
    "- Выбирают месторождения с самым высокими оценками значений. Количество месторождений зависит от бюджета компании и стоимости разработки одной скважины;\n",
    "- Прибыль равна суммарной прибыли отобранных месторождений."
   ]
  },
  {
   "cell_type": "markdown",
   "metadata": {},
   "source": [
    "## Загрузка и подготовка данных"
   ]
  },
  {
   "cell_type": "markdown",
   "metadata": {},
   "source": [
    "**Импортируем необходимые библиотеки**"
   ]
  },
  {
   "cell_type": "code",
   "execution_count": 1,
   "metadata": {},
   "outputs": [],
   "source": [
    "import numpy as np\n",
    "import pandas as pd\n",
    "import pylab as pl\n",
    "import warnings\n",
    "import matplotlib.pyplot as plt\n",
    "\n",
    "from tqdm import tqdm\n",
    "\n",
    "from scipy import stats as st\n",
    "\n",
    "from sklearn.ensemble import RandomForestRegressor\n",
    "from sklearn.exceptions import DataConversionWarning\n",
    "from sklearn.linear_model import LinearRegression\n",
    "from sklearn.metrics import mean_squared_error\n",
    "from sklearn.model_selection import train_test_split\n",
    "from sklearn.preprocessing import StandardScaler\n",
    "from sklearn.model_selection import RandomizedSearchCV\n",
    "from sklearn.ensemble import RandomForestRegressor\n",
    "from scipy.stats import randint\n",
    "\n"
   ]
  },
  {
   "cell_type": "markdown",
   "metadata": {},
   "source": [
    "**Создадим переменные-константы**"
   ]
  },
  {
   "cell_type": "code",
   "execution_count": 2,
   "metadata": {},
   "outputs": [],
   "source": [
    "BUDGET = 10000000000\n",
    "CHOSEN_POINTS = 500\n",
    "BEST_POINTS = 200\n",
    "PRICE_BARREL = 450000\n",
    "BOOTSTRAP = 1000\n",
    "INTERVAL = .95\n",
    "RANDOM_STATE = np.random.RandomState(32123)"
   ]
  },
  {
   "cell_type": "markdown",
   "metadata": {},
   "source": [
    "**Загрузим предоставленные датасеты**"
   ]
  },
  {
   "cell_type": "code",
   "execution_count": 3,
   "metadata": {},
   "outputs": [],
   "source": [
    "df_0 = pd.read_csv('/datasets/geo_data_0.csv')\n",
    "df_1 = pd.read_csv('/datasets/geo_data_1.csv')\n",
    "df_2 = pd.read_csv('/datasets/geo_data_2.csv')"
   ]
  },
  {
   "cell_type": "markdown",
   "metadata": {},
   "source": [
    "**Создадим функцию для вывода информации о датафреймах**"
   ]
  },
  {
   "cell_type": "code",
   "execution_count": 4,
   "metadata": {},
   "outputs": [],
   "source": [
    "def df_info(df):\n",
    "    display(df.head(10))\n",
    "    display(df.info())\n",
    "    display(df.describe(percentiles=[.5]).T)\n",
    "    print(f\"Количество дубликатов: {df.duplicated().sum()}\")"
   ]
  },
  {
   "cell_type": "markdown",
   "metadata": {},
   "source": [
    "**1.1 Просмотрим информацию о первом датасете**"
   ]
  },
  {
   "cell_type": "code",
   "execution_count": 5,
   "metadata": {},
   "outputs": [
    {
     "data": {
      "text/html": [
       "<div>\n",
       "<style scoped>\n",
       "    .dataframe tbody tr th:only-of-type {\n",
       "        vertical-align: middle;\n",
       "    }\n",
       "\n",
       "    .dataframe tbody tr th {\n",
       "        vertical-align: top;\n",
       "    }\n",
       "\n",
       "    .dataframe thead th {\n",
       "        text-align: right;\n",
       "    }\n",
       "</style>\n",
       "<table border=\"1\" class=\"dataframe\">\n",
       "  <thead>\n",
       "    <tr style=\"text-align: right;\">\n",
       "      <th></th>\n",
       "      <th>id</th>\n",
       "      <th>f0</th>\n",
       "      <th>f1</th>\n",
       "      <th>f2</th>\n",
       "      <th>product</th>\n",
       "    </tr>\n",
       "  </thead>\n",
       "  <tbody>\n",
       "    <tr>\n",
       "      <th>0</th>\n",
       "      <td>txEyH</td>\n",
       "      <td>0.705745</td>\n",
       "      <td>-0.497823</td>\n",
       "      <td>1.221170</td>\n",
       "      <td>105.280062</td>\n",
       "    </tr>\n",
       "    <tr>\n",
       "      <th>1</th>\n",
       "      <td>2acmU</td>\n",
       "      <td>1.334711</td>\n",
       "      <td>-0.340164</td>\n",
       "      <td>4.365080</td>\n",
       "      <td>73.037750</td>\n",
       "    </tr>\n",
       "    <tr>\n",
       "      <th>2</th>\n",
       "      <td>409Wp</td>\n",
       "      <td>1.022732</td>\n",
       "      <td>0.151990</td>\n",
       "      <td>1.419926</td>\n",
       "      <td>85.265647</td>\n",
       "    </tr>\n",
       "    <tr>\n",
       "      <th>3</th>\n",
       "      <td>iJLyR</td>\n",
       "      <td>-0.032172</td>\n",
       "      <td>0.139033</td>\n",
       "      <td>2.978566</td>\n",
       "      <td>168.620776</td>\n",
       "    </tr>\n",
       "    <tr>\n",
       "      <th>4</th>\n",
       "      <td>Xdl7t</td>\n",
       "      <td>1.988431</td>\n",
       "      <td>0.155413</td>\n",
       "      <td>4.751769</td>\n",
       "      <td>154.036647</td>\n",
       "    </tr>\n",
       "    <tr>\n",
       "      <th>5</th>\n",
       "      <td>wX4Hy</td>\n",
       "      <td>0.969570</td>\n",
       "      <td>0.489775</td>\n",
       "      <td>-0.735383</td>\n",
       "      <td>64.741541</td>\n",
       "    </tr>\n",
       "    <tr>\n",
       "      <th>6</th>\n",
       "      <td>tL6pL</td>\n",
       "      <td>0.645075</td>\n",
       "      <td>0.530656</td>\n",
       "      <td>1.780266</td>\n",
       "      <td>49.055285</td>\n",
       "    </tr>\n",
       "    <tr>\n",
       "      <th>7</th>\n",
       "      <td>BYPU6</td>\n",
       "      <td>-0.400648</td>\n",
       "      <td>0.808337</td>\n",
       "      <td>-5.624670</td>\n",
       "      <td>72.943292</td>\n",
       "    </tr>\n",
       "    <tr>\n",
       "      <th>8</th>\n",
       "      <td>j9Oui</td>\n",
       "      <td>0.643105</td>\n",
       "      <td>-0.551583</td>\n",
       "      <td>2.372141</td>\n",
       "      <td>113.356160</td>\n",
       "    </tr>\n",
       "    <tr>\n",
       "      <th>9</th>\n",
       "      <td>OLuZU</td>\n",
       "      <td>2.173381</td>\n",
       "      <td>0.563698</td>\n",
       "      <td>9.441852</td>\n",
       "      <td>127.910945</td>\n",
       "    </tr>\n",
       "  </tbody>\n",
       "</table>\n",
       "</div>"
      ],
      "text/plain": [
       "      id        f0        f1        f2     product\n",
       "0  txEyH  0.705745 -0.497823  1.221170  105.280062\n",
       "1  2acmU  1.334711 -0.340164  4.365080   73.037750\n",
       "2  409Wp  1.022732  0.151990  1.419926   85.265647\n",
       "3  iJLyR -0.032172  0.139033  2.978566  168.620776\n",
       "4  Xdl7t  1.988431  0.155413  4.751769  154.036647\n",
       "5  wX4Hy  0.969570  0.489775 -0.735383   64.741541\n",
       "6  tL6pL  0.645075  0.530656  1.780266   49.055285\n",
       "7  BYPU6 -0.400648  0.808337 -5.624670   72.943292\n",
       "8  j9Oui  0.643105 -0.551583  2.372141  113.356160\n",
       "9  OLuZU  2.173381  0.563698  9.441852  127.910945"
      ]
     },
     "metadata": {},
     "output_type": "display_data"
    },
    {
     "name": "stdout",
     "output_type": "stream",
     "text": [
      "<class 'pandas.core.frame.DataFrame'>\n",
      "RangeIndex: 100000 entries, 0 to 99999\n",
      "Data columns (total 5 columns):\n",
      " #   Column   Non-Null Count   Dtype  \n",
      "---  ------   --------------   -----  \n",
      " 0   id       100000 non-null  object \n",
      " 1   f0       100000 non-null  float64\n",
      " 2   f1       100000 non-null  float64\n",
      " 3   f2       100000 non-null  float64\n",
      " 4   product  100000 non-null  float64\n",
      "dtypes: float64(4), object(1)\n",
      "memory usage: 3.8+ MB\n"
     ]
    },
    {
     "data": {
      "text/plain": [
       "None"
      ]
     },
     "metadata": {},
     "output_type": "display_data"
    },
    {
     "data": {
      "text/html": [
       "<div>\n",
       "<style scoped>\n",
       "    .dataframe tbody tr th:only-of-type {\n",
       "        vertical-align: middle;\n",
       "    }\n",
       "\n",
       "    .dataframe tbody tr th {\n",
       "        vertical-align: top;\n",
       "    }\n",
       "\n",
       "    .dataframe thead th {\n",
       "        text-align: right;\n",
       "    }\n",
       "</style>\n",
       "<table border=\"1\" class=\"dataframe\">\n",
       "  <thead>\n",
       "    <tr style=\"text-align: right;\">\n",
       "      <th></th>\n",
       "      <th>count</th>\n",
       "      <th>mean</th>\n",
       "      <th>std</th>\n",
       "      <th>min</th>\n",
       "      <th>50%</th>\n",
       "      <th>max</th>\n",
       "    </tr>\n",
       "  </thead>\n",
       "  <tbody>\n",
       "    <tr>\n",
       "      <th>f0</th>\n",
       "      <td>100000.0</td>\n",
       "      <td>0.500419</td>\n",
       "      <td>0.871832</td>\n",
       "      <td>-1.408605</td>\n",
       "      <td>0.502360</td>\n",
       "      <td>2.362331</td>\n",
       "    </tr>\n",
       "    <tr>\n",
       "      <th>f1</th>\n",
       "      <td>100000.0</td>\n",
       "      <td>0.250143</td>\n",
       "      <td>0.504433</td>\n",
       "      <td>-0.848218</td>\n",
       "      <td>0.250252</td>\n",
       "      <td>1.343769</td>\n",
       "    </tr>\n",
       "    <tr>\n",
       "      <th>f2</th>\n",
       "      <td>100000.0</td>\n",
       "      <td>2.502647</td>\n",
       "      <td>3.248248</td>\n",
       "      <td>-12.088328</td>\n",
       "      <td>2.515969</td>\n",
       "      <td>16.003790</td>\n",
       "    </tr>\n",
       "    <tr>\n",
       "      <th>product</th>\n",
       "      <td>100000.0</td>\n",
       "      <td>92.500000</td>\n",
       "      <td>44.288691</td>\n",
       "      <td>0.000000</td>\n",
       "      <td>91.849972</td>\n",
       "      <td>185.364347</td>\n",
       "    </tr>\n",
       "  </tbody>\n",
       "</table>\n",
       "</div>"
      ],
      "text/plain": [
       "            count       mean        std        min        50%         max\n",
       "f0       100000.0   0.500419   0.871832  -1.408605   0.502360    2.362331\n",
       "f1       100000.0   0.250143   0.504433  -0.848218   0.250252    1.343769\n",
       "f2       100000.0   2.502647   3.248248 -12.088328   2.515969   16.003790\n",
       "product  100000.0  92.500000  44.288691   0.000000  91.849972  185.364347"
      ]
     },
     "metadata": {},
     "output_type": "display_data"
    },
    {
     "name": "stdout",
     "output_type": "stream",
     "text": [
      "Количество дубликатов: 0\n"
     ]
    }
   ],
   "source": [
    "df_info(df_0)"
   ]
  },
  {
   "cell_type": "markdown",
   "metadata": {},
   "source": [
    "**Удалим столбец id, т.к. он не представляет пользы для модели**"
   ]
  },
  {
   "cell_type": "code",
   "execution_count": 6,
   "metadata": {},
   "outputs": [],
   "source": [
    "df_0 = df_0.drop(['id'], axis=1)"
   ]
  },
  {
   "cell_type": "markdown",
   "metadata": {},
   "source": [
    "**1.2 Просмотрим информацию о втором датасете**"
   ]
  },
  {
   "cell_type": "code",
   "execution_count": 7,
   "metadata": {},
   "outputs": [
    {
     "data": {
      "text/html": [
       "<div>\n",
       "<style scoped>\n",
       "    .dataframe tbody tr th:only-of-type {\n",
       "        vertical-align: middle;\n",
       "    }\n",
       "\n",
       "    .dataframe tbody tr th {\n",
       "        vertical-align: top;\n",
       "    }\n",
       "\n",
       "    .dataframe thead th {\n",
       "        text-align: right;\n",
       "    }\n",
       "</style>\n",
       "<table border=\"1\" class=\"dataframe\">\n",
       "  <thead>\n",
       "    <tr style=\"text-align: right;\">\n",
       "      <th></th>\n",
       "      <th>id</th>\n",
       "      <th>f0</th>\n",
       "      <th>f1</th>\n",
       "      <th>f2</th>\n",
       "      <th>product</th>\n",
       "    </tr>\n",
       "  </thead>\n",
       "  <tbody>\n",
       "    <tr>\n",
       "      <th>0</th>\n",
       "      <td>kBEdx</td>\n",
       "      <td>-15.001348</td>\n",
       "      <td>-8.276000</td>\n",
       "      <td>-0.005876</td>\n",
       "      <td>3.179103</td>\n",
       "    </tr>\n",
       "    <tr>\n",
       "      <th>1</th>\n",
       "      <td>62mP7</td>\n",
       "      <td>14.272088</td>\n",
       "      <td>-3.475083</td>\n",
       "      <td>0.999183</td>\n",
       "      <td>26.953261</td>\n",
       "    </tr>\n",
       "    <tr>\n",
       "      <th>2</th>\n",
       "      <td>vyE1P</td>\n",
       "      <td>6.263187</td>\n",
       "      <td>-5.948386</td>\n",
       "      <td>5.001160</td>\n",
       "      <td>134.766305</td>\n",
       "    </tr>\n",
       "    <tr>\n",
       "      <th>3</th>\n",
       "      <td>KcrkZ</td>\n",
       "      <td>-13.081196</td>\n",
       "      <td>-11.506057</td>\n",
       "      <td>4.999415</td>\n",
       "      <td>137.945408</td>\n",
       "    </tr>\n",
       "    <tr>\n",
       "      <th>4</th>\n",
       "      <td>AHL4O</td>\n",
       "      <td>12.702195</td>\n",
       "      <td>-8.147433</td>\n",
       "      <td>5.004363</td>\n",
       "      <td>134.766305</td>\n",
       "    </tr>\n",
       "    <tr>\n",
       "      <th>5</th>\n",
       "      <td>HHckp</td>\n",
       "      <td>-3.327590</td>\n",
       "      <td>-2.205276</td>\n",
       "      <td>3.003647</td>\n",
       "      <td>84.038886</td>\n",
       "    </tr>\n",
       "    <tr>\n",
       "      <th>6</th>\n",
       "      <td>h5Ujo</td>\n",
       "      <td>-11.142655</td>\n",
       "      <td>-10.133399</td>\n",
       "      <td>4.002382</td>\n",
       "      <td>110.992147</td>\n",
       "    </tr>\n",
       "    <tr>\n",
       "      <th>7</th>\n",
       "      <td>muH9x</td>\n",
       "      <td>4.234715</td>\n",
       "      <td>-0.001354</td>\n",
       "      <td>2.004588</td>\n",
       "      <td>53.906522</td>\n",
       "    </tr>\n",
       "    <tr>\n",
       "      <th>8</th>\n",
       "      <td>YiRkx</td>\n",
       "      <td>13.355129</td>\n",
       "      <td>-0.332068</td>\n",
       "      <td>4.998647</td>\n",
       "      <td>134.766305</td>\n",
       "    </tr>\n",
       "    <tr>\n",
       "      <th>9</th>\n",
       "      <td>jG6Gi</td>\n",
       "      <td>1.069227</td>\n",
       "      <td>-11.025667</td>\n",
       "      <td>4.997844</td>\n",
       "      <td>137.945408</td>\n",
       "    </tr>\n",
       "  </tbody>\n",
       "</table>\n",
       "</div>"
      ],
      "text/plain": [
       "      id         f0         f1        f2     product\n",
       "0  kBEdx -15.001348  -8.276000 -0.005876    3.179103\n",
       "1  62mP7  14.272088  -3.475083  0.999183   26.953261\n",
       "2  vyE1P   6.263187  -5.948386  5.001160  134.766305\n",
       "3  KcrkZ -13.081196 -11.506057  4.999415  137.945408\n",
       "4  AHL4O  12.702195  -8.147433  5.004363  134.766305\n",
       "5  HHckp  -3.327590  -2.205276  3.003647   84.038886\n",
       "6  h5Ujo -11.142655 -10.133399  4.002382  110.992147\n",
       "7  muH9x   4.234715  -0.001354  2.004588   53.906522\n",
       "8  YiRkx  13.355129  -0.332068  4.998647  134.766305\n",
       "9  jG6Gi   1.069227 -11.025667  4.997844  137.945408"
      ]
     },
     "metadata": {},
     "output_type": "display_data"
    },
    {
     "name": "stdout",
     "output_type": "stream",
     "text": [
      "<class 'pandas.core.frame.DataFrame'>\n",
      "RangeIndex: 100000 entries, 0 to 99999\n",
      "Data columns (total 5 columns):\n",
      " #   Column   Non-Null Count   Dtype  \n",
      "---  ------   --------------   -----  \n",
      " 0   id       100000 non-null  object \n",
      " 1   f0       100000 non-null  float64\n",
      " 2   f1       100000 non-null  float64\n",
      " 3   f2       100000 non-null  float64\n",
      " 4   product  100000 non-null  float64\n",
      "dtypes: float64(4), object(1)\n",
      "memory usage: 3.8+ MB\n"
     ]
    },
    {
     "data": {
      "text/plain": [
       "None"
      ]
     },
     "metadata": {},
     "output_type": "display_data"
    },
    {
     "data": {
      "text/html": [
       "<div>\n",
       "<style scoped>\n",
       "    .dataframe tbody tr th:only-of-type {\n",
       "        vertical-align: middle;\n",
       "    }\n",
       "\n",
       "    .dataframe tbody tr th {\n",
       "        vertical-align: top;\n",
       "    }\n",
       "\n",
       "    .dataframe thead th {\n",
       "        text-align: right;\n",
       "    }\n",
       "</style>\n",
       "<table border=\"1\" class=\"dataframe\">\n",
       "  <thead>\n",
       "    <tr style=\"text-align: right;\">\n",
       "      <th></th>\n",
       "      <th>count</th>\n",
       "      <th>mean</th>\n",
       "      <th>std</th>\n",
       "      <th>min</th>\n",
       "      <th>50%</th>\n",
       "      <th>max</th>\n",
       "    </tr>\n",
       "  </thead>\n",
       "  <tbody>\n",
       "    <tr>\n",
       "      <th>f0</th>\n",
       "      <td>100000.0</td>\n",
       "      <td>1.141296</td>\n",
       "      <td>8.965932</td>\n",
       "      <td>-31.609576</td>\n",
       "      <td>1.153055</td>\n",
       "      <td>29.421755</td>\n",
       "    </tr>\n",
       "    <tr>\n",
       "      <th>f1</th>\n",
       "      <td>100000.0</td>\n",
       "      <td>-4.796579</td>\n",
       "      <td>5.119872</td>\n",
       "      <td>-26.358598</td>\n",
       "      <td>-4.813172</td>\n",
       "      <td>18.734063</td>\n",
       "    </tr>\n",
       "    <tr>\n",
       "      <th>f2</th>\n",
       "      <td>100000.0</td>\n",
       "      <td>2.494541</td>\n",
       "      <td>1.703572</td>\n",
       "      <td>-0.018144</td>\n",
       "      <td>2.011479</td>\n",
       "      <td>5.019721</td>\n",
       "    </tr>\n",
       "    <tr>\n",
       "      <th>product</th>\n",
       "      <td>100000.0</td>\n",
       "      <td>68.825000</td>\n",
       "      <td>45.944423</td>\n",
       "      <td>0.000000</td>\n",
       "      <td>57.085625</td>\n",
       "      <td>137.945408</td>\n",
       "    </tr>\n",
       "  </tbody>\n",
       "</table>\n",
       "</div>"
      ],
      "text/plain": [
       "            count       mean        std        min        50%         max\n",
       "f0       100000.0   1.141296   8.965932 -31.609576   1.153055   29.421755\n",
       "f1       100000.0  -4.796579   5.119872 -26.358598  -4.813172   18.734063\n",
       "f2       100000.0   2.494541   1.703572  -0.018144   2.011479    5.019721\n",
       "product  100000.0  68.825000  45.944423   0.000000  57.085625  137.945408"
      ]
     },
     "metadata": {},
     "output_type": "display_data"
    },
    {
     "name": "stdout",
     "output_type": "stream",
     "text": [
      "Количество дубликатов: 0\n"
     ]
    }
   ],
   "source": [
    "df_info(df_1)"
   ]
  },
  {
   "cell_type": "code",
   "execution_count": 8,
   "metadata": {},
   "outputs": [],
   "source": [
    "df_1 = df_1.drop(['id'], axis=1)"
   ]
  },
  {
   "cell_type": "markdown",
   "metadata": {},
   "source": [
    "**1.3 Просмотрим информацию о третьем датасете**"
   ]
  },
  {
   "cell_type": "code",
   "execution_count": 9,
   "metadata": {},
   "outputs": [
    {
     "data": {
      "text/html": [
       "<div>\n",
       "<style scoped>\n",
       "    .dataframe tbody tr th:only-of-type {\n",
       "        vertical-align: middle;\n",
       "    }\n",
       "\n",
       "    .dataframe tbody tr th {\n",
       "        vertical-align: top;\n",
       "    }\n",
       "\n",
       "    .dataframe thead th {\n",
       "        text-align: right;\n",
       "    }\n",
       "</style>\n",
       "<table border=\"1\" class=\"dataframe\">\n",
       "  <thead>\n",
       "    <tr style=\"text-align: right;\">\n",
       "      <th></th>\n",
       "      <th>id</th>\n",
       "      <th>f0</th>\n",
       "      <th>f1</th>\n",
       "      <th>f2</th>\n",
       "      <th>product</th>\n",
       "    </tr>\n",
       "  </thead>\n",
       "  <tbody>\n",
       "    <tr>\n",
       "      <th>0</th>\n",
       "      <td>fwXo0</td>\n",
       "      <td>-1.146987</td>\n",
       "      <td>0.963328</td>\n",
       "      <td>-0.828965</td>\n",
       "      <td>27.758673</td>\n",
       "    </tr>\n",
       "    <tr>\n",
       "      <th>1</th>\n",
       "      <td>WJtFt</td>\n",
       "      <td>0.262778</td>\n",
       "      <td>0.269839</td>\n",
       "      <td>-2.530187</td>\n",
       "      <td>56.069697</td>\n",
       "    </tr>\n",
       "    <tr>\n",
       "      <th>2</th>\n",
       "      <td>ovLUW</td>\n",
       "      <td>0.194587</td>\n",
       "      <td>0.289035</td>\n",
       "      <td>-5.586433</td>\n",
       "      <td>62.871910</td>\n",
       "    </tr>\n",
       "    <tr>\n",
       "      <th>3</th>\n",
       "      <td>q6cA6</td>\n",
       "      <td>2.236060</td>\n",
       "      <td>-0.553760</td>\n",
       "      <td>0.930038</td>\n",
       "      <td>114.572842</td>\n",
       "    </tr>\n",
       "    <tr>\n",
       "      <th>4</th>\n",
       "      <td>WPMUX</td>\n",
       "      <td>-0.515993</td>\n",
       "      <td>1.716266</td>\n",
       "      <td>5.899011</td>\n",
       "      <td>149.600746</td>\n",
       "    </tr>\n",
       "    <tr>\n",
       "      <th>5</th>\n",
       "      <td>LzZXx</td>\n",
       "      <td>-0.758092</td>\n",
       "      <td>0.710691</td>\n",
       "      <td>2.585887</td>\n",
       "      <td>90.222465</td>\n",
       "    </tr>\n",
       "    <tr>\n",
       "      <th>6</th>\n",
       "      <td>WBHRv</td>\n",
       "      <td>-0.574891</td>\n",
       "      <td>0.317727</td>\n",
       "      <td>1.773745</td>\n",
       "      <td>45.641478</td>\n",
       "    </tr>\n",
       "    <tr>\n",
       "      <th>7</th>\n",
       "      <td>XO8fn</td>\n",
       "      <td>-1.906649</td>\n",
       "      <td>-2.458350</td>\n",
       "      <td>-0.177097</td>\n",
       "      <td>72.480640</td>\n",
       "    </tr>\n",
       "    <tr>\n",
       "      <th>8</th>\n",
       "      <td>ybmQ5</td>\n",
       "      <td>1.776292</td>\n",
       "      <td>-0.279356</td>\n",
       "      <td>3.004156</td>\n",
       "      <td>106.616832</td>\n",
       "    </tr>\n",
       "    <tr>\n",
       "      <th>9</th>\n",
       "      <td>OilcN</td>\n",
       "      <td>-1.214452</td>\n",
       "      <td>-0.439314</td>\n",
       "      <td>5.922514</td>\n",
       "      <td>52.954532</td>\n",
       "    </tr>\n",
       "  </tbody>\n",
       "</table>\n",
       "</div>"
      ],
      "text/plain": [
       "      id        f0        f1        f2     product\n",
       "0  fwXo0 -1.146987  0.963328 -0.828965   27.758673\n",
       "1  WJtFt  0.262778  0.269839 -2.530187   56.069697\n",
       "2  ovLUW  0.194587  0.289035 -5.586433   62.871910\n",
       "3  q6cA6  2.236060 -0.553760  0.930038  114.572842\n",
       "4  WPMUX -0.515993  1.716266  5.899011  149.600746\n",
       "5  LzZXx -0.758092  0.710691  2.585887   90.222465\n",
       "6  WBHRv -0.574891  0.317727  1.773745   45.641478\n",
       "7  XO8fn -1.906649 -2.458350 -0.177097   72.480640\n",
       "8  ybmQ5  1.776292 -0.279356  3.004156  106.616832\n",
       "9  OilcN -1.214452 -0.439314  5.922514   52.954532"
      ]
     },
     "metadata": {},
     "output_type": "display_data"
    },
    {
     "name": "stdout",
     "output_type": "stream",
     "text": [
      "<class 'pandas.core.frame.DataFrame'>\n",
      "RangeIndex: 100000 entries, 0 to 99999\n",
      "Data columns (total 5 columns):\n",
      " #   Column   Non-Null Count   Dtype  \n",
      "---  ------   --------------   -----  \n",
      " 0   id       100000 non-null  object \n",
      " 1   f0       100000 non-null  float64\n",
      " 2   f1       100000 non-null  float64\n",
      " 3   f2       100000 non-null  float64\n",
      " 4   product  100000 non-null  float64\n",
      "dtypes: float64(4), object(1)\n",
      "memory usage: 3.8+ MB\n"
     ]
    },
    {
     "data": {
      "text/plain": [
       "None"
      ]
     },
     "metadata": {},
     "output_type": "display_data"
    },
    {
     "data": {
      "text/html": [
       "<div>\n",
       "<style scoped>\n",
       "    .dataframe tbody tr th:only-of-type {\n",
       "        vertical-align: middle;\n",
       "    }\n",
       "\n",
       "    .dataframe tbody tr th {\n",
       "        vertical-align: top;\n",
       "    }\n",
       "\n",
       "    .dataframe thead th {\n",
       "        text-align: right;\n",
       "    }\n",
       "</style>\n",
       "<table border=\"1\" class=\"dataframe\">\n",
       "  <thead>\n",
       "    <tr style=\"text-align: right;\">\n",
       "      <th></th>\n",
       "      <th>count</th>\n",
       "      <th>mean</th>\n",
       "      <th>std</th>\n",
       "      <th>min</th>\n",
       "      <th>50%</th>\n",
       "      <th>max</th>\n",
       "    </tr>\n",
       "  </thead>\n",
       "  <tbody>\n",
       "    <tr>\n",
       "      <th>f0</th>\n",
       "      <td>100000.0</td>\n",
       "      <td>0.002023</td>\n",
       "      <td>1.732045</td>\n",
       "      <td>-8.760004</td>\n",
       "      <td>0.009424</td>\n",
       "      <td>7.238262</td>\n",
       "    </tr>\n",
       "    <tr>\n",
       "      <th>f1</th>\n",
       "      <td>100000.0</td>\n",
       "      <td>-0.002081</td>\n",
       "      <td>1.730417</td>\n",
       "      <td>-7.084020</td>\n",
       "      <td>-0.009482</td>\n",
       "      <td>7.844801</td>\n",
       "    </tr>\n",
       "    <tr>\n",
       "      <th>f2</th>\n",
       "      <td>100000.0</td>\n",
       "      <td>2.495128</td>\n",
       "      <td>3.473445</td>\n",
       "      <td>-11.970335</td>\n",
       "      <td>2.484236</td>\n",
       "      <td>16.739402</td>\n",
       "    </tr>\n",
       "    <tr>\n",
       "      <th>product</th>\n",
       "      <td>100000.0</td>\n",
       "      <td>95.000000</td>\n",
       "      <td>44.749921</td>\n",
       "      <td>0.000000</td>\n",
       "      <td>94.925613</td>\n",
       "      <td>190.029838</td>\n",
       "    </tr>\n",
       "  </tbody>\n",
       "</table>\n",
       "</div>"
      ],
      "text/plain": [
       "            count       mean        std        min        50%         max\n",
       "f0       100000.0   0.002023   1.732045  -8.760004   0.009424    7.238262\n",
       "f1       100000.0  -0.002081   1.730417  -7.084020  -0.009482    7.844801\n",
       "f2       100000.0   2.495128   3.473445 -11.970335   2.484236   16.739402\n",
       "product  100000.0  95.000000  44.749921   0.000000  94.925613  190.029838"
      ]
     },
     "metadata": {},
     "output_type": "display_data"
    },
    {
     "name": "stdout",
     "output_type": "stream",
     "text": [
      "Количество дубликатов: 0\n"
     ]
    }
   ],
   "source": [
    "df_info(df_2)"
   ]
  },
  {
   "cell_type": "code",
   "execution_count": 10,
   "metadata": {},
   "outputs": [],
   "source": [
    "df_2 = df_2.drop(['id'], axis=1)"
   ]
  },
  {
   "cell_type": "markdown",
   "metadata": {},
   "source": [
    "### Вывод:"
   ]
  },
  {
   "cell_type": "markdown",
   "metadata": {},
   "source": [
    "1. Импортировали необходимые для работы библиотеки и загрузили предоставленные нам датасеты\n",
    "2. Изучили датасеты методами head(), info() и describe()\n",
    "3. Удалили столбец id в каждом датасете\n",
    "4. Пропущенные значения отсутствуют"
   ]
  },
  {
   "cell_type": "markdown",
   "metadata": {},
   "source": [
    "## Обучение и проверка модели"
   ]
  },
  {
   "cell_type": "code",
   "execution_count": 11,
   "metadata": {},
   "outputs": [],
   "source": [
    "def train_linear_regression(data, feature_columns, target_column, test_size=0.25, random_state=42, n_iter=30, n_jobs=-1):\n",
    "\n",
    "    # Разделение данных на признаки и целевую переменную\n",
    "    features = data[feature_columns]\n",
    "    target = data[target_column]\n",
    "    \n",
    "    # Разделение на тренировочную и валидационную выборки\n",
    "    features_train, features_valid, target_train, target_valid = train_test_split(\n",
    "        features, target, test_size=test_size, random_state=random_state\n",
    "    )\n",
    "    \n",
    "    # Визуализация распределения целевой переменной в обучающей выборке\n",
    "    plt.figure(figsize=(12, 6))\n",
    "    target_train.hist(bins=20)\n",
    "    plt.suptitle('Распределение целевой переменной')\n",
    "    plt.xlabel('Значение целевой переменной')\n",
    "    plt.ylabel('Частота')\n",
    "    plt.show()\n",
    "    \n",
    "    # Стандартизация признаков\n",
    "    scaler = StandardScaler()\n",
    "    scaler.fit(features_train)\n",
    "    \n",
    "    features_train = pd.DataFrame(\n",
    "        scaler.transform(features_train),\n",
    "        columns=features_train.columns,\n",
    "        index=features_train.index\n",
    "    )\n",
    "    features_valid = pd.DataFrame(\n",
    "        scaler.transform(features_valid),\n",
    "        columns=features_valid.columns,\n",
    "        index=features_valid.index\n",
    "    )\n",
    "    \n",
    "\n",
    "    # Инициализация модели и RandomizedSearchCV\n",
    "    lr_model = LinearRegression()\n",
    "    \n",
    "    # Обучение модели\n",
    "    lr_model.fit(features_train, target_train)\n",
    "\n",
    "    # Предсказание на валидационных данных\n",
    "    predicted_valid = lr_model.predict(features_valid)\n",
    "    \n",
    "    # Вычисление RMSE\n",
    "    rmse = mean_squared_error(target_valid, predicted_valid, squared=False)\n",
    "    print(f\"RMSE на валидационной выборке: {rmse}\")\n",
    "    \n",
    "    # Среднее предсказанное значение\n",
    "    predicted_mean = predicted_valid.mean()\n",
    "    print(f\"Среднее значение предсказания: {predicted_mean}\")\n",
    "    \n",
    "    # Возвращение результатов\n",
    "    return {\n",
    "        'model': lr_model,\n",
    "        'rmse': rmse,\n",
    "        'predicted_mean': predicted_mean,\n",
    "        'features_valid': features_valid,\n",
    "        'features_train': features_train,\n",
    "        'target_train': target_train,\n",
    "        'target_valid': target_valid\n",
    "    }"
   ]
  },
  {
   "cell_type": "markdown",
   "metadata": {},
   "source": [
    "### Модель для первого региона"
   ]
  },
  {
   "cell_type": "code",
   "execution_count": 12,
   "metadata": {},
   "outputs": [
    {
     "data": {
      "image/png": "[encoded data removed]",
      "text/plain": [
       "<Figure size 864x432 with 1 Axes>"
      ]
     },
     "metadata": {
      "needs_background": "light"
     },
     "output_type": "display_data"
    },
    {
     "name": "stdout",
     "output_type": "stream",
     "text": [
      "RMSE на валидационной выборке: 37.75660035026169\n",
      "Среднее значение предсказания: 92.39879990657768\n"
     ]
    }
   ],
   "source": [
    "result_0 = train_linear_regression(\n",
    "    data=df_0,\n",
    "    feature_columns=['f0', 'f1', 'f2'],\n",
    "    target_column='product',\n",
    "    test_size=0.25,\n",
    "    random_state=42,\n",
    "    n_iter=30,\n",
    "    n_jobs=-1\n",
    ")\n"
   ]
  },
  {
   "cell_type": "code",
   "execution_count": 13,
   "metadata": {},
   "outputs": [],
   "source": [
    "features_valid_0 = result_0.get('features_valid')\n",
    "features_train_0 = result_0.get('features_train')\n",
    "target_valid_0 = result_0.get('target_valid')\n",
    "target_train_0 = result_0.get('target_train')"
   ]
  },
  {
   "cell_type": "markdown",
   "metadata": {},
   "source": [
    "### Модель для второго региона"
   ]
  },
  {
   "cell_type": "code",
   "execution_count": 14,
   "metadata": {},
   "outputs": [
    {
     "data": {
      "image/png": "[encoded data removed]",
      "text/plain": [
       "<Figure size 864x432 with 1 Axes>"
      ]
     },
     "metadata": {
      "needs_background": "light"
     },
     "output_type": "display_data"
    },
    {
     "name": "stdout",
     "output_type": "stream",
     "text": [
      "RMSE на валидационной выборке: 0.8902801001028846\n",
      "Среднее значение предсказания: 68.7128780391376\n"
     ]
    }
   ],
   "source": [
    "result_1 = train_linear_regression(\n",
    "    data=df_1,\n",
    "    feature_columns=['f0', 'f1', 'f2'],\n",
    "    target_column='product',\n",
    "    test_size=0.25,\n",
    "    random_state=42,\n",
    "    n_iter=30,\n",
    "    n_jobs=-1\n",
    ")\n"
   ]
  },
  {
   "cell_type": "code",
   "execution_count": 15,
   "metadata": {},
   "outputs": [],
   "source": [
    "features_valid_1 = result_1.get('features_valid')\n",
    "features_train_1 = result_1.get('features_train')\n",
    "target_valid_1 = result_1.get('target_valid')\n",
    "target_train_1 = result_1.get('target_train')"
   ]
  },
  {
   "cell_type": "markdown",
   "metadata": {},
   "source": [
    "### Модель для третьего региона"
   ]
  },
  {
   "cell_type": "code",
   "execution_count": 16,
   "metadata": {},
   "outputs": [
    {
     "data": {
      "image/png": "[encoded data removed]",
      "text/plain": [
       "<Figure size 864x432 with 1 Axes>"
      ]
     },
     "metadata": {
      "needs_background": "light"
     },
     "output_type": "display_data"
    },
    {
     "name": "stdout",
     "output_type": "stream",
     "text": [
      "RMSE на валидационной выборке: 40.145872311342174\n",
      "Среднее значение предсказания: 94.77102387765939\n"
     ]
    }
   ],
   "source": [
    "result_2 = train_linear_regression(\n",
    "    data=df_2,\n",
    "    feature_columns=['f0', 'f1', 'f2'],\n",
    "    target_column='product',\n",
    "    test_size=0.25,\n",
    "    random_state=42,\n",
    "    n_iter=30,\n",
    "    n_jobs=-1\n",
    ")\n"
   ]
  },
  {
   "cell_type": "code",
   "execution_count": 17,
   "metadata": {},
   "outputs": [],
   "source": [
    "features_valid_2 = result_2.get('features_valid')\n",
    "features_train_2 = result_2.get('features_train')\n",
    "target_valid_2 = result_2.get('target_valid')\n",
    "target_train_2 = result_2.get('target_train')"
   ]
  },
  {
   "cell_type": "markdown",
   "metadata": {},
   "source": [
    "### Вывод:"
   ]
  },
  {
   "cell_type": "markdown",
   "metadata": {},
   "source": [
    "Обучили модели для каждого региона и получили предсказания на валидационной выборке.\\\n",
    "**Первая модель:**\n",
    "- RMSE на валидационной выборке: ***37.75660035026169***\n",
    "- Среднее значение предсказания: ***92.39879990657768***\n",
    "\n",
    "\n",
    "**Вторая модель:**\n",
    "- RMSE на валидационной выборке: ***0.8902801001028846***\n",
    "- Среднее значение предсказания: ***68.7128780391376***\n",
    "\n",
    "\n",
    "**Третья модель:**\n",
    "- RMSE на валидационной выборке: ***40.145872311342174***\n",
    "- Среднее значение предсказания: ***94.77102387765939***\n",
    "\n",
    "\n",
    "\n",
    "Лучший показатель RMSE оказался у модели для второго региона. При этом во втором регионе самый низкий показатель среднего количества сырья."
   ]
  },
  {
   "cell_type": "markdown",
   "metadata": {},
   "source": [
    "## Подготовка к расчёту прибыли"
   ]
  },
  {
   "cell_type": "code",
   "execution_count": 42,
   "metadata": {},
   "outputs": [],
   "source": [
    "features_0 = df_0[['f0', 'f1', 'f2']]\n",
    "target_0 = df_0['product']"
   ]
  },
  {
   "cell_type": "code",
   "execution_count": 43,
   "metadata": {},
   "outputs": [
    {
     "data": {
      "text/plain": [
       "LinearRegression()"
      ]
     },
     "execution_count": 43,
     "metadata": {},
     "output_type": "execute_result"
    }
   ],
   "source": [
    "linear_model_0 = LinearRegression()\n",
    "linear_model_0.fit(features_train_0, target_train_0)"
   ]
  },
  {
   "cell_type": "code",
   "execution_count": 44,
   "metadata": {},
   "outputs": [],
   "source": [
    "features_1 = df_1[['f0', 'f1', 'f2']]\n",
    "target_1 = df_1['product']"
   ]
  },
  {
   "cell_type": "code",
   "execution_count": 45,
   "metadata": {},
   "outputs": [
    {
     "data": {
      "text/plain": [
       "LinearRegression()"
      ]
     },
     "execution_count": 45,
     "metadata": {},
     "output_type": "execute_result"
    }
   ],
   "source": [
    "linear_model_1 = LinearRegression()\n",
    "linear_model_1.fit(features_train_1, target_train_1)"
   ]
  },
  {
   "cell_type": "code",
   "execution_count": 46,
   "metadata": {},
   "outputs": [],
   "source": [
    "features_2 = df_2[['f0', 'f1', 'f2']]\n",
    "target_2 = df_2['product']"
   ]
  },
  {
   "cell_type": "code",
   "execution_count": 47,
   "metadata": {},
   "outputs": [
    {
     "data": {
      "text/plain": [
       "LinearRegression()"
      ]
     },
     "execution_count": 47,
     "metadata": {},
     "output_type": "execute_result"
    }
   ],
   "source": [
    "linear_model_2 = LinearRegression()\n",
    "linear_model_2.fit(features_train_2, target_train_2)"
   ]
  },
  {
   "cell_type": "markdown",
   "metadata": {},
   "source": [
    "**Расчитаем безубыточную разработку сырья на 200 месторождениях**"
   ]
  },
  {
   "cell_type": "code",
   "execution_count": 48,
   "metadata": {},
   "outputs": [
    {
     "name": "stdout",
     "output_type": "stream",
     "text": [
      "Средняя прибыль на лучшую точку 50000000.0\n",
      "Средний объем нефти на точку 111.11111111111111\n",
      "Средний объем нефти на регион 22222.222222222223\n"
     ]
    }
   ],
   "source": [
    "average_profit_per_point = BUDGET / BEST_POINTS\n",
    "print(f'Средняя прибыль на лучшую точку {average_profit_per_point}')\n",
    "\n",
    "average_volume_oil = average_profit_per_point  / PRICE_BARREL\n",
    "print(f'Средний объем нефти на точку {average_volume_oil}')\n",
    "\n",
    "average_barrels = BUDGET / PRICE_BARREL\n",
    "print(f'Средний объем нефти на регион {average_barrels}')"
   ]
  },
  {
   "cell_type": "code",
   "execution_count": 49,
   "metadata": {},
   "outputs": [
    {
     "name": "stdout",
     "output_type": "stream",
     "text": [
      "Средний запас нефти на скважину в первом регионе 92.50000000000001\n",
      "Средний запас нефти на скважину в первом регионе 68.82500000000002\n",
      "Средний запас нефти на скважину в первом регионе 95.00000000000004\n"
     ]
    }
   ],
   "source": [
    "print(f'Средний запас нефти на скважину в первом регионе {df_0[\"product\"].mean()}')\n",
    "print(f'Средний запас нефти на скважину в первом регионе {df_1[\"product\"].mean()}')\n",
    "print(f'Средний запас нефти на скважину в первом регионе {df_2[\"product\"].mean()}')"
   ]
  },
  {
   "cell_type": "markdown",
   "metadata": {},
   "source": [
    "**Создадим функцию для расчета прибыли на 500 разведанных точек**"
   ]
  },
  {
   "cell_type": "code",
   "execution_count": 50,
   "metadata": {},
   "outputs": [],
   "source": [
    "def oil_profit(target, predictions, count):\n",
    "    probs_sort = predictions.sort_values('product', ascending=False)\n",
    "    select = target.loc[probs_sort.index][:count]\n",
    "    return PRICE_BARREL * select.sum() - BUDGET"
   ]
  },
  {
   "cell_type": "markdown",
   "metadata": {},
   "source": [
    "### Вывод:"
   ]
  },
  {
   "cell_type": "markdown",
   "metadata": {},
   "source": [
    "- Создали переменные\n",
    "- Рассчитали безубыточную выработку сырья для 200 месторождений и необходимый средний объем нефти\n",
    "- Создали функцию для расчета прибыли\\\n",
    "\n",
    "И выяснили:\\\n",
    "Во втором регионе самый низкий средний запас нефти на скважину - 68.825\\\n",
    "В первом - 92.5\\\n",
    "В третьем - 95\\\n",
    "Средняя прибыль на лучшую точку 50000000.0\\\n",
    "Средний объем нефти на точку 111.11111111111111\\\n",
    "Средний объем нефти на регион 22222.222222222223"
   ]
  },
  {
   "cell_type": "markdown",
   "metadata": {},
   "source": [
    "## Расчёт прибыли и рисков "
   ]
  },
  {
   "cell_type": "markdown",
   "metadata": {},
   "source": [
    "**Первый регион**"
   ]
  },
  {
   "cell_type": "code",
   "execution_count": 51,
   "metadata": {},
   "outputs": [
    {
     "name": "stderr",
     "output_type": "stream",
     "text": [
      "100%|██████████| 1000/1000 [00:01<00:00, 516.34it/s]\n"
     ]
    }
   ],
   "source": [
    "profits_0 = []\n",
    "features, target, model = pd.concat([features_valid_0, features_train_0]), target_0, linear_model_0\n",
    "for i in tqdm(range(BOOTSTRAP)):\n",
    "    sample = features.sample(n=CHOSEN_POINTS, replace=True, random_state=RANDOM_STATE)\n",
    "    predictions = pd.DataFrame(\n",
    "        model.predict(sample),\n",
    "        columns=['product'],\n",
    "        index=sample.index)\n",
    "    profits_0.append(oil_profit(\n",
    "        target,\n",
    "        predictions,\n",
    "        BEST_POINTS)\n",
    "    )"
   ]
  },
  {
   "cell_type": "code",
   "execution_count": 52,
   "metadata": {},
   "outputs": [
    {
     "data": {
      "text/plain": [
       "'Выборок с отрицательной прибылью: 43'"
      ]
     },
     "metadata": {},
     "output_type": "display_data"
    },
    {
     "data": {
      "image/png": "[encoded data removed]",
      "text/plain": [
       "<Figure size 864x432 with 1 Axes>"
      ]
     },
     "metadata": {
      "needs_background": "light"
     },
     "output_type": "display_data"
    }
   ],
   "source": [
    "result0 = pd.Series(profits_0)\n",
    "display(f'Выборок с отрицательной прибылью: {(result0 < 0).sum()}')\n",
    "\n",
    "fig = plt.figure(figsize = (12, 6))\n",
    "ax = fig.gca()\n",
    "result_hist_0 = result0.hist(\n",
    "    bins=16,\n",
    ")\n",
    "pl.suptitle('Распределение ожидаемого дохода от первого региона')\n",
    "result_hist_0.set_xlabel('Доход, млрд руб')\n",
    "result_hist_0.set_ylabel('Количество выборок скважин')\n",
    "display()"
   ]
  },
  {
   "cell_type": "markdown",
   "metadata": {},
   "source": [
    "**Найдем 95й доверительный интервал, риск убытков и среднюю прибыль**"
   ]
  },
  {
   "cell_type": "code",
   "execution_count": 53,
   "metadata": {},
   "outputs": [
    {
     "data": {
      "text/plain": [
       "'Средняя прибыль:  444776278.6  рублей'"
      ]
     },
     "metadata": {},
     "output_type": "display_data"
    }
   ],
   "source": [
    "linear_0_mean = result0.mean()\n",
    "display(f'Средняя прибыль: {linear_0_mean: .10}  рублей')"
   ]
  },
  {
   "cell_type": "code",
   "execution_count": 54,
   "metadata": {},
   "outputs": [
    {
     "name": "stdout",
     "output_type": "stream",
     "text": [
      "Отрицательная прибыль:  4.3%\n"
     ]
    }
   ],
   "source": [
    "print(f'Отрицательная прибыль: {(result0 < 0).mean(): .1%}')"
   ]
  },
  {
   "cell_type": "code",
   "execution_count": 55,
   "metadata": {},
   "outputs": [
    {
     "name": "stdout",
     "output_type": "stream",
     "text": [
      "95%-ый доверительный интервал: от -71499518.51р. до  967298880.9р.\n"
     ]
    }
   ],
   "source": [
    "linear_0_min, linear_0_max = result0.quantile(.025), result0.quantile(.975)\n",
    "print(f'95%-ый доверительный интервал: от {linear_0_min: .10}р. до {linear_0_max: .10}р.')"
   ]
  },
  {
   "cell_type": "markdown",
   "metadata": {},
   "source": [
    "**Второй регион**"
   ]
  },
  {
   "cell_type": "code",
   "execution_count": 56,
   "metadata": {},
   "outputs": [
    {
     "name": "stderr",
     "output_type": "stream",
     "text": [
      "100%|██████████| 1000/1000 [00:01<00:00, 509.69it/s]\n"
     ]
    }
   ],
   "source": [
    "profits_1 = []\n",
    "features, target, model = pd.concat([features_valid_1, features_train_1]), target_1, linear_model_1\n",
    "for i in tqdm(range(BOOTSTRAP)):\n",
    "    sample = features.sample(n=CHOSEN_POINTS, replace=True, random_state=RANDOM_STATE)\n",
    "    predictions = pd.DataFrame(\n",
    "        model.predict(sample),\n",
    "        columns=['product'],\n",
    "        index=sample.index)\n",
    "    profits_1.append(oil_profit(\n",
    "        target,\n",
    "        predictions,\n",
    "        BEST_POINTS)\n",
    "    )"
   ]
  },
  {
   "cell_type": "code",
   "execution_count": 57,
   "metadata": {},
   "outputs": [
    {
     "data": {
      "text/plain": [
       "'Выборок с отрицательной прибылью: 20'"
      ]
     },
     "metadata": {},
     "output_type": "display_data"
    },
    {
     "data": {
      "image/png": "[encoded data removed]",
      "text/plain": [
       "<Figure size 864x432 with 1 Axes>"
      ]
     },
     "metadata": {
      "needs_background": "light"
     },
     "output_type": "display_data"
    }
   ],
   "source": [
    "result1 = pd.Series(profits_1)\n",
    "display(f'Выборок с отрицательной прибылью: {(result1 < 0).sum()}')\n",
    "\n",
    "fig = plt.figure(figsize = (12, 6))\n",
    "ax = fig.gca()\n",
    "result_hist_1 = result1.hist(\n",
    "    bins=16,\n",
    ")\n",
    "pl.suptitle('Распределение ожидаемого дохода от первого региона')\n",
    "result_hist_1.set_xlabel('Доход, млрд руб')\n",
    "result_hist_1.set_ylabel('Количество выборок скважин')\n",
    "display()"
   ]
  },
  {
   "cell_type": "code",
   "execution_count": 58,
   "metadata": {},
   "outputs": [
    {
     "data": {
      "text/plain": [
       "'Средняя прибыль:  435717267.3  рублей'"
      ]
     },
     "metadata": {},
     "output_type": "display_data"
    }
   ],
   "source": [
    "linear_1_mean = result1.mean()\n",
    "display(f'Средняя прибыль: {linear_1_mean: .10}  рублей')"
   ]
  },
  {
   "cell_type": "code",
   "execution_count": 59,
   "metadata": {},
   "outputs": [
    {
     "name": "stdout",
     "output_type": "stream",
     "text": [
      "Отрицательная прибыль:  2.0%\n"
     ]
    }
   ],
   "source": [
    "print(f'Отрицательная прибыль: {(result1 < 0).mean(): .1%}')"
   ]
  },
  {
   "cell_type": "code",
   "execution_count": 60,
   "metadata": {},
   "outputs": [
    {
     "name": "stdout",
     "output_type": "stream",
     "text": [
      "95%-ый доверительный интервал: от  13967877.65р. до  832304647.5р.\n"
     ]
    }
   ],
   "source": [
    "linear_1_min, linear_1_max = result1.quantile(.025), result1.quantile(.975)\n",
    "print(f'95%-ый доверительный интервал: от {linear_1_min: .10}р. до {linear_1_max: .10}р.')"
   ]
  },
  {
   "cell_type": "markdown",
   "metadata": {},
   "source": [
    "**Третий регион**"
   ]
  },
  {
   "cell_type": "code",
   "execution_count": 61,
   "metadata": {},
   "outputs": [
    {
     "name": "stderr",
     "output_type": "stream",
     "text": [
      "100%|██████████| 1000/1000 [00:01<00:00, 511.67it/s]\n"
     ]
    }
   ],
   "source": [
    "profits_2 = []\n",
    "features, target, model = pd.concat([features_valid_2, features_train_2]), target_2, linear_model_2\n",
    "for i in tqdm(range(BOOTSTRAP)):\n",
    "    sample = features.sample(n=CHOSEN_POINTS, replace=True, random_state=RANDOM_STATE)\n",
    "    predictions = pd.DataFrame(\n",
    "        model.predict(sample),\n",
    "        columns=['product'],\n",
    "        index=sample.index)\n",
    "    profits_2.append(oil_profit(\n",
    "        target,\n",
    "        predictions,\n",
    "        BEST_POINTS)\n",
    "    )"
   ]
  },
  {
   "cell_type": "code",
   "execution_count": 62,
   "metadata": {},
   "outputs": [
    {
     "data": {
      "text/plain": [
       "'Выборок с отрицательной прибылью: 73'"
      ]
     },
     "metadata": {},
     "output_type": "display_data"
    },
    {
     "data": {
      "image/png": "[encoded data removed]",
      "text/plain": [
       "<Figure size 864x432 with 1 Axes>"
      ]
     },
     "metadata": {
      "needs_background": "light"
     },
     "output_type": "display_data"
    }
   ],
   "source": [
    "result2 = pd.Series(profits_2)\n",
    "display(f'Выборок с отрицательной прибылью: {(result2 < 0).sum()}')\n",
    "\n",
    "fig = plt.figure(figsize = (12, 6))\n",
    "ax = fig.gca()\n",
    "result_hist_2 = result2.hist(\n",
    "    bins=16,\n",
    ")\n",
    "pl.suptitle('Распределение ожидаемого дохода от первого региона')\n",
    "result_hist_2.set_xlabel('Доход, млрд руб')\n",
    "result_hist_2.set_ylabel('Количество выборок скважин')\n",
    "display()"
   ]
  },
  {
   "cell_type": "code",
   "execution_count": 63,
   "metadata": {},
   "outputs": [
    {
     "data": {
      "text/plain": [
       "'Средняя прибыль:  369511509.9  рублей'"
      ]
     },
     "metadata": {},
     "output_type": "display_data"
    }
   ],
   "source": [
    "linear_2_mean = result2.mean()\n",
    "display(f'Средняя прибыль: {linear_2_mean: .10}  рублей')"
   ]
  },
  {
   "cell_type": "code",
   "execution_count": 64,
   "metadata": {},
   "outputs": [
    {
     "name": "stdout",
     "output_type": "stream",
     "text": [
      "Отрицательная прибыль:  7.3%\n"
     ]
    }
   ],
   "source": [
    "print(f'Отрицательная прибыль: {(result2 < 0).mean(): .1%}')"
   ]
  },
  {
   "cell_type": "code",
   "execution_count": 65,
   "metadata": {},
   "outputs": [
    {
     "name": "stdout",
     "output_type": "stream",
     "text": [
      "95%-ый доверительный интервал: от -110887061.8р. до  867717958.7р.\n"
     ]
    }
   ],
   "source": [
    "linear_2_min, linear_2_max = result2.quantile(.025), result2.quantile(.975)\n",
    "print(f'95%-ый доверительный интервал: от {linear_2_min: .10}р. до {linear_2_max: .10}р.')"
   ]
  },
  {
   "cell_type": "markdown",
   "metadata": {},
   "source": [
    "### Вывод:"
   ]
  },
  {
   "cell_type": "markdown",
   "metadata": {},
   "source": [
    "Самым прибыльным регионом является второй - 464.5 млн руб и с вероятностью убытков 1.2%, поэтому самым перспективным будет второй регион"
   ]
  },
  {
   "cell_type": "markdown",
   "metadata": {},
   "source": [
    "## Общий вывод\n",
    "Мы исследовали  3 региона для разработки скважин по добыче нефти и для каждого региона была разработана модель. Были выполнены следующие шаги:\n",
    "1. Загрузка и подготовка данных\n",
    "2. Обучение и проверка моделей\n",
    "3. Подготовка к расчету прибыли\n",
    "4. Расчет прибыли и рисков\\\n",
    "\n",
    "\n",
    "На основании данных, предсказанных моделями, мы увидели преимущество ***второго региона***, а именно самый высокий показатель средней прибыли - **464.5 млн руб**, против **420.1 млн руб** у первого региона и **366.2 млн руб** у третьего, и самый низкий показатель отрицательной прибыли - **1.2%** против **4.8%** у первого региона и **7.8%** у третьего.\n",
    "Самый убыточным будет третий регион."
   ]
  }
 ],
 "metadata": {
  "ExecuteTimeLog": [
   {
    "duration": 1557,
    "start_time": "2024-12-07T09:52:32.622Z"
   },
   {
    "duration": 1761,
    "start_time": "2024-12-07T09:56:26.656Z"
   },
   {
    "duration": 4,
    "start_time": "2024-12-07T10:03:32.189Z"
   },
   {
    "duration": 107,
    "start_time": "2024-12-07T10:20:05.122Z"
   },
   {
    "duration": 1650,
    "start_time": "2024-12-08T18:33:59.579Z"
   },
   {
    "duration": 650,
    "start_time": "2024-12-08T18:34:01.231Z"
   },
   {
    "duration": 4,
    "start_time": "2024-12-08T18:34:01.883Z"
   },
   {
    "duration": 129,
    "start_time": "2024-12-08T18:34:01.888Z"
   },
   {
    "duration": 117,
    "start_time": "2024-12-08T18:34:02.019Z"
   },
   {
    "duration": 8,
    "start_time": "2024-12-08T18:37:42.051Z"
   },
   {
    "duration": 4,
    "start_time": "2024-12-08T18:39:14.403Z"
   },
   {
    "duration": 215,
    "start_time": "2024-12-08T18:39:16.547Z"
   },
   {
    "duration": 202,
    "start_time": "2024-12-08T18:40:08.350Z"
   },
   {
    "duration": 194,
    "start_time": "2024-12-08T18:40:35.110Z"
   },
   {
    "duration": 199,
    "start_time": "2024-12-08T18:41:31.063Z"
   },
   {
    "duration": 270,
    "start_time": "2024-12-08T18:44:22.127Z"
   },
   {
    "duration": 188,
    "start_time": "2024-12-08T18:44:48.086Z"
   },
   {
    "duration": 198,
    "start_time": "2024-12-08T18:44:53.912Z"
   },
   {
    "duration": 189,
    "start_time": "2024-12-08T18:45:04.896Z"
   },
   {
    "duration": 199,
    "start_time": "2024-12-08T18:45:09.791Z"
   },
   {
    "duration": 26,
    "start_time": "2024-12-08T18:58:23.138Z"
   },
   {
    "duration": 69,
    "start_time": "2024-12-08T18:58:56.990Z"
   },
   {
    "duration": 73,
    "start_time": "2024-12-08T19:01:00.261Z"
   },
   {
    "duration": 88,
    "start_time": "2024-12-08T19:01:04.909Z"
   },
   {
    "duration": 7,
    "start_time": "2024-12-08T19:01:48.912Z"
   },
   {
    "duration": 1418,
    "start_time": "2024-12-08T19:15:22.377Z"
   },
   {
    "duration": 412,
    "start_time": "2024-12-08T19:15:23.797Z"
   },
   {
    "duration": 4,
    "start_time": "2024-12-08T19:15:24.211Z"
   },
   {
    "duration": 126,
    "start_time": "2024-12-08T19:15:24.216Z"
   },
   {
    "duration": 8,
    "start_time": "2024-12-08T19:15:24.344Z"
   },
   {
    "duration": 28,
    "start_time": "2024-12-08T19:15:24.353Z"
   },
   {
    "duration": 262,
    "start_time": "2024-12-08T19:15:24.383Z"
   },
   {
    "duration": 70,
    "start_time": "2024-12-08T19:15:24.646Z"
   },
   {
    "duration": 121,
    "start_time": "2024-12-08T19:15:24.718Z"
   },
   {
    "duration": 9,
    "start_time": "2024-12-08T19:15:24.841Z"
   },
   {
    "duration": 22,
    "start_time": "2024-12-08T19:15:24.852Z"
   },
   {
    "duration": 237,
    "start_time": "2024-12-08T19:15:24.876Z"
   },
   {
    "duration": 86,
    "start_time": "2024-12-08T19:15:25.115Z"
   },
   {
    "duration": 121,
    "start_time": "2024-12-08T19:15:25.205Z"
   },
   {
    "duration": 8,
    "start_time": "2024-12-08T19:15:25.329Z"
   },
   {
    "duration": 7,
    "start_time": "2024-12-08T19:15:25.339Z"
   },
   {
    "duration": 216,
    "start_time": "2024-12-08T19:15:25.347Z"
   },
   {
    "duration": 64,
    "start_time": "2024-12-08T19:15:25.568Z"
   },
   {
    "duration": 207,
    "start_time": "2024-12-08T19:16:11.076Z"
   },
   {
    "duration": 274,
    "start_time": "2024-12-08T19:16:19.479Z"
   },
   {
    "duration": 213,
    "start_time": "2024-12-08T19:16:46.084Z"
   },
   {
    "duration": 1387,
    "start_time": "2024-12-08T19:17:12.419Z"
   },
   {
    "duration": 417,
    "start_time": "2024-12-08T19:17:13.808Z"
   },
   {
    "duration": 3,
    "start_time": "2024-12-08T19:17:14.227Z"
   },
   {
    "duration": 127,
    "start_time": "2024-12-08T19:17:14.231Z"
   },
   {
    "duration": 10,
    "start_time": "2024-12-08T19:17:14.369Z"
   },
   {
    "duration": 6,
    "start_time": "2024-12-08T19:17:14.381Z"
   },
   {
    "duration": 268,
    "start_time": "2024-12-08T19:17:14.388Z"
   },
   {
    "duration": 64,
    "start_time": "2024-12-08T19:17:14.658Z"
   },
   {
    "duration": 117,
    "start_time": "2024-12-08T19:17:14.724Z"
   },
   {
    "duration": 8,
    "start_time": "2024-12-08T19:17:14.843Z"
   },
   {
    "duration": 6,
    "start_time": "2024-12-08T19:17:14.870Z"
   },
   {
    "duration": 248,
    "start_time": "2024-12-08T19:17:14.878Z"
   },
   {
    "duration": 80,
    "start_time": "2024-12-08T19:17:15.128Z"
   },
   {
    "duration": 125,
    "start_time": "2024-12-08T19:17:15.211Z"
   },
   {
    "duration": 72,
    "start_time": "2024-12-08T19:17:15.337Z"
   },
   {
    "duration": 24,
    "start_time": "2024-12-08T19:17:15.411Z"
   },
   {
    "duration": 214,
    "start_time": "2024-12-08T19:17:15.437Z"
   },
   {
    "duration": 71,
    "start_time": "2024-12-08T19:17:15.652Z"
   },
   {
    "duration": 210,
    "start_time": "2024-12-08T19:18:35.540Z"
   },
   {
    "duration": 291,
    "start_time": "2024-12-08T19:18:41.049Z"
   },
   {
    "duration": 1496,
    "start_time": "2024-12-10T13:47:57.232Z"
   },
   {
    "duration": 631,
    "start_time": "2024-12-10T13:47:58.730Z"
   },
   {
    "duration": 3,
    "start_time": "2024-12-10T13:47:59.362Z"
   },
   {
    "duration": 88,
    "start_time": "2024-12-10T13:47:59.366Z"
   },
   {
    "duration": 7,
    "start_time": "2024-12-10T13:47:59.455Z"
   },
   {
    "duration": 6,
    "start_time": "2024-12-10T13:47:59.463Z"
   },
   {
    "duration": 203,
    "start_time": "2024-12-10T13:47:59.470Z"
   },
   {
    "duration": 51,
    "start_time": "2024-12-10T13:47:59.675Z"
   },
   {
    "duration": 97,
    "start_time": "2024-12-10T13:47:59.727Z"
   },
   {
    "duration": 6,
    "start_time": "2024-12-10T13:47:59.826Z"
   },
   {
    "duration": 23,
    "start_time": "2024-12-10T13:47:59.833Z"
   },
   {
    "duration": 206,
    "start_time": "2024-12-10T13:47:59.857Z"
   },
   {
    "duration": 55,
    "start_time": "2024-12-10T13:48:00.065Z"
   },
   {
    "duration": 105,
    "start_time": "2024-12-10T13:48:00.122Z"
   },
   {
    "duration": 6,
    "start_time": "2024-12-10T13:48:00.228Z"
   },
   {
    "duration": 34,
    "start_time": "2024-12-10T13:48:00.253Z"
   },
   {
    "duration": 202,
    "start_time": "2024-12-10T13:48:00.289Z"
   },
   {
    "duration": 65,
    "start_time": "2024-12-10T13:48:00.493Z"
   },
   {
    "duration": 4,
    "start_time": "2024-12-10T13:50:14.180Z"
   },
   {
    "duration": 4,
    "start_time": "2024-12-10T13:50:33.530Z"
   },
   {
    "duration": 4,
    "start_time": "2024-12-10T13:50:34.366Z"
   },
   {
    "duration": 4,
    "start_time": "2024-12-10T13:50:35.064Z"
   },
   {
    "duration": 176,
    "start_time": "2024-12-10T14:04:57.416Z"
   },
   {
    "duration": 331,
    "start_time": "2024-12-10T14:05:12.440Z"
   },
   {
    "duration": 191,
    "start_time": "2024-12-10T14:05:19.691Z"
   },
   {
    "duration": 9,
    "start_time": "2024-12-10T14:18:42.333Z"
   },
   {
    "duration": 1344,
    "start_time": "2024-12-10T14:18:57.924Z"
   },
   {
    "duration": 407,
    "start_time": "2024-12-10T14:18:59.270Z"
   },
   {
    "duration": 4,
    "start_time": "2024-12-10T14:18:59.679Z"
   },
   {
    "duration": 118,
    "start_time": "2024-12-10T14:18:59.684Z"
   },
   {
    "duration": 6,
    "start_time": "2024-12-10T14:18:59.804Z"
   },
   {
    "duration": 6,
    "start_time": "2024-12-10T14:18:59.812Z"
   },
   {
    "duration": 111,
    "start_time": "2024-12-10T14:18:59.819Z"
   },
   {
    "duration": 0,
    "start_time": "2024-12-10T14:18:59.932Z"
   },
   {
    "duration": 0,
    "start_time": "2024-12-10T14:18:59.934Z"
   },
   {
    "duration": 0,
    "start_time": "2024-12-10T14:18:59.935Z"
   },
   {
    "duration": 0,
    "start_time": "2024-12-10T14:18:59.936Z"
   },
   {
    "duration": 0,
    "start_time": "2024-12-10T14:18:59.954Z"
   },
   {
    "duration": 0,
    "start_time": "2024-12-10T14:18:59.955Z"
   },
   {
    "duration": 0,
    "start_time": "2024-12-10T14:18:59.957Z"
   },
   {
    "duration": 0,
    "start_time": "2024-12-10T14:18:59.958Z"
   },
   {
    "duration": 0,
    "start_time": "2024-12-10T14:18:59.959Z"
   },
   {
    "duration": 0,
    "start_time": "2024-12-10T14:18:59.961Z"
   },
   {
    "duration": 0,
    "start_time": "2024-12-10T14:18:59.962Z"
   },
   {
    "duration": 0,
    "start_time": "2024-12-10T14:18:59.963Z"
   },
   {
    "duration": 0,
    "start_time": "2024-12-10T14:18:59.965Z"
   },
   {
    "duration": 0,
    "start_time": "2024-12-10T14:18:59.966Z"
   },
   {
    "duration": 0,
    "start_time": "2024-12-10T14:18:59.968Z"
   },
   {
    "duration": 0,
    "start_time": "2024-12-10T14:18:59.969Z"
   },
   {
    "duration": 1279,
    "start_time": "2024-12-10T14:20:02.463Z"
   },
   {
    "duration": 370,
    "start_time": "2024-12-10T14:20:03.744Z"
   },
   {
    "duration": 3,
    "start_time": "2024-12-10T14:20:04.116Z"
   },
   {
    "duration": 105,
    "start_time": "2024-12-10T14:20:04.122Z"
   },
   {
    "duration": 8,
    "start_time": "2024-12-10T14:20:04.228Z"
   },
   {
    "duration": 16,
    "start_time": "2024-12-10T14:20:04.238Z"
   },
   {
    "duration": 110,
    "start_time": "2024-12-10T14:20:04.255Z"
   },
   {
    "duration": 7,
    "start_time": "2024-12-10T14:20:04.366Z"
   },
   {
    "duration": 33,
    "start_time": "2024-12-10T14:20:04.374Z"
   },
   {
    "duration": 222,
    "start_time": "2024-12-10T14:20:04.411Z"
   },
   {
    "duration": 65,
    "start_time": "2024-12-10T14:20:04.635Z"
   },
   {
    "duration": 105,
    "start_time": "2024-12-10T14:20:04.701Z"
   },
   {
    "duration": 7,
    "start_time": "2024-12-10T14:20:04.807Z"
   },
   {
    "duration": 38,
    "start_time": "2024-12-10T14:20:04.816Z"
   },
   {
    "duration": 241,
    "start_time": "2024-12-10T14:20:04.855Z"
   },
   {
    "duration": 81,
    "start_time": "2024-12-10T14:20:05.097Z"
   },
   {
    "duration": 121,
    "start_time": "2024-12-10T14:20:05.179Z"
   },
   {
    "duration": 0,
    "start_time": "2024-12-10T14:20:05.302Z"
   },
   {
    "duration": 0,
    "start_time": "2024-12-10T14:20:05.303Z"
   },
   {
    "duration": 0,
    "start_time": "2024-12-10T14:20:05.304Z"
   },
   {
    "duration": 0,
    "start_time": "2024-12-10T14:20:05.305Z"
   },
   {
    "duration": 0,
    "start_time": "2024-12-10T14:20:05.306Z"
   },
   {
    "duration": 0,
    "start_time": "2024-12-10T14:20:05.307Z"
   },
   {
    "duration": 5,
    "start_time": "2024-12-10T14:20:33.518Z"
   },
   {
    "duration": 4,
    "start_time": "2024-12-10T14:20:34.489Z"
   },
   {
    "duration": 206,
    "start_time": "2024-12-10T14:20:38.031Z"
   },
   {
    "duration": 72,
    "start_time": "2024-12-10T14:20:40.423Z"
   },
   {
    "duration": 12,
    "start_time": "2024-12-10T14:20:42.979Z"
   },
   {
    "duration": 3,
    "start_time": "2024-12-10T14:20:43.698Z"
   },
   {
    "duration": 11,
    "start_time": "2024-12-10T14:21:44.113Z"
   },
   {
    "duration": 94,
    "start_time": "2024-12-10T14:21:45.162Z"
   },
   {
    "duration": 2,
    "start_time": "2024-12-10T14:21:53.202Z"
   },
   {
    "duration": 1424580,
    "start_time": "2024-12-10T14:22:11.156Z"
   },
   {
    "duration": 3,
    "start_time": "2024-12-10T14:49:22.694Z"
   },
   {
    "duration": 3,
    "start_time": "2024-12-10T14:49:25.626Z"
   },
   {
    "duration": 3,
    "start_time": "2024-12-10T14:49:26.723Z"
   },
   {
    "duration": 4,
    "start_time": "2024-12-10T14:51:57.939Z"
   },
   {
    "duration": 484498,
    "start_time": "2024-12-10T14:52:04.785Z"
   },
   {
    "duration": 3,
    "start_time": "2024-12-10T15:06:41.920Z"
   },
   {
    "duration": 1395,
    "start_time": "2024-12-10T15:10:54.243Z"
   },
   {
    "duration": 389,
    "start_time": "2024-12-10T15:10:55.640Z"
   },
   {
    "duration": 3,
    "start_time": "2024-12-10T15:10:56.031Z"
   },
   {
    "duration": 95,
    "start_time": "2024-12-10T15:10:56.035Z"
   },
   {
    "duration": 8,
    "start_time": "2024-12-10T15:10:56.131Z"
   },
   {
    "duration": 4,
    "start_time": "2024-12-10T15:10:56.153Z"
   },
   {
    "duration": 97,
    "start_time": "2024-12-10T15:10:56.158Z"
   },
   {
    "duration": 7,
    "start_time": "2024-12-10T15:10:56.256Z"
   },
   {
    "duration": 22,
    "start_time": "2024-12-10T15:10:56.264Z"
   },
   {
    "duration": 208,
    "start_time": "2024-12-10T15:10:56.289Z"
   },
   {
    "duration": 68,
    "start_time": "2024-12-10T15:10:56.499Z"
   },
   {
    "duration": 102,
    "start_time": "2024-12-10T15:10:56.569Z"
   },
   {
    "duration": 7,
    "start_time": "2024-12-10T15:10:56.672Z"
   },
   {
    "duration": 6,
    "start_time": "2024-12-10T15:10:56.681Z"
   },
   {
    "duration": 206,
    "start_time": "2024-12-10T15:10:56.688Z"
   },
   {
    "duration": 73,
    "start_time": "2024-12-10T15:10:56.896Z"
   },
   {
    "duration": 4,
    "start_time": "2024-12-10T15:10:56.970Z"
   },
   {
    "duration": 16,
    "start_time": "2024-12-10T15:10:56.976Z"
   },
   {
    "duration": 181,
    "start_time": "2024-12-10T15:10:56.993Z"
   },
   {
    "duration": 54,
    "start_time": "2024-12-10T15:10:57.176Z"
   },
   {
    "duration": 484392,
    "start_time": "2024-12-10T15:10:57.232Z"
   },
   {
    "duration": 108,
    "start_time": "2024-12-10T15:19:01.625Z"
   },
   {
    "duration": 0,
    "start_time": "2024-12-10T15:19:01.735Z"
   },
   {
    "duration": 0,
    "start_time": "2024-12-10T15:19:01.736Z"
   },
   {
    "duration": 228,
    "start_time": "2024-12-10T15:29:52.967Z"
   },
   {
    "duration": 3,
    "start_time": "2024-12-10T15:31:27.951Z"
   },
   {
    "duration": 228,
    "start_time": "2024-12-10T15:35:02.971Z"
   },
   {
    "duration": 231,
    "start_time": "2024-12-10T15:35:11.319Z"
   },
   {
    "duration": 1412,
    "start_time": "2024-12-10T15:46:23.098Z"
   },
   {
    "duration": 396,
    "start_time": "2024-12-10T15:46:24.512Z"
   },
   {
    "duration": 4,
    "start_time": "2024-12-10T15:46:24.909Z"
   },
   {
    "duration": 110,
    "start_time": "2024-12-10T15:46:24.915Z"
   },
   {
    "duration": 8,
    "start_time": "2024-12-10T15:46:25.027Z"
   },
   {
    "duration": 95,
    "start_time": "2024-12-10T15:46:25.036Z"
   },
   {
    "duration": 22,
    "start_time": "2024-12-10T15:46:25.132Z"
   },
   {
    "duration": 121,
    "start_time": "2024-12-10T15:46:25.156Z"
   },
   {
    "duration": 7,
    "start_time": "2024-12-10T15:46:25.279Z"
   },
   {
    "duration": 12,
    "start_time": "2024-12-10T15:46:25.287Z"
   },
   {
    "duration": 212,
    "start_time": "2024-12-10T15:46:25.300Z"
   },
   {
    "duration": 73,
    "start_time": "2024-12-10T15:46:25.514Z"
   },
   {
    "duration": 513158,
    "start_time": "2024-12-10T15:46:25.588Z"
   },
   {
    "duration": 120,
    "start_time": "2024-12-10T15:54:58.755Z"
   },
   {
    "duration": 0,
    "start_time": "2024-12-10T15:54:58.876Z"
   },
   {
    "duration": 0,
    "start_time": "2024-12-10T15:54:58.877Z"
   },
   {
    "duration": 0,
    "start_time": "2024-12-10T15:54:58.878Z"
   },
   {
    "duration": 0,
    "start_time": "2024-12-10T15:54:58.879Z"
   },
   {
    "duration": 0,
    "start_time": "2024-12-10T15:54:58.880Z"
   },
   {
    "duration": 0,
    "start_time": "2024-12-10T15:54:58.882Z"
   },
   {
    "duration": 0,
    "start_time": "2024-12-10T15:54:58.883Z"
   },
   {
    "duration": 0,
    "start_time": "2024-12-10T15:54:58.884Z"
   },
   {
    "duration": 0,
    "start_time": "2024-12-10T15:54:58.885Z"
   },
   {
    "duration": 0,
    "start_time": "2024-12-10T15:54:58.886Z"
   },
   {
    "duration": 0,
    "start_time": "2024-12-10T15:54:58.887Z"
   },
   {
    "duration": 0,
    "start_time": "2024-12-10T15:54:58.888Z"
   },
   {
    "duration": 0,
    "start_time": "2024-12-10T15:54:58.889Z"
   },
   {
    "duration": 243,
    "start_time": "2024-12-10T15:59:05.065Z"
   },
   {
    "duration": 3,
    "start_time": "2024-12-10T15:59:16.427Z"
   },
   {
    "duration": 8,
    "start_time": "2024-12-10T15:59:19.154Z"
   },
   {
    "duration": 246,
    "start_time": "2024-12-10T15:59:20.842Z"
   },
   {
    "duration": 64,
    "start_time": "2024-12-10T15:59:25.181Z"
   },
   {
    "duration": 471933,
    "start_time": "2024-12-10T15:59:29.934Z"
   },
   {
    "duration": 187,
    "start_time": "2024-12-10T16:08:09.704Z"
   },
   {
    "duration": 5,
    "start_time": "2024-12-10T16:08:12.661Z"
   },
   {
    "duration": 4,
    "start_time": "2024-12-10T16:09:15.504Z"
   },
   {
    "duration": 4,
    "start_time": "2024-12-10T16:09:18.016Z"
   },
   {
    "duration": 194,
    "start_time": "2024-12-10T16:09:18.810Z"
   },
   {
    "duration": 72,
    "start_time": "2024-12-10T16:09:22.316Z"
   },
   {
    "duration": 519481,
    "start_time": "2024-12-10T16:09:27.879Z"
   },
   {
    "duration": 229,
    "start_time": "2024-12-10T16:21:01.491Z"
   },
   {
    "duration": 3,
    "start_time": "2024-12-10T16:21:01.723Z"
   },
   {
    "duration": 8,
    "start_time": "2024-12-10T16:21:09.605Z"
   },
   {
    "duration": 515394,
    "start_time": "2024-12-10T16:22:25.752Z"
   },
   {
    "duration": 0,
    "start_time": "2024-12-10T16:40:00.593Z"
   },
   {
    "duration": 92,
    "start_time": "2024-12-10T16:40:03.706Z"
   },
   {
    "duration": 1322,
    "start_time": "2024-12-10T16:41:11.071Z"
   },
   {
    "duration": 401,
    "start_time": "2024-12-10T16:41:12.394Z"
   },
   {
    "duration": 3,
    "start_time": "2024-12-10T16:41:12.799Z"
   },
   {
    "duration": 119,
    "start_time": "2024-12-10T16:41:12.804Z"
   },
   {
    "duration": 8,
    "start_time": "2024-12-10T16:41:12.925Z"
   },
   {
    "duration": 104,
    "start_time": "2024-12-10T16:41:12.935Z"
   },
   {
    "duration": 15,
    "start_time": "2024-12-10T16:41:13.041Z"
   },
   {
    "duration": 122,
    "start_time": "2024-12-10T16:41:13.057Z"
   },
   {
    "duration": 7,
    "start_time": "2024-12-10T16:41:13.181Z"
   },
   {
    "duration": 13,
    "start_time": "2024-12-10T16:41:13.191Z"
   },
   {
    "duration": 84,
    "start_time": "2024-12-10T16:41:13.205Z"
   },
   {
    "duration": 0,
    "start_time": "2024-12-10T16:41:13.290Z"
   },
   {
    "duration": 0,
    "start_time": "2024-12-10T16:41:13.292Z"
   },
   {
    "duration": 0,
    "start_time": "2024-12-10T16:41:13.292Z"
   },
   {
    "duration": 0,
    "start_time": "2024-12-10T16:41:13.294Z"
   },
   {
    "duration": 1,
    "start_time": "2024-12-10T16:41:13.294Z"
   },
   {
    "duration": 0,
    "start_time": "2024-12-10T16:41:13.296Z"
   },
   {
    "duration": 0,
    "start_time": "2024-12-10T16:41:13.297Z"
   },
   {
    "duration": 0,
    "start_time": "2024-12-10T16:41:13.297Z"
   },
   {
    "duration": 0,
    "start_time": "2024-12-10T16:41:13.298Z"
   },
   {
    "duration": 0,
    "start_time": "2024-12-10T16:41:13.299Z"
   },
   {
    "duration": 0,
    "start_time": "2024-12-10T16:41:13.300Z"
   },
   {
    "duration": 0,
    "start_time": "2024-12-10T16:41:13.302Z"
   },
   {
    "duration": 0,
    "start_time": "2024-12-10T16:41:13.303Z"
   },
   {
    "duration": 0,
    "start_time": "2024-12-10T16:41:13.304Z"
   },
   {
    "duration": 0,
    "start_time": "2024-12-10T16:41:13.305Z"
   },
   {
    "duration": 0,
    "start_time": "2024-12-10T16:41:13.306Z"
   },
   {
    "duration": 0,
    "start_time": "2024-12-10T16:41:13.308Z"
   },
   {
    "duration": 0,
    "start_time": "2024-12-10T16:41:13.309Z"
   },
   {
    "duration": 0,
    "start_time": "2024-12-10T16:41:13.310Z"
   },
   {
    "duration": 0,
    "start_time": "2024-12-10T16:41:13.311Z"
   },
   {
    "duration": 0,
    "start_time": "2024-12-10T16:41:13.312Z"
   },
   {
    "duration": 0,
    "start_time": "2024-12-10T16:41:13.313Z"
   },
   {
    "duration": 0,
    "start_time": "2024-12-10T16:41:13.314Z"
   },
   {
    "duration": 0,
    "start_time": "2024-12-10T16:41:13.315Z"
   },
   {
    "duration": 0,
    "start_time": "2024-12-10T16:41:13.316Z"
   },
   {
    "duration": 503117,
    "start_time": "2024-12-10T16:41:49.860Z"
   },
   {
    "duration": 1343,
    "start_time": "2024-12-10T16:54:47.253Z"
   },
   {
    "duration": 398,
    "start_time": "2024-12-10T16:54:48.598Z"
   },
   {
    "duration": 3,
    "start_time": "2024-12-10T16:54:48.997Z"
   },
   {
    "duration": 130,
    "start_time": "2024-12-10T16:54:49.003Z"
   },
   {
    "duration": 8,
    "start_time": "2024-12-10T16:54:49.134Z"
   },
   {
    "duration": 108,
    "start_time": "2024-12-10T16:54:49.153Z"
   },
   {
    "duration": 7,
    "start_time": "2024-12-10T16:54:49.263Z"
   },
   {
    "duration": 107,
    "start_time": "2024-12-10T16:54:49.271Z"
   },
   {
    "duration": 7,
    "start_time": "2024-12-10T16:54:49.380Z"
   },
   {
    "duration": 21,
    "start_time": "2024-12-10T16:54:49.390Z"
   },
   {
    "duration": 492429,
    "start_time": "2024-12-10T16:54:49.413Z"
   },
   {
    "duration": 451225,
    "start_time": "2024-12-10T17:03:01.843Z"
   },
   {
    "duration": 503961,
    "start_time": "2024-12-10T17:10:33.069Z"
   },
   {
    "duration": 1484,
    "start_time": "2024-12-10T17:19:25.796Z"
   },
   {
    "duration": 400,
    "start_time": "2024-12-10T17:19:27.282Z"
   },
   {
    "duration": 4,
    "start_time": "2024-12-10T17:19:27.683Z"
   },
   {
    "duration": 116,
    "start_time": "2024-12-10T17:19:27.689Z"
   },
   {
    "duration": 8,
    "start_time": "2024-12-10T17:19:27.807Z"
   },
   {
    "duration": 107,
    "start_time": "2024-12-10T17:19:27.817Z"
   },
   {
    "duration": 6,
    "start_time": "2024-12-10T17:19:27.926Z"
   },
   {
    "duration": 99,
    "start_time": "2024-12-10T17:19:27.934Z"
   },
   {
    "duration": 23,
    "start_time": "2024-12-10T17:19:28.035Z"
   },
   {
    "duration": 23,
    "start_time": "2024-12-10T17:19:28.060Z"
   },
   {
    "duration": 510637,
    "start_time": "2024-12-10T17:19:28.085Z"
   },
   {
    "duration": 475513,
    "start_time": "2024-12-10T17:27:58.724Z"
   },
   {
    "duration": 503859,
    "start_time": "2024-12-10T17:35:54.239Z"
   },
   {
    "duration": 8,
    "start_time": "2024-12-12T17:14:55.797Z"
   },
   {
    "duration": 46,
    "start_time": "2024-12-12T17:14:57.563Z"
   },
   {
    "duration": 8,
    "start_time": "2024-12-12T17:17:13.054Z"
   },
   {
    "duration": 9,
    "start_time": "2024-12-12T17:17:40.141Z"
   },
   {
    "duration": 4,
    "start_time": "2024-12-12T17:17:49.696Z"
   },
   {
    "duration": 332,
    "start_time": "2024-12-12T17:21:46.309Z"
   },
   {
    "duration": 88,
    "start_time": "2024-12-12T17:22:07.867Z"
   },
   {
    "duration": 7,
    "start_time": "2024-12-12T17:23:25.006Z"
   },
   {
    "duration": 1664,
    "start_time": "2024-12-13T19:11:00.133Z"
   },
   {
    "duration": 678,
    "start_time": "2024-12-13T19:11:01.799Z"
   },
   {
    "duration": 4,
    "start_time": "2024-12-13T19:11:02.479Z"
   },
   {
    "duration": 150,
    "start_time": "2024-12-13T19:11:02.485Z"
   },
   {
    "duration": 10,
    "start_time": "2024-12-13T19:11:02.637Z"
   },
   {
    "duration": 121,
    "start_time": "2024-12-13T19:11:02.648Z"
   },
   {
    "duration": 7,
    "start_time": "2024-12-13T19:11:02.771Z"
   },
   {
    "duration": 118,
    "start_time": "2024-12-13T19:11:02.780Z"
   },
   {
    "duration": 8,
    "start_time": "2024-12-13T19:11:02.914Z"
   },
   {
    "duration": 33,
    "start_time": "2024-12-13T19:11:02.925Z"
   },
   {
    "duration": 504077,
    "start_time": "2024-12-13T19:11:02.959Z"
   },
   {
    "duration": 459225,
    "start_time": "2024-12-13T19:19:27.038Z"
   },
   {
    "duration": 510974,
    "start_time": "2024-12-13T19:27:06.264Z"
   },
   {
    "duration": 3,
    "start_time": "2024-12-13T19:35:37.239Z"
   },
   {
    "duration": 33,
    "start_time": "2024-12-13T19:35:37.244Z"
   },
   {
    "duration": 10,
    "start_time": "2024-12-13T19:35:37.279Z"
   },
   {
    "duration": 4,
    "start_time": "2024-12-13T19:35:37.291Z"
   },
   {
    "duration": 13,
    "start_time": "2024-12-13T19:35:37.296Z"
   },
   {
    "duration": 122,
    "start_time": "2024-12-13T19:44:52.846Z"
   },
   {
    "duration": 8,
    "start_time": "2024-12-13T20:25:16.667Z"
   },
   {
    "duration": 507919,
    "start_time": "2024-12-13T20:25:18.867Z"
   },
   {
    "duration": 11,
    "start_time": "2024-12-13T20:35:53.109Z"
   },
   {
    "duration": 10,
    "start_time": "2024-12-13T20:37:41.553Z"
   },
   {
    "duration": 10,
    "start_time": "2024-12-13T20:37:50.445Z"
   },
   {
    "duration": 9,
    "start_time": "2024-12-13T20:38:52.665Z"
   },
   {
    "duration": 18191,
    "start_time": "2024-12-13T20:39:08.003Z"
   },
   {
    "duration": 10,
    "start_time": "2024-12-13T20:42:27.127Z"
   },
   {
    "duration": 10,
    "start_time": "2024-12-13T20:42:32.771Z"
   },
   {
    "duration": 11,
    "start_time": "2024-12-13T20:42:46.746Z"
   },
   {
    "duration": 8151,
    "start_time": "2024-12-13T20:43:21.331Z"
   },
   {
    "duration": 9,
    "start_time": "2024-12-13T20:43:41.456Z"
   },
   {
    "duration": 5,
    "start_time": "2024-12-13T20:43:47.156Z"
   },
   {
    "duration": 87,
    "start_time": "2024-12-13T20:44:25.656Z"
   },
   {
    "duration": 9,
    "start_time": "2024-12-13T20:44:39.934Z"
   },
   {
    "duration": 12,
    "start_time": "2024-12-13T20:45:07.072Z"
   },
   {
    "duration": 8,
    "start_time": "2024-12-13T20:45:33.296Z"
   },
   {
    "duration": 523435,
    "start_time": "2024-12-13T20:45:36.105Z"
   },
   {
    "duration": 3,
    "start_time": "2024-12-13T20:54:43.370Z"
   },
   {
    "duration": 3,
    "start_time": "2024-12-13T20:55:03.869Z"
   },
   {
    "duration": 3,
    "start_time": "2024-12-13T20:55:12.321Z"
   },
   {
    "duration": 2,
    "start_time": "2024-12-13T20:56:12.623Z"
   },
   {
    "duration": 8,
    "start_time": "2024-12-13T20:57:09.031Z"
   },
   {
    "duration": 520823,
    "start_time": "2024-12-13T20:57:11.931Z"
   },
   {
    "duration": 3,
    "start_time": "2024-12-13T21:05:59.538Z"
   },
   {
    "duration": 3,
    "start_time": "2024-12-13T21:06:00.543Z"
   },
   {
    "duration": 7,
    "start_time": "2024-12-13T21:06:02.253Z"
   },
   {
    "duration": 8,
    "start_time": "2024-12-13T21:07:23.679Z"
   },
   {
    "duration": 1509,
    "start_time": "2024-12-13T21:08:46.894Z"
   },
   {
    "duration": 432,
    "start_time": "2024-12-13T21:08:48.404Z"
   },
   {
    "duration": 4,
    "start_time": "2024-12-13T21:08:48.837Z"
   },
   {
    "duration": 153,
    "start_time": "2024-12-13T21:08:48.842Z"
   },
   {
    "duration": 8,
    "start_time": "2024-12-13T21:08:48.997Z"
   },
   {
    "duration": 128,
    "start_time": "2024-12-13T21:08:49.006Z"
   },
   {
    "duration": 8,
    "start_time": "2024-12-13T21:08:49.135Z"
   },
   {
    "duration": 121,
    "start_time": "2024-12-13T21:08:49.145Z"
   },
   {
    "duration": 7,
    "start_time": "2024-12-13T21:08:49.268Z"
   },
   {
    "duration": 8,
    "start_time": "2024-12-13T21:08:49.276Z"
   },
   {
    "duration": 533107,
    "start_time": "2024-12-13T21:08:49.286Z"
   },
   {
    "duration": 2,
    "start_time": "2024-12-13T21:17:42.395Z"
   },
   {
    "duration": 474137,
    "start_time": "2024-12-13T21:17:42.399Z"
   },
   {
    "duration": 6,
    "start_time": "2024-12-13T21:25:36.539Z"
   },
   {
    "duration": 528054,
    "start_time": "2024-12-13T21:25:36.548Z"
   },
   {
    "duration": 12,
    "start_time": "2024-12-13T21:34:24.604Z"
   },
   {
    "duration": 8,
    "start_time": "2024-12-13T21:34:24.618Z"
   },
   {
    "duration": 15,
    "start_time": "2024-12-13T21:34:24.628Z"
   },
   {
    "duration": 36,
    "start_time": "2024-12-13T21:34:24.645Z"
   },
   {
    "duration": 3,
    "start_time": "2024-12-13T21:34:24.683Z"
   },
   {
    "duration": 137,
    "start_time": "2024-12-13T21:34:24.687Z"
   },
   {
    "duration": 9,
    "start_time": "2024-12-13T21:41:26.358Z"
   },
   {
    "duration": 4,
    "start_time": "2024-12-13T21:43:58.521Z"
   },
   {
    "duration": 3,
    "start_time": "2024-12-13T21:44:34.440Z"
   },
   {
    "duration": 11,
    "start_time": "2024-12-13T21:44:38.344Z"
   },
   {
    "duration": 1375,
    "start_time": "2024-12-13T21:45:02.028Z"
   },
   {
    "duration": 418,
    "start_time": "2024-12-13T21:45:03.405Z"
   },
   {
    "duration": 3,
    "start_time": "2024-12-13T21:45:03.824Z"
   },
   {
    "duration": 125,
    "start_time": "2024-12-13T21:45:03.829Z"
   },
   {
    "duration": 9,
    "start_time": "2024-12-13T21:45:03.956Z"
   },
   {
    "duration": 137,
    "start_time": "2024-12-13T21:45:03.967Z"
   },
   {
    "duration": 7,
    "start_time": "2024-12-13T21:45:04.115Z"
   },
   {
    "duration": 113,
    "start_time": "2024-12-13T21:45:04.124Z"
   },
   {
    "duration": 7,
    "start_time": "2024-12-13T21:45:04.239Z"
   },
   {
    "duration": 59,
    "start_time": "2024-12-13T21:45:04.249Z"
   },
   {
    "duration": 519169,
    "start_time": "2024-12-13T21:45:04.311Z"
   },
   {
    "duration": 3,
    "start_time": "2024-12-13T21:53:43.482Z"
   },
   {
    "duration": 473870,
    "start_time": "2024-12-13T21:53:43.487Z"
   },
   {
    "duration": 3,
    "start_time": "2024-12-13T22:01:37.358Z"
   },
   {
    "duration": 513722,
    "start_time": "2024-12-13T22:01:37.363Z"
   },
   {
    "duration": 3,
    "start_time": "2024-12-13T22:10:11.087Z"
   },
   {
    "duration": 27,
    "start_time": "2024-12-13T22:10:11.092Z"
   },
   {
    "duration": 20,
    "start_time": "2024-12-13T22:10:11.121Z"
   },
   {
    "duration": 13,
    "start_time": "2024-12-13T22:10:11.144Z"
   },
   {
    "duration": 4,
    "start_time": "2024-12-13T22:10:11.159Z"
   },
   {
    "duration": 9,
    "start_time": "2024-12-13T22:10:11.165Z"
   },
   {
    "duration": 6,
    "start_time": "2024-12-13T22:10:11.175Z"
   },
   {
    "duration": 33,
    "start_time": "2024-12-13T22:10:11.183Z"
   },
   {
    "duration": 118,
    "start_time": "2024-12-13T22:10:11.218Z"
   },
   {
    "duration": 1439,
    "start_time": "2024-12-13T22:16:25.294Z"
   },
   {
    "duration": 0,
    "start_time": "2024-12-13T22:16:26.734Z"
   },
   {
    "duration": 4,
    "start_time": "2024-12-13T22:16:49.073Z"
   },
   {
    "duration": 12,
    "start_time": "2024-12-13T22:16:51.679Z"
   },
   {
    "duration": 4,
    "start_time": "2024-12-13T22:17:13.580Z"
   },
   {
    "duration": 11,
    "start_time": "2024-12-13T22:17:14.165Z"
   },
   {
    "duration": 4,
    "start_time": "2024-12-13T22:17:14.350Z"
   },
   {
    "duration": 10,
    "start_time": "2024-12-13T22:17:14.535Z"
   },
   {
    "duration": 4,
    "start_time": "2024-12-13T22:17:14.751Z"
   },
   {
    "duration": 11,
    "start_time": "2024-12-13T22:17:15.520Z"
   },
   {
    "duration": 14,
    "start_time": "2024-12-13T22:19:09.084Z"
   },
   {
    "duration": 3,
    "start_time": "2024-12-13T22:19:14.600Z"
   },
   {
    "duration": 16,
    "start_time": "2024-12-13T22:19:18.751Z"
   },
   {
    "duration": 15,
    "start_time": "2024-12-13T22:19:53.562Z"
   },
   {
    "duration": 17,
    "start_time": "2024-12-13T22:20:26.171Z"
   },
   {
    "duration": 18,
    "start_time": "2024-12-13T22:21:31.634Z"
   },
   {
    "duration": 18,
    "start_time": "2024-12-13T22:21:56.684Z"
   },
   {
    "duration": 23,
    "start_time": "2024-12-13T22:22:33.374Z"
   },
   {
    "duration": 3,
    "start_time": "2024-12-13T22:25:24.505Z"
   },
   {
    "duration": 22,
    "start_time": "2024-12-13T22:25:28.288Z"
   },
   {
    "duration": 4,
    "start_time": "2024-12-13T22:26:15.126Z"
   },
   {
    "duration": 2719,
    "start_time": "2024-12-13T22:26:18.779Z"
   },
   {
    "duration": 12,
    "start_time": "2024-12-13T22:31:31.886Z"
   },
   {
    "duration": 187,
    "start_time": "2024-12-13T22:31:50.116Z"
   },
   {
    "duration": 11,
    "start_time": "2024-12-13T22:46:07.339Z"
   },
   {
    "duration": 4,
    "start_time": "2024-12-13T22:46:18.343Z"
   },
   {
    "duration": 96,
    "start_time": "2024-12-13T22:46:49.564Z"
   },
   {
    "duration": 9,
    "start_time": "2024-12-13T22:46:56.947Z"
   },
   {
    "duration": 6,
    "start_time": "2024-12-13T22:47:11.293Z"
   },
   {
    "duration": 2479,
    "start_time": "2024-12-13T22:48:43.661Z"
   },
   {
    "duration": 171,
    "start_time": "2024-12-13T22:48:47.773Z"
   },
   {
    "duration": 1408,
    "start_time": "2024-12-13T22:49:07.749Z"
   },
   {
    "duration": 408,
    "start_time": "2024-12-13T22:49:09.159Z"
   },
   {
    "duration": 3,
    "start_time": "2024-12-13T22:49:09.568Z"
   },
   {
    "duration": 114,
    "start_time": "2024-12-13T22:49:09.573Z"
   },
   {
    "duration": 9,
    "start_time": "2024-12-13T22:49:09.689Z"
   },
   {
    "duration": 117,
    "start_time": "2024-12-13T22:49:09.700Z"
   },
   {
    "duration": 7,
    "start_time": "2024-12-13T22:49:09.818Z"
   },
   {
    "duration": 121,
    "start_time": "2024-12-13T22:49:09.826Z"
   },
   {
    "duration": 8,
    "start_time": "2024-12-13T22:49:09.948Z"
   },
   {
    "duration": 8,
    "start_time": "2024-12-13T22:49:09.959Z"
   },
   {
    "duration": 493076,
    "start_time": "2024-12-13T22:49:09.969Z"
   },
   {
    "duration": 3,
    "start_time": "2024-12-13T22:57:23.047Z"
   },
   {
    "duration": 451452,
    "start_time": "2024-12-13T22:57:23.051Z"
   },
   {
    "duration": 11,
    "start_time": "2024-12-13T23:04:54.504Z"
   },
   {
    "duration": 522169,
    "start_time": "2024-12-13T23:04:54.516Z"
   },
   {
    "duration": 2,
    "start_time": "2024-12-13T23:13:36.687Z"
   },
   {
    "duration": 13,
    "start_time": "2024-12-13T23:13:36.691Z"
   },
   {
    "duration": 16,
    "start_time": "2024-12-13T23:13:36.706Z"
   },
   {
    "duration": 4,
    "start_time": "2024-12-13T23:13:36.723Z"
   },
   {
    "duration": 15,
    "start_time": "2024-12-13T23:13:36.729Z"
   },
   {
    "duration": 18,
    "start_time": "2024-12-13T23:13:36.745Z"
   },
   {
    "duration": 22,
    "start_time": "2024-12-13T23:13:36.764Z"
   },
   {
    "duration": 3,
    "start_time": "2024-12-13T23:13:36.788Z"
   },
   {
    "duration": 6,
    "start_time": "2024-12-13T23:13:36.792Z"
   },
   {
    "duration": 9,
    "start_time": "2024-12-13T23:13:36.799Z"
   },
   {
    "duration": 6,
    "start_time": "2024-12-13T23:13:36.809Z"
   },
   {
    "duration": 2423,
    "start_time": "2024-12-13T23:13:36.817Z"
   },
   {
    "duration": 182,
    "start_time": "2024-12-13T23:13:39.243Z"
   },
   {
    "duration": 4,
    "start_time": "2024-12-13T23:13:39.427Z"
   },
   {
    "duration": 64,
    "start_time": "2024-12-13T23:13:39.432Z"
   },
   {
    "duration": 11,
    "start_time": "2024-12-13T23:26:44.359Z"
   },
   {
    "duration": 6,
    "start_time": "2024-12-13T23:27:05.082Z"
   },
   {
    "duration": 11,
    "start_time": "2024-12-13T23:27:08.254Z"
   },
   {
    "duration": 6,
    "start_time": "2024-12-13T23:27:08.997Z"
   },
   {
    "duration": 4,
    "start_time": "2024-12-13T23:30:19.427Z"
   },
   {
    "duration": 136,
    "start_time": "2024-12-13T23:30:20.003Z"
   },
   {
    "duration": 2696,
    "start_time": "2024-12-13T23:30:33.023Z"
   },
   {
    "duration": 224,
    "start_time": "2024-12-13T23:30:37.727Z"
   },
   {
    "duration": 3,
    "start_time": "2024-12-13T23:31:04.115Z"
   },
   {
    "duration": 2723,
    "start_time": "2024-12-13T23:31:05.361Z"
   },
   {
    "duration": 272,
    "start_time": "2024-12-13T23:31:12.571Z"
   },
   {
    "duration": 4,
    "start_time": "2024-12-13T23:31:34.781Z"
   },
   {
    "duration": 4,
    "start_time": "2024-12-13T23:31:37.076Z"
   },
   {
    "duration": 5,
    "start_time": "2024-12-13T23:31:37.815Z"
   },
   {
    "duration": 4,
    "start_time": "2024-12-13T23:31:38.627Z"
   },
   {
    "duration": 2512,
    "start_time": "2024-12-13T23:31:40.819Z"
   },
   {
    "duration": 2568,
    "start_time": "2024-12-13T23:31:56.420Z"
   },
   {
    "duration": 224,
    "start_time": "2024-12-13T23:31:59.000Z"
   },
   {
    "duration": 5,
    "start_time": "2024-12-13T23:32:03.116Z"
   },
   {
    "duration": 6,
    "start_time": "2024-12-13T23:32:04.599Z"
   },
   {
    "duration": 3,
    "start_time": "2024-12-13T23:33:06.110Z"
   },
   {
    "duration": 4,
    "start_time": "2024-12-13T23:33:06.478Z"
   },
   {
    "duration": 5,
    "start_time": "2024-12-13T23:33:07.240Z"
   },
   {
    "duration": 3,
    "start_time": "2024-12-13T23:33:07.581Z"
   },
   {
    "duration": 2241,
    "start_time": "2024-12-13T23:33:10.226Z"
   },
   {
    "duration": 190,
    "start_time": "2024-12-13T23:33:14.003Z"
   },
   {
    "duration": 3,
    "start_time": "2024-12-13T23:36:41.973Z"
   },
   {
    "duration": 4,
    "start_time": "2024-12-13T23:36:43.124Z"
   },
   {
    "duration": 6,
    "start_time": "2024-12-13T23:36:43.763Z"
   },
   {
    "duration": 3,
    "start_time": "2024-12-13T23:36:44.876Z"
   },
   {
    "duration": 2190,
    "start_time": "2024-12-13T23:36:47.739Z"
   },
   {
    "duration": 185,
    "start_time": "2024-12-13T23:36:52.155Z"
   },
   {
    "duration": 3,
    "start_time": "2024-12-13T23:37:45.673Z"
   },
   {
    "duration": 4,
    "start_time": "2024-12-13T23:37:46.063Z"
   },
   {
    "duration": 5,
    "start_time": "2024-12-13T23:37:46.282Z"
   },
   {
    "duration": 3,
    "start_time": "2024-12-13T23:37:48.545Z"
   },
   {
    "duration": 2204,
    "start_time": "2024-12-13T23:37:49.588Z"
   },
   {
    "duration": 190,
    "start_time": "2024-12-13T23:37:53.025Z"
   },
   {
    "duration": 5,
    "start_time": "2024-12-13T23:39:15.443Z"
   },
   {
    "duration": 5,
    "start_time": "2024-12-13T23:39:26.869Z"
   },
   {
    "duration": 286,
    "start_time": "2024-12-13T23:42:20.723Z"
   },
   {
    "duration": 4,
    "start_time": "2024-12-13T23:43:34.537Z"
   },
   {
    "duration": 9,
    "start_time": "2024-12-13T23:43:35.419Z"
   },
   {
    "duration": 5,
    "start_time": "2024-12-13T23:43:51.308Z"
   },
   {
    "duration": 2446,
    "start_time": "2024-12-13T23:46:26.161Z"
   },
   {
    "duration": 232,
    "start_time": "2024-12-13T23:46:29.929Z"
   },
   {
    "duration": 4,
    "start_time": "2024-12-13T23:46:40.503Z"
   },
   {
    "duration": 7,
    "start_time": "2024-12-13T23:46:40.694Z"
   },
   {
    "duration": 2647,
    "start_time": "2024-12-13T23:46:41.101Z"
   },
   {
    "duration": 124,
    "start_time": "2024-12-13T23:46:53.944Z"
   },
   {
    "duration": 187,
    "start_time": "2024-12-13T23:47:02.920Z"
   },
   {
    "duration": 249,
    "start_time": "2024-12-13T23:47:16.483Z"
   },
   {
    "duration": 208,
    "start_time": "2024-12-13T23:47:38.532Z"
   },
   {
    "duration": 2599,
    "start_time": "2024-12-13T23:48:11.406Z"
   },
   {
    "duration": 173,
    "start_time": "2024-12-13T23:48:16.076Z"
   },
   {
    "duration": 179,
    "start_time": "2024-12-13T23:48:53.768Z"
   },
   {
    "duration": 193,
    "start_time": "2024-12-13T23:50:44.676Z"
   },
   {
    "duration": 2752,
    "start_time": "2024-12-13T23:50:56.395Z"
   },
   {
    "duration": 214,
    "start_time": "2024-12-13T23:51:03.715Z"
   },
   {
    "duration": 5,
    "start_time": "2024-12-13T23:51:07.732Z"
   },
   {
    "duration": 9,
    "start_time": "2024-12-13T23:51:08.608Z"
   },
   {
    "duration": 2521,
    "start_time": "2024-12-13T23:51:11.856Z"
   },
   {
    "duration": 178,
    "start_time": "2024-12-13T23:51:15.227Z"
   },
   {
    "duration": 2633,
    "start_time": "2024-12-13T23:51:27.574Z"
   },
   {
    "duration": 204,
    "start_time": "2024-12-13T23:51:31.591Z"
   },
   {
    "duration": 5,
    "start_time": "2024-12-13T23:51:40.496Z"
   },
   {
    "duration": 6,
    "start_time": "2024-12-13T23:51:41.369Z"
   },
   {
    "duration": 5,
    "start_time": "2024-12-13T23:52:02.158Z"
   },
   {
    "duration": 5,
    "start_time": "2024-12-13T23:52:03.193Z"
   },
   {
    "duration": 4,
    "start_time": "2024-12-13T23:57:26.633Z"
   },
   {
    "duration": 5,
    "start_time": "2024-12-13T23:57:48.297Z"
   },
   {
    "duration": 4,
    "start_time": "2024-12-13T23:57:49.158Z"
   },
   {
    "duration": 4,
    "start_time": "2024-12-13T23:58:11.163Z"
   },
   {
    "duration": 4,
    "start_time": "2024-12-13T23:58:23.448Z"
   },
   {
    "duration": 2440,
    "start_time": "2024-12-13T23:58:29.135Z"
   },
   {
    "duration": 186,
    "start_time": "2024-12-13T23:58:32.432Z"
   },
   {
    "duration": 7,
    "start_time": "2024-12-13T23:58:44.989Z"
   },
   {
    "duration": 4,
    "start_time": "2024-12-13T23:58:48.965Z"
   },
   {
    "duration": 1415,
    "start_time": "2024-12-14T00:09:19.036Z"
   },
   {
    "duration": 447,
    "start_time": "2024-12-14T00:09:20.453Z"
   },
   {
    "duration": 3,
    "start_time": "2024-12-14T00:09:20.901Z"
   },
   {
    "duration": 125,
    "start_time": "2024-12-14T00:09:20.906Z"
   },
   {
    "duration": 9,
    "start_time": "2024-12-14T00:09:21.033Z"
   },
   {
    "duration": 114,
    "start_time": "2024-12-14T00:09:21.043Z"
   },
   {
    "duration": 7,
    "start_time": "2024-12-14T00:09:21.159Z"
   },
   {
    "duration": 116,
    "start_time": "2024-12-14T00:09:21.167Z"
   },
   {
    "duration": 8,
    "start_time": "2024-12-14T00:09:21.284Z"
   },
   {
    "duration": 39,
    "start_time": "2024-12-14T00:09:21.294Z"
   },
   {
    "duration": 531391,
    "start_time": "2024-12-14T00:09:21.335Z"
   },
   {
    "duration": 7,
    "start_time": "2024-12-14T00:18:12.728Z"
   },
   {
    "duration": 489295,
    "start_time": "2024-12-14T00:18:12.737Z"
   },
   {
    "duration": 6,
    "start_time": "2024-12-14T00:26:22.036Z"
   },
   {
    "duration": 545510,
    "start_time": "2024-12-14T00:26:22.044Z"
   },
   {
    "duration": 3,
    "start_time": "2024-12-14T00:35:27.555Z"
   },
   {
    "duration": 25,
    "start_time": "2024-12-14T00:35:27.559Z"
   },
   {
    "duration": 35,
    "start_time": "2024-12-14T00:35:27.585Z"
   },
   {
    "duration": 5,
    "start_time": "2024-12-14T00:35:27.622Z"
   },
   {
    "duration": 15,
    "start_time": "2024-12-14T00:35:27.629Z"
   },
   {
    "duration": 5,
    "start_time": "2024-12-14T00:35:27.646Z"
   },
   {
    "duration": 26,
    "start_time": "2024-12-14T00:35:27.653Z"
   },
   {
    "duration": 22,
    "start_time": "2024-12-14T00:35:27.681Z"
   },
   {
    "duration": 6,
    "start_time": "2024-12-14T00:35:27.705Z"
   },
   {
    "duration": 24,
    "start_time": "2024-12-14T00:35:27.712Z"
   },
   {
    "duration": 3,
    "start_time": "2024-12-14T00:35:27.740Z"
   },
   {
    "duration": 132,
    "start_time": "2024-12-14T00:35:27.744Z"
   },
   {
    "duration": 0,
    "start_time": "2024-12-14T00:35:27.878Z"
   },
   {
    "duration": 0,
    "start_time": "2024-12-14T00:35:27.879Z"
   },
   {
    "duration": 0,
    "start_time": "2024-12-14T00:35:27.881Z"
   },
   {
    "duration": 0,
    "start_time": "2024-12-14T00:35:27.881Z"
   },
   {
    "duration": 0,
    "start_time": "2024-12-14T00:35:27.883Z"
   },
   {
    "duration": 0,
    "start_time": "2024-12-14T00:35:27.884Z"
   },
   {
    "duration": 0,
    "start_time": "2024-12-14T00:35:27.885Z"
   },
   {
    "duration": 0,
    "start_time": "2024-12-14T00:35:27.886Z"
   },
   {
    "duration": 0,
    "start_time": "2024-12-14T00:35:27.887Z"
   },
   {
    "duration": 0,
    "start_time": "2024-12-14T00:35:27.889Z"
   },
   {
    "duration": 0,
    "start_time": "2024-12-14T00:35:27.890Z"
   },
   {
    "duration": 0,
    "start_time": "2024-12-14T00:35:27.891Z"
   },
   {
    "duration": 0,
    "start_time": "2024-12-14T00:35:27.893Z"
   },
   {
    "duration": 0,
    "start_time": "2024-12-14T00:35:27.894Z"
   },
   {
    "duration": 16,
    "start_time": "2024-12-14T00:38:55.260Z"
   },
   {
    "duration": 2253,
    "start_time": "2024-12-14T00:39:18.810Z"
   },
   {
    "duration": 2420,
    "start_time": "2024-12-14T00:47:08.784Z"
   },
   {
    "duration": 212,
    "start_time": "2024-12-14T00:47:12.295Z"
   },
   {
    "duration": 4,
    "start_time": "2024-12-14T00:47:14.235Z"
   },
   {
    "duration": 4,
    "start_time": "2024-12-14T00:47:14.858Z"
   },
   {
    "duration": 6,
    "start_time": "2024-12-14T00:47:15.348Z"
   },
   {
    "duration": 2358,
    "start_time": "2024-12-14T00:47:16.590Z"
   },
   {
    "duration": 187,
    "start_time": "2024-12-14T00:47:18.950Z"
   },
   {
    "duration": 8,
    "start_time": "2024-12-14T00:50:52.210Z"
   },
   {
    "duration": 4,
    "start_time": "2024-12-14T00:50:53.231Z"
   },
   {
    "duration": 5,
    "start_time": "2024-12-14T00:50:53.679Z"
   },
   {
    "duration": 2409,
    "start_time": "2024-12-14T00:50:54.860Z"
   },
   {
    "duration": 192,
    "start_time": "2024-12-14T00:50:57.271Z"
   },
   {
    "duration": 4,
    "start_time": "2024-12-14T00:50:57.465Z"
   },
   {
    "duration": 5,
    "start_time": "2024-12-14T00:50:57.471Z"
   },
   {
    "duration": 6,
    "start_time": "2024-12-14T00:50:57.478Z"
   },
   {
    "duration": 101,
    "start_time": "2024-12-14T10:54:54.091Z"
   },
   {
    "duration": 97,
    "start_time": "2024-12-14T10:55:47.659Z"
   },
   {
    "duration": 1703,
    "start_time": "2024-12-14T11:11:54.089Z"
   },
   {
    "duration": 4,
    "start_time": "2024-12-14T11:11:55.795Z"
   },
   {
    "duration": 703,
    "start_time": "2024-12-14T11:11:55.801Z"
   },
   {
    "duration": 4,
    "start_time": "2024-12-14T11:11:56.506Z"
   },
   {
    "duration": 134,
    "start_time": "2024-12-14T11:11:56.511Z"
   },
   {
    "duration": 8,
    "start_time": "2024-12-14T11:11:56.646Z"
   },
   {
    "duration": 127,
    "start_time": "2024-12-14T11:11:56.656Z"
   },
   {
    "duration": 6,
    "start_time": "2024-12-14T11:11:56.785Z"
   },
   {
    "duration": 118,
    "start_time": "2024-12-14T11:11:56.792Z"
   },
   {
    "duration": 18,
    "start_time": "2024-12-14T11:11:56.913Z"
   },
   {
    "duration": 13,
    "start_time": "2024-12-14T11:11:56.933Z"
   },
   {
    "duration": 529297,
    "start_time": "2024-12-14T11:11:56.948Z"
   },
   {
    "duration": 3,
    "start_time": "2024-12-14T11:20:46.247Z"
   },
   {
    "duration": 492984,
    "start_time": "2024-12-14T11:20:46.252Z"
   },
   {
    "duration": 3,
    "start_time": "2024-12-14T11:28:59.238Z"
   },
   {
    "duration": 533190,
    "start_time": "2024-12-14T11:28:59.243Z"
   },
   {
    "duration": 3,
    "start_time": "2024-12-14T11:37:52.434Z"
   },
   {
    "duration": 13,
    "start_time": "2024-12-14T11:37:52.439Z"
   },
   {
    "duration": 25,
    "start_time": "2024-12-14T11:37:52.454Z"
   },
   {
    "duration": 7,
    "start_time": "2024-12-14T11:37:52.481Z"
   },
   {
    "duration": 28,
    "start_time": "2024-12-14T11:37:52.490Z"
   },
   {
    "duration": 29,
    "start_time": "2024-12-14T11:37:52.519Z"
   },
   {
    "duration": 28,
    "start_time": "2024-12-14T11:37:52.550Z"
   },
   {
    "duration": 4,
    "start_time": "2024-12-14T11:37:52.579Z"
   },
   {
    "duration": 5,
    "start_time": "2024-12-14T11:37:52.585Z"
   },
   {
    "duration": 4,
    "start_time": "2024-12-14T11:37:52.591Z"
   },
   {
    "duration": 2258,
    "start_time": "2024-12-14T11:37:52.596Z"
   },
   {
    "duration": 202,
    "start_time": "2024-12-14T11:37:54.857Z"
   },
   {
    "duration": 5,
    "start_time": "2024-12-14T11:37:55.060Z"
   },
   {
    "duration": 16,
    "start_time": "2024-12-14T11:37:55.066Z"
   },
   {
    "duration": 11,
    "start_time": "2024-12-14T11:37:55.084Z"
   },
   {
    "duration": 2339,
    "start_time": "2024-12-14T11:37:55.097Z"
   },
   {
    "duration": 206,
    "start_time": "2024-12-14T11:37:57.438Z"
   },
   {
    "duration": 7,
    "start_time": "2024-12-14T11:37:57.647Z"
   },
   {
    "duration": 13,
    "start_time": "2024-12-14T11:37:57.655Z"
   },
   {
    "duration": 12,
    "start_time": "2024-12-14T11:37:57.670Z"
   },
   {
    "duration": 2292,
    "start_time": "2024-12-14T11:37:57.684Z"
   },
   {
    "duration": 201,
    "start_time": "2024-12-14T11:37:59.977Z"
   },
   {
    "duration": 5,
    "start_time": "2024-12-14T11:38:00.180Z"
   },
   {
    "duration": 25,
    "start_time": "2024-12-14T11:38:00.187Z"
   },
   {
    "duration": 29,
    "start_time": "2024-12-14T11:38:00.214Z"
   },
   {
    "duration": 11,
    "start_time": "2024-12-14T14:03:42.106Z"
   },
   {
    "duration": 1520,
    "start_time": "2024-12-14T14:04:59.321Z"
   },
   {
    "duration": 3,
    "start_time": "2024-12-14T14:05:00.843Z"
   },
   {
    "duration": 1652,
    "start_time": "2024-12-14T14:05:00.847Z"
   },
   {
    "duration": 3,
    "start_time": "2024-12-14T14:05:02.501Z"
   },
   {
    "duration": 153,
    "start_time": "2024-12-14T14:05:02.506Z"
   },
   {
    "duration": 8,
    "start_time": "2024-12-14T14:05:02.660Z"
   },
   {
    "duration": 124,
    "start_time": "2024-12-14T14:05:02.670Z"
   },
   {
    "duration": 6,
    "start_time": "2024-12-14T14:05:02.796Z"
   },
   {
    "duration": 94,
    "start_time": "2024-12-14T14:05:02.803Z"
   },
   {
    "duration": 6,
    "start_time": "2024-12-14T14:05:02.900Z"
   },
   {
    "duration": 34,
    "start_time": "2024-12-14T14:05:02.908Z"
   },
   {
    "duration": 246,
    "start_time": "2024-12-14T14:05:02.944Z"
   },
   {
    "duration": 62,
    "start_time": "2024-12-14T14:05:03.192Z"
   },
   {
    "duration": 298,
    "start_time": "2024-12-14T14:05:03.256Z"
   },
   {
    "duration": 5,
    "start_time": "2024-12-14T14:05:03.556Z"
   },
   {
    "duration": 303,
    "start_time": "2024-12-14T14:05:03.654Z"
   },
   {
    "duration": 3,
    "start_time": "2024-12-14T14:05:03.959Z"
   },
   {
    "duration": 95,
    "start_time": "2024-12-14T14:05:03.963Z"
   },
   {
    "duration": 99,
    "start_time": "2024-12-14T14:05:04.060Z"
   },
   {
    "duration": 4,
    "start_time": "2024-12-14T14:05:04.160Z"
   },
   {
    "duration": 21,
    "start_time": "2024-12-14T14:05:04.165Z"
   },
   {
    "duration": 14,
    "start_time": "2024-12-14T14:05:04.187Z"
   },
   {
    "duration": 15,
    "start_time": "2024-12-14T14:05:04.203Z"
   },
   {
    "duration": 3,
    "start_time": "2024-12-14T14:05:04.220Z"
   },
   {
    "duration": 16,
    "start_time": "2024-12-14T14:05:04.225Z"
   },
   {
    "duration": 8,
    "start_time": "2024-12-14T14:05:04.242Z"
   },
   {
    "duration": 1939,
    "start_time": "2024-12-14T14:05:04.251Z"
   },
   {
    "duration": 177,
    "start_time": "2024-12-14T14:05:06.193Z"
   },
   {
    "duration": 5,
    "start_time": "2024-12-14T14:05:06.371Z"
   },
   {
    "duration": 51,
    "start_time": "2024-12-14T14:05:06.377Z"
   },
   {
    "duration": 7,
    "start_time": "2024-12-14T14:05:06.429Z"
   },
   {
    "duration": 1946,
    "start_time": "2024-12-14T14:05:06.438Z"
   },
   {
    "duration": 169,
    "start_time": "2024-12-14T14:05:08.386Z"
   },
   {
    "duration": 4,
    "start_time": "2024-12-14T14:05:08.556Z"
   },
   {
    "duration": 40,
    "start_time": "2024-12-14T14:05:08.561Z"
   },
   {
    "duration": 52,
    "start_time": "2024-12-14T14:05:08.603Z"
   },
   {
    "duration": 1984,
    "start_time": "2024-12-14T14:05:08.657Z"
   },
   {
    "duration": 173,
    "start_time": "2024-12-14T14:05:10.642Z"
   },
   {
    "duration": 4,
    "start_time": "2024-12-14T14:05:10.817Z"
   },
   {
    "duration": 17,
    "start_time": "2024-12-14T14:05:10.822Z"
   },
   {
    "duration": 7,
    "start_time": "2024-12-14T14:05:10.841Z"
   },
   {
    "duration": 5,
    "start_time": "2024-12-14T14:20:22.465Z"
   },
   {
    "duration": 11,
    "start_time": "2024-12-14T14:20:27.504Z"
   },
   {
    "duration": 4,
    "start_time": "2024-12-14T14:20:27.683Z"
   },
   {
    "duration": 10,
    "start_time": "2024-12-14T14:20:27.903Z"
   },
   {
    "duration": 4,
    "start_time": "2024-12-14T14:20:29.125Z"
   },
   {
    "duration": 10,
    "start_time": "2024-12-14T14:20:29.282Z"
   },
   {
    "duration": 4,
    "start_time": "2024-12-14T14:20:30.802Z"
   },
   {
    "duration": 6,
    "start_time": "2024-12-14T14:20:31.023Z"
   },
   {
    "duration": 3,
    "start_time": "2024-12-14T14:20:32.482Z"
   },
   {
    "duration": 1945,
    "start_time": "2024-12-14T14:20:41.134Z"
   },
   {
    "duration": 195,
    "start_time": "2024-12-14T14:20:43.080Z"
   },
   {
    "duration": 4,
    "start_time": "2024-12-14T14:20:47.023Z"
   },
   {
    "duration": 3,
    "start_time": "2024-12-14T14:20:50.794Z"
   },
   {
    "duration": 5,
    "start_time": "2024-12-14T14:20:51.388Z"
   },
   {
    "duration": 1971,
    "start_time": "2024-12-14T14:20:53.877Z"
   },
   {
    "duration": 175,
    "start_time": "2024-12-14T14:20:55.853Z"
   },
   {
    "duration": 3,
    "start_time": "2024-12-14T14:20:56.030Z"
   },
   {
    "duration": 38,
    "start_time": "2024-12-14T14:20:56.035Z"
   },
   {
    "duration": 28,
    "start_time": "2024-12-14T14:20:56.075Z"
   },
   {
    "duration": 2008,
    "start_time": "2024-12-14T14:20:56.104Z"
   },
   {
    "duration": 196,
    "start_time": "2024-12-14T14:20:58.114Z"
   },
   {
    "duration": 4,
    "start_time": "2024-12-14T14:20:58.312Z"
   },
   {
    "duration": 26,
    "start_time": "2024-12-14T14:20:58.318Z"
   },
   {
    "duration": 14,
    "start_time": "2024-12-14T14:20:58.346Z"
   },
   {
    "duration": 43,
    "start_time": "2024-12-14T14:23:37.397Z"
   },
   {
    "duration": 39,
    "start_time": "2024-12-14T14:26:18.549Z"
   }
  ],
  "kernelspec": {
   "display_name": "Python 3 (ipykernel)",
   "language": "python",
   "name": "python3"
  },
  "language_info": {
   "codemirror_mode": {
    "name": "ipython",
    "version": 3
   },
   "file_extension": ".py",
   "mimetype": "text/x-python",
   "name": "python",
   "nbconvert_exporter": "python",
   "pygments_lexer": "ipython3",
   "version": "3.9.5"
  },
  "toc": {
   "base_numbering": 1,
   "nav_menu": {},
   "number_sections": false,
   "sideBar": true,
   "skip_h1_title": true,
   "title_cell": "Table of Contents",
   "title_sidebar": "Contents",
   "toc_cell": false,
   "toc_position": {
    "height": "calc(100% - 180px)",
    "left": "10px",
    "top": "150px",
    "width": "227px"
   },
   "toc_section_display": true,
   "toc_window_display": true
  }
 },
 "nbformat": 4,
 "nbformat_minor": 2
}
