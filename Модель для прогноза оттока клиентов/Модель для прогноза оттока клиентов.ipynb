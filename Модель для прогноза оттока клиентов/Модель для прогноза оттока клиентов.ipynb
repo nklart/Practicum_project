{
 "cells": [
  {
   "cell_type": "markdown",
   "id": "033c7704",
   "metadata": {
    "toc": true
   },
   "source": [
    "<h1>Table of Contents<span class=\"tocSkip\"></span></h1>\n",
    "<div class=\"toc\"><ul class=\"toc-item\"><li><span><a href=\"#Описание-проекта:-телекоммуникации\" data-toc-modified-id=\"Описание-проекта:-телекоммуникации-1\">Описание проекта: телекоммуникации</a></span></li><li><span><a href=\"#Описание-услуг\" data-toc-modified-id=\"Описание-услуг-2\">Описание услуг</a></span></li><li><span><a href=\"#Описание-данных\" data-toc-modified-id=\"Описание-данных-3\">Описание данных</a></span><ul class=\"toc-item\"><li><span><a href=\"#Файл-contract_new.csv\" data-toc-modified-id=\"Файл-contract_new.csv-3.1\">Файл <em>contract_new.csv</em></a></span></li><li><span><a href=\"#Файл-personal_new.csv\" data-toc-modified-id=\"Файл-personal_new.csv-3.2\">Файл <em>personal_new.csv</em></a></span></li><li><span><a href=\"#Файл-internet_new.csv\" data-toc-modified-id=\"Файл-internet_new.csv-3.3\">Файл <em>internet_new.csv</em></a></span></li><li><span><a href=\"#Файл-phone_new.csv\" data-toc-modified-id=\"Файл-phone_new.csv-3.4\">Файл <em>phone_new.csv</em></a></span></li></ul></li><li><span><a href=\"#План-работы\" data-toc-modified-id=\"План-работы-4\">План работы</a></span><ul class=\"toc-item\"><li><span><a href=\"#Шаг-1.-Импорт-библиотек\" data-toc-modified-id=\"Шаг-1.-Импорт-библиотек-4.1\">Шаг 1. Импорт библиотек</a></span></li><li><span><a href=\"#Шаг-2.-Загрузка-данных\" data-toc-modified-id=\"Шаг-2.-Загрузка-данных-4.2\">Шаг 2. Загрузка данных</a></span></li><li><span><a href=\"#Шаг-3.-Предобработка-данных\" data-toc-modified-id=\"Шаг-3.-Предобработка-данных-4.3\">Шаг 3. Предобработка данных</a></span></li><li><span><a href=\"#Шаг-4.-Объединение-данных\" data-toc-modified-id=\"Шаг-4.-Объединение-данных-4.4\">Шаг 4. Объединение данных</a></span></li><li><span><a href=\"#Шаг-5.-Исследовательский-анализ-и-предобработка-данных-объединённого-датафрейма\" data-toc-modified-id=\"Шаг-5.-Исследовательский-анализ-и-предобработка-данных-объединённого-датафрейма-4.5\">Шаг 5. Исследовательский анализ и предобработка данных объединённого датафрейма</a></span></li><li><span><a href=\"#Шаг-6.-Подготовка-данных-и-обучение-моделей-машинного-обучения\" data-toc-modified-id=\"Шаг-6.-Подготовка-данных-и-обучение-моделей-машинного-обучения-4.6\">Шаг 6. Подготовка данных и обучение моделей машинного обучения</a></span></li><li><span><a href=\"#Шаг-7.-Выбор-и-тестирование-лучшей-модели\" data-toc-modified-id=\"Шаг-7.-Выбор-и-тестирование-лучшей-модели-4.7\">Шаг 7. Выбор и тестирование лучшей модели</a></span></li><li><span><a href=\"#Шаг-8.-Рекомендации-заказчику\" data-toc-modified-id=\"Шаг-8.-Рекомендации-заказчику-4.8\">Шаг 8. Рекомендации заказчику</a></span></li><li><span><a href=\"#Шаг-9.-Общий-вывод\" data-toc-modified-id=\"Шаг-9.-Общий-вывод-4.9\">Шаг 9. Общий вывод</a></span></li></ul></li><li><span><a href=\"#Начало-работы\" data-toc-modified-id=\"Начало-работы-5\">Начало работы</a></span><ul class=\"toc-item\"><li><span><a href=\"#1.-Импорт-библиотек\" data-toc-modified-id=\"1.-Импорт-библиотек-5.1\">1. Импорт библиотек</a></span><ul class=\"toc-item\"><li><span><a href=\"#Вывод:\" data-toc-modified-id=\"Вывод:-5.1.1\">Вывод:</a></span></li></ul></li><li><span><a href=\"#2.-Загрузка-данных\" data-toc-modified-id=\"2.-Загрузка-данных-5.2\">2. Загрузка данных</a></span><ul class=\"toc-item\"><li><span><a href=\"#Вывод:\" data-toc-modified-id=\"Вывод:-5.2.1\">Вывод:</a></span></li></ul></li><li><span><a href=\"#3.-Предобработка-данных\" data-toc-modified-id=\"3.-Предобработка-данных-5.3\">3. Предобработка данных</a></span><ul class=\"toc-item\"><li><span><a href=\"#contract_new\" data-toc-modified-id=\"contract_new-5.3.1\">contract_new</a></span></li><li><span><a href=\"#personal_new\" data-toc-modified-id=\"personal_new-5.3.2\">personal_new</a></span></li><li><span><a href=\"#internet_new\" data-toc-modified-id=\"internet_new-5.3.3\">internet_new</a></span></li><li><span><a href=\"#phone_new\" data-toc-modified-id=\"phone_new-5.3.4\">phone_new</a></span></li><li><span><a href=\"#Вывод:\" data-toc-modified-id=\"Вывод:-5.3.5\">Вывод:</a></span></li></ul></li><li><span><a href=\"#4.-Объединение-данных\" data-toc-modified-id=\"4.-Объединение-данных-5.4\">4. Объединение данных</a></span><ul class=\"toc-item\"><li><span><a href=\"#Вывод:\" data-toc-modified-id=\"Вывод:-5.4.1\">Вывод:</a></span></li></ul></li><li><span><a href=\"#5.-Исследовательский-анализ-и-предобработка-данных-объединенного-датафрейма\" data-toc-modified-id=\"5.-Исследовательский-анализ-и-предобработка-данных-объединенного-датафрейма-5.5\">5. Исследовательский анализ и предобработка данных объединенного датафрейма</a></span><ul class=\"toc-item\"><li><span><a href=\"#Вывод:\" data-toc-modified-id=\"Вывод:-5.5.1\">Вывод:</a></span></li></ul></li><li><span><a href=\"#6.-Подготовка-данных-и-обучение-моделей-машинного-обучения\" data-toc-modified-id=\"6.-Подготовка-данных-и-обучение-моделей-машинного-обучения-5.6\">6. Подготовка данных и обучение моделей машинного обучения</a></span><ul class=\"toc-item\"><li><span><a href=\"#Разделение-данных-на-тренировочную,-валидационную-и-тестовую-выборки\" data-toc-modified-id=\"Разделение-данных-на-тренировочную,-валидационную-и-тестовую-выборки-5.6.1\">Разделение данных на тренировочную, валидационную и тестовую выборки</a></span></li><li><span><a href=\"#Кодирование-и-масштабирование\" data-toc-modified-id=\"Кодирование-и-масштабирование-5.6.2\">Кодирование и масштабирование</a></span></li><li><span><a href=\"#Модель-логической-регрессии\" data-toc-modified-id=\"Модель-логической-регрессии-5.6.3\">Модель логической регрессии</a></span></li><li><span><a href=\"#Модель-CatBoostClassifier\" data-toc-modified-id=\"Модель-CatBoostClassifier-5.6.4\">Модель CatBoostClassifier</a></span></li><li><span><a href=\"#Вывод:\" data-toc-modified-id=\"Вывод:-5.6.5\">Вывод:</a></span></li></ul></li><li><span><a href=\"#7.-Выбор-и-тестирование-лучшей-модели\" data-toc-modified-id=\"7.-Выбор-и-тестирование-лучшей-модели-5.7\">7. Выбор и тестирование лучшей модели</a></span></li><li><span><a href=\"#8.-Рекомендации\" data-toc-modified-id=\"8.-Рекомендации-5.8\">8. Рекомендации</a></span></li><li><span><a href=\"#9.-Общий-вывод\" data-toc-modified-id=\"9.-Общий-вывод-5.9\">9. Общий вывод</a></span></li></ul></li></ul></div>"
   ]
  },
  {
   "cell_type": "markdown",
   "id": "7a2d49ac",
   "metadata": {},
   "source": [
    "# Проект: Телеком \"Прогнозирование оттока клиентов\""
   ]
  },
  {
   "cell_type": "markdown",
   "id": "ec0ec986",
   "metadata": {},
   "source": [
    "## Описание проекта: телекоммуникации"
   ]
  },
  {
   "cell_type": "markdown",
   "id": "5a268caa",
   "metadata": {},
   "source": [
    "Оператор связи хочет бороться с оттоком клиентов. Для этого его сотрудники начнут предлагать промокоды и специальные условия всем, кто планирует отказаться от услуг связи. Чтобы заранее находить таких пользователей, =нужна модель, которая будет предсказывать, разорвёт ли абонент договор. Команда оператора собрала персональные данные о некоторых клиентах, информацию об их тарифах и услугах. Наша задача — обучить на этих данных модель для прогноза оттока клиентов.\n"
   ]
  },
  {
   "cell_type": "markdown",
   "id": "75333ebc",
   "metadata": {},
   "source": [
    "## Описание услуг"
   ]
  },
  {
   "cell_type": "markdown",
   "id": "3439e49a",
   "metadata": {},
   "source": [
    "**Оператор предоставляет два основных типа услуг:** \n",
    "- Стационарную телефонную связь. Телефон можно подключить к нескольким линиям одновременно.\n",
    "- Интернет. Подключение может быть двух типов: через телефонную линию (DSL, от англ. digital subscriber line — «цифровая абонентская линия») или оптоволоконный кабель (Fiber optic).\n",
    " \n",
    " \n",
    " \n",
    "**Также доступны такие услуги:**\n",
    "- Интернет-безопасность: антивирус (DeviceProtection) и блокировка небезопасных сайтов (OnlineSecurity);\n",
    "- Выделенная линия технической поддержки (TechSupport);\n",
    "- Облачное хранилище файлов для резервного копирования данных (OnlineBackup);\n",
    "- Стриминговое телевидение (StreamingTV) и каталог фильмов (StreamingMovies).\n",
    "\n",
    "Клиенты могут платить за услуги каждый месяц или заключить договор на 1–2 года. Возможно оплатить счёт разными способами, а также получить электронный чек.\n"
   ]
  },
  {
   "cell_type": "markdown",
   "id": "5aaf166d",
   "metadata": {},
   "source": [
    "## Описание данных"
   ]
  },
  {
   "cell_type": "markdown",
   "id": "b69622f1",
   "metadata": {},
   "source": [
    "Данные состоят из нескольких файлов, полученных из разных источников:\n",
    "- **contract_new.csv** — информация о договоре;\n",
    "- **personal_new.csv** — персональные данные клиента;\n",
    "- **internet_new.csv** — информация об интернет-услугах;\n",
    "- **phone_new.csv** — информация об услугах телефонии."
   ]
  },
  {
   "cell_type": "markdown",
   "id": "920bbd60",
   "metadata": {},
   "source": [
    "### Файл *contract_new.csv*\n",
    "- **customerID** — идентификатор абонента;\n",
    "- **BeginDate** — дата начала действия договора;\n",
    "- **EndDate** — дата окончания действия договора;\n",
    "- **Type** — тип оплаты: раз в год-два или ежемесячно;\n",
    "- **PaperlessBilling** — электронный расчётный лист;\n",
    "- **PaymentMethod** — тип платежа;\n",
    "- **MonthlyCharges** — расходы за месяц;\n",
    "- **TotalCharges** — общие расходы абонента."
   ]
  },
  {
   "cell_type": "markdown",
   "id": "6c818286",
   "metadata": {},
   "source": [
    "### Файл *personal_new.csv*\n",
    "- **customerID** — идентификатор пользователя;\n",
    "- **gender** — пол;\n",
    "- **SeniorCitizen** — является ли абонент пенсионером;\n",
    "- **Partner** — есть ли у абонента супруг или супруга;\n",
    "- **Dependents** — есть ли у абонента дети."
   ]
  },
  {
   "cell_type": "markdown",
   "id": "db6e33d7",
   "metadata": {},
   "source": [
    "### Файл *internet_new.csv*\n",
    "- **customerID** — идентификатор пользователя;\n",
    "- **InternetService** — тип подключения;\n",
    "- **OnlineSecurity** — блокировка опасных сайтов;\n",
    "- **OnlineBackup** — облачное хранилище файлов для резервного копирования данных;\n",
    "- **DeviceProtection** — антивирус;\n",
    "- **TechSupport** — выделенная линия технической поддержки;\n",
    "- **StreamingTV** — стриминговое телевидение;\n",
    "- **StreamingMovies** — каталог фильмов."
   ]
  },
  {
   "cell_type": "markdown",
   "id": "7f855d21",
   "metadata": {},
   "source": [
    "### Файл *phone_new.csv*\n",
    "- **customerID** — идентификатор пользователя;\n",
    "- **MultipleLines** — подключение телефона к нескольким линиям одновременно.\n"
   ]
  },
  {
   "cell_type": "markdown",
   "id": "e84dd7dd",
   "metadata": {},
   "source": [
    "Во всех файлах столбец customerID содержит код клиента. Информация о договорах актуальна на 1 февраля 2020 года.\\\n",
    "Данные также находятся в тренажёре, в папке /datasets/."
   ]
  },
  {
   "cell_type": "markdown",
   "id": "df03320f",
   "metadata": {},
   "source": [
    "## План работы"
   ]
  },
  {
   "cell_type": "markdown",
   "id": "13dcb340",
   "metadata": {},
   "source": [
    "### Шаг 1. Импорт библиотек"
   ]
  },
  {
   "cell_type": "markdown",
   "id": "b4b1ea84",
   "metadata": {},
   "source": [
    "### Шаг 2. Загрузка данных\n",
    "Загрузим данные и выполним их первичный осмотр."
   ]
  },
  {
   "cell_type": "markdown",
   "id": "49f3b6f6",
   "metadata": {},
   "source": [
    "### Шаг 3. Предобработка данных\n",
    "Выполним исследовательский анализ каждого датафрейма и при необходимости выполним предобработку. Сделаем выводы об имеющихся признаках: понадобятся ли они для обучения моделей."
   ]
  },
  {
   "cell_type": "markdown",
   "id": "fca51b8b",
   "metadata": {},
   "source": [
    "### Шаг 4. Объединение данных\n",
    "Объединим выбранные нами признаки в один датафрейм по ключу."
   ]
  },
  {
   "cell_type": "markdown",
   "id": "95bf5e48",
   "metadata": {},
   "source": [
    "### Шаг 5. Исследовательский анализ и предобработка данных объединённого датафрейма\n",
    "Выполним исследовательский анализ объединённого датафрейма, визуализируем распределения признаков и при необходимости выполним предобработку. Проведем корреляционный анализ."
   ]
  },
  {
   "cell_type": "markdown",
   "id": "f6750f56",
   "metadata": {},
   "source": [
    "### Шаг 6. Подготовка данных и обучение моделей машинного обучения\n",
    "Выполним подготовку данных для обучения модели. Разделим данные на две выборки, при масштабировании и кодировании.\\\n",
    "Обучим как минимум две модели. Хотя бы для одной из них подберем как минимум два гиперпараметра."
   ]
  },
  {
   "cell_type": "markdown",
   "id": "84c2b7f8",
   "metadata": {},
   "source": [
    "### Шаг 7. Выбор и тестирование лучшей модели\n",
    "Выберем лучшую модель и проверим её качество на тестовой выборке."
   ]
  },
  {
   "cell_type": "markdown",
   "id": "68d3b28b",
   "metadata": {},
   "source": [
    "### Шаг 8. Рекомендации заказчику\n",
    "Дадим рекомендации для бизнеса"
   ]
  },
  {
   "cell_type": "markdown",
   "id": "bc29bba0",
   "metadata": {},
   "source": [
    "### Шаг 9. Общий вывод\n",
    "Сделаем общий вывод о проделанной работе"
   ]
  },
  {
   "cell_type": "markdown",
   "id": "48f3b1d6",
   "metadata": {},
   "source": [
    "## Начало работы"
   ]
  },
  {
   "cell_type": "markdown",
   "id": "84bf6e7a",
   "metadata": {},
   "source": [
    "### 1. Импорт библиотек"
   ]
  },
  {
   "cell_type": "code",
   "execution_count": 1,
   "id": "0c27828f",
   "metadata": {
    "scrolled": true
   },
   "outputs": [
    {
     "name": "stdout",
     "output_type": "stream",
     "text": [
      "Requirement already satisfied: numpy==1.23.5 in /opt/conda/lib/python3.9/site-packages (1.23.5)\n",
      "Requirement already satisfied: catboost in /opt/conda/lib/python3.9/site-packages (1.0.3)\n",
      "Requirement already satisfied: plotly in /opt/conda/lib/python3.9/site-packages (from catboost) (5.4.0)\n",
      "Requirement already satisfied: six in /opt/conda/lib/python3.9/site-packages (from catboost) (1.16.0)\n",
      "Requirement already satisfied: matplotlib in /opt/conda/lib/python3.9/site-packages (from catboost) (3.9.4)\n",
      "Requirement already satisfied: numpy>=1.16.0 in /opt/conda/lib/python3.9/site-packages (from catboost) (1.23.5)\n",
      "Requirement already satisfied: graphviz in /opt/conda/lib/python3.9/site-packages (from catboost) (0.20.1)\n",
      "Requirement already satisfied: pandas>=0.24.0 in /opt/conda/lib/python3.9/site-packages (from catboost) (1.2.4)\n",
      "Requirement already satisfied: scipy in /opt/conda/lib/python3.9/site-packages (from catboost) (1.9.1)\n",
      "Requirement already satisfied: python-dateutil>=2.7.3 in /opt/conda/lib/python3.9/site-packages (from pandas>=0.24.0->catboost) (2.8.1)\n",
      "Requirement already satisfied: pytz>=2017.3 in /opt/conda/lib/python3.9/site-packages (from pandas>=0.24.0->catboost) (2021.1)\n",
      "Requirement already satisfied: pyparsing>=2.3.1 in /opt/conda/lib/python3.9/site-packages (from matplotlib->catboost) (2.4.7)\n",
      "Requirement already satisfied: kiwisolver>=1.3.1 in /opt/conda/lib/python3.9/site-packages (from matplotlib->catboost) (1.4.4)\n",
      "Requirement already satisfied: pillow>=8 in /opt/conda/lib/python3.9/site-packages (from matplotlib->catboost) (8.4.0)\n",
      "Requirement already satisfied: packaging>=20.0 in /opt/conda/lib/python3.9/site-packages (from matplotlib->catboost) (21.3)\n",
      "Requirement already satisfied: fonttools>=4.22.0 in /opt/conda/lib/python3.9/site-packages (from matplotlib->catboost) (4.56.0)\n",
      "Requirement already satisfied: cycler>=0.10 in /opt/conda/lib/python3.9/site-packages (from matplotlib->catboost) (0.11.0)\n",
      "Requirement already satisfied: importlib-resources>=3.2.0 in /opt/conda/lib/python3.9/site-packages (from matplotlib->catboost) (6.5.2)\n",
      "Requirement already satisfied: contourpy>=1.0.1 in /opt/conda/lib/python3.9/site-packages (from matplotlib->catboost) (1.3.0)\n",
      "Requirement already satisfied: zipp>=3.1.0 in /opt/conda/lib/python3.9/site-packages (from importlib-resources>=3.2.0->matplotlib->catboost) (3.5.0)\n",
      "Requirement already satisfied: tenacity>=6.2.0 in /opt/conda/lib/python3.9/site-packages (from plotly->catboost) (8.0.1)\n",
      "Requirement already satisfied: lightgbm in /opt/conda/lib/python3.9/site-packages (3.3.1)\n",
      "Requirement already satisfied: wheel in /opt/conda/lib/python3.9/site-packages (from lightgbm) (0.36.2)\n",
      "Requirement already satisfied: numpy in /opt/conda/lib/python3.9/site-packages (from lightgbm) (1.23.5)\n",
      "Requirement already satisfied: scikit-learn!=0.22.0 in /opt/conda/lib/python3.9/site-packages (from lightgbm) (1.6.1)\n",
      "Requirement already satisfied: scipy in /opt/conda/lib/python3.9/site-packages (from lightgbm) (1.9.1)\n",
      "Requirement already satisfied: joblib>=1.2.0 in /opt/conda/lib/python3.9/site-packages (from scikit-learn!=0.22.0->lightgbm) (1.4.2)\n",
      "Requirement already satisfied: threadpoolctl>=3.1.0 in /opt/conda/lib/python3.9/site-packages (from scikit-learn!=0.22.0->lightgbm) (3.1.0)\n",
      "Requirement already satisfied: phik in /opt/conda/lib/python3.9/site-packages (0.12.4)\n",
      "Requirement already satisfied: scipy>=1.5.2 in /opt/conda/lib/python3.9/site-packages (from phik) (1.9.1)\n",
      "Requirement already satisfied: joblib>=0.14.1 in /opt/conda/lib/python3.9/site-packages (from phik) (1.4.2)\n",
      "Requirement already satisfied: matplotlib>=2.2.3 in /opt/conda/lib/python3.9/site-packages (from phik) (3.9.4)\n",
      "Requirement already satisfied: pandas>=0.25.1 in /opt/conda/lib/python3.9/site-packages (from phik) (1.2.4)\n",
      "Requirement already satisfied: numpy>=1.18.0 in /opt/conda/lib/python3.9/site-packages (from phik) (1.23.5)\n",
      "Requirement already satisfied: kiwisolver>=1.3.1 in /opt/conda/lib/python3.9/site-packages (from matplotlib>=2.2.3->phik) (1.4.4)\n",
      "Requirement already satisfied: contourpy>=1.0.1 in /opt/conda/lib/python3.9/site-packages (from matplotlib>=2.2.3->phik) (1.3.0)\n",
      "Requirement already satisfied: fonttools>=4.22.0 in /opt/conda/lib/python3.9/site-packages (from matplotlib>=2.2.3->phik) (4.56.0)\n",
      "Requirement already satisfied: pillow>=8 in /opt/conda/lib/python3.9/site-packages (from matplotlib>=2.2.3->phik) (8.4.0)\n",
      "Requirement already satisfied: pyparsing>=2.3.1 in /opt/conda/lib/python3.9/site-packages (from matplotlib>=2.2.3->phik) (2.4.7)\n",
      "Requirement already satisfied: importlib-resources>=3.2.0 in /opt/conda/lib/python3.9/site-packages (from matplotlib>=2.2.3->phik) (6.5.2)\n",
      "Requirement already satisfied: python-dateutil>=2.7 in /opt/conda/lib/python3.9/site-packages (from matplotlib>=2.2.3->phik) (2.8.1)\n",
      "Requirement already satisfied: packaging>=20.0 in /opt/conda/lib/python3.9/site-packages (from matplotlib>=2.2.3->phik) (21.3)\n",
      "Requirement already satisfied: cycler>=0.10 in /opt/conda/lib/python3.9/site-packages (from matplotlib>=2.2.3->phik) (0.11.0)\n",
      "Requirement already satisfied: zipp>=3.1.0 in /opt/conda/lib/python3.9/site-packages (from importlib-resources>=3.2.0->matplotlib>=2.2.3->phik) (3.5.0)\n",
      "Requirement already satisfied: pytz>=2017.3 in /opt/conda/lib/python3.9/site-packages (from pandas>=0.25.1->phik) (2021.1)\n",
      "Requirement already satisfied: six>=1.5 in /opt/conda/lib/python3.9/site-packages (from python-dateutil>=2.7->matplotlib>=2.2.3->phik) (1.16.0)\n"
     ]
    }
   ],
   "source": [
    "# Обновим библиотеки до последних версий:\n",
    "!pip install numpy==1.23.5\n",
    "!pip install -U -q scikit-learn matplotlib seaborn\n",
    "!pip install catboost\n",
    "!pip install lightgbm\n",
    "!pip install phik"
   ]
  },
  {
   "cell_type": "code",
   "execution_count": 2,
   "id": "59eae71a",
   "metadata": {},
   "outputs": [],
   "source": [
    "import pandas as pd\n",
    "import numpy as np\n",
    "import matplotlib.pyplot as plt\n",
    "import seaborn as sns\n",
    "from sklearn.compose import ColumnTransformer\n",
    "\n",
    "from sklearn.preprocessing import OneHotEncoder, LabelEncoder, StandardScaler\n",
    "\n",
    "from sklearn.model_selection import train_test_split, GridSearchCV, cross_val_score\n",
    "\n",
    "from sklearn.linear_model import LogisticRegression\n",
    "from sklearn.ensemble import RandomForestClassifier\n",
    "from catboost import CatBoostClassifier \n",
    "from lightgbm import LGBMClassifier\n",
    "from scipy.stats import spearmanr, chi2_contingency\n",
    "\n",
    "import phik\n",
    "from phik import report\n",
    "from phik.report import plot_correlation_matrix\n",
    "\n",
    "from sklearn.metrics import( \n",
    "    roc_auc_score,\n",
    "    accuracy_score,\n",
    "    confusion_matrix, \n",
    "    ConfusionMatrixDisplay,\n",
    "    roc_curve,\n",
    "    make_scorer) \n",
    "    \n",
    "\n",
    "from pandas.plotting import scatter_matrix"
   ]
  },
  {
   "cell_type": "code",
   "execution_count": 3,
   "id": "02361564",
   "metadata": {},
   "outputs": [],
   "source": [
    "RANDOM_STATE = 100325\n",
    "data_load = '2020-02-01'"
   ]
  },
  {
   "cell_type": "markdown",
   "id": "f922bda7",
   "metadata": {},
   "source": [
    "#### Вывод:\n",
    "Загрузили необходимые для работы библиотеки, задали константы"
   ]
  },
  {
   "cell_type": "markdown",
   "id": "7160b92c",
   "metadata": {},
   "source": [
    "### 2. Загрузка данных"
   ]
  },
  {
   "cell_type": "code",
   "execution_count": 4,
   "id": "73d7e27d",
   "metadata": {},
   "outputs": [
    {
     "data": {
      "text/html": [
       "<div>\n",
       "<style scoped>\n",
       "    .dataframe tbody tr th:only-of-type {\n",
       "        vertical-align: middle;\n",
       "    }\n",
       "\n",
       "    .dataframe tbody tr th {\n",
       "        vertical-align: top;\n",
       "    }\n",
       "\n",
       "    .dataframe thead th {\n",
       "        text-align: right;\n",
       "    }\n",
       "</style>\n",
       "<table border=\"1\" class=\"dataframe\">\n",
       "  <thead>\n",
       "    <tr style=\"text-align: right;\">\n",
       "      <th></th>\n",
       "      <th>customerID</th>\n",
       "      <th>BeginDate</th>\n",
       "      <th>EndDate</th>\n",
       "      <th>Type</th>\n",
       "      <th>PaperlessBilling</th>\n",
       "      <th>PaymentMethod</th>\n",
       "      <th>MonthlyCharges</th>\n",
       "      <th>TotalCharges</th>\n",
       "    </tr>\n",
       "  </thead>\n",
       "  <tbody>\n",
       "    <tr>\n",
       "      <th>0</th>\n",
       "      <td>7590-VHVEG</td>\n",
       "      <td>2020-01-01</td>\n",
       "      <td>No</td>\n",
       "      <td>Month-to-month</td>\n",
       "      <td>Yes</td>\n",
       "      <td>Electronic check</td>\n",
       "      <td>29.85</td>\n",
       "      <td>31.04</td>\n",
       "    </tr>\n",
       "    <tr>\n",
       "      <th>1</th>\n",
       "      <td>5575-GNVDE</td>\n",
       "      <td>2017-04-01</td>\n",
       "      <td>No</td>\n",
       "      <td>One year</td>\n",
       "      <td>No</td>\n",
       "      <td>Mailed check</td>\n",
       "      <td>56.95</td>\n",
       "      <td>2071.84</td>\n",
       "    </tr>\n",
       "    <tr>\n",
       "      <th>2</th>\n",
       "      <td>3668-QPYBK</td>\n",
       "      <td>2019-10-01</td>\n",
       "      <td>No</td>\n",
       "      <td>Month-to-month</td>\n",
       "      <td>Yes</td>\n",
       "      <td>Mailed check</td>\n",
       "      <td>53.85</td>\n",
       "      <td>226.17</td>\n",
       "    </tr>\n",
       "    <tr>\n",
       "      <th>3</th>\n",
       "      <td>7795-CFOCW</td>\n",
       "      <td>2016-05-01</td>\n",
       "      <td>No</td>\n",
       "      <td>One year</td>\n",
       "      <td>No</td>\n",
       "      <td>Bank transfer (automatic)</td>\n",
       "      <td>42.30</td>\n",
       "      <td>1960.6</td>\n",
       "    </tr>\n",
       "    <tr>\n",
       "      <th>4</th>\n",
       "      <td>9237-HQITU</td>\n",
       "      <td>2019-09-01</td>\n",
       "      <td>No</td>\n",
       "      <td>Month-to-month</td>\n",
       "      <td>Yes</td>\n",
       "      <td>Electronic check</td>\n",
       "      <td>70.70</td>\n",
       "      <td>353.5</td>\n",
       "    </tr>\n",
       "    <tr>\n",
       "      <th>...</th>\n",
       "      <td>...</td>\n",
       "      <td>...</td>\n",
       "      <td>...</td>\n",
       "      <td>...</td>\n",
       "      <td>...</td>\n",
       "      <td>...</td>\n",
       "      <td>...</td>\n",
       "      <td>...</td>\n",
       "    </tr>\n",
       "    <tr>\n",
       "      <th>7038</th>\n",
       "      <td>6840-RESVB</td>\n",
       "      <td>2018-02-01</td>\n",
       "      <td>No</td>\n",
       "      <td>One year</td>\n",
       "      <td>Yes</td>\n",
       "      <td>Mailed check</td>\n",
       "      <td>84.80</td>\n",
       "      <td>2035.2</td>\n",
       "    </tr>\n",
       "    <tr>\n",
       "      <th>7039</th>\n",
       "      <td>2234-XADUH</td>\n",
       "      <td>2014-02-01</td>\n",
       "      <td>No</td>\n",
       "      <td>One year</td>\n",
       "      <td>Yes</td>\n",
       "      <td>Credit card (automatic)</td>\n",
       "      <td>103.20</td>\n",
       "      <td>7430.4</td>\n",
       "    </tr>\n",
       "    <tr>\n",
       "      <th>7040</th>\n",
       "      <td>4801-JZAZL</td>\n",
       "      <td>2019-03-01</td>\n",
       "      <td>No</td>\n",
       "      <td>Month-to-month</td>\n",
       "      <td>Yes</td>\n",
       "      <td>Electronic check</td>\n",
       "      <td>29.60</td>\n",
       "      <td>325.6</td>\n",
       "    </tr>\n",
       "    <tr>\n",
       "      <th>7041</th>\n",
       "      <td>8361-LTMKD</td>\n",
       "      <td>2019-07-01</td>\n",
       "      <td>No</td>\n",
       "      <td>Month-to-month</td>\n",
       "      <td>Yes</td>\n",
       "      <td>Mailed check</td>\n",
       "      <td>74.40</td>\n",
       "      <td>520.8</td>\n",
       "    </tr>\n",
       "    <tr>\n",
       "      <th>7042</th>\n",
       "      <td>3186-AJIEK</td>\n",
       "      <td>2014-08-01</td>\n",
       "      <td>No</td>\n",
       "      <td>Two year</td>\n",
       "      <td>Yes</td>\n",
       "      <td>Bank transfer (automatic)</td>\n",
       "      <td>105.65</td>\n",
       "      <td>7251.82</td>\n",
       "    </tr>\n",
       "  </tbody>\n",
       "</table>\n",
       "<p>7043 rows × 8 columns</p>\n",
       "</div>"
      ],
      "text/plain": [
       "      customerID   BeginDate EndDate            Type PaperlessBilling  \\\n",
       "0     7590-VHVEG  2020-01-01      No  Month-to-month              Yes   \n",
       "1     5575-GNVDE  2017-04-01      No        One year               No   \n",
       "2     3668-QPYBK  2019-10-01      No  Month-to-month              Yes   \n",
       "3     7795-CFOCW  2016-05-01      No        One year               No   \n",
       "4     9237-HQITU  2019-09-01      No  Month-to-month              Yes   \n",
       "...          ...         ...     ...             ...              ...   \n",
       "7038  6840-RESVB  2018-02-01      No        One year              Yes   \n",
       "7039  2234-XADUH  2014-02-01      No        One year              Yes   \n",
       "7040  4801-JZAZL  2019-03-01      No  Month-to-month              Yes   \n",
       "7041  8361-LTMKD  2019-07-01      No  Month-to-month              Yes   \n",
       "7042  3186-AJIEK  2014-08-01      No        Two year              Yes   \n",
       "\n",
       "                  PaymentMethod  MonthlyCharges TotalCharges  \n",
       "0              Electronic check           29.85        31.04  \n",
       "1                  Mailed check           56.95      2071.84  \n",
       "2                  Mailed check           53.85       226.17  \n",
       "3     Bank transfer (automatic)           42.30       1960.6  \n",
       "4              Electronic check           70.70        353.5  \n",
       "...                         ...             ...          ...  \n",
       "7038               Mailed check           84.80       2035.2  \n",
       "7039    Credit card (automatic)          103.20       7430.4  \n",
       "7040           Electronic check           29.60        325.6  \n",
       "7041               Mailed check           74.40        520.8  \n",
       "7042  Bank transfer (automatic)          105.65      7251.82  \n",
       "\n",
       "[7043 rows x 8 columns]"
      ]
     },
     "metadata": {},
     "output_type": "display_data"
    }
   ],
   "source": [
    "contract = pd.read_csv('xxx')\n",
    "display(contract)"
   ]
  },
  {
   "cell_type": "code",
   "execution_count": 5,
   "id": "c0eb8540",
   "metadata": {},
   "outputs": [
    {
     "data": {
      "text/html": [
       "<div>\n",
       "<style scoped>\n",
       "    .dataframe tbody tr th:only-of-type {\n",
       "        vertical-align: middle;\n",
       "    }\n",
       "\n",
       "    .dataframe tbody tr th {\n",
       "        vertical-align: top;\n",
       "    }\n",
       "\n",
       "    .dataframe thead th {\n",
       "        text-align: right;\n",
       "    }\n",
       "</style>\n",
       "<table border=\"1\" class=\"dataframe\">\n",
       "  <thead>\n",
       "    <tr style=\"text-align: right;\">\n",
       "      <th></th>\n",
       "      <th>customerID</th>\n",
       "      <th>gender</th>\n",
       "      <th>SeniorCitizen</th>\n",
       "      <th>Partner</th>\n",
       "      <th>Dependents</th>\n",
       "    </tr>\n",
       "  </thead>\n",
       "  <tbody>\n",
       "    <tr>\n",
       "      <th>0</th>\n",
       "      <td>7590-VHVEG</td>\n",
       "      <td>Female</td>\n",
       "      <td>0</td>\n",
       "      <td>Yes</td>\n",
       "      <td>No</td>\n",
       "    </tr>\n",
       "    <tr>\n",
       "      <th>1</th>\n",
       "      <td>5575-GNVDE</td>\n",
       "      <td>Male</td>\n",
       "      <td>0</td>\n",
       "      <td>No</td>\n",
       "      <td>No</td>\n",
       "    </tr>\n",
       "    <tr>\n",
       "      <th>2</th>\n",
       "      <td>3668-QPYBK</td>\n",
       "      <td>Male</td>\n",
       "      <td>0</td>\n",
       "      <td>No</td>\n",
       "      <td>No</td>\n",
       "    </tr>\n",
       "    <tr>\n",
       "      <th>3</th>\n",
       "      <td>7795-CFOCW</td>\n",
       "      <td>Male</td>\n",
       "      <td>0</td>\n",
       "      <td>No</td>\n",
       "      <td>No</td>\n",
       "    </tr>\n",
       "    <tr>\n",
       "      <th>4</th>\n",
       "      <td>9237-HQITU</td>\n",
       "      <td>Female</td>\n",
       "      <td>0</td>\n",
       "      <td>No</td>\n",
       "      <td>No</td>\n",
       "    </tr>\n",
       "    <tr>\n",
       "      <th>...</th>\n",
       "      <td>...</td>\n",
       "      <td>...</td>\n",
       "      <td>...</td>\n",
       "      <td>...</td>\n",
       "      <td>...</td>\n",
       "    </tr>\n",
       "    <tr>\n",
       "      <th>7038</th>\n",
       "      <td>6840-RESVB</td>\n",
       "      <td>Male</td>\n",
       "      <td>0</td>\n",
       "      <td>Yes</td>\n",
       "      <td>Yes</td>\n",
       "    </tr>\n",
       "    <tr>\n",
       "      <th>7039</th>\n",
       "      <td>2234-XADUH</td>\n",
       "      <td>Female</td>\n",
       "      <td>0</td>\n",
       "      <td>Yes</td>\n",
       "      <td>Yes</td>\n",
       "    </tr>\n",
       "    <tr>\n",
       "      <th>7040</th>\n",
       "      <td>4801-JZAZL</td>\n",
       "      <td>Female</td>\n",
       "      <td>0</td>\n",
       "      <td>Yes</td>\n",
       "      <td>Yes</td>\n",
       "    </tr>\n",
       "    <tr>\n",
       "      <th>7041</th>\n",
       "      <td>8361-LTMKD</td>\n",
       "      <td>Male</td>\n",
       "      <td>1</td>\n",
       "      <td>Yes</td>\n",
       "      <td>No</td>\n",
       "    </tr>\n",
       "    <tr>\n",
       "      <th>7042</th>\n",
       "      <td>3186-AJIEK</td>\n",
       "      <td>Male</td>\n",
       "      <td>0</td>\n",
       "      <td>No</td>\n",
       "      <td>No</td>\n",
       "    </tr>\n",
       "  </tbody>\n",
       "</table>\n",
       "<p>7043 rows × 5 columns</p>\n",
       "</div>"
      ],
      "text/plain": [
       "      customerID  gender  SeniorCitizen Partner Dependents\n",
       "0     7590-VHVEG  Female              0     Yes         No\n",
       "1     5575-GNVDE    Male              0      No         No\n",
       "2     3668-QPYBK    Male              0      No         No\n",
       "3     7795-CFOCW    Male              0      No         No\n",
       "4     9237-HQITU  Female              0      No         No\n",
       "...          ...     ...            ...     ...        ...\n",
       "7038  6840-RESVB    Male              0     Yes        Yes\n",
       "7039  2234-XADUH  Female              0     Yes        Yes\n",
       "7040  4801-JZAZL  Female              0     Yes        Yes\n",
       "7041  8361-LTMKD    Male              1     Yes         No\n",
       "7042  3186-AJIEK    Male              0      No         No\n",
       "\n",
       "[7043 rows x 5 columns]"
      ]
     },
     "metadata": {},
     "output_type": "display_data"
    }
   ],
   "source": [
    "personal = pd.read_csv('xxx')\n",
    "display(personal)"
   ]
  },
  {
   "cell_type": "code",
   "execution_count": 6,
   "id": "be970ad3",
   "metadata": {},
   "outputs": [
    {
     "data": {
      "text/html": [
       "<div>\n",
       "<style scoped>\n",
       "    .dataframe tbody tr th:only-of-type {\n",
       "        vertical-align: middle;\n",
       "    }\n",
       "\n",
       "    .dataframe tbody tr th {\n",
       "        vertical-align: top;\n",
       "    }\n",
       "\n",
       "    .dataframe thead th {\n",
       "        text-align: right;\n",
       "    }\n",
       "</style>\n",
       "<table border=\"1\" class=\"dataframe\">\n",
       "  <thead>\n",
       "    <tr style=\"text-align: right;\">\n",
       "      <th></th>\n",
       "      <th>customerID</th>\n",
       "      <th>InternetService</th>\n",
       "      <th>OnlineSecurity</th>\n",
       "      <th>OnlineBackup</th>\n",
       "      <th>DeviceProtection</th>\n",
       "      <th>TechSupport</th>\n",
       "      <th>StreamingTV</th>\n",
       "      <th>StreamingMovies</th>\n",
       "    </tr>\n",
       "  </thead>\n",
       "  <tbody>\n",
       "    <tr>\n",
       "      <th>0</th>\n",
       "      <td>7590-VHVEG</td>\n",
       "      <td>DSL</td>\n",
       "      <td>No</td>\n",
       "      <td>Yes</td>\n",
       "      <td>No</td>\n",
       "      <td>No</td>\n",
       "      <td>No</td>\n",
       "      <td>No</td>\n",
       "    </tr>\n",
       "    <tr>\n",
       "      <th>1</th>\n",
       "      <td>5575-GNVDE</td>\n",
       "      <td>DSL</td>\n",
       "      <td>Yes</td>\n",
       "      <td>No</td>\n",
       "      <td>Yes</td>\n",
       "      <td>No</td>\n",
       "      <td>No</td>\n",
       "      <td>No</td>\n",
       "    </tr>\n",
       "    <tr>\n",
       "      <th>2</th>\n",
       "      <td>3668-QPYBK</td>\n",
       "      <td>DSL</td>\n",
       "      <td>Yes</td>\n",
       "      <td>Yes</td>\n",
       "      <td>No</td>\n",
       "      <td>No</td>\n",
       "      <td>No</td>\n",
       "      <td>No</td>\n",
       "    </tr>\n",
       "    <tr>\n",
       "      <th>3</th>\n",
       "      <td>7795-CFOCW</td>\n",
       "      <td>DSL</td>\n",
       "      <td>Yes</td>\n",
       "      <td>No</td>\n",
       "      <td>Yes</td>\n",
       "      <td>Yes</td>\n",
       "      <td>No</td>\n",
       "      <td>No</td>\n",
       "    </tr>\n",
       "    <tr>\n",
       "      <th>4</th>\n",
       "      <td>9237-HQITU</td>\n",
       "      <td>Fiber optic</td>\n",
       "      <td>No</td>\n",
       "      <td>No</td>\n",
       "      <td>No</td>\n",
       "      <td>No</td>\n",
       "      <td>No</td>\n",
       "      <td>No</td>\n",
       "    </tr>\n",
       "    <tr>\n",
       "      <th>...</th>\n",
       "      <td>...</td>\n",
       "      <td>...</td>\n",
       "      <td>...</td>\n",
       "      <td>...</td>\n",
       "      <td>...</td>\n",
       "      <td>...</td>\n",
       "      <td>...</td>\n",
       "      <td>...</td>\n",
       "    </tr>\n",
       "    <tr>\n",
       "      <th>5512</th>\n",
       "      <td>6840-RESVB</td>\n",
       "      <td>DSL</td>\n",
       "      <td>Yes</td>\n",
       "      <td>No</td>\n",
       "      <td>Yes</td>\n",
       "      <td>Yes</td>\n",
       "      <td>Yes</td>\n",
       "      <td>Yes</td>\n",
       "    </tr>\n",
       "    <tr>\n",
       "      <th>5513</th>\n",
       "      <td>2234-XADUH</td>\n",
       "      <td>Fiber optic</td>\n",
       "      <td>No</td>\n",
       "      <td>Yes</td>\n",
       "      <td>Yes</td>\n",
       "      <td>No</td>\n",
       "      <td>Yes</td>\n",
       "      <td>Yes</td>\n",
       "    </tr>\n",
       "    <tr>\n",
       "      <th>5514</th>\n",
       "      <td>4801-JZAZL</td>\n",
       "      <td>DSL</td>\n",
       "      <td>Yes</td>\n",
       "      <td>No</td>\n",
       "      <td>No</td>\n",
       "      <td>No</td>\n",
       "      <td>No</td>\n",
       "      <td>No</td>\n",
       "    </tr>\n",
       "    <tr>\n",
       "      <th>5515</th>\n",
       "      <td>8361-LTMKD</td>\n",
       "      <td>Fiber optic</td>\n",
       "      <td>No</td>\n",
       "      <td>No</td>\n",
       "      <td>No</td>\n",
       "      <td>No</td>\n",
       "      <td>No</td>\n",
       "      <td>No</td>\n",
       "    </tr>\n",
       "    <tr>\n",
       "      <th>5516</th>\n",
       "      <td>3186-AJIEK</td>\n",
       "      <td>Fiber optic</td>\n",
       "      <td>Yes</td>\n",
       "      <td>No</td>\n",
       "      <td>Yes</td>\n",
       "      <td>Yes</td>\n",
       "      <td>Yes</td>\n",
       "      <td>Yes</td>\n",
       "    </tr>\n",
       "  </tbody>\n",
       "</table>\n",
       "<p>5517 rows × 8 columns</p>\n",
       "</div>"
      ],
      "text/plain": [
       "      customerID InternetService OnlineSecurity OnlineBackup DeviceProtection  \\\n",
       "0     7590-VHVEG             DSL             No          Yes               No   \n",
       "1     5575-GNVDE             DSL            Yes           No              Yes   \n",
       "2     3668-QPYBK             DSL            Yes          Yes               No   \n",
       "3     7795-CFOCW             DSL            Yes           No              Yes   \n",
       "4     9237-HQITU     Fiber optic             No           No               No   \n",
       "...          ...             ...            ...          ...              ...   \n",
       "5512  6840-RESVB             DSL            Yes           No              Yes   \n",
       "5513  2234-XADUH     Fiber optic             No          Yes              Yes   \n",
       "5514  4801-JZAZL             DSL            Yes           No               No   \n",
       "5515  8361-LTMKD     Fiber optic             No           No               No   \n",
       "5516  3186-AJIEK     Fiber optic            Yes           No              Yes   \n",
       "\n",
       "     TechSupport StreamingTV StreamingMovies  \n",
       "0             No          No              No  \n",
       "1             No          No              No  \n",
       "2             No          No              No  \n",
       "3            Yes          No              No  \n",
       "4             No          No              No  \n",
       "...          ...         ...             ...  \n",
       "5512         Yes         Yes             Yes  \n",
       "5513          No         Yes             Yes  \n",
       "5514          No          No              No  \n",
       "5515          No          No              No  \n",
       "5516         Yes         Yes             Yes  \n",
       "\n",
       "[5517 rows x 8 columns]"
      ]
     },
     "metadata": {},
     "output_type": "display_data"
    }
   ],
   "source": [
    "internet = pd.read_csv('xxx')\n",
    "display(internet)"
   ]
  },
  {
   "cell_type": "code",
   "execution_count": 7,
   "id": "ff6ec873",
   "metadata": {},
   "outputs": [
    {
     "data": {
      "text/html": [
       "<div>\n",
       "<style scoped>\n",
       "    .dataframe tbody tr th:only-of-type {\n",
       "        vertical-align: middle;\n",
       "    }\n",
       "\n",
       "    .dataframe tbody tr th {\n",
       "        vertical-align: top;\n",
       "    }\n",
       "\n",
       "    .dataframe thead th {\n",
       "        text-align: right;\n",
       "    }\n",
       "</style>\n",
       "<table border=\"1\" class=\"dataframe\">\n",
       "  <thead>\n",
       "    <tr style=\"text-align: right;\">\n",
       "      <th></th>\n",
       "      <th>customerID</th>\n",
       "      <th>MultipleLines</th>\n",
       "    </tr>\n",
       "  </thead>\n",
       "  <tbody>\n",
       "    <tr>\n",
       "      <th>0</th>\n",
       "      <td>5575-GNVDE</td>\n",
       "      <td>No</td>\n",
       "    </tr>\n",
       "    <tr>\n",
       "      <th>1</th>\n",
       "      <td>3668-QPYBK</td>\n",
       "      <td>No</td>\n",
       "    </tr>\n",
       "    <tr>\n",
       "      <th>2</th>\n",
       "      <td>9237-HQITU</td>\n",
       "      <td>No</td>\n",
       "    </tr>\n",
       "    <tr>\n",
       "      <th>3</th>\n",
       "      <td>9305-CDSKC</td>\n",
       "      <td>Yes</td>\n",
       "    </tr>\n",
       "    <tr>\n",
       "      <th>4</th>\n",
       "      <td>1452-KIOVK</td>\n",
       "      <td>Yes</td>\n",
       "    </tr>\n",
       "    <tr>\n",
       "      <th>...</th>\n",
       "      <td>...</td>\n",
       "      <td>...</td>\n",
       "    </tr>\n",
       "    <tr>\n",
       "      <th>6356</th>\n",
       "      <td>2569-WGERO</td>\n",
       "      <td>No</td>\n",
       "    </tr>\n",
       "    <tr>\n",
       "      <th>6357</th>\n",
       "      <td>6840-RESVB</td>\n",
       "      <td>Yes</td>\n",
       "    </tr>\n",
       "    <tr>\n",
       "      <th>6358</th>\n",
       "      <td>2234-XADUH</td>\n",
       "      <td>Yes</td>\n",
       "    </tr>\n",
       "    <tr>\n",
       "      <th>6359</th>\n",
       "      <td>8361-LTMKD</td>\n",
       "      <td>Yes</td>\n",
       "    </tr>\n",
       "    <tr>\n",
       "      <th>6360</th>\n",
       "      <td>3186-AJIEK</td>\n",
       "      <td>No</td>\n",
       "    </tr>\n",
       "  </tbody>\n",
       "</table>\n",
       "<p>6361 rows × 2 columns</p>\n",
       "</div>"
      ],
      "text/plain": [
       "      customerID MultipleLines\n",
       "0     5575-GNVDE            No\n",
       "1     3668-QPYBK            No\n",
       "2     9237-HQITU            No\n",
       "3     9305-CDSKC           Yes\n",
       "4     1452-KIOVK           Yes\n",
       "...          ...           ...\n",
       "6356  2569-WGERO            No\n",
       "6357  6840-RESVB           Yes\n",
       "6358  2234-XADUH           Yes\n",
       "6359  8361-LTMKD           Yes\n",
       "6360  3186-AJIEK            No\n",
       "\n",
       "[6361 rows x 2 columns]"
      ]
     },
     "metadata": {},
     "output_type": "display_data"
    }
   ],
   "source": [
    "phone = pd.read_csv('xxx')\n",
    "display(phone)"
   ]
  },
  {
   "cell_type": "markdown",
   "id": "ef70ee85",
   "metadata": {},
   "source": [
    "#### Вывод:\n",
    "Загрузили датасеты и провели первичный осмотр данных"
   ]
  },
  {
   "cell_type": "markdown",
   "id": "85fae56c",
   "metadata": {},
   "source": [
    "### 3. Предобработка данных"
   ]
  },
  {
   "cell_type": "markdown",
   "id": "901692ad",
   "metadata": {},
   "source": [
    "#### contract_new"
   ]
  },
  {
   "cell_type": "code",
   "execution_count": 8,
   "id": "a6069008",
   "metadata": {
    "scrolled": true
   },
   "outputs": [
    {
     "name": "stdout",
     "output_type": "stream",
     "text": [
      "<class 'pandas.core.frame.DataFrame'>\n",
      "RangeIndex: 7043 entries, 0 to 7042\n",
      "Data columns (total 8 columns):\n",
      " #   Column            Non-Null Count  Dtype  \n",
      "---  ------            --------------  -----  \n",
      " 0   customerID        7043 non-null   object \n",
      " 1   BeginDate         7043 non-null   object \n",
      " 2   EndDate           7043 non-null   object \n",
      " 3   Type              7043 non-null   object \n",
      " 4   PaperlessBilling  7043 non-null   object \n",
      " 5   PaymentMethod     7043 non-null   object \n",
      " 6   MonthlyCharges    7043 non-null   float64\n",
      " 7   TotalCharges      7043 non-null   object \n",
      "dtypes: float64(1), object(7)\n",
      "memory usage: 440.3+ KB\n"
     ]
    },
    {
     "data": {
      "text/html": [
       "<div>\n",
       "<style scoped>\n",
       "    .dataframe tbody tr th:only-of-type {\n",
       "        vertical-align: middle;\n",
       "    }\n",
       "\n",
       "    .dataframe tbody tr th {\n",
       "        vertical-align: top;\n",
       "    }\n",
       "\n",
       "    .dataframe thead th {\n",
       "        text-align: right;\n",
       "    }\n",
       "</style>\n",
       "<table border=\"1\" class=\"dataframe\">\n",
       "  <thead>\n",
       "    <tr style=\"text-align: right;\">\n",
       "      <th></th>\n",
       "      <th>customerID</th>\n",
       "      <th>BeginDate</th>\n",
       "      <th>EndDate</th>\n",
       "      <th>Type</th>\n",
       "      <th>PaperlessBilling</th>\n",
       "      <th>PaymentMethod</th>\n",
       "      <th>MonthlyCharges</th>\n",
       "      <th>TotalCharges</th>\n",
       "    </tr>\n",
       "  </thead>\n",
       "  <tbody>\n",
       "    <tr>\n",
       "      <th>0</th>\n",
       "      <td>7590-VHVEG</td>\n",
       "      <td>2020-01-01</td>\n",
       "      <td>No</td>\n",
       "      <td>Month-to-month</td>\n",
       "      <td>Yes</td>\n",
       "      <td>Electronic check</td>\n",
       "      <td>29.85</td>\n",
       "      <td>31.04</td>\n",
       "    </tr>\n",
       "    <tr>\n",
       "      <th>1</th>\n",
       "      <td>5575-GNVDE</td>\n",
       "      <td>2017-04-01</td>\n",
       "      <td>No</td>\n",
       "      <td>One year</td>\n",
       "      <td>No</td>\n",
       "      <td>Mailed check</td>\n",
       "      <td>56.95</td>\n",
       "      <td>2071.84</td>\n",
       "    </tr>\n",
       "    <tr>\n",
       "      <th>2</th>\n",
       "      <td>3668-QPYBK</td>\n",
       "      <td>2019-10-01</td>\n",
       "      <td>No</td>\n",
       "      <td>Month-to-month</td>\n",
       "      <td>Yes</td>\n",
       "      <td>Mailed check</td>\n",
       "      <td>53.85</td>\n",
       "      <td>226.17</td>\n",
       "    </tr>\n",
       "    <tr>\n",
       "      <th>3</th>\n",
       "      <td>7795-CFOCW</td>\n",
       "      <td>2016-05-01</td>\n",
       "      <td>No</td>\n",
       "      <td>One year</td>\n",
       "      <td>No</td>\n",
       "      <td>Bank transfer (automatic)</td>\n",
       "      <td>42.30</td>\n",
       "      <td>1960.6</td>\n",
       "    </tr>\n",
       "    <tr>\n",
       "      <th>4</th>\n",
       "      <td>9237-HQITU</td>\n",
       "      <td>2019-09-01</td>\n",
       "      <td>No</td>\n",
       "      <td>Month-to-month</td>\n",
       "      <td>Yes</td>\n",
       "      <td>Electronic check</td>\n",
       "      <td>70.70</td>\n",
       "      <td>353.5</td>\n",
       "    </tr>\n",
       "  </tbody>\n",
       "</table>\n",
       "</div>"
      ],
      "text/plain": [
       "   customerID   BeginDate EndDate            Type PaperlessBilling  \\\n",
       "0  7590-VHVEG  2020-01-01      No  Month-to-month              Yes   \n",
       "1  5575-GNVDE  2017-04-01      No        One year               No   \n",
       "2  3668-QPYBK  2019-10-01      No  Month-to-month              Yes   \n",
       "3  7795-CFOCW  2016-05-01      No        One year               No   \n",
       "4  9237-HQITU  2019-09-01      No  Month-to-month              Yes   \n",
       "\n",
       "               PaymentMethod  MonthlyCharges TotalCharges  \n",
       "0           Electronic check           29.85        31.04  \n",
       "1               Mailed check           56.95      2071.84  \n",
       "2               Mailed check           53.85       226.17  \n",
       "3  Bank transfer (automatic)           42.30       1960.6  \n",
       "4           Electronic check           70.70        353.5  "
      ]
     },
     "execution_count": 8,
     "metadata": {},
     "output_type": "execute_result"
    }
   ],
   "source": [
    "contract.info()\n",
    "contract.describe()\n",
    "contract.head()"
   ]
  },
  {
   "cell_type": "code",
   "execution_count": 9,
   "id": "cbda1526",
   "metadata": {},
   "outputs": [],
   "source": [
    "# Приведем названия столбцов к змеиному регистру\n",
    "contract = contract.rename(columns={'customerID':'customer_id',\n",
    "                                    'BeginDate':'begin_date',\n",
    "                                    'EndDate':'end_date',\n",
    "                                    'Type':'type',\n",
    "                                    'PaperlessBilling':'paperless_billing',\n",
    "                                    'PaymentMethod':'payment_method',\n",
    "                                    'MonthlyCharges':'monthly_charges',\n",
    "                                    'TotalCharges':'total_charges'})\n",
    "                                   "
   ]
  },
  {
   "cell_type": "code",
   "execution_count": 10,
   "id": "e769d581",
   "metadata": {
    "scrolled": true
   },
   "outputs": [
    {
     "name": "stdout",
     "output_type": "stream",
     "text": [
      "Столбец: customer_id\n",
      "Количество уникальных значений: 7043\n",
      "Первые 10 уникальных значений: ['7590-VHVEG', '5575-GNVDE', '3668-QPYBK', '7795-CFOCW', '9237-HQITU', '9305-CDSKC', '1452-KIOVK', '6713-OKOMC', '7892-POOKP', '6388-TABGU']\n",
      "\n",
      "\n",
      "Столбец: begin_date\n",
      "Количество уникальных значений: 77\n",
      "Первые 10 уникальных значений: ['2020-01-01', '2017-04-01', '2019-10-01', '2016-05-01', '2019-09-01', '2019-03-01', '2018-04-01', '2019-04-01', '2017-07-01', '2014-12-01']\n",
      "\n",
      "\n",
      "Столбец: end_date\n",
      "Количество уникальных значений: 67\n",
      "Первые 10 уникальных значений: ['No', '2017-05-01', '2016-03-01', '2018-09-01', '2018-11-01', '2018-12-01', '2019-08-01', '2018-07-01', '2017-09-01', '2015-09-01']\n",
      "\n",
      "\n",
      "Столбец: type\n",
      "Количество уникальных значений: 3\n",
      "Первые 10 уникальных значений: ['Month-to-month', 'One year', 'Two year']\n",
      "\n",
      "\n",
      "Столбец: paperless_billing\n",
      "Количество уникальных значений: 2\n",
      "Первые 10 уникальных значений: ['Yes', 'No']\n",
      "\n",
      "\n",
      "Столбец: payment_method\n",
      "Количество уникальных значений: 4\n",
      "Первые 10 уникальных значений: ['Electronic check', 'Mailed check', 'Bank transfer (automatic)', 'Credit card (automatic)']\n",
      "\n",
      "\n",
      "Столбец: monthly_charges\n",
      "Количество уникальных значений: 1585\n",
      "Первые 10 уникальных значений: [29.85, 56.95, 53.85, 42.3, 70.7, 99.65, 89.1, 29.75, 104.8, 56.15]\n",
      "\n",
      "\n",
      "Столбец: total_charges\n",
      "Количество уникальных значений: 6658\n",
      "Первые 10 уникальных значений: ['31.04', '2071.84', '226.17', '1960.6', '353.5', '1150.96', '2058.21', '300.48', '3573.68', '1628.35']\n",
      "\n",
      "\n"
     ]
    }
   ],
   "source": [
    "for column in contract.columns:\n",
    "    unique_values = contract[column].unique()\n",
    "    unique_count = len(unique_values)\n",
    "    print(f\"Столбец: {column}\")\n",
    "    print(f\"Количество уникальных значений: {unique_count}\")\n",
    "    \n",
    "    print(f\"Первые 10 уникальных значений: {list(unique_values[:10])}\")\n",
    "    print(\"\\n\")\n"
   ]
  },
  {
   "cell_type": "markdown",
   "id": "ec764068",
   "metadata": {},
   "source": [
    "**Вывод:**\\\n",
    "Датафрейм contract_new имеет 7043 записей, что соответствует количеству уникальных значений ID и не имеет пропусков.\n",
    "Признаки **begin_date** и **end_date** содержат информацию о дате начала действия договора и дате окончания действия договора, эти данные будут давать утечку, поэтому после создания на их основе **новых** признаков, **begin_date** и **end_date** придется удалить.\\\n",
    "Создадим 2 новых признака:\n",
    "- На основе **end_date** создадим признак, показывающий ушел клиент или нет, где любая дата в столбце будет означать уход клиента и обозначаться 1. Значение 'No' означает, что клиент еще действующий и будет обозначаться 0.\n",
    "- На основе разницы значений **end_date** и **begin_date** создадим признак, который будет показывать длительность подписки пользователей.\n",
    "\n",
    "\n",
    "Признаки с числовыми значениями **(monthly_charges, total_charges)** преобразуем в тип данных float"
   ]
  },
  {
   "cell_type": "code",
   "execution_count": 11,
   "id": "ebb52bf6",
   "metadata": {
    "scrolled": true
   },
   "outputs": [
    {
     "data": {
      "text/html": [
       "<div>\n",
       "<style scoped>\n",
       "    .dataframe tbody tr th:only-of-type {\n",
       "        vertical-align: middle;\n",
       "    }\n",
       "\n",
       "    .dataframe tbody tr th {\n",
       "        vertical-align: top;\n",
       "    }\n",
       "\n",
       "    .dataframe thead th {\n",
       "        text-align: right;\n",
       "    }\n",
       "</style>\n",
       "<table border=\"1\" class=\"dataframe\">\n",
       "  <thead>\n",
       "    <tr style=\"text-align: right;\">\n",
       "      <th></th>\n",
       "      <th>customer_id</th>\n",
       "      <th>begin_date</th>\n",
       "      <th>end_date</th>\n",
       "      <th>type</th>\n",
       "      <th>paperless_billing</th>\n",
       "      <th>payment_method</th>\n",
       "      <th>monthly_charges</th>\n",
       "      <th>total_charges</th>\n",
       "      <th>is_left</th>\n",
       "    </tr>\n",
       "  </thead>\n",
       "  <tbody>\n",
       "    <tr>\n",
       "      <th>0</th>\n",
       "      <td>7590-VHVEG</td>\n",
       "      <td>2020-01-01</td>\n",
       "      <td>No</td>\n",
       "      <td>Month-to-month</td>\n",
       "      <td>Yes</td>\n",
       "      <td>Electronic check</td>\n",
       "      <td>29.85</td>\n",
       "      <td>31.04</td>\n",
       "      <td>0</td>\n",
       "    </tr>\n",
       "    <tr>\n",
       "      <th>1</th>\n",
       "      <td>5575-GNVDE</td>\n",
       "      <td>2017-04-01</td>\n",
       "      <td>No</td>\n",
       "      <td>One year</td>\n",
       "      <td>No</td>\n",
       "      <td>Mailed check</td>\n",
       "      <td>56.95</td>\n",
       "      <td>2071.84</td>\n",
       "      <td>0</td>\n",
       "    </tr>\n",
       "    <tr>\n",
       "      <th>2</th>\n",
       "      <td>3668-QPYBK</td>\n",
       "      <td>2019-10-01</td>\n",
       "      <td>No</td>\n",
       "      <td>Month-to-month</td>\n",
       "      <td>Yes</td>\n",
       "      <td>Mailed check</td>\n",
       "      <td>53.85</td>\n",
       "      <td>226.17</td>\n",
       "      <td>0</td>\n",
       "    </tr>\n",
       "    <tr>\n",
       "      <th>3</th>\n",
       "      <td>7795-CFOCW</td>\n",
       "      <td>2016-05-01</td>\n",
       "      <td>No</td>\n",
       "      <td>One year</td>\n",
       "      <td>No</td>\n",
       "      <td>Bank transfer (automatic)</td>\n",
       "      <td>42.30</td>\n",
       "      <td>1960.6</td>\n",
       "      <td>0</td>\n",
       "    </tr>\n",
       "    <tr>\n",
       "      <th>4</th>\n",
       "      <td>9237-HQITU</td>\n",
       "      <td>2019-09-01</td>\n",
       "      <td>No</td>\n",
       "      <td>Month-to-month</td>\n",
       "      <td>Yes</td>\n",
       "      <td>Electronic check</td>\n",
       "      <td>70.70</td>\n",
       "      <td>353.5</td>\n",
       "      <td>0</td>\n",
       "    </tr>\n",
       "    <tr>\n",
       "      <th>...</th>\n",
       "      <td>...</td>\n",
       "      <td>...</td>\n",
       "      <td>...</td>\n",
       "      <td>...</td>\n",
       "      <td>...</td>\n",
       "      <td>...</td>\n",
       "      <td>...</td>\n",
       "      <td>...</td>\n",
       "      <td>...</td>\n",
       "    </tr>\n",
       "    <tr>\n",
       "      <th>7038</th>\n",
       "      <td>6840-RESVB</td>\n",
       "      <td>2018-02-01</td>\n",
       "      <td>No</td>\n",
       "      <td>One year</td>\n",
       "      <td>Yes</td>\n",
       "      <td>Mailed check</td>\n",
       "      <td>84.80</td>\n",
       "      <td>2035.2</td>\n",
       "      <td>0</td>\n",
       "    </tr>\n",
       "    <tr>\n",
       "      <th>7039</th>\n",
       "      <td>2234-XADUH</td>\n",
       "      <td>2014-02-01</td>\n",
       "      <td>No</td>\n",
       "      <td>One year</td>\n",
       "      <td>Yes</td>\n",
       "      <td>Credit card (automatic)</td>\n",
       "      <td>103.20</td>\n",
       "      <td>7430.4</td>\n",
       "      <td>0</td>\n",
       "    </tr>\n",
       "    <tr>\n",
       "      <th>7040</th>\n",
       "      <td>4801-JZAZL</td>\n",
       "      <td>2019-03-01</td>\n",
       "      <td>No</td>\n",
       "      <td>Month-to-month</td>\n",
       "      <td>Yes</td>\n",
       "      <td>Electronic check</td>\n",
       "      <td>29.60</td>\n",
       "      <td>325.6</td>\n",
       "      <td>0</td>\n",
       "    </tr>\n",
       "    <tr>\n",
       "      <th>7041</th>\n",
       "      <td>8361-LTMKD</td>\n",
       "      <td>2019-07-01</td>\n",
       "      <td>No</td>\n",
       "      <td>Month-to-month</td>\n",
       "      <td>Yes</td>\n",
       "      <td>Mailed check</td>\n",
       "      <td>74.40</td>\n",
       "      <td>520.8</td>\n",
       "      <td>0</td>\n",
       "    </tr>\n",
       "    <tr>\n",
       "      <th>7042</th>\n",
       "      <td>3186-AJIEK</td>\n",
       "      <td>2014-08-01</td>\n",
       "      <td>No</td>\n",
       "      <td>Two year</td>\n",
       "      <td>Yes</td>\n",
       "      <td>Bank transfer (automatic)</td>\n",
       "      <td>105.65</td>\n",
       "      <td>7251.82</td>\n",
       "      <td>0</td>\n",
       "    </tr>\n",
       "  </tbody>\n",
       "</table>\n",
       "<p>7043 rows × 9 columns</p>\n",
       "</div>"
      ],
      "text/plain": [
       "     customer_id  begin_date end_date            type paperless_billing  \\\n",
       "0     7590-VHVEG  2020-01-01       No  Month-to-month               Yes   \n",
       "1     5575-GNVDE  2017-04-01       No        One year                No   \n",
       "2     3668-QPYBK  2019-10-01       No  Month-to-month               Yes   \n",
       "3     7795-CFOCW  2016-05-01       No        One year                No   \n",
       "4     9237-HQITU  2019-09-01       No  Month-to-month               Yes   \n",
       "...          ...         ...      ...             ...               ...   \n",
       "7038  6840-RESVB  2018-02-01       No        One year               Yes   \n",
       "7039  2234-XADUH  2014-02-01       No        One year               Yes   \n",
       "7040  4801-JZAZL  2019-03-01       No  Month-to-month               Yes   \n",
       "7041  8361-LTMKD  2019-07-01       No  Month-to-month               Yes   \n",
       "7042  3186-AJIEK  2014-08-01       No        Two year               Yes   \n",
       "\n",
       "                 payment_method  monthly_charges total_charges  is_left  \n",
       "0              Electronic check            29.85         31.04        0  \n",
       "1                  Mailed check            56.95       2071.84        0  \n",
       "2                  Mailed check            53.85        226.17        0  \n",
       "3     Bank transfer (automatic)            42.30        1960.6        0  \n",
       "4              Electronic check            70.70         353.5        0  \n",
       "...                         ...              ...           ...      ...  \n",
       "7038               Mailed check            84.80        2035.2        0  \n",
       "7039    Credit card (automatic)           103.20        7430.4        0  \n",
       "7040           Electronic check            29.60         325.6        0  \n",
       "7041               Mailed check            74.40         520.8        0  \n",
       "7042  Bank transfer (automatic)           105.65       7251.82        0  \n",
       "\n",
       "[7043 rows x 9 columns]"
      ]
     },
     "metadata": {},
     "output_type": "display_data"
    }
   ],
   "source": [
    "contract['is_left'] = contract['end_date'].apply(lambda x: 1 if x != 'No' else 0)\n",
    "display(contract)"
   ]
  },
  {
   "cell_type": "code",
   "execution_count": 12,
   "id": "90c30ce1",
   "metadata": {},
   "outputs": [],
   "source": [
    "# Заменяем значение 'No' в столце EndDate на дату выгрузки данных, чтобы найти длительность договора\n",
    "contract['end_date'] = contract['end_date'].replace('No', '2020-02-01')\n"
   ]
  },
  {
   "cell_type": "code",
   "execution_count": 13,
   "id": "6cd32023",
   "metadata": {},
   "outputs": [
    {
     "data": {
      "text/html": [
       "<div>\n",
       "<style scoped>\n",
       "    .dataframe tbody tr th:only-of-type {\n",
       "        vertical-align: middle;\n",
       "    }\n",
       "\n",
       "    .dataframe tbody tr th {\n",
       "        vertical-align: top;\n",
       "    }\n",
       "\n",
       "    .dataframe thead th {\n",
       "        text-align: right;\n",
       "    }\n",
       "</style>\n",
       "<table border=\"1\" class=\"dataframe\">\n",
       "  <thead>\n",
       "    <tr style=\"text-align: right;\">\n",
       "      <th></th>\n",
       "      <th>customer_id</th>\n",
       "      <th>type</th>\n",
       "      <th>paperless_billing</th>\n",
       "      <th>payment_method</th>\n",
       "      <th>monthly_charges</th>\n",
       "      <th>total_charges</th>\n",
       "      <th>is_left</th>\n",
       "      <th>duration_contract</th>\n",
       "    </tr>\n",
       "  </thead>\n",
       "  <tbody>\n",
       "    <tr>\n",
       "      <th>0</th>\n",
       "      <td>7590-VHVEG</td>\n",
       "      <td>Month-to-month</td>\n",
       "      <td>Yes</td>\n",
       "      <td>Electronic check</td>\n",
       "      <td>29.85</td>\n",
       "      <td>31.04</td>\n",
       "      <td>0</td>\n",
       "      <td>31</td>\n",
       "    </tr>\n",
       "    <tr>\n",
       "      <th>1</th>\n",
       "      <td>5575-GNVDE</td>\n",
       "      <td>One year</td>\n",
       "      <td>No</td>\n",
       "      <td>Mailed check</td>\n",
       "      <td>56.95</td>\n",
       "      <td>2071.84</td>\n",
       "      <td>0</td>\n",
       "      <td>1036</td>\n",
       "    </tr>\n",
       "    <tr>\n",
       "      <th>2</th>\n",
       "      <td>3668-QPYBK</td>\n",
       "      <td>Month-to-month</td>\n",
       "      <td>Yes</td>\n",
       "      <td>Mailed check</td>\n",
       "      <td>53.85</td>\n",
       "      <td>226.17</td>\n",
       "      <td>0</td>\n",
       "      <td>123</td>\n",
       "    </tr>\n",
       "    <tr>\n",
       "      <th>3</th>\n",
       "      <td>7795-CFOCW</td>\n",
       "      <td>One year</td>\n",
       "      <td>No</td>\n",
       "      <td>Bank transfer (automatic)</td>\n",
       "      <td>42.30</td>\n",
       "      <td>1960.6</td>\n",
       "      <td>0</td>\n",
       "      <td>1371</td>\n",
       "    </tr>\n",
       "    <tr>\n",
       "      <th>4</th>\n",
       "      <td>9237-HQITU</td>\n",
       "      <td>Month-to-month</td>\n",
       "      <td>Yes</td>\n",
       "      <td>Electronic check</td>\n",
       "      <td>70.70</td>\n",
       "      <td>353.5</td>\n",
       "      <td>0</td>\n",
       "      <td>153</td>\n",
       "    </tr>\n",
       "  </tbody>\n",
       "</table>\n",
       "</div>"
      ],
      "text/plain": [
       "  customer_id            type paperless_billing             payment_method  \\\n",
       "0  7590-VHVEG  Month-to-month               Yes           Electronic check   \n",
       "1  5575-GNVDE        One year                No               Mailed check   \n",
       "2  3668-QPYBK  Month-to-month               Yes               Mailed check   \n",
       "3  7795-CFOCW        One year                No  Bank transfer (automatic)   \n",
       "4  9237-HQITU  Month-to-month               Yes           Electronic check   \n",
       "\n",
       "   monthly_charges total_charges  is_left  duration_contract  \n",
       "0            29.85         31.04        0                 31  \n",
       "1            56.95       2071.84        0               1036  \n",
       "2            53.85        226.17        0                123  \n",
       "3            42.30        1960.6        0               1371  \n",
       "4            70.70         353.5        0                153  "
      ]
     },
     "execution_count": 13,
     "metadata": {},
     "output_type": "execute_result"
    }
   ],
   "source": [
    "# Преобразуем BeginDate и EndDate в тип данных datetime и вычисляем длительность договора,\n",
    "# после чего удаляем begin_date и end_date\n",
    "contract['begin_date'] = pd.to_datetime(contract['begin_date'])\n",
    "contract['end_date'] = pd.to_datetime(contract['end_date'])\n",
    "contract['duration_contract'] = contract['end_date'] - contract['begin_date']\n",
    "contract['duration_contract'] = contract['duration_contract'].dt.days.astype(int)\n",
    "contract = contract.drop(['begin_date', 'end_date'], axis=1)\n",
    "contract.head()"
   ]
  },
  {
   "cell_type": "code",
   "execution_count": 14,
   "id": "d651c34b",
   "metadata": {
    "scrolled": true
   },
   "outputs": [
    {
     "name": "stdout",
     "output_type": "stream",
     "text": [
      "Строки с пробелами в 'total_charges':\n",
      "     customer_id      type paperless_billing             payment_method  \\\n",
      "488   4472-LVYGI  Two year               Yes  Bank transfer (automatic)   \n",
      "753   3115-CZMZD  Two year                No               Mailed check   \n",
      "936   5709-LVOEQ  Two year                No               Mailed check   \n",
      "1082  4367-NUYAO  Two year                No               Mailed check   \n",
      "1340  1371-DWPAZ  Two year                No    Credit card (automatic)   \n",
      "3331  7644-OMVMY  Two year                No               Mailed check   \n",
      "3826  3213-VVOLG  Two year                No               Mailed check   \n",
      "4380  2520-SGTTA  Two year                No               Mailed check   \n",
      "5218  2923-ARZLG  One year               Yes               Mailed check   \n",
      "6670  4075-WKNIU  Two year                No               Mailed check   \n",
      "6754  2775-SEFEE  Two year               Yes  Bank transfer (automatic)   \n",
      "\n",
      "      monthly_charges total_charges  is_left  duration_contract  \n",
      "488             52.55                      0                  0  \n",
      "753             20.25                      0                  0  \n",
      "936             80.85                      0                  0  \n",
      "1082            25.75                      0                  0  \n",
      "1340            56.05                      0                  0  \n",
      "3331            19.85                      0                  0  \n",
      "3826            25.35                      0                  0  \n",
      "4380            20.00                      0                  0  \n",
      "5218            19.70                      0                  0  \n",
      "6670            73.35                      0                  0  \n",
      "6754            61.90                      0                  0  \n"
     ]
    }
   ],
   "source": [
    "mask_spaces = contract['total_charges'].apply(lambda x: isinstance(x, str) and x.strip() == '')\n",
    "rows_with_spaces = contract[mask_spaces]\n",
    "print(\"Строки с пробелами в 'total_charges':\")\n",
    "print(rows_with_spaces)"
   ]
  },
  {
   "cell_type": "code",
   "execution_count": 15,
   "id": "35615e93",
   "metadata": {},
   "outputs": [],
   "source": [
    "# Все пользователи с пробелом в столбце total_charges начали пользоваться сервисом \n",
    "# в день выгрузки данных, поэтому заменяет значения на 0\n",
    "contract['total_charges'] = contract['total_charges'].replace(' ', 0)"
   ]
  },
  {
   "cell_type": "code",
   "execution_count": 16,
   "id": "a7b42cf2",
   "metadata": {},
   "outputs": [
    {
     "data": {
      "text/html": [
       "<div>\n",
       "<style scoped>\n",
       "    .dataframe tbody tr th:only-of-type {\n",
       "        vertical-align: middle;\n",
       "    }\n",
       "\n",
       "    .dataframe tbody tr th {\n",
       "        vertical-align: top;\n",
       "    }\n",
       "\n",
       "    .dataframe thead th {\n",
       "        text-align: right;\n",
       "    }\n",
       "</style>\n",
       "<table border=\"1\" class=\"dataframe\">\n",
       "  <thead>\n",
       "    <tr style=\"text-align: right;\">\n",
       "      <th></th>\n",
       "      <th>customer_id</th>\n",
       "      <th>type</th>\n",
       "      <th>paperless_billing</th>\n",
       "      <th>payment_method</th>\n",
       "      <th>monthly_charges</th>\n",
       "      <th>total_charges</th>\n",
       "      <th>is_left</th>\n",
       "      <th>duration_contract</th>\n",
       "    </tr>\n",
       "  </thead>\n",
       "  <tbody>\n",
       "    <tr>\n",
       "      <th>0</th>\n",
       "      <td>7590-VHVEG</td>\n",
       "      <td>Month-to-month</td>\n",
       "      <td>Yes</td>\n",
       "      <td>Electronic check</td>\n",
       "      <td>29.85</td>\n",
       "      <td>31.04</td>\n",
       "      <td>0</td>\n",
       "      <td>31</td>\n",
       "    </tr>\n",
       "    <tr>\n",
       "      <th>1</th>\n",
       "      <td>5575-GNVDE</td>\n",
       "      <td>One year</td>\n",
       "      <td>No</td>\n",
       "      <td>Mailed check</td>\n",
       "      <td>56.95</td>\n",
       "      <td>2071.84</td>\n",
       "      <td>0</td>\n",
       "      <td>1036</td>\n",
       "    </tr>\n",
       "    <tr>\n",
       "      <th>2</th>\n",
       "      <td>3668-QPYBK</td>\n",
       "      <td>Month-to-month</td>\n",
       "      <td>Yes</td>\n",
       "      <td>Mailed check</td>\n",
       "      <td>53.85</td>\n",
       "      <td>226.17</td>\n",
       "      <td>0</td>\n",
       "      <td>123</td>\n",
       "    </tr>\n",
       "    <tr>\n",
       "      <th>3</th>\n",
       "      <td>7795-CFOCW</td>\n",
       "      <td>One year</td>\n",
       "      <td>No</td>\n",
       "      <td>Bank transfer (automatic)</td>\n",
       "      <td>42.30</td>\n",
       "      <td>1960.60</td>\n",
       "      <td>0</td>\n",
       "      <td>1371</td>\n",
       "    </tr>\n",
       "    <tr>\n",
       "      <th>4</th>\n",
       "      <td>9237-HQITU</td>\n",
       "      <td>Month-to-month</td>\n",
       "      <td>Yes</td>\n",
       "      <td>Electronic check</td>\n",
       "      <td>70.70</td>\n",
       "      <td>353.50</td>\n",
       "      <td>0</td>\n",
       "      <td>153</td>\n",
       "    </tr>\n",
       "  </tbody>\n",
       "</table>\n",
       "</div>"
      ],
      "text/plain": [
       "  customer_id            type paperless_billing             payment_method  \\\n",
       "0  7590-VHVEG  Month-to-month               Yes           Electronic check   \n",
       "1  5575-GNVDE        One year                No               Mailed check   \n",
       "2  3668-QPYBK  Month-to-month               Yes               Mailed check   \n",
       "3  7795-CFOCW        One year                No  Bank transfer (automatic)   \n",
       "4  9237-HQITU  Month-to-month               Yes           Electronic check   \n",
       "\n",
       "   monthly_charges  total_charges  is_left  duration_contract  \n",
       "0            29.85          31.04        0                 31  \n",
       "1            56.95        2071.84        0               1036  \n",
       "2            53.85         226.17        0                123  \n",
       "3            42.30        1960.60        0               1371  \n",
       "4            70.70         353.50        0                153  "
      ]
     },
     "execution_count": 16,
     "metadata": {},
     "output_type": "execute_result"
    }
   ],
   "source": [
    "contract['monthly_charges'] = contract['monthly_charges'].astype('float')\n",
    "contract['total_charges'] = contract['total_charges'].astype('float')\n",
    "# тут вылезла ошибка ValueError: could not convert string to float: ''ValueError: could not convert string to float: ''\n",
    "# нужно найти эту запись.\n",
    "# Исправил.\n",
    "contract.head()"
   ]
  },
  {
   "cell_type": "markdown",
   "id": "98752a89",
   "metadata": {},
   "source": [
    "#### personal_new"
   ]
  },
  {
   "cell_type": "code",
   "execution_count": 17,
   "id": "61acf434",
   "metadata": {
    "scrolled": true
   },
   "outputs": [
    {
     "name": "stdout",
     "output_type": "stream",
     "text": [
      "<class 'pandas.core.frame.DataFrame'>\n",
      "RangeIndex: 7043 entries, 0 to 7042\n",
      "Data columns (total 5 columns):\n",
      " #   Column         Non-Null Count  Dtype \n",
      "---  ------         --------------  ----- \n",
      " 0   customerID     7043 non-null   object\n",
      " 1   gender         7043 non-null   object\n",
      " 2   SeniorCitizen  7043 non-null   int64 \n",
      " 3   Partner        7043 non-null   object\n",
      " 4   Dependents     7043 non-null   object\n",
      "dtypes: int64(1), object(4)\n",
      "memory usage: 275.2+ KB\n"
     ]
    },
    {
     "data": {
      "text/html": [
       "<div>\n",
       "<style scoped>\n",
       "    .dataframe tbody tr th:only-of-type {\n",
       "        vertical-align: middle;\n",
       "    }\n",
       "\n",
       "    .dataframe tbody tr th {\n",
       "        vertical-align: top;\n",
       "    }\n",
       "\n",
       "    .dataframe thead th {\n",
       "        text-align: right;\n",
       "    }\n",
       "</style>\n",
       "<table border=\"1\" class=\"dataframe\">\n",
       "  <thead>\n",
       "    <tr style=\"text-align: right;\">\n",
       "      <th></th>\n",
       "      <th>customerID</th>\n",
       "      <th>gender</th>\n",
       "      <th>SeniorCitizen</th>\n",
       "      <th>Partner</th>\n",
       "      <th>Dependents</th>\n",
       "    </tr>\n",
       "  </thead>\n",
       "  <tbody>\n",
       "    <tr>\n",
       "      <th>0</th>\n",
       "      <td>7590-VHVEG</td>\n",
       "      <td>Female</td>\n",
       "      <td>0</td>\n",
       "      <td>Yes</td>\n",
       "      <td>No</td>\n",
       "    </tr>\n",
       "    <tr>\n",
       "      <th>1</th>\n",
       "      <td>5575-GNVDE</td>\n",
       "      <td>Male</td>\n",
       "      <td>0</td>\n",
       "      <td>No</td>\n",
       "      <td>No</td>\n",
       "    </tr>\n",
       "    <tr>\n",
       "      <th>2</th>\n",
       "      <td>3668-QPYBK</td>\n",
       "      <td>Male</td>\n",
       "      <td>0</td>\n",
       "      <td>No</td>\n",
       "      <td>No</td>\n",
       "    </tr>\n",
       "    <tr>\n",
       "      <th>3</th>\n",
       "      <td>7795-CFOCW</td>\n",
       "      <td>Male</td>\n",
       "      <td>0</td>\n",
       "      <td>No</td>\n",
       "      <td>No</td>\n",
       "    </tr>\n",
       "    <tr>\n",
       "      <th>4</th>\n",
       "      <td>9237-HQITU</td>\n",
       "      <td>Female</td>\n",
       "      <td>0</td>\n",
       "      <td>No</td>\n",
       "      <td>No</td>\n",
       "    </tr>\n",
       "  </tbody>\n",
       "</table>\n",
       "</div>"
      ],
      "text/plain": [
       "   customerID  gender  SeniorCitizen Partner Dependents\n",
       "0  7590-VHVEG  Female              0     Yes         No\n",
       "1  5575-GNVDE    Male              0      No         No\n",
       "2  3668-QPYBK    Male              0      No         No\n",
       "3  7795-CFOCW    Male              0      No         No\n",
       "4  9237-HQITU  Female              0      No         No"
      ]
     },
     "execution_count": 17,
     "metadata": {},
     "output_type": "execute_result"
    }
   ],
   "source": [
    "personal.info()\n",
    "personal.describe()\n",
    "personal.head()"
   ]
  },
  {
   "cell_type": "code",
   "execution_count": 18,
   "id": "a7068341",
   "metadata": {},
   "outputs": [],
   "source": [
    "# Приведем названия столбцов к змеиному регистру\n",
    "personal = personal.rename(columns={'customerID':'customer_id',\n",
    "                                    'SeniorCitizen':'senior_citizen',\n",
    "                                    'Partner':'partner',\n",
    "                                    'Dependents':'dependents'})"
   ]
  },
  {
   "cell_type": "code",
   "execution_count": 19,
   "id": "be199e8e",
   "metadata": {},
   "outputs": [
    {
     "name": "stdout",
     "output_type": "stream",
     "text": [
      "Столбец: customer_id\n",
      "Количество уникальных значений: 7043\n",
      "Первые 10 уникальных значений: ['7590-VHVEG', '5575-GNVDE', '3668-QPYBK', '7795-CFOCW', '9237-HQITU', '9305-CDSKC', '1452-KIOVK', '6713-OKOMC', '7892-POOKP', '6388-TABGU']\n",
      "\n",
      "\n",
      "Столбец: gender\n",
      "Количество уникальных значений: 2\n",
      "Первые 10 уникальных значений: ['Female', 'Male']\n",
      "\n",
      "\n",
      "Столбец: senior_citizen\n",
      "Количество уникальных значений: 2\n",
      "Первые 10 уникальных значений: [0, 1]\n",
      "\n",
      "\n",
      "Столбец: partner\n",
      "Количество уникальных значений: 2\n",
      "Первые 10 уникальных значений: ['Yes', 'No']\n",
      "\n",
      "\n",
      "Столбец: dependents\n",
      "Количество уникальных значений: 2\n",
      "Первые 10 уникальных значений: ['No', 'Yes']\n",
      "\n",
      "\n"
     ]
    }
   ],
   "source": [
    "for column in personal.columns:\n",
    "    unique_values = personal[column].unique()\n",
    "    unique_count = len(unique_values)\n",
    "    print(f\"Столбец: {column}\")\n",
    "    print(f\"Количество уникальных значений: {unique_count}\")\n",
    "    \n",
    "    print(f\"Первые 10 уникальных значений: {list(unique_values[:10])}\")\n",
    "    print(\"\\n\")"
   ]
  },
  {
   "cell_type": "markdown",
   "id": "5780e658",
   "metadata": {},
   "source": [
    "#### internet_new"
   ]
  },
  {
   "cell_type": "code",
   "execution_count": 20,
   "id": "54c4e049",
   "metadata": {},
   "outputs": [
    {
     "name": "stdout",
     "output_type": "stream",
     "text": [
      "<class 'pandas.core.frame.DataFrame'>\n",
      "RangeIndex: 5517 entries, 0 to 5516\n",
      "Data columns (total 8 columns):\n",
      " #   Column            Non-Null Count  Dtype \n",
      "---  ------            --------------  ----- \n",
      " 0   customerID        5517 non-null   object\n",
      " 1   InternetService   5517 non-null   object\n",
      " 2   OnlineSecurity    5517 non-null   object\n",
      " 3   OnlineBackup      5517 non-null   object\n",
      " 4   DeviceProtection  5517 non-null   object\n",
      " 5   TechSupport       5517 non-null   object\n",
      " 6   StreamingTV       5517 non-null   object\n",
      " 7   StreamingMovies   5517 non-null   object\n",
      "dtypes: object(8)\n",
      "memory usage: 344.9+ KB\n"
     ]
    },
    {
     "data": {
      "text/html": [
       "<div>\n",
       "<style scoped>\n",
       "    .dataframe tbody tr th:only-of-type {\n",
       "        vertical-align: middle;\n",
       "    }\n",
       "\n",
       "    .dataframe tbody tr th {\n",
       "        vertical-align: top;\n",
       "    }\n",
       "\n",
       "    .dataframe thead th {\n",
       "        text-align: right;\n",
       "    }\n",
       "</style>\n",
       "<table border=\"1\" class=\"dataframe\">\n",
       "  <thead>\n",
       "    <tr style=\"text-align: right;\">\n",
       "      <th></th>\n",
       "      <th>customerID</th>\n",
       "      <th>InternetService</th>\n",
       "      <th>OnlineSecurity</th>\n",
       "      <th>OnlineBackup</th>\n",
       "      <th>DeviceProtection</th>\n",
       "      <th>TechSupport</th>\n",
       "      <th>StreamingTV</th>\n",
       "      <th>StreamingMovies</th>\n",
       "    </tr>\n",
       "  </thead>\n",
       "  <tbody>\n",
       "    <tr>\n",
       "      <th>0</th>\n",
       "      <td>7590-VHVEG</td>\n",
       "      <td>DSL</td>\n",
       "      <td>No</td>\n",
       "      <td>Yes</td>\n",
       "      <td>No</td>\n",
       "      <td>No</td>\n",
       "      <td>No</td>\n",
       "      <td>No</td>\n",
       "    </tr>\n",
       "    <tr>\n",
       "      <th>1</th>\n",
       "      <td>5575-GNVDE</td>\n",
       "      <td>DSL</td>\n",
       "      <td>Yes</td>\n",
       "      <td>No</td>\n",
       "      <td>Yes</td>\n",
       "      <td>No</td>\n",
       "      <td>No</td>\n",
       "      <td>No</td>\n",
       "    </tr>\n",
       "    <tr>\n",
       "      <th>2</th>\n",
       "      <td>3668-QPYBK</td>\n",
       "      <td>DSL</td>\n",
       "      <td>Yes</td>\n",
       "      <td>Yes</td>\n",
       "      <td>No</td>\n",
       "      <td>No</td>\n",
       "      <td>No</td>\n",
       "      <td>No</td>\n",
       "    </tr>\n",
       "    <tr>\n",
       "      <th>3</th>\n",
       "      <td>7795-CFOCW</td>\n",
       "      <td>DSL</td>\n",
       "      <td>Yes</td>\n",
       "      <td>No</td>\n",
       "      <td>Yes</td>\n",
       "      <td>Yes</td>\n",
       "      <td>No</td>\n",
       "      <td>No</td>\n",
       "    </tr>\n",
       "    <tr>\n",
       "      <th>4</th>\n",
       "      <td>9237-HQITU</td>\n",
       "      <td>Fiber optic</td>\n",
       "      <td>No</td>\n",
       "      <td>No</td>\n",
       "      <td>No</td>\n",
       "      <td>No</td>\n",
       "      <td>No</td>\n",
       "      <td>No</td>\n",
       "    </tr>\n",
       "  </tbody>\n",
       "</table>\n",
       "</div>"
      ],
      "text/plain": [
       "   customerID InternetService OnlineSecurity OnlineBackup DeviceProtection  \\\n",
       "0  7590-VHVEG             DSL             No          Yes               No   \n",
       "1  5575-GNVDE             DSL            Yes           No              Yes   \n",
       "2  3668-QPYBK             DSL            Yes          Yes               No   \n",
       "3  7795-CFOCW             DSL            Yes           No              Yes   \n",
       "4  9237-HQITU     Fiber optic             No           No               No   \n",
       "\n",
       "  TechSupport StreamingTV StreamingMovies  \n",
       "0          No          No              No  \n",
       "1          No          No              No  \n",
       "2          No          No              No  \n",
       "3         Yes          No              No  \n",
       "4          No          No              No  "
      ]
     },
     "execution_count": 20,
     "metadata": {},
     "output_type": "execute_result"
    }
   ],
   "source": [
    "internet.info()\n",
    "internet.describe()\n",
    "internet.head()"
   ]
  },
  {
   "cell_type": "code",
   "execution_count": 21,
   "id": "ffe54223",
   "metadata": {},
   "outputs": [],
   "source": [
    "# Приведем названия столбцов к змеиному регистру\n",
    "internet = internet.rename(columns={'customerID':'customer_id',\n",
    "                                    'InternetService':'internet_service',\n",
    "                                    'OnlineSecurity':'online_security',\n",
    "                                    'OnlineBackup':'online_backup',\n",
    "                                    'DeviceProtection':'device_protection',\n",
    "                                    'TechSupport':'tech_support',\n",
    "                                    'StreamingTV':'streaming_tv',\n",
    "                                    'StreamingMovies':'streaming_movies'})"
   ]
  },
  {
   "cell_type": "code",
   "execution_count": 22,
   "id": "0e935c35",
   "metadata": {
    "scrolled": false
   },
   "outputs": [
    {
     "name": "stdout",
     "output_type": "stream",
     "text": [
      "Столбец: customer_id\n",
      "Количество уникальных значений: 5517\n",
      "Первые 10 уникальных значений: ['7590-VHVEG', '5575-GNVDE', '3668-QPYBK', '7795-CFOCW', '9237-HQITU', '9305-CDSKC', '1452-KIOVK', '6713-OKOMC', '7892-POOKP', '6388-TABGU']\n",
      "\n",
      "\n",
      "Столбец: internet_service\n",
      "Количество уникальных значений: 2\n",
      "Первые 10 уникальных значений: ['DSL', 'Fiber optic']\n",
      "\n",
      "\n",
      "Столбец: online_security\n",
      "Количество уникальных значений: 2\n",
      "Первые 10 уникальных значений: ['No', 'Yes']\n",
      "\n",
      "\n",
      "Столбец: online_backup\n",
      "Количество уникальных значений: 2\n",
      "Первые 10 уникальных значений: ['Yes', 'No']\n",
      "\n",
      "\n",
      "Столбец: device_protection\n",
      "Количество уникальных значений: 2\n",
      "Первые 10 уникальных значений: ['No', 'Yes']\n",
      "\n",
      "\n",
      "Столбец: tech_support\n",
      "Количество уникальных значений: 2\n",
      "Первые 10 уникальных значений: ['No', 'Yes']\n",
      "\n",
      "\n",
      "Столбец: streaming_tv\n",
      "Количество уникальных значений: 2\n",
      "Первые 10 уникальных значений: ['No', 'Yes']\n",
      "\n",
      "\n",
      "Столбец: streaming_movies\n",
      "Количество уникальных значений: 2\n",
      "Первые 10 уникальных значений: ['No', 'Yes']\n",
      "\n",
      "\n"
     ]
    }
   ],
   "source": [
    "for column in internet.columns:\n",
    "    unique_values = internet[column].unique()\n",
    "    unique_count = len(unique_values)\n",
    "    print(f\"Столбец: {column}\")\n",
    "    print(f\"Количество уникальных значений: {unique_count}\")\n",
    "    \n",
    "    print(f\"Первые 10 уникальных значений: {list(unique_values[:10])}\")\n",
    "    print(\"\\n\")"
   ]
  },
  {
   "cell_type": "markdown",
   "id": "33cc349a",
   "metadata": {},
   "source": [
    "#### phone_new"
   ]
  },
  {
   "cell_type": "code",
   "execution_count": 23,
   "id": "43a09824",
   "metadata": {},
   "outputs": [
    {
     "name": "stdout",
     "output_type": "stream",
     "text": [
      "<class 'pandas.core.frame.DataFrame'>\n",
      "RangeIndex: 6361 entries, 0 to 6360\n",
      "Data columns (total 2 columns):\n",
      " #   Column         Non-Null Count  Dtype \n",
      "---  ------         --------------  ----- \n",
      " 0   customerID     6361 non-null   object\n",
      " 1   MultipleLines  6361 non-null   object\n",
      "dtypes: object(2)\n",
      "memory usage: 99.5+ KB\n"
     ]
    },
    {
     "data": {
      "text/html": [
       "<div>\n",
       "<style scoped>\n",
       "    .dataframe tbody tr th:only-of-type {\n",
       "        vertical-align: middle;\n",
       "    }\n",
       "\n",
       "    .dataframe tbody tr th {\n",
       "        vertical-align: top;\n",
       "    }\n",
       "\n",
       "    .dataframe thead th {\n",
       "        text-align: right;\n",
       "    }\n",
       "</style>\n",
       "<table border=\"1\" class=\"dataframe\">\n",
       "  <thead>\n",
       "    <tr style=\"text-align: right;\">\n",
       "      <th></th>\n",
       "      <th>customerID</th>\n",
       "      <th>MultipleLines</th>\n",
       "    </tr>\n",
       "  </thead>\n",
       "  <tbody>\n",
       "    <tr>\n",
       "      <th>0</th>\n",
       "      <td>5575-GNVDE</td>\n",
       "      <td>No</td>\n",
       "    </tr>\n",
       "    <tr>\n",
       "      <th>1</th>\n",
       "      <td>3668-QPYBK</td>\n",
       "      <td>No</td>\n",
       "    </tr>\n",
       "    <tr>\n",
       "      <th>2</th>\n",
       "      <td>9237-HQITU</td>\n",
       "      <td>No</td>\n",
       "    </tr>\n",
       "    <tr>\n",
       "      <th>3</th>\n",
       "      <td>9305-CDSKC</td>\n",
       "      <td>Yes</td>\n",
       "    </tr>\n",
       "    <tr>\n",
       "      <th>4</th>\n",
       "      <td>1452-KIOVK</td>\n",
       "      <td>Yes</td>\n",
       "    </tr>\n",
       "  </tbody>\n",
       "</table>\n",
       "</div>"
      ],
      "text/plain": [
       "   customerID MultipleLines\n",
       "0  5575-GNVDE            No\n",
       "1  3668-QPYBK            No\n",
       "2  9237-HQITU            No\n",
       "3  9305-CDSKC           Yes\n",
       "4  1452-KIOVK           Yes"
      ]
     },
     "execution_count": 23,
     "metadata": {},
     "output_type": "execute_result"
    }
   ],
   "source": [
    "phone.info()\n",
    "phone.describe()\n",
    "phone.head()"
   ]
  },
  {
   "cell_type": "code",
   "execution_count": 24,
   "id": "f8f91214",
   "metadata": {},
   "outputs": [],
   "source": [
    "# Приведем названия столбцов к змеиному регистру\n",
    "phone = phone.rename(columns={'customerID':'customer_id',\n",
    "                              'MultipleLines':'multiple_lines'})"
   ]
  },
  {
   "cell_type": "code",
   "execution_count": 25,
   "id": "724d135d",
   "metadata": {},
   "outputs": [
    {
     "name": "stdout",
     "output_type": "stream",
     "text": [
      "Столбец: customer_id\n",
      "Количество уникальных значений: 6361\n",
      "Первые 10 уникальных значений: ['5575-GNVDE', '3668-QPYBK', '9237-HQITU', '9305-CDSKC', '1452-KIOVK', '7892-POOKP', '6388-TABGU', '9763-GRSKD', '7469-LKBCI', '8091-TTVAX']\n",
      "\n",
      "\n",
      "Столбец: multiple_lines\n",
      "Количество уникальных значений: 2\n",
      "Первые 10 уникальных значений: ['No', 'Yes']\n",
      "\n",
      "\n"
     ]
    }
   ],
   "source": [
    "for column in phone.columns:\n",
    "    unique_values = phone[column].unique()\n",
    "    unique_count = len(unique_values)\n",
    "    print(f\"Столбец: {column}\")\n",
    "    print(f\"Количество уникальных значений: {unique_count}\")\n",
    "    \n",
    "    print(f\"Первые 10 уникальных значений: {list(unique_values[:10])}\")\n",
    "    print(\"\\n\")"
   ]
  },
  {
   "cell_type": "markdown",
   "id": "2f7f9046",
   "metadata": {},
   "source": [
    "#### Вывод:\n",
    "1. contract_new:\n",
    "    - Привели названия столбцов к змеиному регистру\n",
    "    - Вывели уникальные значения каждого столбца\n",
    "    - Создали 2 новых признака: ***is_left***(является ли абонент клиентом на текущий момент)\\\n",
    "      и ***duration_contract***(длительность подписки).\\\n",
    "      ***is_left*** будет целевым признаком.\n",
    "    - Удалили 2 признака: ***begin_date*** и ***end_date***, которые вызвали бы утечку данных\n",
    "    - Изменили тип данных у столбцов ***monthly_charges*** и ***total_charges***\n",
    "2. personal_new:\n",
    "    - Привели названия столбцов к змеиному регистру\n",
    "    - Вывели уникальные значения каждого столбца\n",
    "3. internet_new:\n",
    "    - Привели названия столбцов к змеиному регистру\n",
    "    - Вывели уникальные значения каждого столбца\n",
    "4. phone_new: \n",
    "    - Привели названия столбцов к змеиному регистру\n",
    "    - Вывели уникальные значения каждого столбца\n",
    "    \n",
    "В internet_new и phone_new отличается количество уникальных id, следовательно не каждый абонент пользуется и интернетом, и телефоном. При объединении таблиц будет много пропусков в данных."
   ]
  },
  {
   "cell_type": "markdown",
   "id": "0f01826a",
   "metadata": {},
   "source": [
    "### 4. Объединение данных"
   ]
  },
  {
   "cell_type": "markdown",
   "id": "bcf6d9f6",
   "metadata": {},
   "source": [
    "Датафреймы будем объединять по признаку customer_id"
   ]
  },
  {
   "cell_type": "code",
   "execution_count": 26,
   "id": "ae6870ee",
   "metadata": {},
   "outputs": [],
   "source": [
    "df = pd.merge(contract, personal, on='customer_id', how='outer')\n",
    "df = pd.merge(df, internet, on='customer_id', how='outer')\n",
    "df = pd.merge(df, phone, on='customer_id', how='outer')"
   ]
  },
  {
   "cell_type": "code",
   "execution_count": 27,
   "id": "9b6846c2",
   "metadata": {
    "scrolled": true
   },
   "outputs": [
    {
     "name": "stdout",
     "output_type": "stream",
     "text": [
      "<class 'pandas.core.frame.DataFrame'>\n",
      "Int64Index: 7043 entries, 0 to 7042\n",
      "Data columns (total 20 columns):\n",
      " #   Column             Non-Null Count  Dtype  \n",
      "---  ------             --------------  -----  \n",
      " 0   customer_id        7043 non-null   object \n",
      " 1   type               7043 non-null   object \n",
      " 2   paperless_billing  7043 non-null   object \n",
      " 3   payment_method     7043 non-null   object \n",
      " 4   monthly_charges    7043 non-null   float64\n",
      " 5   total_charges      7043 non-null   float64\n",
      " 6   is_left            7043 non-null   int64  \n",
      " 7   duration_contract  7043 non-null   int64  \n",
      " 8   gender             7043 non-null   object \n",
      " 9   senior_citizen     7043 non-null   int64  \n",
      " 10  partner            7043 non-null   object \n",
      " 11  dependents         7043 non-null   object \n",
      " 12  internet_service   5517 non-null   object \n",
      " 13  online_security    5517 non-null   object \n",
      " 14  online_backup      5517 non-null   object \n",
      " 15  device_protection  5517 non-null   object \n",
      " 16  tech_support       5517 non-null   object \n",
      " 17  streaming_tv       5517 non-null   object \n",
      " 18  streaming_movies   5517 non-null   object \n",
      " 19  multiple_lines     6361 non-null   object \n",
      "dtypes: float64(2), int64(3), object(15)\n",
      "memory usage: 1.1+ MB\n"
     ]
    },
    {
     "data": {
      "text/html": [
       "<div>\n",
       "<style scoped>\n",
       "    .dataframe tbody tr th:only-of-type {\n",
       "        vertical-align: middle;\n",
       "    }\n",
       "\n",
       "    .dataframe tbody tr th {\n",
       "        vertical-align: top;\n",
       "    }\n",
       "\n",
       "    .dataframe thead th {\n",
       "        text-align: right;\n",
       "    }\n",
       "</style>\n",
       "<table border=\"1\" class=\"dataframe\">\n",
       "  <thead>\n",
       "    <tr style=\"text-align: right;\">\n",
       "      <th></th>\n",
       "      <th>customer_id</th>\n",
       "      <th>type</th>\n",
       "      <th>paperless_billing</th>\n",
       "      <th>payment_method</th>\n",
       "      <th>monthly_charges</th>\n",
       "      <th>total_charges</th>\n",
       "      <th>is_left</th>\n",
       "      <th>duration_contract</th>\n",
       "      <th>gender</th>\n",
       "      <th>senior_citizen</th>\n",
       "      <th>partner</th>\n",
       "      <th>dependents</th>\n",
       "      <th>internet_service</th>\n",
       "      <th>online_security</th>\n",
       "      <th>online_backup</th>\n",
       "      <th>device_protection</th>\n",
       "      <th>tech_support</th>\n",
       "      <th>streaming_tv</th>\n",
       "      <th>streaming_movies</th>\n",
       "      <th>multiple_lines</th>\n",
       "    </tr>\n",
       "  </thead>\n",
       "  <tbody>\n",
       "    <tr>\n",
       "      <th>0</th>\n",
       "      <td>7590-VHVEG</td>\n",
       "      <td>Month-to-month</td>\n",
       "      <td>Yes</td>\n",
       "      <td>Electronic check</td>\n",
       "      <td>29.85</td>\n",
       "      <td>31.04</td>\n",
       "      <td>0</td>\n",
       "      <td>31</td>\n",
       "      <td>Female</td>\n",
       "      <td>0</td>\n",
       "      <td>Yes</td>\n",
       "      <td>No</td>\n",
       "      <td>DSL</td>\n",
       "      <td>No</td>\n",
       "      <td>Yes</td>\n",
       "      <td>No</td>\n",
       "      <td>No</td>\n",
       "      <td>No</td>\n",
       "      <td>No</td>\n",
       "      <td>NaN</td>\n",
       "    </tr>\n",
       "    <tr>\n",
       "      <th>1</th>\n",
       "      <td>5575-GNVDE</td>\n",
       "      <td>One year</td>\n",
       "      <td>No</td>\n",
       "      <td>Mailed check</td>\n",
       "      <td>56.95</td>\n",
       "      <td>2071.84</td>\n",
       "      <td>0</td>\n",
       "      <td>1036</td>\n",
       "      <td>Male</td>\n",
       "      <td>0</td>\n",
       "      <td>No</td>\n",
       "      <td>No</td>\n",
       "      <td>DSL</td>\n",
       "      <td>Yes</td>\n",
       "      <td>No</td>\n",
       "      <td>Yes</td>\n",
       "      <td>No</td>\n",
       "      <td>No</td>\n",
       "      <td>No</td>\n",
       "      <td>No</td>\n",
       "    </tr>\n",
       "    <tr>\n",
       "      <th>2</th>\n",
       "      <td>3668-QPYBK</td>\n",
       "      <td>Month-to-month</td>\n",
       "      <td>Yes</td>\n",
       "      <td>Mailed check</td>\n",
       "      <td>53.85</td>\n",
       "      <td>226.17</td>\n",
       "      <td>0</td>\n",
       "      <td>123</td>\n",
       "      <td>Male</td>\n",
       "      <td>0</td>\n",
       "      <td>No</td>\n",
       "      <td>No</td>\n",
       "      <td>DSL</td>\n",
       "      <td>Yes</td>\n",
       "      <td>Yes</td>\n",
       "      <td>No</td>\n",
       "      <td>No</td>\n",
       "      <td>No</td>\n",
       "      <td>No</td>\n",
       "      <td>No</td>\n",
       "    </tr>\n",
       "    <tr>\n",
       "      <th>3</th>\n",
       "      <td>7795-CFOCW</td>\n",
       "      <td>One year</td>\n",
       "      <td>No</td>\n",
       "      <td>Bank transfer (automatic)</td>\n",
       "      <td>42.30</td>\n",
       "      <td>1960.60</td>\n",
       "      <td>0</td>\n",
       "      <td>1371</td>\n",
       "      <td>Male</td>\n",
       "      <td>0</td>\n",
       "      <td>No</td>\n",
       "      <td>No</td>\n",
       "      <td>DSL</td>\n",
       "      <td>Yes</td>\n",
       "      <td>No</td>\n",
       "      <td>Yes</td>\n",
       "      <td>Yes</td>\n",
       "      <td>No</td>\n",
       "      <td>No</td>\n",
       "      <td>NaN</td>\n",
       "    </tr>\n",
       "    <tr>\n",
       "      <th>4</th>\n",
       "      <td>9237-HQITU</td>\n",
       "      <td>Month-to-month</td>\n",
       "      <td>Yes</td>\n",
       "      <td>Electronic check</td>\n",
       "      <td>70.70</td>\n",
       "      <td>353.50</td>\n",
       "      <td>0</td>\n",
       "      <td>153</td>\n",
       "      <td>Female</td>\n",
       "      <td>0</td>\n",
       "      <td>No</td>\n",
       "      <td>No</td>\n",
       "      <td>Fiber optic</td>\n",
       "      <td>No</td>\n",
       "      <td>No</td>\n",
       "      <td>No</td>\n",
       "      <td>No</td>\n",
       "      <td>No</td>\n",
       "      <td>No</td>\n",
       "      <td>No</td>\n",
       "    </tr>\n",
       "  </tbody>\n",
       "</table>\n",
       "</div>"
      ],
      "text/plain": [
       "  customer_id            type paperless_billing             payment_method  \\\n",
       "0  7590-VHVEG  Month-to-month               Yes           Electronic check   \n",
       "1  5575-GNVDE        One year                No               Mailed check   \n",
       "2  3668-QPYBK  Month-to-month               Yes               Mailed check   \n",
       "3  7795-CFOCW        One year                No  Bank transfer (automatic)   \n",
       "4  9237-HQITU  Month-to-month               Yes           Electronic check   \n",
       "\n",
       "   monthly_charges  total_charges  is_left  duration_contract  gender  \\\n",
       "0            29.85          31.04        0                 31  Female   \n",
       "1            56.95        2071.84        0               1036    Male   \n",
       "2            53.85         226.17        0                123    Male   \n",
       "3            42.30        1960.60        0               1371    Male   \n",
       "4            70.70         353.50        0                153  Female   \n",
       "\n",
       "   senior_citizen partner dependents internet_service online_security  \\\n",
       "0               0     Yes         No              DSL              No   \n",
       "1               0      No         No              DSL             Yes   \n",
       "2               0      No         No              DSL             Yes   \n",
       "3               0      No         No              DSL             Yes   \n",
       "4               0      No         No      Fiber optic              No   \n",
       "\n",
       "  online_backup device_protection tech_support streaming_tv streaming_movies  \\\n",
       "0           Yes                No           No           No               No   \n",
       "1            No               Yes           No           No               No   \n",
       "2           Yes                No           No           No               No   \n",
       "3            No               Yes          Yes           No               No   \n",
       "4            No                No           No           No               No   \n",
       "\n",
       "  multiple_lines  \n",
       "0            NaN  \n",
       "1             No  \n",
       "2             No  \n",
       "3            NaN  \n",
       "4             No  "
      ]
     },
     "execution_count": 27,
     "metadata": {},
     "output_type": "execute_result"
    }
   ],
   "source": [
    "df.info()\n",
    "df.head()"
   ]
  },
  {
   "cell_type": "code",
   "execution_count": 28,
   "id": "98ad6360",
   "metadata": {
    "scrolled": true
   },
   "outputs": [
    {
     "name": "stdout",
     "output_type": "stream",
     "text": [
      "Столбец: customer_id\n",
      "Количество уникальных значений: 7043\n",
      "Первые 10 уникальных значений: ['7590-VHVEG', '5575-GNVDE', '3668-QPYBK', '7795-CFOCW', '9237-HQITU', '9305-CDSKC', '1452-KIOVK', '6713-OKOMC', '7892-POOKP', '6388-TABGU']\n",
      "\n",
      "\n",
      "Столбец: type\n",
      "Количество уникальных значений: 3\n",
      "Первые 10 уникальных значений: ['Month-to-month', 'One year', 'Two year']\n",
      "\n",
      "\n",
      "Столбец: paperless_billing\n",
      "Количество уникальных значений: 2\n",
      "Первые 10 уникальных значений: ['Yes', 'No']\n",
      "\n",
      "\n",
      "Столбец: payment_method\n",
      "Количество уникальных значений: 4\n",
      "Первые 10 уникальных значений: ['Electronic check', 'Mailed check', 'Bank transfer (automatic)', 'Credit card (automatic)']\n",
      "\n",
      "\n",
      "Столбец: monthly_charges\n",
      "Количество уникальных значений: 1585\n",
      "Первые 10 уникальных значений: [29.85, 56.95, 53.85, 42.3, 70.7, 99.65, 89.1, 29.75, 104.8, 56.15]\n",
      "\n",
      "\n",
      "Столбец: total_charges\n",
      "Количество уникальных значений: 6658\n",
      "Первые 10 уникальных значений: [31.04, 2071.84, 226.17, 1960.6, 353.5, 1150.96, 2058.21, 300.48, 3573.68, 1628.35]\n",
      "\n",
      "\n",
      "Столбец: is_left\n",
      "Количество уникальных значений: 2\n",
      "Первые 10 уникальных значений: [0, 1]\n",
      "\n",
      "\n",
      "Столбец: duration_contract\n",
      "Количество уникальных значений: 251\n",
      "Первые 10 уникальных значений: [31, 1036, 123, 1371, 153, 337, 671, 306, 945, 882]\n",
      "\n",
      "\n",
      "Столбец: gender\n",
      "Количество уникальных значений: 2\n",
      "Первые 10 уникальных значений: ['Female', 'Male']\n",
      "\n",
      "\n",
      "Столбец: senior_citizen\n",
      "Количество уникальных значений: 2\n",
      "Первые 10 уникальных значений: [0, 1]\n",
      "\n",
      "\n",
      "Столбец: partner\n",
      "Количество уникальных значений: 2\n",
      "Первые 10 уникальных значений: ['Yes', 'No']\n",
      "\n",
      "\n",
      "Столбец: dependents\n",
      "Количество уникальных значений: 2\n",
      "Первые 10 уникальных значений: ['No', 'Yes']\n",
      "\n",
      "\n",
      "Столбец: internet_service\n",
      "Количество уникальных значений: 3\n",
      "Первые 10 уникальных значений: ['DSL', 'Fiber optic', nan]\n",
      "\n",
      "\n",
      "Столбец: online_security\n",
      "Количество уникальных значений: 3\n",
      "Первые 10 уникальных значений: ['No', 'Yes', nan]\n",
      "\n",
      "\n",
      "Столбец: online_backup\n",
      "Количество уникальных значений: 3\n",
      "Первые 10 уникальных значений: ['Yes', 'No', nan]\n",
      "\n",
      "\n",
      "Столбец: device_protection\n",
      "Количество уникальных значений: 3\n",
      "Первые 10 уникальных значений: ['No', 'Yes', nan]\n",
      "\n",
      "\n",
      "Столбец: tech_support\n",
      "Количество уникальных значений: 3\n",
      "Первые 10 уникальных значений: ['No', 'Yes', nan]\n",
      "\n",
      "\n",
      "Столбец: streaming_tv\n",
      "Количество уникальных значений: 3\n",
      "Первые 10 уникальных значений: ['No', 'Yes', nan]\n",
      "\n",
      "\n",
      "Столбец: streaming_movies\n",
      "Количество уникальных значений: 3\n",
      "Первые 10 уникальных значений: ['No', 'Yes', nan]\n",
      "\n",
      "\n",
      "Столбец: multiple_lines\n",
      "Количество уникальных значений: 3\n",
      "Первые 10 уникальных значений: [nan, 'No', 'Yes']\n",
      "\n",
      "\n"
     ]
    }
   ],
   "source": [
    "for column in df.columns:\n",
    "    unique_values = df[column].unique()\n",
    "    unique_count = len(unique_values)\n",
    "    print(f\"Столбец: {column}\")\n",
    "    print(f\"Количество уникальных значений: {unique_count}\")\n",
    "    \n",
    "    print(f\"Первые 10 уникальных значений: {list(unique_values[:10])}\")\n",
    "    print(\"\\n\")"
   ]
  },
  {
   "cell_type": "markdown",
   "id": "ba5b2055",
   "metadata": {},
   "source": [
    "Все 'nan' означают, что клиент не пользуется данным сервисом, заменяем на 'No'"
   ]
  },
  {
   "cell_type": "code",
   "execution_count": 29,
   "id": "7a443c67",
   "metadata": {},
   "outputs": [],
   "source": [
    "df = df.fillna('No')"
   ]
  },
  {
   "cell_type": "code",
   "execution_count": 30,
   "id": "afcb72d3",
   "metadata": {},
   "outputs": [
    {
     "name": "stdout",
     "output_type": "stream",
     "text": [
      "<class 'pandas.core.frame.DataFrame'>\n",
      "Int64Index: 7043 entries, 0 to 7042\n",
      "Data columns (total 20 columns):\n",
      " #   Column             Non-Null Count  Dtype  \n",
      "---  ------             --------------  -----  \n",
      " 0   customer_id        7043 non-null   object \n",
      " 1   type               7043 non-null   object \n",
      " 2   paperless_billing  7043 non-null   object \n",
      " 3   payment_method     7043 non-null   object \n",
      " 4   monthly_charges    7043 non-null   float64\n",
      " 5   total_charges      7043 non-null   float64\n",
      " 6   is_left            7043 non-null   int64  \n",
      " 7   duration_contract  7043 non-null   int64  \n",
      " 8   gender             7043 non-null   object \n",
      " 9   senior_citizen     7043 non-null   int64  \n",
      " 10  partner            7043 non-null   object \n",
      " 11  dependents         7043 non-null   object \n",
      " 12  internet_service   7043 non-null   object \n",
      " 13  online_security    7043 non-null   object \n",
      " 14  online_backup      7043 non-null   object \n",
      " 15  device_protection  7043 non-null   object \n",
      " 16  tech_support       7043 non-null   object \n",
      " 17  streaming_tv       7043 non-null   object \n",
      " 18  streaming_movies   7043 non-null   object \n",
      " 19  multiple_lines     7043 non-null   object \n",
      "dtypes: float64(2), int64(3), object(15)\n",
      "memory usage: 1.1+ MB\n"
     ]
    }
   ],
   "source": [
    "df.info()"
   ]
  },
  {
   "cell_type": "markdown",
   "id": "42fedb34",
   "metadata": {},
   "source": [
    "#### Вывод:\n",
    "Объединили датафреймы по общему ключу и заполнили пропуски"
   ]
  },
  {
   "cell_type": "markdown",
   "id": "c91cfb20",
   "metadata": {},
   "source": [
    "### 5. Исследовательский анализ и предобработка данных объединенного датафрейма"
   ]
  },
  {
   "cell_type": "code",
   "execution_count": 31,
   "id": "9cf790a9",
   "metadata": {
    "scrolled": false
   },
   "outputs": [
    {
     "name": "stdout",
     "output_type": "stream",
     "text": [
      "customer_id: категориальный признак\n",
      "type: категориальный признак\n",
      "paperless_billing: категориальный признак\n",
      "payment_method: категориальный признак\n",
      "monthly_charges: числовой признак\n",
      "total_charges: числовой признак\n",
      "is_left: категориальный признак\n",
      "duration_contract: числовой признак\n",
      "gender: категориальный признак\n",
      "senior_citizen: категориальный признак\n",
      "partner: категориальный признак\n",
      "dependents: категориальный признак\n",
      "internet_service: категориальный признак\n",
      "online_security: категориальный признак\n",
      "online_backup: категориальный признак\n",
      "device_protection: категориальный признак\n",
      "tech_support: категориальный признак\n",
      "streaming_tv: категориальный признак\n",
      "streaming_movies: категориальный признак\n",
      "multiple_lines: категориальный признак\n",
      "Количество категориальных признаков: 17\n",
      "Количество числовых признаков: 3\n"
     ]
    }
   ],
   "source": [
    "categorical_count = 0\n",
    "numerical_count = 0\n",
    "\n",
    "for column in df.columns:\n",
    "    unique_vals = df[column].nunique()\n",
    "    if df[column].dtype == 'object' or unique_vals < 10:\n",
    "        print(f\"{column}: категориальный признак\")\n",
    "        categorical_count += 1\n",
    "    else:\n",
    "        print(f\"{column}: числовой признак\")\n",
    "        numerical_count += 1\n",
    "print(f\"Количество категориальных признаков: {categorical_count}\")\n",
    "print(f\"Количество числовых признаков: {numerical_count}\")"
   ]
  },
  {
   "cell_type": "markdown",
   "id": "bb2e7f38",
   "metadata": {},
   "source": [
    "Целевой признак несбалансирован, значение 1 встречается гораздо чаще, чем 0, поэтому будем регулировать веса модели."
   ]
  },
  {
   "cell_type": "markdown",
   "id": "7c4b7d27",
   "metadata": {},
   "source": [
    "Так же из общей картины выбивается столбец senior_citizen, в котором есть два значения: 0 и 1, когда остальные бинарные признаки представленны в виде 'Yes' и 'No'. Исправим"
   ]
  },
  {
   "cell_type": "code",
   "execution_count": 32,
   "id": "071aceab",
   "metadata": {},
   "outputs": [],
   "source": [
    "df['senior_citizen'] = df['senior_citizen'].replace({0: 'No', 1: 'Yes'})"
   ]
  },
  {
   "cell_type": "markdown",
   "id": "d0fc93fe",
   "metadata": {},
   "source": [
    "В итоге мы имеем 17 категориальных признаков, один из которых уникальный идентификатор и один целевой,\n",
    "и 3 числовых признака."
   ]
  },
  {
   "cell_type": "code",
   "execution_count": 33,
   "id": "c1401d39",
   "metadata": {},
   "outputs": [],
   "source": [
    "#Удалим идентификатор \n",
    "dff = df.drop('customer_id', axis=1)"
   ]
  },
  {
   "cell_type": "code",
   "execution_count": 34,
   "id": "1d1b69a3",
   "metadata": {},
   "outputs": [
    {
     "name": "stdout",
     "output_type": "stream",
     "text": [
      "<class 'pandas.core.frame.DataFrame'>\n",
      "Int64Index: 7043 entries, 0 to 7042\n",
      "Data columns (total 19 columns):\n",
      " #   Column             Non-Null Count  Dtype  \n",
      "---  ------             --------------  -----  \n",
      " 0   type               7043 non-null   object \n",
      " 1   paperless_billing  7043 non-null   object \n",
      " 2   payment_method     7043 non-null   object \n",
      " 3   monthly_charges    7043 non-null   float64\n",
      " 4   total_charges      7043 non-null   float64\n",
      " 5   is_left            7043 non-null   int64  \n",
      " 6   duration_contract  7043 non-null   int64  \n",
      " 7   gender             7043 non-null   object \n",
      " 8   senior_citizen     7043 non-null   object \n",
      " 9   partner            7043 non-null   object \n",
      " 10  dependents         7043 non-null   object \n",
      " 11  internet_service   7043 non-null   object \n",
      " 12  online_security    7043 non-null   object \n",
      " 13  online_backup      7043 non-null   object \n",
      " 14  device_protection  7043 non-null   object \n",
      " 15  tech_support       7043 non-null   object \n",
      " 16  streaming_tv       7043 non-null   object \n",
      " 17  streaming_movies   7043 non-null   object \n",
      " 18  multiple_lines     7043 non-null   object \n",
      "dtypes: float64(2), int64(2), object(15)\n",
      "memory usage: 1.1+ MB\n"
     ]
    }
   ],
   "source": [
    "dff.info()"
   ]
  },
  {
   "cell_type": "markdown",
   "id": "1a48f28b",
   "metadata": {},
   "source": [
    "Определим числовые и категориальные признаки"
   ]
  },
  {
   "cell_type": "code",
   "execution_count": 35,
   "id": "8306cdff",
   "metadata": {},
   "outputs": [],
   "source": [
    "numerical_features = ['monthly_charges', 'total_charges', 'duration_contract']\n",
    "categorical_features = ['type', 'paperless_billing', 'payment_method', 'gender', \n",
    "                        'senior_citizen', 'partner', 'dependents', 'internet_service', \n",
    "                        'online_security', 'online_backup', 'device_protection', \n",
    "                        'tech_support', 'streaming_tv', 'streaming_movies', 'multiple_lines']"
   ]
  },
  {
   "cell_type": "markdown",
   "id": "63002683",
   "metadata": {},
   "source": [
    "Рассмотрим отличия между группами ушедших и оставшихся клиентов"
   ]
  },
  {
   "cell_type": "code",
   "execution_count": 36,
   "id": "20e317c9",
   "metadata": {},
   "outputs": [],
   "source": [
    "def compare_groups(data, column):\n",
    "    left = data[data['is_left'] == 1][column].value_counts(normalize=True)\n",
    "    stayed = data[data['is_left'] == 0][column].value_counts(normalize=True)\n",
    "    print(f'Распределение для {column} (ушедшие):\\n{left*100}\\n')\n",
    "    print(f'Распределение для {column} (оставшиеся):\\n{stayed*100}\\n')"
   ]
  },
  {
   "cell_type": "code",
   "execution_count": 37,
   "id": "7fe3e3db",
   "metadata": {},
   "outputs": [
    {
     "data": {
      "text/html": [
       "<div>\n",
       "<style scoped>\n",
       "    .dataframe tbody tr th:only-of-type {\n",
       "        vertical-align: middle;\n",
       "    }\n",
       "\n",
       "    .dataframe tbody tr th {\n",
       "        vertical-align: top;\n",
       "    }\n",
       "\n",
       "    .dataframe thead th {\n",
       "        text-align: right;\n",
       "    }\n",
       "</style>\n",
       "<table border=\"1\" class=\"dataframe\">\n",
       "  <thead>\n",
       "    <tr style=\"text-align: right;\">\n",
       "      <th></th>\n",
       "      <th>is_left</th>\n",
       "      <th>monthly_charges</th>\n",
       "      <th>total_charges</th>\n",
       "      <th>duration_contract</th>\n",
       "    </tr>\n",
       "  </thead>\n",
       "  <tbody>\n",
       "    <tr>\n",
       "      <th>0</th>\n",
       "      <td>Оставшиеся</td>\n",
       "      <td>62.76</td>\n",
       "      <td>2067.87</td>\n",
       "      <td>893.68</td>\n",
       "    </tr>\n",
       "    <tr>\n",
       "      <th>1</th>\n",
       "      <td>Ушедшие</td>\n",
       "      <td>75.55</td>\n",
       "      <td>2371.38</td>\n",
       "      <td>924.86</td>\n",
       "    </tr>\n",
       "  </tbody>\n",
       "</table>\n",
       "</div>"
      ],
      "text/plain": [
       "      is_left  monthly_charges  total_charges  duration_contract\n",
       "0  Оставшиеся            62.76        2067.87             893.68\n",
       "1     Ушедшие            75.55        2371.38             924.86"
      ]
     },
     "execution_count": 37,
     "metadata": {},
     "output_type": "execute_result"
    }
   ],
   "source": [
    "comparison = df.groupby('is_left').agg({\n",
    "    'monthly_charges': 'mean',\n",
    "    'total_charges': 'mean',\n",
    "    'duration_contract': 'mean'\n",
    "    }).rename(index={0: 'Оставшиеся', 1: 'Ушедшие'}).reset_index()\n",
    "\n",
    "comparison = comparison.round(2)\n",
    "comparison"
   ]
  },
  {
   "cell_type": "code",
   "execution_count": 38,
   "id": "0ca77819",
   "metadata": {},
   "outputs": [
    {
     "name": "stdout",
     "output_type": "stream",
     "text": [
      "Распределение для internet_service (ушедшие):\n",
      "Fiber optic    54.041780\n",
      "DSL            31.425976\n",
      "No             14.532243\n",
      "Name: internet_service, dtype: float64\n",
      "\n",
      "Распределение для internet_service (оставшиеся):\n",
      "Fiber optic    42.090205\n",
      "DSL            34.920902\n",
      "No             22.988893\n",
      "Name: internet_service, dtype: float64\n",
      "\n"
     ]
    }
   ],
   "source": [
    "compare_groups(dff, 'internet_service')"
   ]
  },
  {
   "cell_type": "code",
   "execution_count": 39,
   "id": "ede5b2b8",
   "metadata": {},
   "outputs": [
    {
     "name": "stdout",
     "output_type": "stream",
     "text": [
      "Распределение для online_security (ушедшие):\n",
      "No     62.306994\n",
      "Yes    37.693006\n",
      "Name: online_security, dtype: float64\n",
      "\n",
      "Распределение для online_security (оставшиеся):\n",
      "No     73.005722\n",
      "Yes    26.994278\n",
      "Name: online_security, dtype: float64\n",
      "\n"
     ]
    }
   ],
   "source": [
    "compare_groups(dff, 'online_security')"
   ]
  },
  {
   "cell_type": "code",
   "execution_count": 40,
   "id": "a1d17ac1",
   "metadata": {},
   "outputs": [
    {
     "name": "stdout",
     "output_type": "stream",
     "text": [
      "Распределение для online_backup (ушедшие):\n",
      "Yes    50.862852\n",
      "No     49.137148\n",
      "Name: online_backup, dtype: float64\n",
      "\n",
      "Распределение для online_backup (оставшиеся):\n",
      "No     68.545944\n",
      "Yes    31.454056\n",
      "Name: online_backup, dtype: float64\n",
      "\n"
     ]
    }
   ],
   "source": [
    "compare_groups(dff, 'online_backup')"
   ]
  },
  {
   "cell_type": "code",
   "execution_count": 41,
   "id": "5d8f649e",
   "metadata": {},
   "outputs": [
    {
     "name": "stdout",
     "output_type": "stream",
     "text": [
      "Распределение для device_protection (ушедшие):\n",
      "No     50.045413\n",
      "Yes    49.954587\n",
      "Name: device_protection, dtype: float64\n",
      "\n",
      "Распределение для device_protection (оставшиеся):\n",
      "No     68.495456\n",
      "Yes    31.504544\n",
      "Name: device_protection, dtype: float64\n",
      "\n"
     ]
    }
   ],
   "source": [
    "compare_groups(dff, 'device_protection')"
   ]
  },
  {
   "cell_type": "code",
   "execution_count": 42,
   "id": "1e5a305f",
   "metadata": {},
   "outputs": [
    {
     "name": "stdout",
     "output_type": "stream",
     "text": [
      "Распределение для tech_support (ушедшие):\n",
      "No     63.851045\n",
      "Yes    36.148955\n",
      "Name: tech_support, dtype: float64\n",
      "\n",
      "Распределение для tech_support (оставшиеся):\n",
      "No     72.298889\n",
      "Yes    27.701111\n",
      "Name: tech_support, dtype: float64\n",
      "\n"
     ]
    }
   ],
   "source": [
    "compare_groups(dff, 'tech_support')"
   ]
  },
  {
   "cell_type": "code",
   "execution_count": 43,
   "id": "84b31388",
   "metadata": {},
   "outputs": [
    {
     "name": "stdout",
     "output_type": "stream",
     "text": [
      "Распределение для streaming_tv (ушедшие):\n",
      "Yes    53.042688\n",
      "No     46.957312\n",
      "Name: streaming_tv, dtype: float64\n",
      "\n",
      "Распределение для streaming_tv (оставшиеся):\n",
      "No     64.271289\n",
      "Yes    35.728711\n",
      "Name: streaming_tv, dtype: float64\n",
      "\n"
     ]
    }
   ],
   "source": [
    "compare_groups(dff, 'streaming_tv')"
   ]
  },
  {
   "cell_type": "code",
   "execution_count": 44,
   "id": "5f0a52ab",
   "metadata": {},
   "outputs": [
    {
     "name": "stdout",
     "output_type": "stream",
     "text": [
      "Распределение для streaming_movies (ушедшие):\n",
      "Yes    55.040872\n",
      "No     44.959128\n",
      "Name: streaming_movies, dtype: float64\n",
      "\n",
      "Распределение для streaming_movies (оставшиеся):\n",
      "No     64.220801\n",
      "Yes    35.779199\n",
      "Name: streaming_movies, dtype: float64\n",
      "\n"
     ]
    }
   ],
   "source": [
    "compare_groups(dff, 'streaming_movies')"
   ]
  },
  {
   "cell_type": "code",
   "execution_count": 45,
   "id": "f6481d64",
   "metadata": {},
   "outputs": [
    {
     "name": "stdout",
     "output_type": "stream",
     "text": [
      "Распределение для multiple_lines (ушедшие):\n",
      "Yes    61.580381\n",
      "No     38.419619\n",
      "Name: multiple_lines, dtype: float64\n",
      "\n",
      "Распределение для multiple_lines (оставшиеся):\n",
      "No     61.4103\n",
      "Yes    38.5897\n",
      "Name: multiple_lines, dtype: float64\n",
      "\n"
     ]
    }
   ],
   "source": [
    "compare_groups(dff, 'multiple_lines')"
   ]
  },
  {
   "cell_type": "code",
   "execution_count": 46,
   "id": "b8cb4546",
   "metadata": {},
   "outputs": [
    {
     "name": "stdout",
     "output_type": "stream",
     "text": [
      "Распределение для type (ушедшие):\n",
      "Month-to-month    36.966394\n",
      "Two year          34.604905\n",
      "One year          28.428701\n",
      "Name: type, dtype: float64\n",
      "\n",
      "Распределение для type (оставшиеся):\n",
      "Month-to-month    58.364187\n",
      "Two year          22.113766\n",
      "One year          19.522046\n",
      "Name: type, dtype: float64\n",
      "\n"
     ]
    }
   ],
   "source": [
    "compare_groups(dff, 'type')"
   ]
  },
  {
   "cell_type": "code",
   "execution_count": 47,
   "id": "9e920cf2",
   "metadata": {},
   "outputs": [
    {
     "name": "stdout",
     "output_type": "stream",
     "text": [
      "Распределение для payment_method (ушедшие):\n",
      "Electronic check             31.789282\n",
      "Credit card (automatic)      28.792007\n",
      "Bank transfer (automatic)    28.792007\n",
      "Mailed check                 10.626703\n",
      "Name: payment_method, dtype: float64\n",
      "\n",
      "Распределение для payment_method (оставшиеся):\n",
      "Electronic check             33.911141\n",
      "Mailed check                 25.159879\n",
      "Bank transfer (automatic)    20.649613\n",
      "Credit card (automatic)      20.279367\n",
      "Name: payment_method, dtype: float64\n",
      "\n"
     ]
    }
   ],
   "source": [
    "compare_groups(dff, 'payment_method')"
   ]
  },
  {
   "cell_type": "code",
   "execution_count": 48,
   "id": "c39bff3a",
   "metadata": {},
   "outputs": [
    {
     "name": "stdout",
     "output_type": "stream",
     "text": [
      "Распределение для senior_citizen (ушедшие):\n",
      "No     78.928247\n",
      "Yes    21.071753\n",
      "Name: senior_citizen, dtype: float64\n",
      "\n",
      "Распределение для senior_citizen (оставшиеся):\n",
      "No     84.685291\n",
      "Yes    15.314709\n",
      "Name: senior_citizen, dtype: float64\n",
      "\n"
     ]
    }
   ],
   "source": [
    "compare_groups(dff, 'senior_citizen')"
   ]
  },
  {
   "cell_type": "code",
   "execution_count": 49,
   "id": "7d4e7b6f",
   "metadata": {},
   "outputs": [
    {
     "name": "stdout",
     "output_type": "stream",
     "text": [
      "Распределение для partner (ушедшие):\n",
      "Yes    65.304269\n",
      "No     34.695731\n",
      "Name: partner, dtype: float64\n",
      "\n",
      "Распределение для partner (оставшиеся):\n",
      "No     54.846853\n",
      "Yes    45.153147\n",
      "Name: partner, dtype: float64\n",
      "\n"
     ]
    }
   ],
   "source": [
    "compare_groups(dff, 'partner')"
   ]
  },
  {
   "cell_type": "code",
   "execution_count": 50,
   "id": "73cd0fec",
   "metadata": {
    "scrolled": true
   },
   "outputs": [
    {
     "data": {
      "image/png": "[encoded data removed]",
      "text/plain": [
       "<Figure size 720x432 with 1 Axes>"
      ]
     },
     "metadata": {
      "needs_background": "light"
     },
     "output_type": "display_data"
    },
    {
     "data": {
      "image/png": "[encoded data removed]",
      "text/plain": [
       "<Figure size 720x432 with 1 Axes>"
      ]
     },
     "metadata": {
      "needs_background": "light"
     },
     "output_type": "display_data"
    },
    {
     "data": {
      "image/png": "[encoded data removed]",
      "text/plain": [
       "<Figure size 720x432 with 1 Axes>"
      ]
     },
     "metadata": {
      "needs_background": "light"
     },
     "output_type": "display_data"
    }
   ],
   "source": [
    "# Получение выборок ушедших и оставшихся клиентов\n",
    "churned = dff[dff['is_left'] == 1]  # Ушедшие (is_left=1)\n",
    "stayed = dff[dff['is_left'] == 0]  # Остались (is_left=0)\n",
    "# Сравнение значений некоторых числовых признаков\n",
    "numerical_features = ['monthly_charges', 'total_charges', 'duration_contract']\n",
    "\n",
    "for feature in numerical_features:\n",
    "    plt.figure(figsize=(10, 6))\n",
    "    plt.hist(churned[feature], bins=30, alpha=0.5, label='Ушли', color='red')\n",
    "    plt.hist(stayed[feature], bins=30, alpha=0.5, label='Остались', color='green')\n",
    "    plt.xlabel(feature)\n",
    "    plt.ylabel('Количество клиентов')\n",
    "    plt.title(f'Распределение {feature} для ушедших и оставшихся клиентов')\n",
    "    plt.legend()\n",
    "    plt.show()"
   ]
  },
  {
   "cell_type": "markdown",
   "id": "14a9d4c8",
   "metadata": {},
   "source": [
    "**Вывод:**\n",
    "- **monthly_charges** - Часть клиентов уходят не оплатив даже месяц, другая часть ушедших клиентов увеличивается с ростом ежемесячного платежа.\n",
    "- **total_charges** - Чем больше клиент заплатил за все время пользования сервисом, тем меньше вероятность, что он уйдет\n",
    "- **duration_contract** - Так же, чем дольше клиент пользуется сервисом, тем меньше вероятность, что он уйдет, но есть выбросы на 500, 1000 и 1500 днях."
   ]
  },
  {
   "cell_type": "code",
   "execution_count": 51,
   "id": "ef156175",
   "metadata": {
    "scrolled": true
   },
   "outputs": [
    {
     "data": {
      "text/plain": [
       "<Figure size 720x432 with 0 Axes>"
      ]
     },
     "metadata": {},
     "output_type": "display_data"
    },
    {
     "data": {
      "image/png": "[encoded data removed]",
      "text/plain": [
       "<Figure size 720x432 with 1 Axes>"
      ]
     },
     "metadata": {
      "needs_background": "light"
     },
     "output_type": "display_data"
    },
    {
     "data": {
      "text/plain": [
       "<Figure size 720x432 with 0 Axes>"
      ]
     },
     "metadata": {},
     "output_type": "display_data"
    },
    {
     "data": {
      "image/png": "[encoded data removed]",
      "text/plain": [
       "<Figure size 720x432 with 1 Axes>"
      ]
     },
     "metadata": {
      "needs_background": "light"
     },
     "output_type": "display_data"
    },
    {
     "data": {
      "text/plain": [
       "<Figure size 720x432 with 0 Axes>"
      ]
     },
     "metadata": {},
     "output_type": "display_data"
    },
    {
     "data": {
      "image/png": "[encoded data removed]",
      "text/plain": [
       "<Figure size 720x432 with 1 Axes>"
      ]
     },
     "metadata": {
      "needs_background": "light"
     },
     "output_type": "display_data"
    },
    {
     "data": {
      "text/plain": [
       "<Figure size 720x432 with 0 Axes>"
      ]
     },
     "metadata": {},
     "output_type": "display_data"
    },
    {
     "data": {
      "image/png": "[encoded data removed]",
      "text/plain": [
       "<Figure size 720x432 with 1 Axes>"
      ]
     },
     "metadata": {
      "needs_background": "light"
     },
     "output_type": "display_data"
    },
    {
     "data": {
      "text/plain": [
       "<Figure size 720x432 with 0 Axes>"
      ]
     },
     "metadata": {},
     "output_type": "display_data"
    },
    {
     "data": {
      "image/png": "[encoded data removed]",
      "text/plain": [
       "<Figure size 720x432 with 1 Axes>"
      ]
     },
     "metadata": {
      "needs_background": "light"
     },
     "output_type": "display_data"
    },
    {
     "data": {
      "text/plain": [
       "<Figure size 720x432 with 0 Axes>"
      ]
     },
     "metadata": {},
     "output_type": "display_data"
    },
    {
     "data": {
      "image/png": "[encoded data removed]",
      "text/plain": [
       "<Figure size 720x432 with 1 Axes>"
      ]
     },
     "metadata": {
      "needs_background": "light"
     },
     "output_type": "display_data"
    },
    {
     "data": {
      "text/plain": [
       "<Figure size 720x432 with 0 Axes>"
      ]
     },
     "metadata": {},
     "output_type": "display_data"
    },
    {
     "data": {
      "image/png": "[encoded data removed]",
      "text/plain": [
       "<Figure size 720x432 with 1 Axes>"
      ]
     },
     "metadata": {
      "needs_background": "light"
     },
     "output_type": "display_data"
    },
    {
     "data": {
      "text/plain": [
       "<Figure size 720x432 with 0 Axes>"
      ]
     },
     "metadata": {},
     "output_type": "display_data"
    },
    {
     "data": {
      "image/png": "[encoded data removed]",
      "text/plain": [
       "<Figure size 720x432 with 1 Axes>"
      ]
     },
     "metadata": {
      "needs_background": "light"
     },
     "output_type": "display_data"
    },
    {
     "data": {
      "text/plain": [
       "<Figure size 720x432 with 0 Axes>"
      ]
     },
     "metadata": {},
     "output_type": "display_data"
    },
    {
     "data": {
      "image/png": "[encoded data removed]",
      "text/plain": [
       "<Figure size 720x432 with 1 Axes>"
      ]
     },
     "metadata": {
      "needs_background": "light"
     },
     "output_type": "display_data"
    },
    {
     "data": {
      "text/plain": [
       "<Figure size 720x432 with 0 Axes>"
      ]
     },
     "metadata": {},
     "output_type": "display_data"
    },
    {
     "data": {
      "image/png": "[encoded data removed]",
      "text/plain": [
       "<Figure size 720x432 with 1 Axes>"
      ]
     },
     "metadata": {
      "needs_background": "light"
     },
     "output_type": "display_data"
    },
    {
     "data": {
      "text/plain": [
       "<Figure size 720x432 with 0 Axes>"
      ]
     },
     "metadata": {},
     "output_type": "display_data"
    },
    {
     "data": {
      "image/png": "[encoded data removed]",
      "text/plain": [
       "<Figure size 720x432 with 1 Axes>"
      ]
     },
     "metadata": {
      "needs_background": "light"
     },
     "output_type": "display_data"
    },
    {
     "data": {
      "text/plain": [
       "<Figure size 720x432 with 0 Axes>"
      ]
     },
     "metadata": {},
     "output_type": "display_data"
    },
    {
     "data": {
      "image/png": "[encoded data removed]",
      "text/plain": [
       "<Figure size 720x432 with 1 Axes>"
      ]
     },
     "metadata": {
      "needs_background": "light"
     },
     "output_type": "display_data"
    },
    {
     "data": {
      "text/plain": [
       "<Figure size 720x432 with 0 Axes>"
      ]
     },
     "metadata": {},
     "output_type": "display_data"
    },
    {
     "data": {
      "image/png": "[encoded data removed]",
      "text/plain": [
       "<Figure size 720x432 with 1 Axes>"
      ]
     },
     "metadata": {
      "needs_background": "light"
     },
     "output_type": "display_data"
    },
    {
     "data": {
      "text/plain": [
       "<Figure size 720x432 with 0 Axes>"
      ]
     },
     "metadata": {},
     "output_type": "display_data"
    },
    {
     "data": {
      "image/png": "[encoded data removed]",
      "text/plain": [
       "<Figure size 720x432 with 1 Axes>"
      ]
     },
     "metadata": {
      "needs_background": "light"
     },
     "output_type": "display_data"
    },
    {
     "data": {
      "text/plain": [
       "<Figure size 720x432 with 0 Axes>"
      ]
     },
     "metadata": {},
     "output_type": "display_data"
    },
    {
     "data": {
      "image/png": "[encoded data removed]",
      "text/plain": [
       "<Figure size 720x432 with 1 Axes>"
      ]
     },
     "metadata": {
      "needs_background": "light"
     },
     "output_type": "display_data"
    }
   ],
   "source": [
    "for feature in categorical_features:\n",
    "    plt.figure(figsize=(10, 6))\n",
    "    churned_counts = churned[feature].value_counts(normalize=True)\n",
    "    stayed_counts = stayed[feature].value_counts(normalize=True)\n",
    "    \n",
    "    df_plot = pd.DataFrame({'Ушли': churned_counts, 'Остались': stayed_counts})\n",
    "    df_plot.plot(kind='bar', figsize=(10, 6))\n",
    "    \n",
    "    plt.title(f'Распределение {feature} для ушедших и оставшихся клиентов')\n",
    "    plt.ylabel('Доля')\n",
    "    plt.show()"
   ]
  },
  {
   "cell_type": "markdown",
   "id": "73c04737",
   "metadata": {},
   "source": [
    "**Вывод:**\n",
    "- **paperless_billing** - Разница небольшая, тип расчетного листа не особо сильно влияет на уход клиентов\n",
    "- **gender** - Гендер вообще никак не поможет модели определить уход, мужчины и женщины уходят одинаково часто\n",
    "- **dependents** - Наличие у клиента детей не влияет на его решение уйти\n",
    "\n",
    "Все остальные признаки так или иначе имеют зависимость с решением клиента уйти.\\\n",
    "Небольшую завимость, но имеют, составим по ним очень отдаленный портрет ушедшего клиента:\n",
    "- Платит по ≈100 (долларов? Рублей?) в месяц\n",
    "- За весь период пользования заплатил не более 3000\n",
    "- Пользуется услугами компании ≈1000 дней\n",
    "- Оплачивает услуги ежемесячно\n",
    "- Получает электронный расчетный лист\n",
    "- Пользуется электронным платежом\n",
    "- Женат/замужем\n",
    "- Не имеет детей\n",
    "- Подключено оптоволокно\n",
    "- Не подключена блокировка опасных сайтов\n",
    "- Пользуется выделенной линией технической поддержки\n",
    "- Пользуется стриминговым телевидинием и каталогом фильмов\n",
    "- Пользуется подключением телефона к нескольким линиям одновременно"
   ]
  },
  {
   "cell_type": "code",
   "execution_count": 52,
   "id": "cdea8a4a",
   "metadata": {},
   "outputs": [
    {
     "name": "stdout",
     "output_type": "stream",
     "text": [
      "Корреляция Спирмена с is_left:\n",
      "{'monthly_charges': 0.1640864650187693, 'total_charges': 0.13968074332997266, 'duration_contract': 0.06163546956354183}\n"
     ]
    }
   ],
   "source": [
    "# Для числовых признаков используем корреляцию Спирмена\n",
    "spearman_corr = {}\n",
    "for feature in numerical_features:\n",
    "    corr, _ = spearmanr(dff[feature], dff['is_left'].astype(float))\n",
    "    spearman_corr[feature] = corr\n",
    "\n",
    "print(\"Корреляция Спирмена с is_left:\")\n",
    "print(spearman_corr)\n"
   ]
  },
  {
   "cell_type": "code",
   "execution_count": 53,
   "id": "48784e13",
   "metadata": {},
   "outputs": [
    {
     "name": "stderr",
     "output_type": "stream",
     "text": [
      "/tmp/ipykernel_339/142650751.py:7: FutureWarning: \n",
      "\n",
      "Passing `palette` without assigning `hue` is deprecated and will be removed in v0.14.0. Assign the `y` variable to `hue` and set `legend=False` for the same effect.\n",
      "\n",
      "  sns.barplot(data=spearman_df, x='Correlation', y='Feature', palette='coolwarm')\n"
     ]
    },
    {
     "data": {
      "image/png": "[encoded data removed]",
      "text/plain": [
       "<Figure size 720x432 with 1 Axes>"
      ]
     },
     "metadata": {
      "needs_background": "light"
     },
     "output_type": "display_data"
    }
   ],
   "source": [
    "# Преобразуем результаты корреляции Спирмена в DataFrame\n",
    "spearman_df = pd.DataFrame(list(spearman_corr.items()), columns=['Feature', 'Correlation'])\n",
    "spearman_df.sort_values(by='Correlation', ascending=False, inplace=True)\n",
    "\n",
    "# Построим барплот\n",
    "plt.figure(figsize=(10, 6))\n",
    "sns.barplot(data=spearman_df, x='Correlation', y='Feature', palette='coolwarm')\n",
    "plt.title('Корреляция Спирмена с is_left (числовые признаки)', fontsize=16)\n",
    "plt.xlabel('Корреляция', fontsize=14)\n",
    "plt.ylabel('Признак', fontsize=14)\n",
    "plt.show()"
   ]
  },
  {
   "cell_type": "markdown",
   "id": "fc6dff33",
   "metadata": {},
   "source": [
    "1. **monthly_charges (Месячные платежи)**  \n",
    "   - Имеет наибольшую (отрицательную) корреляцию с **is_left**: около -0.16.\n",
    "   - Отрицательная связь говорит о том, что клиенты с более высокими ежемесячными платежами чаще расторгают контракт.\n",
    "\n",
    "\n",
    "2. **total_charges (Общая сумма платежей)**  \n",
    "   - Уровень корреляции близок к monthly_charges, но немного слабее: около -0.10.\n",
    "   - Подобная отрицательная связь может указывать на то, что клиенты с высокой суммарной стоимостью услуг также с большей вероятностью завершают контракт.\n",
    "\n",
    "\n",
    "3. **duration_contract (Продолжительность контракта)**  \n",
    "   - Корреляция положительная и составляет около 0.05.\n",
    "   - Это говорит о том, что чем дольше длится контракт, тем больше вероятность его активного статуса (**is_left**)."
   ]
  },
  {
   "cell_type": "code",
   "execution_count": 54,
   "id": "f3a329f4",
   "metadata": {},
   "outputs": [],
   "source": [
    "# Функция для расчета корреляции Крамера\n",
    "def cramers_v(confusion_matrix):\n",
    "    chi2 = chi2_contingency(confusion_matrix)[0]\n",
    "    n = confusion_matrix.sum()\n",
    "    phi2 = chi2/n\n",
    "    r, k = confusion_matrix.shape\n",
    "    return np.sqrt(phi2 / min(k-1, r-1))"
   ]
  },
  {
   "cell_type": "code",
   "execution_count": 55,
   "id": "2097fed5",
   "metadata": {},
   "outputs": [
    {
     "name": "stdout",
     "output_type": "stream",
     "text": [
      "\n",
      "Корреляция Крамера с is_left:\n",
      "{'type': 0.15661649371426611, 'paperless_billing': 0.05447087690436701, 'payment_method': 0.14407908736974753, 'gender': 0.013108226932690061, 'senior_citizen': 0.05619322486918113, 'partner': 0.14605622482052194, 'dependents': 0.03213693607269817, 'internet_service': 0.09543270650414676, 'online_security': 0.08548867987359535, 'online_backup': 0.14787674808817233, 'device_protection': 0.14064794895632682, 'tech_support': 0.06716574005790839, 'streaming_tv': 0.12885930231159226, 'streaming_movies': 0.14315590554357252, 'multiple_lines': 0.16867029548541287}\n"
     ]
    }
   ],
   "source": [
    "# Для категориальных признаков используем корреляцию Крамера\n",
    "cramers_corr = {}\n",
    "for feature in categorical_features:\n",
    "    confusion_matrix = pd.crosstab(dff[feature], dff['is_left'])\n",
    "    cramers_corr[feature] = cramers_v(confusion_matrix.values)\n",
    "\n",
    "print(\"\\nКорреляция Крамера с is_left:\")\n",
    "print(cramers_corr)"
   ]
  },
  {
   "cell_type": "code",
   "execution_count": 56,
   "id": "ca4a3ed9",
   "metadata": {},
   "outputs": [
    {
     "data": {
      "image/png": "[encoded data removed]",
      "text/plain": [
       "<Figure size 720x576 with 1 Axes>"
      ]
     },
     "metadata": {
      "needs_background": "light"
     },
     "output_type": "display_data"
    }
   ],
   "source": [
    "# Преобразуем результаты корреляции Крамера в DataFrame\n",
    "cramers_df = pd.DataFrame(list(cramers_corr.items()), columns=['Feature', 'Correlation'])\n",
    "cramers_df.sort_values(by='Correlation', ascending=False, inplace=True)\n",
    "\n",
    "# Построим барплот\n",
    "plt.figure(figsize=(10, 8))\n",
    "sns.barplot(data=cramers_df, x='Correlation', y='Feature', hue='Feature', palette='viridis', dodge=False)\n",
    "plt.title('Корреляция Крамера с is_left (категориальные признаки)', fontsize=16)\n",
    "plt.xlabel('Корреляция', fontsize=14)\n",
    "plt.ylabel('Признак', fontsize=14)\n",
    "plt.show()"
   ]
  },
  {
   "cell_type": "code",
   "execution_count": 57,
   "id": "461d3805",
   "metadata": {},
   "outputs": [
    {
     "data": {
      "image/png": "[encoded data removed]",
      "text/plain": [
       "<Figure size 1080x720 with 2 Axes>"
      ]
     },
     "metadata": {
      "needs_background": "light"
     },
     "output_type": "display_data"
    }
   ],
   "source": [
    "# Вычисляем матрицу корреляции Phik\n",
    "phik_matrix = dff.phik_matrix(interval_cols=['monthly_charges', 'total_charges', 'duration_contract'])\n",
    "\n",
    "# Визуализация матрицы корреляции\n",
    "plt.figure(figsize=(15, 10))\n",
    "sns.heatmap(phik_matrix, annot=True, cmap='coolwarm', fmt=\".2f\")\n",
    "plt.title('Матрица Phi_k корреляции')\n",
    "plt.show()"
   ]
  },
  {
   "cell_type": "markdown",
   "id": "03808aca",
   "metadata": {},
   "source": [
    "#### Вывод:\n",
    "Мы провели исследовательский анализ данных и выяслинили:\n",
    "1. Корреляции с целевым признаком:\n",
    "   - duration_contract: Имеет умеренную положительную корреляцию с is_left (значение около 0.37). Это может означать, что чем дольше длится контракт, тем больше вероятность, что он будет действующим.\n",
    "   - total_charges: Имеет положительную корреляцию с is_left около 0.3, что логично, так как с ростом общей суммы, уплаченной клиентом, вероятность того, что контракт действующий, может возрастать.\n",
    "\n",
    "2. Незначительные корреляции:\n",
    "   - gender, senior_citizen, dependents: Все эти переменные имеют близкую к нулю корреляцию с is_left, что означает отсутствие значимой зависимости и вероятную бесполезность этих признаков при построении модели для предсказания статуса контракта.\n",
    "\n",
    "3. Другие зависимости:\n",
    "   - internet_service и связанные с ним переменные (streaming_tv, streaming_movies) имеют слабую положительную корреляцию с is_left, что может говорить о том, что пользователи, активно использующие интернет-услуги, чаще имеют действующий контракт.\n",
    "   \n",
    "Данные, такие как: gender, paperless_billing, dependents слабо влияют на целевой признак, поэтому мы от них избавимся"
   ]
  },
  {
   "cell_type": "code",
   "execution_count": 58,
   "id": "fc9081d8",
   "metadata": {},
   "outputs": [],
   "source": [
    "dff = dff.drop(['gender', 'paperless_billing', 'dependents'], axis=1)"
   ]
  },
  {
   "cell_type": "code",
   "execution_count": 59,
   "id": "a2d319b4",
   "metadata": {},
   "outputs": [
    {
     "name": "stdout",
     "output_type": "stream",
     "text": [
      "<class 'pandas.core.frame.DataFrame'>\n",
      "Int64Index: 7043 entries, 0 to 7042\n",
      "Data columns (total 16 columns):\n",
      " #   Column             Non-Null Count  Dtype  \n",
      "---  ------             --------------  -----  \n",
      " 0   type               7043 non-null   object \n",
      " 1   payment_method     7043 non-null   object \n",
      " 2   monthly_charges    7043 non-null   float64\n",
      " 3   total_charges      7043 non-null   float64\n",
      " 4   is_left            7043 non-null   int64  \n",
      " 5   duration_contract  7043 non-null   int64  \n",
      " 6   senior_citizen     7043 non-null   object \n",
      " 7   partner            7043 non-null   object \n",
      " 8   internet_service   7043 non-null   object \n",
      " 9   online_security    7043 non-null   object \n",
      " 10  online_backup      7043 non-null   object \n",
      " 11  device_protection  7043 non-null   object \n",
      " 12  tech_support       7043 non-null   object \n",
      " 13  streaming_tv       7043 non-null   object \n",
      " 14  streaming_movies   7043 non-null   object \n",
      " 15  multiple_lines     7043 non-null   object \n",
      "dtypes: float64(2), int64(2), object(12)\n",
      "memory usage: 935.4+ KB\n"
     ]
    }
   ],
   "source": [
    "dff.info()"
   ]
  },
  {
   "cell_type": "markdown",
   "id": "44f5f710",
   "metadata": {},
   "source": [
    "### 6. Подготовка данных и обучение моделей машинного обучения"
   ]
  },
  {
   "cell_type": "markdown",
   "id": "6ae73fbd",
   "metadata": {},
   "source": [
    "#### Разделение данных на тренировочную, валидационную и тестовую выборки"
   ]
  },
  {
   "cell_type": "code",
   "execution_count": 60,
   "id": "805a3d5e",
   "metadata": {},
   "outputs": [],
   "source": [
    "features = dff.drop('is_left', axis=1)\n",
    "target = dff['is_left']"
   ]
  },
  {
   "cell_type": "code",
   "execution_count": 61,
   "id": "348c28dd",
   "metadata": {},
   "outputs": [],
   "source": [
    "X_train, X_test, y_train, y_test = train_test_split(features,\n",
    "                                                    target,\n",
    "                                                    test_size=0.25,\n",
    "                                                    random_state=RANDOM_STATE)"
   ]
  },
  {
   "cell_type": "markdown",
   "id": "22f6f918",
   "metadata": {},
   "source": [
    "#### Кодирование и масштабирование"
   ]
  },
  {
   "cell_type": "markdown",
   "id": "bc42c4eb",
   "metadata": {},
   "source": [
    "Для кодирования категориальных признаков будем использовать OneHotEncoder"
   ]
  },
  {
   "cell_type": "code",
   "execution_count": 62,
   "id": "9fbc482b",
   "metadata": {},
   "outputs": [],
   "source": [
    "numeric = ['monthly_charges', 'total_charges', 'duration_contract']\n",
    "categoric = ['type', 'payment_method', 'senior_citizen', 'partner', 'internet_service', \n",
    "             'online_security', 'online_backup', 'device_protection', \n",
    "             'tech_support', 'streaming_tv', 'streaming_movies', 'multiple_lines']"
   ]
  },
  {
   "cell_type": "code",
   "execution_count": 63,
   "id": "0b7d2932",
   "metadata": {},
   "outputs": [],
   "source": [
    "# Определение трансформеров\n",
    "numeric_transformer = StandardScaler()\n",
    "categorical_transformer = OneHotEncoder()\n",
    "\n",
    "# Объединение трансформеров в колонкоориентированный трансформер\n",
    "preprocessor = ColumnTransformer(\n",
    "    transformers=[\n",
    "        ('num', numeric_transformer, numeric),\n",
    "        ('cat', categorical_transformer, categoric)\n",
    "    ])\n",
    "\n",
    "# Применение трансформаций к данным\n",
    "features_train_preprocessed = preprocessor.fit_transform(X_train)\n",
    "features_test_preprocessed = preprocessor.transform(X_test)"
   ]
  },
  {
   "cell_type": "markdown",
   "id": "a1f5227c",
   "metadata": {},
   "source": [
    "#### Модель логической регрессии"
   ]
  },
  {
   "cell_type": "code",
   "execution_count": 64,
   "id": "2fa71383",
   "metadata": {},
   "outputs": [
    {
     "name": "stdout",
     "output_type": "stream",
     "text": [
      "Среднее значение ROC-AUC: 0.7724\n"
     ]
    }
   ],
   "source": [
    "model = LogisticRegression(class_weight=\"balanced\", random_state=RANDOM_STATE, max_iter=1000)\n",
    "\n",
    "scores = cross_val_score(\n",
    "    model,\n",
    "    features_train_preprocessed,\n",
    "    y_train,\n",
    "    cv=5,\n",
    "    scoring='roc_auc'\n",
    ")\n",
    "\n",
    "print(f\"Среднее значение ROC-AUC: {scores.mean():.4f}\")"
   ]
  },
  {
   "cell_type": "markdown",
   "id": "25ba3455",
   "metadata": {},
   "source": [
    "Модель логической регрессии показала результат ROC-AUC: 0.7724, недостаточно для выполнения ТЗ."
   ]
  },
  {
   "cell_type": "markdown",
   "id": "c305437e",
   "metadata": {},
   "source": [
    "#### Модель CatBoostClassifier"
   ]
  },
  {
   "cell_type": "code",
   "execution_count": 65,
   "id": "b8ba189e",
   "metadata": {},
   "outputs": [
    {
     "name": "stdout",
     "output_type": "stream",
     "text": [
      "Лучшие найденные параметры:  {'depth': 6, 'iterations': 200, 'l2_leaf_reg': 1, 'learning_rate': 0.1}\n",
      "Лучшее значение ROC AUC:  0.8834628547224871\n"
     ]
    }
   ],
   "source": [
    "# Определяем параметры для перебора\n",
    "param_grid = {\n",
    "    'iterations': [100, 150, 200],\n",
    "    'learning_rate': [0.01, 0.05, 0.1],\n",
    "    'depth': [4, 6, 8],\n",
    "    'l2_leaf_reg': [1, 5, 10]\n",
    "}\n",
    "\n",
    "# Создаем модель CatBoost\n",
    "model = CatBoostClassifier(loss_function=\"Logloss\", cat_features=categoric, verbose=0)\n",
    "\n",
    "# Настроим GridSearchCV\n",
    "grid_search = GridSearchCV(estimator=model, param_grid=param_grid, scoring='roc_auc', cv=3, n_jobs=-1)\n",
    "\n",
    "# Обучаем модель с перебором гиперпараметров\n",
    "grid_search.fit(X_train, y_train)\n",
    "best_model = grid_search.best_estimator_\n",
    "# Выводим лучшие параметры и оценку\n",
    "print(\"Лучшие найденные параметры: \", grid_search.best_params_)\n",
    "print(\"Лучшее значение ROC AUC: \", grid_search.best_score_)\n"
   ]
  },
  {
   "cell_type": "markdown",
   "id": "dbeb8463",
   "metadata": {},
   "source": [
    "Модель CatBoostClassifier с гиперпараметрами: {'depth': 6, 'iterations': 200, 'l2_leaf_reg': 1, 'learning_rate': 0.1}\\\n",
    "показала результат ROC-AUC: 0.8834. Этот показатель нас устраивает."
   ]
  },
  {
   "cell_type": "markdown",
   "id": "00ee49dc",
   "metadata": {},
   "source": [
    "#### Вывод: \n",
    "Мы создали две модели машинного обучения:\n",
    "- LogisticRegression\n",
    "- CatBoostClassifier\n",
    "\n",
    "Логическая регрессия показала результаты ROC-AUC: 0.7724\n",
    "\n",
    "\n",
    "в CatBoostClassifier мы перебрали гиперпараметры с помощью grid_search и лучшие гиперпараметры показали результат ROC-AUC: 0.8834 что соответствует ТЗ."
   ]
  },
  {
   "cell_type": "markdown",
   "id": "dc527221",
   "metadata": {},
   "source": [
    "### 7. Выбор и тестирование лучшей модели"
   ]
  },
  {
   "cell_type": "code",
   "execution_count": 66,
   "id": "74f0fbde",
   "metadata": {},
   "outputs": [
    {
     "name": "stdout",
     "output_type": "stream",
     "text": [
      "ROC AUC на тестовой выборке:  0.8762860776578074\n"
     ]
    }
   ],
   "source": [
    "probabilities_test = best_model.predict_proba(X_test)\n",
    "probabilities_one_test = probabilities_test[:, 1]\n",
    "\n",
    "# Вывод ROC AUC для тестовой выборки\n",
    "roc_auc_test = roc_auc_score(y_test, probabilities_one_test)\n",
    "print(\"ROC AUC на тестовой выборке: \", roc_auc_test)"
   ]
  },
  {
   "cell_type": "markdown",
   "id": "acdfa46e",
   "metadata": {},
   "source": [
    "### 8. Рекомендации"
   ]
  },
  {
   "cell_type": "markdown",
   "id": "aede6c39",
   "metadata": {},
   "source": [
    "Модель CatBoostClassifier от Яндекс оказалась лучшей и показала результат ROC-AUC: 0.8834 на тренировочной выборке и 0.8762 на тестовой выборке.\\\n",
    "Используемые гиперпараметры:\n",
    "- 'depth': 6\n",
    "- 'iterations': 200\n",
    "- 'l2_leaf_reg': 1\n",
    "- 'learning_rate': 0.1\n",
    "\n",
    "Так же мы проверяли модель логической регрессии, которая показала результат ROC-AUC: 0.7724, что недостаточно для выполнения ТЗ.\n",
    "Для улучшения метрики так же рекомендуется рассмотреть нейросети.\n",
    "\n",
    "Рассмотрим признаки:\n",
    "\n",
    "**monthly_charges**\n",
    "1. Ушедшие клиенты: Среднемесячные платежи составляют 75.55, что значительно больше, чем у оставшихся клиентов. Высокие среднемесячные платежи могут быть фактором, способствующим уходу клиентов.\n",
    "\n",
    "2. Оставшиеся клиенты: Среднемесячные платежи составляют 62.76.\n",
    "\n",
    "**total_charges**\n",
    "1. Ушедшие клиенты: Общая сумма платежей за весь период составляет 2371.38, что выше, чем у оставшихся клиентов. Хотя ушедшие клиенты потратили больше денег, они все равно покинули компанию. Это может означать, что они не получали достаточной ценности или уровня сервиса, исходя из их затрат.\n",
    "\n",
    "2. Оставшиеся клиенты: Общая сумма составляет 2067.87.\n",
    "\n",
    "**internet_service**\n",
    "1. Проблема в группе с Fiber optic:  \n",
    "   Среди ушедших клиентов большая доля пользуется оптоволоконным интернетом (54% против 42% среди оставшихся). Это может свидетельствовать о том, что клиенты, использующие оптоволоконный интернет, чаще сталкиваются с какими-то проблемами (например, высокие затраты, нестабильное соединение или недостаточная ценность услуги).\n",
    "\n",
    "2. DSL пользователи удерживаются лучше:  \n",
    "   Клиенты, использующие DSL, чаще остаются (34.92%, что чуть выше, чем 31.43% среди ушедших). Это может указывать, что данная технология интернет-услуг устраивает пользователей с точки зрения стоимости и качества.\n",
    "\n",
    "3. Сегмент без интернет-услуг:  \n",
    "   У клиентов, не использующих интернет-услуги, вероятность остаться выше (22.99% против 14.53% среди ушедших). Это может говорить о более высокой лояльности таких клиентов, определённой их более низкими ожиданиями от услуг компании.\n",
    "   \n",
    "**online_security**\n",
    "1. Ушедшие клиенты чаще используют online_security:\n",
    "   Среди ушедших клиентов большая доля тех, кто использует online_security (37.69% против 26.99% среди оставшихся). Это может свидетельствовать о том, что клиенты с подключенной услугой имеют более высокие ожидания от качества или стоимости предоставляемой услуги. Возможно, их неудовлетворённость связана с ощущением, что стоимость услуги не оправдывается её ценностью.\n",
    "\n",
    "2. Оставшиеся клиенты реже используют online_security:\n",
    "   Большая доля остающихся клиентов не подключает услугу online_security (73.01% против 62.31% среди ушедших). Это может свидетельствовать о меньшей зависимости оставшихся клиентов от вспомогательных услуг, что делает их более лояльными.\n",
    "   \n",
    "**tech_support**\n",
    "1. Больший процент пользователей tech_support среди ушедших\n",
    "   Ушедшие клиенты чаще обладают услугой tech_support (36.15%), чем оставшиеся клиенты (27.70%). Это может свидетельствовать о том, что клиенты с tech_support не видят достаточной ценности в этой услуге или испытывают неудовлетворённость.\n",
    "\n",
    "2. Большая доля клиентов без tech_support среди оставшихся\n",
    "   Среди оставшихся клиентов заметно больше тех, кто не использует tech_support (72.30%). Возможно, эта услуга не является определяющим фактором для их лояльности, либо клиенты без неё более автономны и удовлетворены своими базовыми потребностями.\n",
    "\n",
    "**streaming_tv**\n",
    "1. Большее использование streaming_tv среди ушедших\n",
    "   Доля клиентов, использующих streaming_tv, значительно выше среди ушедших (53.04%) по сравнению с оставшимися (35.73%). Это может указывать на то, что пользователи этой услуги менее лояльны или не удовлетворены качеством/ценой предоставления услуги.\n",
    "\n",
    "2. Большая доля клиентов без streaming_tv в числе оставшихся\n",
    "   Среди оставшихся клиентов больше тех, кто не пользуется streaming_tv (64.27%). Эти данные могут говорить о том, что наличие этой услуги не гарантирует удержание клиента.\n",
    "\n",
    "**streaming_movies**\n",
    "1. Ушедшие чаще использовали сервис Streaming movies. Среди ушедших клиентов 55.04% пользовались этой услугой, что значительно больше, чем среди оставшихся клиентов (35.78%). В то же время среди оставшихся клиентов 64.22% не подключали услугу Streaming movies, что говорит о меньшей популярности этой услуги в группе, которая осталась.\n",
    "\n",
    "2. Возможная связь между подключением Streaming movies и оттоком\n",
    "   Клиенты, которые подключили Streaming movies, имеют более высокий риск ухода, что может быть связано с:\n",
    "     - недостаточным качеством услуги,\n",
    "     - неустраивающей стоимостью,\n",
    "     - отсутствием ценности для клиента.\n",
    "\n",
    "**multiple_lines**\n",
    "1. Ушедшие клиенты чаще используют multiple_lines\n",
    "   Среди клиентов, которые ушли, больше тех, кто использует multiple_lines (61.58%), чем среди оставшихся (38.59%).\n",
    "\n",
    "2. Наибольшая доля оставшихся — без multiple_lines\n",
    "   Среди оставшихся клиентов большая часть не использует multiple_lines (61.41%), что отличает их от ушедших.\n",
    "\n",
    "**type**\n",
    "1. Контракт Month-to-month чаще у оставшихся клиентов. Среди оставшихся клиентов 58.36% выбрали контракт Month-to-month, что значительно больше, чем среди ушедших клиентов.\n",
    "\n",
    "2. Уход с долгосрочных контрактов (Two year и One year). Ушедшие клиенты чаще выбирали контракт Two year (34.60%) и One year (28.43%), что может говорить о разочаровании с условиями или недостаточной гибкости контрактов.\n",
    "\n",
    "3. Риск ухода ниже для Month-to-month, несмотря на его гибкость. Несмотря на то, что Month-to-month контракт предполагает большую свободу выбора, ушедшие клиенты реже выбирали этот тип по сравнению с долгосрочными контрактами.\n",
    "\n",
    "**payment_method**\n",
    "1. Основной метод оплаты у обеих групп — Electronic check. Среди ушедших 31.79% использовали Electronic check, а среди оставшихся — больше, 33.91%.\n",
    "   \n",
    "2. Существенная разница в доле пользователей, использующих Mailed check. Среди ушедших клиентов всего 10.63% использовали оплату через Mailed check, тогда как среди оставшихся клиентов их почти 25.16%.\n",
    "\n",
    "3. Похожие доли для автоплатежей (Credit card и Bank transfer) среди ушедших\n",
    "\n",
    "**senior_citizen**\n",
    "1. Отток пожилых клиентов выше. 21.07% уходят из сегмента пожилых клиентов против 15.31% остающихся. Это может указывать на необходимость дополнительного анализа потребностей и предпочтений этой категории клиентов.\n",
    "\n",
    "2. Меньший отток среди непожилых клиентов. Среди клиентов, не относящихся к категории пожилых, отток составляет 78.93%, в то время как остаются 84.69% из этой группы. Эти данные свидетельствуют о сравнительно меньшей склонности непожилых клиентов к уходу.\n",
    "\n",
    "**partner**\n",
    "1. Высокий отток среди клиентов с партнёром. Среди клиентов с партнёром 65.30% уходят, что значительно выше, чем уровень остающихся с партнёром 45.15%. Это может означать, что наличие партнёра не является ключевым фактором удержания клиента.\n",
    "\n",
    "2. Более низкий отток среди клиентов без партнёра. Среди клиентов без партнёра остаются 54.85%, в то время как 34.70% уходят. Возможно, клиенты без партнёра имеют другие мотиваторы для оставления в компании, которые стоит исследовать.\n",
    "\n",
    "**Рекомендуется:**\n",
    "1. Расширить базу данных, возможно, проводить опрос ушедших клиентов о причине их ухода.\n",
    "2. Хранить информацию о расторжении договора в бинарном виде: да/нет, 0/1\n",
    "3. Хранить информацию в одном датасете, т.к. объединение нескольких датасетов в один подразумевает появление пропущенных значений об используемых сервисах.\n",
    "4. Если хранить информацию в одном датасете затруднительно из-за его размеров, то следует обратить внимание на тип данных, чтобы не было ситуаций, когда бинарный признак является типом данных object.\n",
    "5. Возможно следует давать клиентам промокоды или скидки после 500, 1000 и 1500 дней пользования услугами, т.к. в эти промежутки уходит большое число клиентов\n",
    "6. Обратить внимание на распредение ушедших клиентов по признакам и проявить лояльность к клиентам в \"зоне риска\"."
   ]
  },
  {
   "cell_type": "markdown",
   "id": "9578b6b8",
   "metadata": {},
   "source": [
    "### 9. Общий вывод"
   ]
  },
  {
   "cell_type": "markdown",
   "id": "1c057456",
   "metadata": {},
   "source": [
    "В ходе работы мы:\n",
    "1. Импортировали необходимые библиотеки\n",
    "2. Загрузили данные и провели первичный осмотр\n",
    "3. Предобработали данные, нашли и устранили пропуски, привели названия столбцов к змеиному регистру, изменили тип данных, создали новые признаки, в том числе целевой и удалили те, которые вели к утечке данных\n",
    "4. Объединили 4 датасета в один и снова заполнили пропуски \n",
    "5. Провели исследовательский анализ данных, удалили признаки, которые не коррелируют с целевым\n",
    "6. Подготовили данные к обучению и обучили две модели машинного обучения: LogisticRegression и CatBoostClassifier с перебором гиперпараметров на тренировочной выборке\n",
    "7. Выбрали лучшую по метрике ROC-AUC модель и протестировали ее на тестовой выборке\n",
    "8. Дали рекомендации заказчику\n",
    "9. Написали вывод"
   ]
  },
  {
   "cell_type": "code",
   "execution_count": null,
   "id": "a62e9433",
   "metadata": {},
   "outputs": [],
   "source": []
  }
 ],
 "metadata": {
  "ExecuteTimeLog": [
   {
    "duration": 4329,
    "start_time": "2025-03-11T12:47:24.486Z"
   },
   {
    "duration": 23405,
    "start_time": "2025-03-11T12:51:14.156Z"
   },
   {
    "duration": 6606,
    "start_time": "2025-03-11T12:55:08.539Z"
   },
   {
    "duration": 4103,
    "start_time": "2025-03-11T13:01:22.583Z"
   },
   {
    "duration": 6624,
    "start_time": "2025-03-11T13:01:34.426Z"
   },
   {
    "duration": 6480,
    "start_time": "2025-03-11T13:04:46.083Z"
   },
   {
    "duration": 12241,
    "start_time": "2025-03-11T13:07:06.941Z"
   },
   {
    "duration": 11651,
    "start_time": "2025-03-11T13:07:29.646Z"
   },
   {
    "duration": 71,
    "start_time": "2025-03-11T13:34:48.764Z"
   },
   {
    "duration": 289,
    "start_time": "2025-03-11T13:35:25.941Z"
   },
   {
    "duration": 1368,
    "start_time": "2025-03-11T13:35:32.020Z"
   },
   {
    "duration": 14732,
    "start_time": "2025-03-11T13:38:28.006Z"
   },
   {
    "duration": 495,
    "start_time": "2025-03-11T13:38:42.741Z"
   },
   {
    "duration": 3,
    "start_time": "2025-03-11T13:56:57.882Z"
   },
   {
    "duration": 180,
    "start_time": "2025-03-11T14:28:47.240Z"
   },
   {
    "duration": 3,
    "start_time": "2025-03-11T14:28:48.615Z"
   },
   {
    "duration": 55,
    "start_time": "2025-03-12T11:21:44.800Z"
   },
   {
    "duration": 32402,
    "start_time": "2025-03-12T11:21:54.857Z"
   },
   {
    "duration": 2130,
    "start_time": "2025-03-12T11:22:27.261Z"
   },
   {
    "duration": 3,
    "start_time": "2025-03-12T11:22:29.394Z"
   },
   {
    "duration": 141,
    "start_time": "2025-03-12T11:22:29.399Z"
   },
   {
    "duration": 124,
    "start_time": "2025-03-12T11:22:48.832Z"
   },
   {
    "duration": 108,
    "start_time": "2025-03-12T11:36:00.193Z"
   },
   {
    "duration": 113,
    "start_time": "2025-03-12T11:36:00.378Z"
   },
   {
    "duration": 93,
    "start_time": "2025-03-12T11:36:00.990Z"
   },
   {
    "duration": 45,
    "start_time": "2025-03-12T11:40:41.993Z"
   },
   {
    "duration": 62,
    "start_time": "2025-03-12T11:40:58.921Z"
   },
   {
    "duration": 63,
    "start_time": "2025-03-12T11:40:59.224Z"
   },
   {
    "duration": 98,
    "start_time": "2025-03-12T11:40:59.714Z"
   },
   {
    "duration": 26,
    "start_time": "2025-03-12T11:54:19.962Z"
   },
   {
    "duration": 25,
    "start_time": "2025-03-12T11:54:44.247Z"
   },
   {
    "duration": 152,
    "start_time": "2025-03-12T11:55:01.506Z"
   },
   {
    "duration": 30,
    "start_time": "2025-03-12T11:55:06.964Z"
   },
   {
    "duration": 3,
    "start_time": "2025-03-12T12:26:07.182Z"
   },
   {
    "duration": 4,
    "start_time": "2025-03-12T12:26:20.711Z"
   },
   {
    "duration": 44,
    "start_time": "2025-03-12T12:26:31.518Z"
   },
   {
    "duration": 10,
    "start_time": "2025-03-12T12:26:43.433Z"
   },
   {
    "duration": 15,
    "start_time": "2025-03-12T12:26:52.799Z"
   },
   {
    "duration": 10,
    "start_time": "2025-03-12T12:27:01.646Z"
   },
   {
    "duration": 10,
    "start_time": "2025-03-12T12:55:12.118Z"
   },
   {
    "duration": 11,
    "start_time": "2025-03-12T12:55:18.539Z"
   },
   {
    "duration": 14,
    "start_time": "2025-03-12T12:55:42.423Z"
   },
   {
    "duration": 14,
    "start_time": "2025-03-12T12:58:46.037Z"
   },
   {
    "duration": 13,
    "start_time": "2025-03-12T13:07:30.090Z"
   },
   {
    "duration": 8,
    "start_time": "2025-03-12T13:09:42.851Z"
   },
   {
    "duration": 10,
    "start_time": "2025-03-12T13:09:47.171Z"
   },
   {
    "duration": 7,
    "start_time": "2025-03-12T13:09:49.200Z"
   },
   {
    "duration": 11,
    "start_time": "2025-03-12T13:10:03.490Z"
   },
   {
    "duration": 6,
    "start_time": "2025-03-12T13:10:03.860Z"
   },
   {
    "duration": 24,
    "start_time": "2025-03-12T13:23:34.883Z"
   },
   {
    "duration": 26,
    "start_time": "2025-03-12T13:24:07.107Z"
   },
   {
    "duration": 12,
    "start_time": "2025-03-12T13:24:07.720Z"
   },
   {
    "duration": 4,
    "start_time": "2025-03-12T13:24:09.325Z"
   },
   {
    "duration": 21,
    "start_time": "2025-03-12T13:24:10.879Z"
   },
   {
    "duration": 7,
    "start_time": "2025-03-12T13:24:11.564Z"
   },
   {
    "duration": 40,
    "start_time": "2025-03-12T13:24:12.145Z"
   },
   {
    "duration": 11,
    "start_time": "2025-03-12T13:24:12.331Z"
   },
   {
    "duration": 22,
    "start_time": "2025-03-12T13:24:13.212Z"
   },
   {
    "duration": 7,
    "start_time": "2025-03-12T13:24:13.616Z"
   },
   {
    "duration": 31199,
    "start_time": "2025-03-12T15:56:57.119Z"
   },
   {
    "duration": 1919,
    "start_time": "2025-03-12T15:57:28.320Z"
   },
   {
    "duration": 3,
    "start_time": "2025-03-12T15:57:30.240Z"
   },
   {
    "duration": 156,
    "start_time": "2025-03-12T15:57:30.245Z"
   },
   {
    "duration": 78,
    "start_time": "2025-03-12T15:57:30.403Z"
   },
   {
    "duration": 89,
    "start_time": "2025-03-12T15:57:30.483Z"
   },
   {
    "duration": 84,
    "start_time": "2025-03-12T15:57:30.574Z"
   },
   {
    "duration": 27,
    "start_time": "2025-03-12T15:57:30.660Z"
   },
   {
    "duration": 16,
    "start_time": "2025-03-12T15:57:30.688Z"
   },
   {
    "duration": 4,
    "start_time": "2025-03-12T15:57:30.706Z"
   },
   {
    "duration": 40,
    "start_time": "2025-03-12T15:57:30.711Z"
   },
   {
    "duration": 9,
    "start_time": "2025-03-12T15:57:30.753Z"
   },
   {
    "duration": 38,
    "start_time": "2025-03-12T15:57:30.763Z"
   },
   {
    "duration": 18,
    "start_time": "2025-03-12T15:57:30.803Z"
   },
   {
    "duration": 22,
    "start_time": "2025-03-12T15:57:30.823Z"
   },
   {
    "duration": 6,
    "start_time": "2025-03-12T15:57:30.847Z"
   },
   {
    "duration": 6,
    "start_time": "2025-03-12T16:05:01.147Z"
   },
   {
    "duration": 20,
    "start_time": "2025-03-12T16:05:09.168Z"
   },
   {
    "duration": 10,
    "start_time": "2025-03-12T16:05:31.318Z"
   },
   {
    "duration": 11,
    "start_time": "2025-03-12T16:05:56.231Z"
   },
   {
    "duration": 14,
    "start_time": "2025-03-12T16:06:10.020Z"
   },
   {
    "duration": 20,
    "start_time": "2025-03-12T16:07:10.313Z"
   },
   {
    "duration": 20,
    "start_time": "2025-03-12T16:07:17.849Z"
   },
   {
    "duration": 94,
    "start_time": "2025-03-12T16:12:04.315Z"
   },
   {
    "duration": 5,
    "start_time": "2025-03-12T16:25:37.447Z"
   },
   {
    "duration": 17,
    "start_time": "2025-03-12T16:25:46.707Z"
   },
   {
    "duration": 25,
    "start_time": "2025-03-12T16:26:03.476Z"
   },
   {
    "duration": 3,
    "start_time": "2025-03-12T16:28:58.947Z"
   },
   {
    "duration": 12,
    "start_time": "2025-03-12T16:30:16.202Z"
   },
   {
    "duration": 30,
    "start_time": "2025-03-12T16:30:31.174Z"
   },
   {
    "duration": 29,
    "start_time": "2025-03-12T16:32:22.871Z"
   },
   {
    "duration": 79,
    "start_time": "2025-03-12T16:43:13.200Z"
   },
   {
    "duration": 76,
    "start_time": "2025-03-12T16:43:23.633Z"
   },
   {
    "duration": 4,
    "start_time": "2025-03-12T16:43:50.281Z"
   },
   {
    "duration": 14,
    "start_time": "2025-03-12T16:44:00.333Z"
   },
   {
    "duration": 37,
    "start_time": "2025-03-12T16:45:15.805Z"
   },
   {
    "duration": 5,
    "start_time": "2025-03-12T16:46:12.483Z"
   },
   {
    "duration": 39,
    "start_time": "2025-03-12T16:46:13.465Z"
   },
   {
    "duration": 14494,
    "start_time": "2025-03-12T16:46:33.652Z"
   },
   {
    "duration": 1737,
    "start_time": "2025-03-12T16:46:48.149Z"
   },
   {
    "duration": 3,
    "start_time": "2025-03-12T16:46:49.888Z"
   },
   {
    "duration": 145,
    "start_time": "2025-03-12T16:46:49.893Z"
   },
   {
    "duration": 50,
    "start_time": "2025-03-12T16:46:50.040Z"
   },
   {
    "duration": 80,
    "start_time": "2025-03-12T16:46:50.092Z"
   },
   {
    "duration": 34,
    "start_time": "2025-03-12T16:46:50.175Z"
   },
   {
    "duration": 30,
    "start_time": "2025-03-12T16:46:50.211Z"
   },
   {
    "duration": 6,
    "start_time": "2025-03-12T16:46:50.243Z"
   },
   {
    "duration": 12,
    "start_time": "2025-03-12T16:46:50.252Z"
   },
   {
    "duration": 21,
    "start_time": "2025-03-12T16:46:50.266Z"
   },
   {
    "duration": 5,
    "start_time": "2025-03-12T16:46:50.314Z"
   },
   {
    "duration": 21,
    "start_time": "2025-03-12T16:46:50.321Z"
   },
   {
    "duration": 21,
    "start_time": "2025-03-12T16:46:50.344Z"
   },
   {
    "duration": 8,
    "start_time": "2025-03-12T16:46:50.366Z"
   },
   {
    "duration": 74,
    "start_time": "2025-03-12T16:46:50.375Z"
   },
   {
    "duration": 9,
    "start_time": "2025-03-12T16:46:50.451Z"
   },
   {
    "duration": 48,
    "start_time": "2025-03-12T16:46:50.462Z"
   },
   {
    "duration": 5,
    "start_time": "2025-03-12T16:46:50.512Z"
   },
   {
    "duration": 32,
    "start_time": "2025-03-12T16:50:02.878Z"
   },
   {
    "duration": 32,
    "start_time": "2025-03-12T16:51:42.242Z"
   },
   {
    "duration": 1514,
    "start_time": "2025-03-12T16:51:49.604Z"
   },
   {
    "duration": 1357,
    "start_time": "2025-03-12T16:51:52.808Z"
   },
   {
    "duration": 14664,
    "start_time": "2025-03-12T16:51:59.002Z"
   },
   {
    "duration": 1765,
    "start_time": "2025-03-12T16:52:13.668Z"
   },
   {
    "duration": 3,
    "start_time": "2025-03-12T16:52:15.434Z"
   },
   {
    "duration": 91,
    "start_time": "2025-03-12T16:52:15.439Z"
   },
   {
    "duration": 51,
    "start_time": "2025-03-12T16:52:15.531Z"
   },
   {
    "duration": 57,
    "start_time": "2025-03-12T16:52:15.584Z"
   },
   {
    "duration": 53,
    "start_time": "2025-03-12T16:52:15.643Z"
   },
   {
    "duration": 26,
    "start_time": "2025-03-12T16:52:15.698Z"
   },
   {
    "duration": 5,
    "start_time": "2025-03-12T16:52:15.725Z"
   },
   {
    "duration": 12,
    "start_time": "2025-03-12T16:52:15.732Z"
   },
   {
    "duration": 20,
    "start_time": "2025-03-12T16:52:15.745Z"
   },
   {
    "duration": 4,
    "start_time": "2025-03-12T16:52:15.767Z"
   },
   {
    "duration": 53,
    "start_time": "2025-03-12T16:52:15.772Z"
   },
   {
    "duration": 20,
    "start_time": "2025-03-12T16:52:15.826Z"
   },
   {
    "duration": 7,
    "start_time": "2025-03-12T16:52:15.847Z"
   },
   {
    "duration": 62,
    "start_time": "2025-03-12T16:52:15.855Z"
   },
   {
    "duration": 9,
    "start_time": "2025-03-12T16:52:15.919Z"
   },
   {
    "duration": 56,
    "start_time": "2025-03-12T16:52:15.930Z"
   },
   {
    "duration": 6,
    "start_time": "2025-03-12T16:52:15.988Z"
   },
   {
    "duration": 30,
    "start_time": "2025-03-12T16:52:39.692Z"
   },
   {
    "duration": 1892,
    "start_time": "2025-03-12T16:57:13.448Z"
   },
   {
    "duration": 1602,
    "start_time": "2025-03-12T16:57:20.586Z"
   },
   {
    "duration": 3,
    "start_time": "2025-03-12T16:57:31.756Z"
   },
   {
    "duration": 19,
    "start_time": "2025-03-12T16:57:59.358Z"
   },
   {
    "duration": 17,
    "start_time": "2025-03-12T16:59:37.378Z"
   },
   {
    "duration": 7,
    "start_time": "2025-03-12T17:02:59.388Z"
   },
   {
    "duration": 15,
    "start_time": "2025-03-12T17:05:30.620Z"
   },
   {
    "duration": 14,
    "start_time": "2025-03-12T17:05:44.108Z"
   },
   {
    "duration": 15,
    "start_time": "2025-03-12T17:05:51.678Z"
   },
   {
    "duration": 10,
    "start_time": "2025-03-12T17:06:26.185Z"
   },
   {
    "duration": 14,
    "start_time": "2025-03-12T17:09:33.987Z"
   },
   {
    "duration": 11,
    "start_time": "2025-03-12T17:11:24.052Z"
   },
   {
    "duration": 14455,
    "start_time": "2025-03-12T17:11:43.186Z"
   },
   {
    "duration": 1817,
    "start_time": "2025-03-12T17:11:57.644Z"
   },
   {
    "duration": 2,
    "start_time": "2025-03-12T17:11:59.463Z"
   },
   {
    "duration": 292,
    "start_time": "2025-03-12T17:11:59.467Z"
   },
   {
    "duration": 80,
    "start_time": "2025-03-12T17:11:59.761Z"
   },
   {
    "duration": 115,
    "start_time": "2025-03-12T17:11:59.842Z"
   },
   {
    "duration": 95,
    "start_time": "2025-03-12T17:11:59.959Z"
   },
   {
    "duration": 27,
    "start_time": "2025-03-12T17:12:00.055Z"
   },
   {
    "duration": 5,
    "start_time": "2025-03-12T17:12:00.083Z"
   },
   {
    "duration": 27,
    "start_time": "2025-03-12T17:12:00.090Z"
   },
   {
    "duration": 79,
    "start_time": "2025-03-12T17:12:00.119Z"
   },
   {
    "duration": 19,
    "start_time": "2025-03-12T17:12:00.199Z"
   },
   {
    "duration": 34,
    "start_time": "2025-03-12T17:12:00.220Z"
   },
   {
    "duration": 9,
    "start_time": "2025-03-12T17:12:00.255Z"
   },
   {
    "duration": 16,
    "start_time": "2025-03-12T17:12:00.265Z"
   },
   {
    "duration": 2,
    "start_time": "2025-03-12T17:12:00.283Z"
   },
   {
    "duration": 140,
    "start_time": "2025-03-12T17:12:00.287Z"
   },
   {
    "duration": 0,
    "start_time": "2025-03-12T17:12:00.429Z"
   },
   {
    "duration": 0,
    "start_time": "2025-03-12T17:12:00.430Z"
   },
   {
    "duration": 0,
    "start_time": "2025-03-12T17:12:00.431Z"
   },
   {
    "duration": 0,
    "start_time": "2025-03-12T17:12:00.432Z"
   },
   {
    "duration": 0,
    "start_time": "2025-03-12T17:12:00.434Z"
   },
   {
    "duration": 0,
    "start_time": "2025-03-12T17:12:00.435Z"
   },
   {
    "duration": 2,
    "start_time": "2025-03-12T17:15:03.760Z"
   },
   {
    "duration": 4,
    "start_time": "2025-03-12T17:16:38.222Z"
   },
   {
    "duration": 16,
    "start_time": "2025-03-12T17:16:41.390Z"
   },
   {
    "duration": 4,
    "start_time": "2025-03-12T17:17:03.168Z"
   },
   {
    "duration": 16,
    "start_time": "2025-03-12T17:17:03.900Z"
   },
   {
    "duration": 10,
    "start_time": "2025-03-12T17:17:18.520Z"
   },
   {
    "duration": 4,
    "start_time": "2025-03-12T17:20:25.846Z"
   },
   {
    "duration": 8,
    "start_time": "2025-03-12T17:20:27.311Z"
   },
   {
    "duration": 14,
    "start_time": "2025-03-12T17:20:30.906Z"
   },
   {
    "duration": 24,
    "start_time": "2025-03-12T17:21:30.469Z"
   },
   {
    "duration": 4,
    "start_time": "2025-03-12T17:23:53.382Z"
   },
   {
    "duration": 10,
    "start_time": "2025-03-12T17:23:58.125Z"
   },
   {
    "duration": 46,
    "start_time": "2025-03-12T17:25:09.174Z"
   },
   {
    "duration": 4,
    "start_time": "2025-03-12T17:28:07.634Z"
   },
   {
    "duration": 9,
    "start_time": "2025-03-12T17:28:09.000Z"
   },
   {
    "duration": 4,
    "start_time": "2025-03-12T17:29:05.212Z"
   },
   {
    "duration": 11,
    "start_time": "2025-03-12T17:29:05.815Z"
   },
   {
    "duration": 21,
    "start_time": "2025-03-12T17:29:11.101Z"
   },
   {
    "duration": 4,
    "start_time": "2025-03-12T17:31:19.905Z"
   },
   {
    "duration": 7,
    "start_time": "2025-03-12T17:31:24.647Z"
   },
   {
    "duration": 30581,
    "start_time": "2025-03-13T12:29:44.351Z"
   },
   {
    "duration": 2195,
    "start_time": "2025-03-13T12:30:14.935Z"
   },
   {
    "duration": 3,
    "start_time": "2025-03-13T12:30:17.132Z"
   },
   {
    "duration": 176,
    "start_time": "2025-03-13T12:30:17.137Z"
   },
   {
    "duration": 88,
    "start_time": "2025-03-13T12:30:17.315Z"
   },
   {
    "duration": 85,
    "start_time": "2025-03-13T12:30:17.404Z"
   },
   {
    "duration": 108,
    "start_time": "2025-03-13T12:30:17.490Z"
   },
   {
    "duration": 28,
    "start_time": "2025-03-13T12:30:17.599Z"
   },
   {
    "duration": 4,
    "start_time": "2025-03-13T12:30:17.628Z"
   },
   {
    "duration": 18,
    "start_time": "2025-03-13T12:30:17.636Z"
   },
   {
    "duration": 28,
    "start_time": "2025-03-13T12:30:17.656Z"
   },
   {
    "duration": 4,
    "start_time": "2025-03-13T12:30:17.686Z"
   },
   {
    "duration": 23,
    "start_time": "2025-03-13T12:30:17.715Z"
   },
   {
    "duration": 11,
    "start_time": "2025-03-13T12:30:17.741Z"
   },
   {
    "duration": 6,
    "start_time": "2025-03-13T12:30:17.754Z"
   },
   {
    "duration": 89,
    "start_time": "2025-03-13T12:30:17.761Z"
   },
   {
    "duration": 62,
    "start_time": "2025-03-13T12:30:17.852Z"
   },
   {
    "duration": 4,
    "start_time": "2025-03-13T12:30:17.916Z"
   },
   {
    "duration": 10,
    "start_time": "2025-03-13T12:30:17.921Z"
   },
   {
    "duration": 44,
    "start_time": "2025-03-13T12:30:17.933Z"
   },
   {
    "duration": 5,
    "start_time": "2025-03-13T12:30:17.978Z"
   },
   {
    "duration": 39,
    "start_time": "2025-03-13T12:30:17.984Z"
   },
   {
    "duration": 26,
    "start_time": "2025-03-13T12:30:18.025Z"
   },
   {
    "duration": 3,
    "start_time": "2025-03-13T12:30:18.053Z"
   },
   {
    "duration": 9,
    "start_time": "2025-03-13T12:30:18.058Z"
   },
   {
    "duration": 11,
    "start_time": "2025-03-13T12:58:57.044Z"
   },
   {
    "duration": 8,
    "start_time": "2025-03-13T12:59:04.697Z"
   },
   {
    "duration": 9,
    "start_time": "2025-03-13T12:59:24.927Z"
   },
   {
    "duration": 8,
    "start_time": "2025-03-13T12:59:31.348Z"
   },
   {
    "duration": 12,
    "start_time": "2025-03-13T13:07:55.358Z"
   },
   {
    "duration": 20,
    "start_time": "2025-03-13T13:08:00.544Z"
   },
   {
    "duration": 19,
    "start_time": "2025-03-13T13:11:20.523Z"
   },
   {
    "duration": 24,
    "start_time": "2025-03-13T13:11:33.868Z"
   },
   {
    "duration": 24,
    "start_time": "2025-03-13T13:11:37.658Z"
   },
   {
    "duration": 24,
    "start_time": "2025-03-13T13:13:06.814Z"
   },
   {
    "duration": 18,
    "start_time": "2025-03-13T13:23:54.070Z"
   },
   {
    "duration": 41,
    "start_time": "2025-03-13T13:24:04.392Z"
   },
   {
    "duration": 18,
    "start_time": "2025-03-13T13:24:26.361Z"
   },
   {
    "duration": 20,
    "start_time": "2025-03-13T13:26:49.499Z"
   },
   {
    "duration": 19,
    "start_time": "2025-03-13T13:26:59.004Z"
   },
   {
    "duration": 19,
    "start_time": "2025-03-13T13:27:11.663Z"
   },
   {
    "duration": 4,
    "start_time": "2025-03-13T14:20:24.408Z"
   },
   {
    "duration": 0,
    "start_time": "2025-03-13T14:21:15.531Z"
   },
   {
    "duration": 53488,
    "start_time": "2025-03-13T14:21:24.299Z"
   },
   {
    "duration": 48,
    "start_time": "2025-03-15T18:39:09.012Z"
   },
   {
    "duration": 27602,
    "start_time": "2025-03-15T18:39:14.159Z"
   },
   {
    "duration": 1807,
    "start_time": "2025-03-15T18:39:41.763Z"
   },
   {
    "duration": 3,
    "start_time": "2025-03-15T18:39:43.572Z"
   },
   {
    "duration": 134,
    "start_time": "2025-03-15T18:39:43.576Z"
   },
   {
    "duration": 93,
    "start_time": "2025-03-15T18:39:43.711Z"
   },
   {
    "duration": 91,
    "start_time": "2025-03-15T18:39:43.805Z"
   },
   {
    "duration": 68,
    "start_time": "2025-03-15T18:39:43.898Z"
   },
   {
    "duration": 24,
    "start_time": "2025-03-15T18:39:43.967Z"
   },
   {
    "duration": 4,
    "start_time": "2025-03-15T18:39:43.993Z"
   },
   {
    "duration": 19,
    "start_time": "2025-03-15T18:39:44.000Z"
   },
   {
    "duration": 19,
    "start_time": "2025-03-15T18:39:44.020Z"
   },
   {
    "duration": 4,
    "start_time": "2025-03-15T18:39:44.040Z"
   },
   {
    "duration": 19,
    "start_time": "2025-03-15T18:39:44.045Z"
   },
   {
    "duration": 10,
    "start_time": "2025-03-15T18:39:44.065Z"
   },
   {
    "duration": 30,
    "start_time": "2025-03-15T18:39:44.077Z"
   },
   {
    "duration": 13,
    "start_time": "2025-03-15T18:39:44.108Z"
   },
   {
    "duration": 29,
    "start_time": "2025-03-15T18:39:44.123Z"
   },
   {
    "duration": 3,
    "start_time": "2025-03-15T18:39:44.154Z"
   },
   {
    "duration": 12,
    "start_time": "2025-03-15T18:39:44.159Z"
   },
   {
    "duration": 51,
    "start_time": "2025-03-15T18:39:44.172Z"
   },
   {
    "duration": 3,
    "start_time": "2025-03-15T18:39:44.225Z"
   },
   {
    "duration": 14,
    "start_time": "2025-03-15T18:39:44.230Z"
   },
   {
    "duration": 19,
    "start_time": "2025-03-15T18:39:44.246Z"
   },
   {
    "duration": 6,
    "start_time": "2025-03-15T18:39:44.267Z"
   },
   {
    "duration": 6,
    "start_time": "2025-03-15T18:39:44.274Z"
   },
   {
    "duration": 22,
    "start_time": "2025-03-15T18:39:44.307Z"
   },
   {
    "duration": 27,
    "start_time": "2025-03-15T18:39:44.331Z"
   },
   {
    "duration": 17,
    "start_time": "2025-03-15T18:39:44.361Z"
   },
   {
    "duration": 12,
    "start_time": "2025-03-15T18:39:44.406Z"
   },
   {
    "duration": 16,
    "start_time": "2025-03-15T18:39:44.419Z"
   },
   {
    "duration": 6,
    "start_time": "2025-03-15T18:39:44.436Z"
   },
   {
    "duration": 47234,
    "start_time": "2025-03-15T18:39:44.443Z"
   },
   {
    "duration": 1514,
    "start_time": "2025-03-15T18:40:31.678Z"
   },
   {
    "duration": 1320,
    "start_time": "2025-03-15T18:40:46.903Z"
   },
   {
    "duration": 5,
    "start_time": "2025-03-15T18:41:20.204Z"
   },
   {
    "duration": 22,
    "start_time": "2025-03-15T18:41:28.198Z"
   },
   {
    "duration": 6,
    "start_time": "2025-03-15T18:41:40.837Z"
   },
   {
    "duration": 26,
    "start_time": "2025-03-15T18:47:10.456Z"
   },
   {
    "duration": 5,
    "start_time": "2025-03-15T18:50:25.333Z"
   },
   {
    "duration": 14,
    "start_time": "2025-03-15T18:51:40.022Z"
   },
   {
    "duration": 33,
    "start_time": "2025-03-15T18:52:01.653Z"
   },
   {
    "duration": 24,
    "start_time": "2025-03-15T18:53:41.961Z"
   },
   {
    "duration": 17,
    "start_time": "2025-03-15T18:59:40.270Z"
   },
   {
    "duration": 15,
    "start_time": "2025-03-15T19:01:02.747Z"
   },
   {
    "duration": 27,
    "start_time": "2025-03-15T19:01:11.324Z"
   },
   {
    "duration": 5,
    "start_time": "2025-03-15T19:01:30.085Z"
   },
   {
    "duration": 16,
    "start_time": "2025-03-15T19:02:03.034Z"
   },
   {
    "duration": 5,
    "start_time": "2025-03-15T19:05:49.788Z"
   },
   {
    "duration": 17,
    "start_time": "2025-03-15T19:07:36.931Z"
   },
   {
    "duration": 3,
    "start_time": "2025-03-15T19:08:45.526Z"
   },
   {
    "duration": 16,
    "start_time": "2025-03-15T19:09:07.108Z"
   },
   {
    "duration": 369,
    "start_time": "2025-03-15T19:09:40.519Z"
   },
   {
    "duration": 15,
    "start_time": "2025-03-15T19:09:51.780Z"
   },
   {
    "duration": 13412,
    "start_time": "2025-03-15T19:10:19.091Z"
   },
   {
    "duration": 1670,
    "start_time": "2025-03-15T19:10:32.505Z"
   },
   {
    "duration": 2,
    "start_time": "2025-03-15T19:10:34.177Z"
   },
   {
    "duration": 77,
    "start_time": "2025-03-15T19:10:34.181Z"
   },
   {
    "duration": 43,
    "start_time": "2025-03-15T19:10:34.259Z"
   },
   {
    "duration": 55,
    "start_time": "2025-03-15T19:10:34.304Z"
   },
   {
    "duration": 43,
    "start_time": "2025-03-15T19:10:34.361Z"
   },
   {
    "duration": 36,
    "start_time": "2025-03-15T19:10:34.406Z"
   },
   {
    "duration": 4,
    "start_time": "2025-03-15T19:10:34.443Z"
   },
   {
    "duration": 13,
    "start_time": "2025-03-15T19:10:34.450Z"
   },
   {
    "duration": 33,
    "start_time": "2025-03-15T19:10:34.464Z"
   },
   {
    "duration": 8,
    "start_time": "2025-03-15T19:10:34.499Z"
   },
   {
    "duration": 20,
    "start_time": "2025-03-15T19:10:34.508Z"
   },
   {
    "duration": 11,
    "start_time": "2025-03-15T19:10:34.530Z"
   },
   {
    "duration": 16,
    "start_time": "2025-03-15T19:10:34.543Z"
   },
   {
    "duration": 26,
    "start_time": "2025-03-15T19:10:34.560Z"
   },
   {
    "duration": 31,
    "start_time": "2025-03-15T19:10:34.588Z"
   },
   {
    "duration": 4,
    "start_time": "2025-03-15T19:10:34.621Z"
   },
   {
    "duration": 65,
    "start_time": "2025-03-15T19:10:34.626Z"
   },
   {
    "duration": 41,
    "start_time": "2025-03-15T19:10:34.693Z"
   },
   {
    "duration": 4,
    "start_time": "2025-03-15T19:10:34.736Z"
   },
   {
    "duration": 12,
    "start_time": "2025-03-15T19:10:34.742Z"
   },
   {
    "duration": 21,
    "start_time": "2025-03-15T19:10:34.756Z"
   },
   {
    "duration": 30,
    "start_time": "2025-03-15T19:10:34.779Z"
   },
   {
    "duration": 18,
    "start_time": "2025-03-15T19:10:34.810Z"
   },
   {
    "duration": 31,
    "start_time": "2025-03-15T19:10:34.830Z"
   },
   {
    "duration": 29,
    "start_time": "2025-03-15T19:10:34.863Z"
   },
   {
    "duration": 18,
    "start_time": "2025-03-15T19:10:34.906Z"
   },
   {
    "duration": 42,
    "start_time": "2025-03-15T19:10:34.925Z"
   },
   {
    "duration": 16,
    "start_time": "2025-03-15T19:10:34.969Z"
   },
   {
    "duration": 20,
    "start_time": "2025-03-15T19:10:34.987Z"
   },
   {
    "duration": 47459,
    "start_time": "2025-03-15T19:10:35.009Z"
   },
   {
    "duration": 23,
    "start_time": "2025-03-15T19:11:22.469Z"
   },
   {
    "duration": 18,
    "start_time": "2025-03-15T19:11:22.493Z"
   },
   {
    "duration": 6,
    "start_time": "2025-03-15T19:11:22.513Z"
   },
   {
    "duration": 14,
    "start_time": "2025-03-15T19:11:22.521Z"
   },
   {
    "duration": 3,
    "start_time": "2025-03-15T19:11:22.537Z"
   },
   {
    "duration": 9,
    "start_time": "2025-03-15T19:11:22.541Z"
   },
   {
    "duration": 150,
    "start_time": "2025-03-15T19:13:29.211Z"
   },
   {
    "duration": 145,
    "start_time": "2025-03-15T19:13:47.740Z"
   },
   {
    "duration": 281,
    "start_time": "2025-03-15T19:14:22.190Z"
   },
   {
    "duration": 496,
    "start_time": "2025-03-15T19:15:07.879Z"
   },
   {
    "duration": 138,
    "start_time": "2025-03-15T19:15:19.352Z"
   },
   {
    "duration": 25,
    "start_time": "2025-03-15T19:18:51.364Z"
   },
   {
    "duration": 893,
    "start_time": "2025-03-15T19:19:56.547Z"
   },
   {
    "duration": 1356,
    "start_time": "2025-03-15T19:21:17.061Z"
   },
   {
    "duration": 11,
    "start_time": "2025-03-15T19:23:45.203Z"
   },
   {
    "duration": 3,
    "start_time": "2025-03-15T19:24:06.068Z"
   },
   {
    "duration": 10,
    "start_time": "2025-03-15T19:24:06.455Z"
   },
   {
    "duration": 8,
    "start_time": "2025-03-15T19:24:21.894Z"
   },
   {
    "duration": 155,
    "start_time": "2025-03-15T19:25:03.465Z"
   },
   {
    "duration": 16,
    "start_time": "2025-03-15T19:25:11.881Z"
   },
   {
    "duration": 14,
    "start_time": "2025-03-15T19:27:02.080Z"
   },
   {
    "duration": 10,
    "start_time": "2025-03-15T19:27:31.261Z"
   },
   {
    "duration": 11,
    "start_time": "2025-03-15T19:27:35.088Z"
   },
   {
    "duration": 17,
    "start_time": "2025-03-15T19:27:43.748Z"
   },
   {
    "duration": 9,
    "start_time": "2025-03-15T19:28:28.927Z"
   },
   {
    "duration": 180,
    "start_time": "2025-03-15T19:29:49.075Z"
   },
   {
    "duration": 1334,
    "start_time": "2025-03-15T19:32:51.976Z"
   },
   {
    "duration": 146,
    "start_time": "2025-03-15T19:34:41.262Z"
   },
   {
    "duration": 3,
    "start_time": "2025-03-15T19:34:44.330Z"
   },
   {
    "duration": 179,
    "start_time": "2025-03-15T19:34:45.102Z"
   },
   {
    "duration": 14,
    "start_time": "2025-03-15T19:34:59.360Z"
   },
   {
    "duration": 12,
    "start_time": "2025-03-15T19:37:40.346Z"
   },
   {
    "duration": 26,
    "start_time": "2025-03-15T19:37:51.930Z"
   },
   {
    "duration": 12,
    "start_time": "2025-03-15T19:39:44.901Z"
   },
   {
    "duration": 17,
    "start_time": "2025-03-15T19:39:54.504Z"
   },
   {
    "duration": 14,
    "start_time": "2025-03-15T19:41:11.673Z"
   },
   {
    "duration": 4,
    "start_time": "2025-03-15T19:41:12.478Z"
   },
   {
    "duration": 144,
    "start_time": "2025-03-15T19:41:13.109Z"
   },
   {
    "duration": 5,
    "start_time": "2025-03-15T19:42:27.060Z"
   },
   {
    "duration": 456,
    "start_time": "2025-03-15T19:42:34.431Z"
   },
   {
    "duration": 6,
    "start_time": "2025-03-15T19:45:45.508Z"
   },
   {
    "duration": 26,
    "start_time": "2025-03-15T19:46:32.611Z"
   },
   {
    "duration": 19,
    "start_time": "2025-03-15T20:23:57.299Z"
   },
   {
    "duration": 282,
    "start_time": "2025-03-15T20:24:39.936Z"
   },
   {
    "duration": 442,
    "start_time": "2025-03-15T20:29:16.906Z"
   },
   {
    "duration": 3,
    "start_time": "2025-03-15T21:18:02.713Z"
   },
   {
    "duration": 9,
    "start_time": "2025-03-15T21:18:03.378Z"
   },
   {
    "duration": 265,
    "start_time": "2025-03-15T21:18:04.406Z"
   },
   {
    "duration": 3,
    "start_time": "2025-03-15T21:18:07.386Z"
   },
   {
    "duration": 137,
    "start_time": "2025-03-15T21:18:07.958Z"
   },
   {
    "duration": 426,
    "start_time": "2025-03-15T21:18:08.946Z"
   },
   {
    "duration": 12,
    "start_time": "2025-03-15T21:18:18.653Z"
   },
   {
    "duration": 7,
    "start_time": "2025-03-15T21:19:06.618Z"
   },
   {
    "duration": 1199,
    "start_time": "2025-03-15T21:19:28.148Z"
   },
   {
    "duration": 1237,
    "start_time": "2025-03-15T21:19:37.938Z"
   },
   {
    "duration": 4,
    "start_time": "2025-03-15T21:21:02.673Z"
   },
   {
    "duration": 2055,
    "start_time": "2025-03-15T21:21:08.399Z"
   },
   {
    "duration": 296,
    "start_time": "2025-03-15T21:22:03.056Z"
   },
   {
    "duration": 1253,
    "start_time": "2025-03-15T21:22:29.981Z"
   },
   {
    "duration": 3,
    "start_time": "2025-03-15T21:26:22.755Z"
   },
   {
    "duration": 4930,
    "start_time": "2025-03-15T21:27:38.791Z"
   },
   {
    "duration": 1738,
    "start_time": "2025-03-15T21:28:13.862Z"
   },
   {
    "duration": 1921,
    "start_time": "2025-03-15T21:28:23.863Z"
   },
   {
    "duration": 139,
    "start_time": "2025-03-15T21:41:25.268Z"
   },
   {
    "duration": 433,
    "start_time": "2025-03-15T21:41:26.004Z"
   },
   {
    "duration": 142,
    "start_time": "2025-03-15T21:41:33.349Z"
   },
   {
    "duration": 446,
    "start_time": "2025-03-15T21:41:33.892Z"
   },
   {
    "duration": 483,
    "start_time": "2025-03-15T21:43:41.446Z"
   },
   {
    "duration": 5,
    "start_time": "2025-03-15T21:46:21.095Z"
   },
   {
    "duration": 13,
    "start_time": "2025-03-15T21:46:26.991Z"
   },
   {
    "duration": 13267,
    "start_time": "2025-03-15T21:46:59.110Z"
   },
   {
    "duration": 1673,
    "start_time": "2025-03-15T21:47:12.379Z"
   },
   {
    "duration": 2,
    "start_time": "2025-03-15T21:47:14.054Z"
   },
   {
    "duration": 146,
    "start_time": "2025-03-15T21:47:14.058Z"
   },
   {
    "duration": 123,
    "start_time": "2025-03-15T21:47:14.206Z"
   },
   {
    "duration": 103,
    "start_time": "2025-03-15T21:47:14.331Z"
   },
   {
    "duration": 68,
    "start_time": "2025-03-15T21:47:14.435Z"
   },
   {
    "duration": 23,
    "start_time": "2025-03-15T21:47:14.505Z"
   },
   {
    "duration": 6,
    "start_time": "2025-03-15T21:47:14.529Z"
   },
   {
    "duration": 10,
    "start_time": "2025-03-15T21:47:14.537Z"
   },
   {
    "duration": 17,
    "start_time": "2025-03-15T21:47:14.548Z"
   },
   {
    "duration": 3,
    "start_time": "2025-03-15T21:47:14.566Z"
   },
   {
    "duration": 41,
    "start_time": "2025-03-15T21:47:14.571Z"
   },
   {
    "duration": 9,
    "start_time": "2025-03-15T21:47:14.614Z"
   },
   {
    "duration": 8,
    "start_time": "2025-03-15T21:47:14.624Z"
   },
   {
    "duration": 12,
    "start_time": "2025-03-15T21:47:14.633Z"
   },
   {
    "duration": 20,
    "start_time": "2025-03-15T21:47:14.646Z"
   },
   {
    "duration": 3,
    "start_time": "2025-03-15T21:47:14.667Z"
   },
   {
    "duration": 36,
    "start_time": "2025-03-15T21:47:14.672Z"
   },
   {
    "duration": 36,
    "start_time": "2025-03-15T21:47:14.709Z"
   },
   {
    "duration": 4,
    "start_time": "2025-03-15T21:47:14.746Z"
   },
   {
    "duration": 18,
    "start_time": "2025-03-15T21:47:14.751Z"
   },
   {
    "duration": 42,
    "start_time": "2025-03-15T21:47:14.771Z"
   },
   {
    "duration": 3,
    "start_time": "2025-03-15T21:47:14.814Z"
   },
   {
    "duration": 7,
    "start_time": "2025-03-15T21:47:14.819Z"
   },
   {
    "duration": 32,
    "start_time": "2025-03-15T21:47:14.827Z"
   },
   {
    "duration": 35,
    "start_time": "2025-03-15T21:47:14.860Z"
   },
   {
    "duration": 34,
    "start_time": "2025-03-15T21:47:14.898Z"
   },
   {
    "duration": 12,
    "start_time": "2025-03-15T21:47:14.933Z"
   },
   {
    "duration": 16,
    "start_time": "2025-03-15T21:47:14.946Z"
   },
   {
    "duration": 14,
    "start_time": "2025-03-15T21:47:14.963Z"
   },
   {
    "duration": 46802,
    "start_time": "2025-03-15T21:47:14.978Z"
   },
   {
    "duration": 44,
    "start_time": "2025-03-15T21:48:01.782Z"
   },
   {
    "duration": 4,
    "start_time": "2025-03-15T21:48:01.828Z"
   },
   {
    "duration": 13,
    "start_time": "2025-03-15T21:48:01.834Z"
   },
   {
    "duration": 44,
    "start_time": "2025-03-15T21:48:01.849Z"
   },
   {
    "duration": 4,
    "start_time": "2025-03-15T21:48:01.894Z"
   },
   {
    "duration": 23,
    "start_time": "2025-03-15T21:48:01.899Z"
   },
   {
    "duration": 245,
    "start_time": "2025-03-15T21:48:01.924Z"
   },
   {
    "duration": 3,
    "start_time": "2025-03-15T21:48:02.171Z"
   },
   {
    "duration": 169,
    "start_time": "2025-03-15T21:48:02.175Z"
   },
   {
    "duration": 471,
    "start_time": "2025-03-15T21:48:02.346Z"
   },
   {
    "duration": 1824,
    "start_time": "2025-03-15T21:48:02.819Z"
   },
   {
    "duration": 5,
    "start_time": "2025-03-15T21:48:04.645Z"
   },
   {
    "duration": 25,
    "start_time": "2025-03-15T21:48:04.651Z"
   },
   {
    "duration": 152,
    "start_time": "2025-03-15T21:55:49.532Z"
   },
   {
    "duration": 1002,
    "start_time": "2025-03-15T21:56:09.027Z"
   },
   {
    "duration": 3,
    "start_time": "2025-03-15T21:56:55.234Z"
   },
   {
    "duration": 1056,
    "start_time": "2025-03-15T21:57:11.141Z"
   },
   {
    "duration": 998,
    "start_time": "2025-03-15T21:57:41.123Z"
   },
   {
    "duration": 2138,
    "start_time": "2025-03-15T21:57:45.423Z"
   },
   {
    "duration": 5,
    "start_time": "2025-03-15T22:01:01.999Z"
   },
   {
    "duration": 1304,
    "start_time": "2025-03-15T22:03:23.196Z"
   },
   {
    "duration": 13500,
    "start_time": "2025-03-15T22:03:57.014Z"
   },
   {
    "duration": 1711,
    "start_time": "2025-03-15T22:04:10.516Z"
   },
   {
    "duration": 3,
    "start_time": "2025-03-15T22:04:12.228Z"
   },
   {
    "duration": 103,
    "start_time": "2025-03-15T22:04:12.233Z"
   },
   {
    "duration": 64,
    "start_time": "2025-03-15T22:04:12.338Z"
   },
   {
    "duration": 69,
    "start_time": "2025-03-15T22:04:12.403Z"
   },
   {
    "duration": 52,
    "start_time": "2025-03-15T22:04:12.473Z"
   },
   {
    "duration": 25,
    "start_time": "2025-03-15T22:04:12.527Z"
   },
   {
    "duration": 8,
    "start_time": "2025-03-15T22:04:12.553Z"
   },
   {
    "duration": 30,
    "start_time": "2025-03-15T22:04:12.564Z"
   },
   {
    "duration": 36,
    "start_time": "2025-03-15T22:04:12.596Z"
   },
   {
    "duration": 33,
    "start_time": "2025-03-15T22:04:12.633Z"
   },
   {
    "duration": 53,
    "start_time": "2025-03-15T22:04:12.668Z"
   },
   {
    "duration": 24,
    "start_time": "2025-03-15T22:04:12.722Z"
   },
   {
    "duration": 21,
    "start_time": "2025-03-15T22:04:12.748Z"
   },
   {
    "duration": 37,
    "start_time": "2025-03-15T22:04:12.771Z"
   },
   {
    "duration": 40,
    "start_time": "2025-03-15T22:04:12.810Z"
   },
   {
    "duration": 6,
    "start_time": "2025-03-15T22:04:12.851Z"
   },
   {
    "duration": 34,
    "start_time": "2025-03-15T22:04:12.859Z"
   },
   {
    "duration": 44,
    "start_time": "2025-03-15T22:04:12.894Z"
   },
   {
    "duration": 28,
    "start_time": "2025-03-15T22:04:12.940Z"
   },
   {
    "duration": 58,
    "start_time": "2025-03-15T22:04:12.970Z"
   },
   {
    "duration": 65,
    "start_time": "2025-03-15T22:04:13.030Z"
   },
   {
    "duration": 15,
    "start_time": "2025-03-15T22:04:13.097Z"
   },
   {
    "duration": 38,
    "start_time": "2025-03-15T22:04:13.114Z"
   },
   {
    "duration": 78,
    "start_time": "2025-03-15T22:04:13.154Z"
   },
   {
    "duration": 29,
    "start_time": "2025-03-15T22:04:13.234Z"
   },
   {
    "duration": 17,
    "start_time": "2025-03-15T22:04:13.266Z"
   },
   {
    "duration": 33,
    "start_time": "2025-03-15T22:04:13.285Z"
   },
   {
    "duration": 24,
    "start_time": "2025-03-15T22:04:13.319Z"
   },
   {
    "duration": 45,
    "start_time": "2025-03-15T22:04:13.345Z"
   },
   {
    "duration": 5,
    "start_time": "2025-03-15T22:04:13.392Z"
   },
   {
    "duration": 24,
    "start_time": "2025-03-15T22:04:13.398Z"
   },
   {
    "duration": 39,
    "start_time": "2025-03-15T22:04:13.424Z"
   },
   {
    "duration": 26,
    "start_time": "2025-03-15T22:04:13.465Z"
   },
   {
    "duration": 1102,
    "start_time": "2025-03-15T22:04:13.493Z"
   },
   {
    "duration": 927,
    "start_time": "2025-03-15T22:04:14.596Z"
   },
   {
    "duration": 10,
    "start_time": "2025-03-15T22:04:15.525Z"
   },
   {
    "duration": 337,
    "start_time": "2025-03-15T22:04:15.536Z"
   },
   {
    "duration": 3,
    "start_time": "2025-03-15T22:04:15.874Z"
   },
   {
    "duration": 58,
    "start_time": "2025-03-15T22:04:15.879Z"
   },
   {
    "duration": 309,
    "start_time": "2025-03-15T22:04:15.939Z"
   },
   {
    "duration": 1979,
    "start_time": "2025-03-15T22:04:16.249Z"
   },
   {
    "duration": 6,
    "start_time": "2025-03-15T22:04:18.229Z"
   },
   {
    "duration": 20,
    "start_time": "2025-03-15T22:04:18.237Z"
   },
   {
    "duration": 877,
    "start_time": "2025-03-15T22:04:50.848Z"
   },
   {
    "duration": 13612,
    "start_time": "2025-03-15T22:04:57.256Z"
   },
   {
    "duration": 1776,
    "start_time": "2025-03-15T22:05:10.871Z"
   },
   {
    "duration": 3,
    "start_time": "2025-03-15T22:05:12.649Z"
   },
   {
    "duration": 81,
    "start_time": "2025-03-15T22:05:12.655Z"
   },
   {
    "duration": 62,
    "start_time": "2025-03-15T22:05:12.737Z"
   },
   {
    "duration": 71,
    "start_time": "2025-03-15T22:05:12.800Z"
   },
   {
    "duration": 53,
    "start_time": "2025-03-15T22:05:12.873Z"
   },
   {
    "duration": 25,
    "start_time": "2025-03-15T22:05:12.929Z"
   },
   {
    "duration": 21,
    "start_time": "2025-03-15T22:05:12.955Z"
   },
   {
    "duration": 16,
    "start_time": "2025-03-15T22:05:12.978Z"
   },
   {
    "duration": 28,
    "start_time": "2025-03-15T22:05:12.996Z"
   },
   {
    "duration": 11,
    "start_time": "2025-03-15T22:05:13.026Z"
   },
   {
    "duration": 30,
    "start_time": "2025-03-15T22:05:13.039Z"
   },
   {
    "duration": 10,
    "start_time": "2025-03-15T22:05:13.070Z"
   },
   {
    "duration": 5,
    "start_time": "2025-03-15T22:05:13.081Z"
   },
   {
    "duration": 13,
    "start_time": "2025-03-15T22:05:13.088Z"
   },
   {
    "duration": 20,
    "start_time": "2025-03-15T22:05:13.103Z"
   },
   {
    "duration": 4,
    "start_time": "2025-03-15T22:05:13.125Z"
   },
   {
    "duration": 9,
    "start_time": "2025-03-15T22:05:13.131Z"
   },
   {
    "duration": 39,
    "start_time": "2025-03-15T22:05:13.141Z"
   },
   {
    "duration": 29,
    "start_time": "2025-03-15T22:05:13.181Z"
   },
   {
    "duration": 15,
    "start_time": "2025-03-15T22:05:13.211Z"
   },
   {
    "duration": 21,
    "start_time": "2025-03-15T22:05:13.228Z"
   },
   {
    "duration": 9,
    "start_time": "2025-03-15T22:05:13.250Z"
   },
   {
    "duration": 9,
    "start_time": "2025-03-15T22:05:13.260Z"
   },
   {
    "duration": 47,
    "start_time": "2025-03-15T22:05:13.270Z"
   },
   {
    "duration": 29,
    "start_time": "2025-03-15T22:05:13.318Z"
   },
   {
    "duration": 16,
    "start_time": "2025-03-15T22:05:13.350Z"
   },
   {
    "duration": 41,
    "start_time": "2025-03-15T22:05:13.367Z"
   },
   {
    "duration": 24,
    "start_time": "2025-03-15T22:05:13.410Z"
   },
   {
    "duration": 24,
    "start_time": "2025-03-15T22:05:13.436Z"
   },
   {
    "duration": 4,
    "start_time": "2025-03-15T22:05:13.461Z"
   },
   {
    "duration": 6,
    "start_time": "2025-03-15T22:05:13.466Z"
   },
   {
    "duration": 43,
    "start_time": "2025-03-15T22:05:13.473Z"
   },
   {
    "duration": 3,
    "start_time": "2025-03-15T22:05:13.518Z"
   },
   {
    "duration": 1166,
    "start_time": "2025-03-15T22:05:13.523Z"
   },
   {
    "duration": 4482,
    "start_time": "2025-03-15T22:05:14.690Z"
   },
   {
    "duration": 10,
    "start_time": "2025-03-15T22:05:19.173Z"
   },
   {
    "duration": 294,
    "start_time": "2025-03-15T22:05:19.184Z"
   },
   {
    "duration": 3,
    "start_time": "2025-03-15T22:05:19.480Z"
   },
   {
    "duration": 180,
    "start_time": "2025-03-15T22:05:19.485Z"
   },
   {
    "duration": 483,
    "start_time": "2025-03-15T22:05:19.667Z"
   },
   {
    "duration": 1887,
    "start_time": "2025-03-15T22:05:20.152Z"
   },
   {
    "duration": 7,
    "start_time": "2025-03-15T22:05:22.041Z"
   },
   {
    "duration": 15,
    "start_time": "2025-03-15T22:05:22.050Z"
   },
   {
    "duration": 153,
    "start_time": "2025-03-15T22:09:33.298Z"
   },
   {
    "duration": 13727,
    "start_time": "2025-03-15T22:09:49.052Z"
   },
   {
    "duration": 1667,
    "start_time": "2025-03-15T22:10:02.781Z"
   },
   {
    "duration": 3,
    "start_time": "2025-03-15T22:10:04.450Z"
   },
   {
    "duration": 94,
    "start_time": "2025-03-15T22:10:04.455Z"
   },
   {
    "duration": 58,
    "start_time": "2025-03-15T22:10:04.551Z"
   },
   {
    "duration": 55,
    "start_time": "2025-03-15T22:10:04.610Z"
   },
   {
    "duration": 36,
    "start_time": "2025-03-15T22:10:04.666Z"
   },
   {
    "duration": 23,
    "start_time": "2025-03-15T22:10:04.703Z"
   },
   {
    "duration": 4,
    "start_time": "2025-03-15T22:10:04.727Z"
   },
   {
    "duration": 12,
    "start_time": "2025-03-15T22:10:04.733Z"
   },
   {
    "duration": 27,
    "start_time": "2025-03-15T22:10:04.747Z"
   },
   {
    "duration": 4,
    "start_time": "2025-03-15T22:10:04.775Z"
   },
   {
    "duration": 47,
    "start_time": "2025-03-15T22:10:04.781Z"
   },
   {
    "duration": 9,
    "start_time": "2025-03-15T22:10:04.830Z"
   },
   {
    "duration": 16,
    "start_time": "2025-03-15T22:10:04.840Z"
   },
   {
    "duration": 17,
    "start_time": "2025-03-15T22:10:04.858Z"
   },
   {
    "duration": 21,
    "start_time": "2025-03-15T22:10:04.876Z"
   },
   {
    "duration": 4,
    "start_time": "2025-03-15T22:10:04.906Z"
   },
   {
    "duration": 21,
    "start_time": "2025-03-15T22:10:04.911Z"
   },
   {
    "duration": 56,
    "start_time": "2025-03-15T22:10:04.933Z"
   },
   {
    "duration": 5,
    "start_time": "2025-03-15T22:10:04.991Z"
   },
   {
    "duration": 17,
    "start_time": "2025-03-15T22:10:04.997Z"
   },
   {
    "duration": 20,
    "start_time": "2025-03-15T22:10:05.016Z"
   },
   {
    "duration": 25,
    "start_time": "2025-03-15T22:10:05.039Z"
   },
   {
    "duration": 9,
    "start_time": "2025-03-15T22:10:05.066Z"
   },
   {
    "duration": 36,
    "start_time": "2025-03-15T22:10:05.077Z"
   },
   {
    "duration": 32,
    "start_time": "2025-03-15T22:10:05.115Z"
   },
   {
    "duration": 22,
    "start_time": "2025-03-15T22:10:05.152Z"
   },
   {
    "duration": 41,
    "start_time": "2025-03-15T22:10:05.176Z"
   },
   {
    "duration": 26,
    "start_time": "2025-03-15T22:10:05.218Z"
   },
   {
    "duration": 26,
    "start_time": "2025-03-15T22:10:05.245Z"
   },
   {
    "duration": 5,
    "start_time": "2025-03-15T22:10:05.272Z"
   },
   {
    "duration": 11,
    "start_time": "2025-03-15T22:10:05.278Z"
   },
   {
    "duration": 30,
    "start_time": "2025-03-15T22:10:05.291Z"
   },
   {
    "duration": 3,
    "start_time": "2025-03-15T22:10:05.323Z"
   },
   {
    "duration": 1022,
    "start_time": "2025-03-15T22:10:05.327Z"
   },
   {
    "duration": 4057,
    "start_time": "2025-03-15T22:10:06.351Z"
   },
   {
    "duration": 10,
    "start_time": "2025-03-15T22:10:10.409Z"
   },
   {
    "duration": 255,
    "start_time": "2025-03-15T22:10:10.420Z"
   },
   {
    "duration": 3,
    "start_time": "2025-03-15T22:10:10.677Z"
   },
   {
    "duration": 156,
    "start_time": "2025-03-15T22:10:10.681Z"
   },
   {
    "duration": 496,
    "start_time": "2025-03-15T22:10:10.839Z"
   },
   {
    "duration": 1791,
    "start_time": "2025-03-15T22:10:11.336Z"
   },
   {
    "duration": 4,
    "start_time": "2025-03-15T22:10:13.128Z"
   },
   {
    "duration": 15,
    "start_time": "2025-03-15T22:10:13.133Z"
   },
   {
    "duration": 141,
    "start_time": "2025-03-15T22:11:20.977Z"
   },
   {
    "duration": 12976,
    "start_time": "2025-03-15T22:11:32.788Z"
   },
   {
    "duration": 1576,
    "start_time": "2025-03-15T22:11:45.766Z"
   },
   {
    "duration": 2,
    "start_time": "2025-03-15T22:11:47.344Z"
   },
   {
    "duration": 88,
    "start_time": "2025-03-15T22:11:47.348Z"
   },
   {
    "duration": 55,
    "start_time": "2025-03-15T22:11:47.438Z"
   },
   {
    "duration": 66,
    "start_time": "2025-03-15T22:11:47.494Z"
   },
   {
    "duration": 54,
    "start_time": "2025-03-15T22:11:47.562Z"
   },
   {
    "duration": 22,
    "start_time": "2025-03-15T22:11:47.618Z"
   },
   {
    "duration": 10,
    "start_time": "2025-03-15T22:11:47.641Z"
   },
   {
    "duration": 17,
    "start_time": "2025-03-15T22:11:47.653Z"
   },
   {
    "duration": 17,
    "start_time": "2025-03-15T22:11:47.671Z"
   },
   {
    "duration": 19,
    "start_time": "2025-03-15T22:11:47.689Z"
   },
   {
    "duration": 18,
    "start_time": "2025-03-15T22:11:47.710Z"
   },
   {
    "duration": 9,
    "start_time": "2025-03-15T22:11:47.729Z"
   },
   {
    "duration": 6,
    "start_time": "2025-03-15T22:11:47.740Z"
   },
   {
    "duration": 15,
    "start_time": "2025-03-15T22:11:47.747Z"
   },
   {
    "duration": 19,
    "start_time": "2025-03-15T22:11:47.763Z"
   },
   {
    "duration": 24,
    "start_time": "2025-03-15T22:11:47.784Z"
   },
   {
    "duration": 16,
    "start_time": "2025-03-15T22:11:47.810Z"
   },
   {
    "duration": 35,
    "start_time": "2025-03-15T22:11:47.827Z"
   },
   {
    "duration": 4,
    "start_time": "2025-03-15T22:11:47.863Z"
   },
   {
    "duration": 82,
    "start_time": "2025-03-15T22:11:47.868Z"
   },
   {
    "duration": 66,
    "start_time": "2025-03-15T22:11:47.952Z"
   },
   {
    "duration": 57,
    "start_time": "2025-03-15T22:11:48.020Z"
   },
   {
    "duration": 6,
    "start_time": "2025-03-15T22:11:48.079Z"
   },
   {
    "duration": 23,
    "start_time": "2025-03-15T22:11:48.086Z"
   },
   {
    "duration": 27,
    "start_time": "2025-03-15T22:11:48.111Z"
   },
   {
    "duration": 17,
    "start_time": "2025-03-15T22:11:48.141Z"
   },
   {
    "duration": 11,
    "start_time": "2025-03-15T22:11:48.160Z"
   },
   {
    "duration": 42,
    "start_time": "2025-03-15T22:11:48.173Z"
   },
   {
    "duration": 23,
    "start_time": "2025-03-15T22:11:48.217Z"
   },
   {
    "duration": 5,
    "start_time": "2025-03-15T22:11:48.242Z"
   },
   {
    "duration": 8,
    "start_time": "2025-03-15T22:11:48.249Z"
   },
   {
    "duration": 49,
    "start_time": "2025-03-15T22:11:48.258Z"
   },
   {
    "duration": 4,
    "start_time": "2025-03-15T22:11:48.308Z"
   },
   {
    "duration": 1003,
    "start_time": "2025-03-15T22:11:48.314Z"
   },
   {
    "duration": 4113,
    "start_time": "2025-03-15T22:11:49.318Z"
   },
   {
    "duration": 10,
    "start_time": "2025-03-15T22:11:53.433Z"
   },
   {
    "duration": 306,
    "start_time": "2025-03-15T22:11:53.445Z"
   },
   {
    "duration": 4,
    "start_time": "2025-03-15T22:11:53.753Z"
   },
   {
    "duration": 169,
    "start_time": "2025-03-15T22:11:53.759Z"
   },
   {
    "duration": 422,
    "start_time": "2025-03-15T22:11:53.929Z"
   },
   {
    "duration": 1738,
    "start_time": "2025-03-15T22:11:54.353Z"
   },
   {
    "duration": 5,
    "start_time": "2025-03-15T22:11:56.093Z"
   },
   {
    "duration": 21,
    "start_time": "2025-03-15T22:11:56.100Z"
   },
   {
    "duration": 47,
    "start_time": "2025-03-16T10:55:15.224Z"
   },
   {
    "duration": 28500,
    "start_time": "2025-03-16T10:55:19.697Z"
   },
   {
    "duration": 1935,
    "start_time": "2025-03-16T10:55:48.199Z"
   },
   {
    "duration": 3,
    "start_time": "2025-03-16T10:55:50.137Z"
   },
   {
    "duration": 161,
    "start_time": "2025-03-16T10:55:50.142Z"
   },
   {
    "duration": 132,
    "start_time": "2025-03-16T10:55:50.304Z"
   },
   {
    "duration": 87,
    "start_time": "2025-03-16T10:55:50.438Z"
   },
   {
    "duration": 215,
    "start_time": "2025-03-16T10:55:50.526Z"
   },
   {
    "duration": 24,
    "start_time": "2025-03-16T10:55:50.743Z"
   },
   {
    "duration": 5,
    "start_time": "2025-03-16T10:55:50.768Z"
   },
   {
    "duration": 10,
    "start_time": "2025-03-16T10:55:50.777Z"
   },
   {
    "duration": 21,
    "start_time": "2025-03-16T10:55:50.788Z"
   },
   {
    "duration": 11,
    "start_time": "2025-03-16T10:55:50.811Z"
   },
   {
    "duration": 41,
    "start_time": "2025-03-16T10:55:50.824Z"
   },
   {
    "duration": 13,
    "start_time": "2025-03-16T10:55:50.867Z"
   },
   {
    "duration": 16,
    "start_time": "2025-03-16T10:55:50.882Z"
   },
   {
    "duration": 22,
    "start_time": "2025-03-16T10:55:50.900Z"
   },
   {
    "duration": 19,
    "start_time": "2025-03-16T10:55:50.923Z"
   },
   {
    "duration": 3,
    "start_time": "2025-03-16T10:55:50.944Z"
   },
   {
    "duration": 10,
    "start_time": "2025-03-16T10:55:50.948Z"
   },
   {
    "duration": 51,
    "start_time": "2025-03-16T10:55:50.960Z"
   },
   {
    "duration": 4,
    "start_time": "2025-03-16T10:55:51.012Z"
   },
   {
    "duration": 13,
    "start_time": "2025-03-16T10:55:51.017Z"
   },
   {
    "duration": 20,
    "start_time": "2025-03-16T10:55:51.032Z"
   },
   {
    "duration": 3,
    "start_time": "2025-03-16T10:55:51.054Z"
   },
   {
    "duration": 9,
    "start_time": "2025-03-16T10:55:51.058Z"
   },
   {
    "duration": 57,
    "start_time": "2025-03-16T10:55:51.068Z"
   },
   {
    "duration": 29,
    "start_time": "2025-03-16T10:55:51.126Z"
   },
   {
    "duration": 21,
    "start_time": "2025-03-16T10:55:51.158Z"
   },
   {
    "duration": 53,
    "start_time": "2025-03-16T10:55:51.180Z"
   },
   {
    "duration": 18,
    "start_time": "2025-03-16T10:55:51.234Z"
   },
   {
    "duration": 25,
    "start_time": "2025-03-16T10:55:51.253Z"
   },
   {
    "duration": 4,
    "start_time": "2025-03-16T10:55:51.279Z"
   },
   {
    "duration": 6,
    "start_time": "2025-03-16T10:55:51.285Z"
   },
   {
    "duration": 26,
    "start_time": "2025-03-16T10:55:51.292Z"
   },
   {
    "duration": 3,
    "start_time": "2025-03-16T10:55:51.320Z"
   },
   {
    "duration": 1106,
    "start_time": "2025-03-16T10:55:51.325Z"
   },
   {
    "duration": 4043,
    "start_time": "2025-03-16T10:55:52.432Z"
   },
   {
    "duration": 9,
    "start_time": "2025-03-16T10:55:56.476Z"
   },
   {
    "duration": 287,
    "start_time": "2025-03-16T10:55:56.486Z"
   },
   {
    "duration": 3,
    "start_time": "2025-03-16T10:55:56.775Z"
   },
   {
    "duration": 159,
    "start_time": "2025-03-16T10:55:56.779Z"
   },
   {
    "duration": 493,
    "start_time": "2025-03-16T10:55:56.940Z"
   },
   {
    "duration": 1860,
    "start_time": "2025-03-16T10:55:57.435Z"
   },
   {
    "duration": 4,
    "start_time": "2025-03-16T10:55:59.298Z"
   },
   {
    "duration": 18,
    "start_time": "2025-03-16T10:55:59.303Z"
   },
   {
    "duration": 5,
    "start_time": "2025-03-16T10:55:59.323Z"
   },
   {
    "duration": 9,
    "start_time": "2025-03-16T10:57:12.918Z"
   },
   {
    "duration": 31,
    "start_time": "2025-03-16T11:00:19.519Z"
   },
   {
    "duration": 5,
    "start_time": "2025-03-16T11:01:25.583Z"
   },
   {
    "duration": 5,
    "start_time": "2025-03-16T11:01:37.422Z"
   },
   {
    "duration": 8,
    "start_time": "2025-03-16T11:09:32.118Z"
   },
   {
    "duration": 2,
    "start_time": "2025-03-16T11:09:33.383Z"
   },
   {
    "duration": 152,
    "start_time": "2025-03-16T11:40:16.437Z"
   },
   {
    "duration": 5,
    "start_time": "2025-03-16T11:40:34.463Z"
   },
   {
    "duration": 4,
    "start_time": "2025-03-16T11:40:53.392Z"
   },
   {
    "duration": 124,
    "start_time": "2025-03-16T11:42:09.154Z"
   },
   {
    "duration": 401,
    "start_time": "2025-03-16T11:44:55.308Z"
   },
   {
    "duration": 13,
    "start_time": "2025-03-16T11:45:00.242Z"
   },
   {
    "duration": 7,
    "start_time": "2025-03-16T11:45:41.862Z"
   },
   {
    "duration": 305,
    "start_time": "2025-03-16T11:45:49.911Z"
   },
   {
    "duration": 44250,
    "start_time": "2025-03-17T05:43:11.385Z"
   },
   {
    "duration": 2065,
    "start_time": "2025-03-17T05:43:55.638Z"
   },
   {
    "duration": 2,
    "start_time": "2025-03-17T05:43:57.705Z"
   },
   {
    "duration": 149,
    "start_time": "2025-03-17T05:43:57.709Z"
   },
   {
    "duration": 81,
    "start_time": "2025-03-17T05:43:57.859Z"
   },
   {
    "duration": 138,
    "start_time": "2025-03-17T05:43:57.942Z"
   },
   {
    "duration": 88,
    "start_time": "2025-03-17T05:43:58.082Z"
   },
   {
    "duration": 41,
    "start_time": "2025-03-17T05:43:58.172Z"
   },
   {
    "duration": 5,
    "start_time": "2025-03-17T05:43:58.215Z"
   },
   {
    "duration": 13,
    "start_time": "2025-03-17T05:43:58.224Z"
   },
   {
    "duration": 38,
    "start_time": "2025-03-17T05:43:58.239Z"
   },
   {
    "duration": 4,
    "start_time": "2025-03-17T05:43:58.279Z"
   },
   {
    "duration": 22,
    "start_time": "2025-03-17T05:43:58.285Z"
   },
   {
    "duration": 10,
    "start_time": "2025-03-17T05:43:58.309Z"
   },
   {
    "duration": 39,
    "start_time": "2025-03-17T05:43:58.320Z"
   },
   {
    "duration": 14,
    "start_time": "2025-03-17T05:43:58.361Z"
   },
   {
    "duration": 24,
    "start_time": "2025-03-17T05:43:58.376Z"
   },
   {
    "duration": 4,
    "start_time": "2025-03-17T05:43:58.402Z"
   },
   {
    "duration": 12,
    "start_time": "2025-03-17T05:43:58.408Z"
   },
   {
    "duration": 41,
    "start_time": "2025-03-17T05:43:58.458Z"
   },
   {
    "duration": 5,
    "start_time": "2025-03-17T05:43:58.501Z"
   },
   {
    "duration": 21,
    "start_time": "2025-03-17T05:43:58.508Z"
   },
   {
    "duration": 47,
    "start_time": "2025-03-17T05:43:58.531Z"
   },
   {
    "duration": 4,
    "start_time": "2025-03-17T05:43:58.580Z"
   },
   {
    "duration": 8,
    "start_time": "2025-03-17T05:43:58.586Z"
   },
   {
    "duration": 29,
    "start_time": "2025-03-17T05:43:58.596Z"
   },
   {
    "duration": 33,
    "start_time": "2025-03-17T05:43:58.657Z"
   },
   {
    "duration": 57,
    "start_time": "2025-03-17T05:43:58.694Z"
   },
   {
    "duration": 13,
    "start_time": "2025-03-17T05:43:58.753Z"
   },
   {
    "duration": 19,
    "start_time": "2025-03-17T05:43:58.768Z"
   },
   {
    "duration": 26,
    "start_time": "2025-03-17T05:43:58.789Z"
   },
   {
    "duration": 6,
    "start_time": "2025-03-17T05:43:58.817Z"
   },
   {
    "duration": 63,
    "start_time": "2025-03-17T05:43:58.824Z"
   },
   {
    "duration": 17,
    "start_time": "2025-03-17T05:43:58.889Z"
   },
   {
    "duration": 4,
    "start_time": "2025-03-17T05:43:58.907Z"
   },
   {
    "duration": 1118,
    "start_time": "2025-03-17T05:43:58.913Z"
   },
   {
    "duration": 4516,
    "start_time": "2025-03-17T05:44:00.033Z"
   },
   {
    "duration": 12,
    "start_time": "2025-03-17T05:44:04.558Z"
   },
   {
    "duration": 292,
    "start_time": "2025-03-17T05:44:04.572Z"
   },
   {
    "duration": 4,
    "start_time": "2025-03-17T05:44:04.865Z"
   },
   {
    "duration": 181,
    "start_time": "2025-03-17T05:44:04.870Z"
   },
   {
    "duration": 514,
    "start_time": "2025-03-17T05:44:05.057Z"
   },
   {
    "duration": 2113,
    "start_time": "2025-03-17T05:44:05.573Z"
   },
   {
    "duration": 5,
    "start_time": "2025-03-17T05:44:07.688Z"
   },
   {
    "duration": 16,
    "start_time": "2025-03-17T05:44:07.694Z"
   },
   {
    "duration": 5,
    "start_time": "2025-03-17T05:44:07.712Z"
   },
   {
    "duration": 8,
    "start_time": "2025-03-17T05:44:07.719Z"
   },
   {
    "duration": 4,
    "start_time": "2025-03-17T05:44:07.728Z"
   },
   {
    "duration": 43,
    "start_time": "2025-03-17T05:44:07.757Z"
   },
   {
    "duration": 365,
    "start_time": "2025-03-17T05:44:07.801Z"
   },
   {
    "duration": 494,
    "start_time": "2025-03-17T05:44:08.168Z"
   },
   {
    "duration": 1465,
    "start_time": "2025-03-17T06:25:20.794Z"
   },
   {
    "duration": 1049,
    "start_time": "2025-03-17T06:26:26.408Z"
   },
   {
    "duration": 21,
    "start_time": "2025-03-17T07:10:27.934Z"
   },
   {
    "duration": 10,
    "start_time": "2025-03-17T07:10:50.170Z"
   },
   {
    "duration": 3,
    "start_time": "2025-03-17T07:46:53.362Z"
   },
   {
    "duration": 46,
    "start_time": "2025-03-17T07:46:53.720Z"
   },
   {
    "duration": 378,
    "start_time": "2025-03-17T07:46:58.482Z"
   },
   {
    "duration": 10,
    "start_time": "2025-03-17T07:50:28.853Z"
   },
   {
    "duration": 39,
    "start_time": "2025-03-17T07:51:24.119Z"
   },
   {
    "duration": 270,
    "start_time": "2025-03-17T07:51:50.193Z"
   },
   {
    "duration": 299,
    "start_time": "2025-03-17T07:51:53.831Z"
   },
   {
    "duration": 192,
    "start_time": "2025-03-17T07:51:57.675Z"
   },
   {
    "duration": 250,
    "start_time": "2025-03-17T07:52:09.783Z"
   },
   {
    "duration": 50,
    "start_time": "2025-03-17T08:07:59.065Z"
   },
   {
    "duration": 14593,
    "start_time": "2025-03-17T08:19:13.300Z"
   },
   {
    "duration": 1776,
    "start_time": "2025-03-17T08:19:27.895Z"
   },
   {
    "duration": 3,
    "start_time": "2025-03-17T08:19:29.672Z"
   },
   {
    "duration": 196,
    "start_time": "2025-03-17T08:19:29.677Z"
   },
   {
    "duration": 100,
    "start_time": "2025-03-17T08:19:29.875Z"
   },
   {
    "duration": 135,
    "start_time": "2025-03-17T08:19:29.976Z"
   },
   {
    "duration": 132,
    "start_time": "2025-03-17T08:19:30.113Z"
   },
   {
    "duration": 28,
    "start_time": "2025-03-17T08:19:30.247Z"
   },
   {
    "duration": 4,
    "start_time": "2025-03-17T08:19:30.276Z"
   },
   {
    "duration": 21,
    "start_time": "2025-03-17T08:19:30.283Z"
   },
   {
    "duration": 20,
    "start_time": "2025-03-17T08:19:30.306Z"
   },
   {
    "duration": 4,
    "start_time": "2025-03-17T08:19:30.327Z"
   },
   {
    "duration": 22,
    "start_time": "2025-03-17T08:19:30.357Z"
   },
   {
    "duration": 11,
    "start_time": "2025-03-17T08:19:30.380Z"
   },
   {
    "duration": 7,
    "start_time": "2025-03-17T08:19:30.393Z"
   },
   {
    "duration": 15,
    "start_time": "2025-03-17T08:19:30.402Z"
   },
   {
    "duration": 51,
    "start_time": "2025-03-17T08:19:30.419Z"
   },
   {
    "duration": 99,
    "start_time": "2025-03-17T08:19:30.472Z"
   },
   {
    "duration": 23,
    "start_time": "2025-03-17T08:19:30.572Z"
   },
   {
    "duration": 50,
    "start_time": "2025-03-17T08:19:30.596Z"
   },
   {
    "duration": 72,
    "start_time": "2025-03-17T08:19:30.648Z"
   },
   {
    "duration": 19,
    "start_time": "2025-03-17T08:19:30.721Z"
   },
   {
    "duration": 25,
    "start_time": "2025-03-17T08:19:30.742Z"
   },
   {
    "duration": 4,
    "start_time": "2025-03-17T08:19:30.770Z"
   },
   {
    "duration": 9,
    "start_time": "2025-03-17T08:19:30.776Z"
   },
   {
    "duration": 35,
    "start_time": "2025-03-17T08:19:30.787Z"
   },
   {
    "duration": 49,
    "start_time": "2025-03-17T08:19:30.824Z"
   },
   {
    "duration": 18,
    "start_time": "2025-03-17T08:19:30.877Z"
   },
   {
    "duration": 13,
    "start_time": "2025-03-17T08:19:30.898Z"
   },
   {
    "duration": 47,
    "start_time": "2025-03-17T08:19:30.913Z"
   },
   {
    "duration": 27,
    "start_time": "2025-03-17T08:19:30.962Z"
   },
   {
    "duration": 5,
    "start_time": "2025-03-17T08:19:30.991Z"
   },
   {
    "duration": 10,
    "start_time": "2025-03-17T08:19:30.997Z"
   },
   {
    "duration": 14,
    "start_time": "2025-03-17T08:19:31.009Z"
   },
   {
    "duration": 5,
    "start_time": "2025-03-17T08:19:31.057Z"
   },
   {
    "duration": 1122,
    "start_time": "2025-03-17T08:19:31.063Z"
   },
   {
    "duration": 4508,
    "start_time": "2025-03-17T08:19:32.186Z"
   },
   {
    "duration": 10,
    "start_time": "2025-03-17T08:19:36.696Z"
   },
   {
    "duration": 313,
    "start_time": "2025-03-17T08:19:36.708Z"
   },
   {
    "duration": 4,
    "start_time": "2025-03-17T08:19:37.022Z"
   },
   {
    "duration": 171,
    "start_time": "2025-03-17T08:19:37.028Z"
   },
   {
    "duration": 507,
    "start_time": "2025-03-17T08:19:37.201Z"
   },
   {
    "duration": 1984,
    "start_time": "2025-03-17T08:19:37.710Z"
   },
   {
    "duration": 6,
    "start_time": "2025-03-17T08:19:39.696Z"
   },
   {
    "duration": 44,
    "start_time": "2025-03-17T08:19:39.703Z"
   },
   {
    "duration": 4,
    "start_time": "2025-03-17T08:19:39.749Z"
   },
   {
    "duration": 8,
    "start_time": "2025-03-17T08:19:39.755Z"
   },
   {
    "duration": 2,
    "start_time": "2025-03-17T08:19:39.765Z"
   },
   {
    "duration": 4,
    "start_time": "2025-03-17T08:19:39.769Z"
   },
   {
    "duration": 49,
    "start_time": "2025-03-17T08:19:39.774Z"
   },
   {
    "duration": 233,
    "start_time": "2025-03-17T08:19:39.825Z"
   },
   {
    "duration": 503,
    "start_time": "2025-03-17T08:19:40.061Z"
   },
   {
    "duration": 147,
    "start_time": "2025-03-17T08:19:40.566Z"
   },
   {
    "duration": 1358,
    "start_time": "2025-03-17T08:21:24.589Z"
   },
   {
    "duration": 1466,
    "start_time": "2025-03-17T08:23:46.636Z"
   },
   {
    "duration": 1055,
    "start_time": "2025-03-17T08:32:30.976Z"
   },
   {
    "duration": 102555,
    "start_time": "2025-03-17T08:36:03.577Z"
   },
   {
    "duration": 99953,
    "start_time": "2025-03-17T08:49:28.348Z"
   },
   {
    "duration": 402318,
    "start_time": "2025-03-17T09:23:15.782Z"
   },
   {
    "duration": 22,
    "start_time": "2025-03-17T09:55:53.995Z"
   },
   {
    "duration": 255,
    "start_time": "2025-03-17T09:56:49.084Z"
   },
   {
    "duration": 306,
    "start_time": "2025-03-17T10:07:46.224Z"
   },
   {
    "duration": 12,
    "start_time": "2025-03-17T10:34:49.459Z"
   },
   {
    "duration": 12,
    "start_time": "2025-03-17T10:35:49.987Z"
   },
   {
    "duration": 75,
    "start_time": "2025-03-18T10:21:20.076Z"
   },
   {
    "duration": 30994,
    "start_time": "2025-03-18T14:03:08.254Z"
   },
   {
    "duration": 1996,
    "start_time": "2025-03-18T14:03:39.251Z"
   },
   {
    "duration": 3,
    "start_time": "2025-03-18T14:03:41.249Z"
   },
   {
    "duration": 169,
    "start_time": "2025-03-18T14:03:41.255Z"
   },
   {
    "duration": 84,
    "start_time": "2025-03-18T14:03:41.425Z"
   },
   {
    "duration": 283,
    "start_time": "2025-03-18T14:03:41.511Z"
   },
   {
    "duration": 85,
    "start_time": "2025-03-18T14:03:41.796Z"
   },
   {
    "duration": 28,
    "start_time": "2025-03-18T14:03:41.883Z"
   },
   {
    "duration": 4,
    "start_time": "2025-03-18T14:03:41.913Z"
   },
   {
    "duration": 25,
    "start_time": "2025-03-18T14:03:41.920Z"
   },
   {
    "duration": 22,
    "start_time": "2025-03-18T14:03:41.946Z"
   },
   {
    "duration": 4,
    "start_time": "2025-03-18T14:03:41.970Z"
   },
   {
    "duration": 23,
    "start_time": "2025-03-18T14:03:41.976Z"
   },
   {
    "duration": 10,
    "start_time": "2025-03-18T14:03:42.001Z"
   },
   {
    "duration": 31,
    "start_time": "2025-03-18T14:03:42.012Z"
   },
   {
    "duration": 14,
    "start_time": "2025-03-18T14:03:42.045Z"
   },
   {
    "duration": 20,
    "start_time": "2025-03-18T14:03:42.061Z"
   },
   {
    "duration": 3,
    "start_time": "2025-03-18T14:03:42.083Z"
   },
   {
    "duration": 11,
    "start_time": "2025-03-18T14:03:42.088Z"
   },
   {
    "duration": 66,
    "start_time": "2025-03-18T14:03:42.100Z"
   },
   {
    "duration": 3,
    "start_time": "2025-03-18T14:03:42.168Z"
   },
   {
    "duration": 14,
    "start_time": "2025-03-18T14:03:42.172Z"
   },
   {
    "duration": 22,
    "start_time": "2025-03-18T14:03:42.187Z"
   },
   {
    "duration": 3,
    "start_time": "2025-03-18T14:03:42.211Z"
   },
   {
    "duration": 8,
    "start_time": "2025-03-18T14:03:42.242Z"
   },
   {
    "duration": 39,
    "start_time": "2025-03-18T14:03:42.252Z"
   },
   {
    "duration": 30,
    "start_time": "2025-03-18T14:03:42.293Z"
   },
   {
    "duration": 19,
    "start_time": "2025-03-18T14:03:42.343Z"
   },
   {
    "duration": 13,
    "start_time": "2025-03-18T14:03:42.364Z"
   },
   {
    "duration": 19,
    "start_time": "2025-03-18T14:03:42.378Z"
   },
   {
    "duration": 63,
    "start_time": "2025-03-18T14:03:42.399Z"
   },
   {
    "duration": 6,
    "start_time": "2025-03-18T14:03:42.464Z"
   },
   {
    "duration": 10,
    "start_time": "2025-03-18T14:03:42.471Z"
   },
   {
    "duration": 16,
    "start_time": "2025-03-18T14:03:42.483Z"
   },
   {
    "duration": 4,
    "start_time": "2025-03-18T14:03:42.501Z"
   },
   {
    "duration": 1174,
    "start_time": "2025-03-18T14:03:42.507Z"
   },
   {
    "duration": 4304,
    "start_time": "2025-03-18T14:03:43.683Z"
   },
   {
    "duration": 11,
    "start_time": "2025-03-18T14:03:47.989Z"
   },
   {
    "duration": 313,
    "start_time": "2025-03-18T14:03:48.002Z"
   },
   {
    "duration": 4,
    "start_time": "2025-03-18T14:03:48.317Z"
   },
   {
    "duration": 167,
    "start_time": "2025-03-18T14:03:48.343Z"
   },
   {
    "duration": 472,
    "start_time": "2025-03-18T14:03:48.512Z"
   },
   {
    "duration": 1989,
    "start_time": "2025-03-18T14:03:48.986Z"
   },
   {
    "duration": 5,
    "start_time": "2025-03-18T14:03:50.977Z"
   },
   {
    "duration": 20,
    "start_time": "2025-03-18T14:03:50.984Z"
   },
   {
    "duration": 121,
    "start_time": "2025-03-18T14:03:51.006Z"
   },
   {
    "duration": 14,
    "start_time": "2025-03-18T14:03:51.129Z"
   },
   {
    "duration": 3,
    "start_time": "2025-03-18T14:03:59.925Z"
   },
   {
    "duration": 43,
    "start_time": "2025-03-18T14:04:01.695Z"
   },
   {
    "duration": 138,
    "start_time": "2025-03-18T14:04:02.683Z"
   },
   {
    "duration": 330,
    "start_time": "2025-03-18T14:06:17.716Z"
   },
   {
    "duration": 12,
    "start_time": "2025-03-18T14:06:26.760Z"
   },
   {
    "duration": 251,
    "start_time": "2025-03-18T14:06:35.009Z"
   },
   {
    "duration": 94024,
    "start_time": "2025-03-18T14:06:54.313Z"
   },
   {
    "duration": 0,
    "start_time": "2025-03-18T14:08:28.339Z"
   },
   {
    "duration": 15017,
    "start_time": "2025-03-18T14:09:06.534Z"
   },
   {
    "duration": 1803,
    "start_time": "2025-03-18T14:09:21.553Z"
   },
   {
    "duration": 3,
    "start_time": "2025-03-18T14:09:23.358Z"
   },
   {
    "duration": 89,
    "start_time": "2025-03-18T14:09:23.363Z"
   },
   {
    "duration": 65,
    "start_time": "2025-03-18T14:09:23.454Z"
   },
   {
    "duration": 57,
    "start_time": "2025-03-18T14:09:23.521Z"
   },
   {
    "duration": 45,
    "start_time": "2025-03-18T14:09:23.580Z"
   },
   {
    "duration": 27,
    "start_time": "2025-03-18T14:09:23.626Z"
   },
   {
    "duration": 5,
    "start_time": "2025-03-18T14:09:23.655Z"
   },
   {
    "duration": 13,
    "start_time": "2025-03-18T14:09:23.662Z"
   },
   {
    "duration": 41,
    "start_time": "2025-03-18T14:09:23.676Z"
   },
   {
    "duration": 4,
    "start_time": "2025-03-18T14:09:23.718Z"
   },
   {
    "duration": 28,
    "start_time": "2025-03-18T14:09:23.724Z"
   },
   {
    "duration": 11,
    "start_time": "2025-03-18T14:09:23.753Z"
   },
   {
    "duration": 3,
    "start_time": "2025-03-18T14:09:23.766Z"
   },
   {
    "duration": 13,
    "start_time": "2025-03-18T14:09:23.770Z"
   },
   {
    "duration": 22,
    "start_time": "2025-03-18T14:09:23.784Z"
   },
   {
    "duration": 3,
    "start_time": "2025-03-18T14:09:23.807Z"
   },
   {
    "duration": 9,
    "start_time": "2025-03-18T14:09:23.842Z"
   },
   {
    "duration": 45,
    "start_time": "2025-03-18T14:09:23.853Z"
   },
   {
    "duration": 4,
    "start_time": "2025-03-18T14:09:23.899Z"
   },
   {
    "duration": 11,
    "start_time": "2025-03-18T14:09:23.904Z"
   },
   {
    "duration": 46,
    "start_time": "2025-03-18T14:09:23.917Z"
   },
   {
    "duration": 4,
    "start_time": "2025-03-18T14:09:23.964Z"
   },
   {
    "duration": 10,
    "start_time": "2025-03-18T14:09:23.970Z"
   },
   {
    "duration": 25,
    "start_time": "2025-03-18T14:09:23.982Z"
   },
   {
    "duration": 56,
    "start_time": "2025-03-18T14:09:24.008Z"
   },
   {
    "duration": 18,
    "start_time": "2025-03-18T14:09:24.068Z"
   },
   {
    "duration": 12,
    "start_time": "2025-03-18T14:09:24.088Z"
   },
   {
    "duration": 46,
    "start_time": "2025-03-18T14:09:24.102Z"
   },
   {
    "duration": 23,
    "start_time": "2025-03-18T14:09:24.150Z"
   },
   {
    "duration": 5,
    "start_time": "2025-03-18T14:09:24.174Z"
   },
   {
    "duration": 7,
    "start_time": "2025-03-18T14:09:24.180Z"
   },
   {
    "duration": 18,
    "start_time": "2025-03-18T14:09:24.189Z"
   },
   {
    "duration": 4,
    "start_time": "2025-03-18T14:09:24.208Z"
   },
   {
    "duration": 1077,
    "start_time": "2025-03-18T14:09:24.243Z"
   },
   {
    "duration": 4393,
    "start_time": "2025-03-18T14:09:25.321Z"
   },
   {
    "duration": 10,
    "start_time": "2025-03-18T14:09:29.715Z"
   },
   {
    "duration": 287,
    "start_time": "2025-03-18T14:09:29.727Z"
   },
   {
    "duration": 3,
    "start_time": "2025-03-18T14:09:30.016Z"
   },
   {
    "duration": 195,
    "start_time": "2025-03-18T14:09:30.021Z"
   },
   {
    "duration": 471,
    "start_time": "2025-03-18T14:09:30.218Z"
   },
   {
    "duration": 1961,
    "start_time": "2025-03-18T14:09:30.691Z"
   },
   {
    "duration": 5,
    "start_time": "2025-03-18T14:09:32.653Z"
   },
   {
    "duration": 73,
    "start_time": "2025-03-18T14:09:32.659Z"
   },
   {
    "duration": 15,
    "start_time": "2025-03-18T14:09:32.734Z"
   },
   {
    "duration": 9,
    "start_time": "2025-03-18T14:09:32.751Z"
   },
   {
    "duration": 5,
    "start_time": "2025-03-18T14:09:32.762Z"
   },
   {
    "duration": 57,
    "start_time": "2025-03-18T14:09:32.769Z"
   },
   {
    "duration": 419,
    "start_time": "2025-03-18T14:09:32.828Z"
   },
   {
    "duration": 507,
    "start_time": "2025-03-18T14:09:33.250Z"
   },
   {
    "duration": 345353,
    "start_time": "2025-03-18T14:09:33.759Z"
   },
   {
    "duration": 0,
    "start_time": "2025-03-18T14:15:19.364Z"
   },
   {
    "duration": 0,
    "start_time": "2025-03-18T14:15:19.365Z"
   },
   {
    "duration": 268,
    "start_time": "2025-03-18T14:15:59.004Z"
   },
   {
    "duration": 12,
    "start_time": "2025-03-18T14:16:52.936Z"
   },
   {
    "duration": 47872,
    "start_time": "2025-03-18T14:18:54.097Z"
   },
   {
    "duration": 370766,
    "start_time": "2025-03-18T14:24:16.971Z"
   },
   {
    "duration": 109,
    "start_time": "2025-03-18T14:34:56.590Z"
   },
   {
    "duration": 14890,
    "start_time": "2025-03-18T14:35:01.676Z"
   },
   {
    "duration": 1996,
    "start_time": "2025-03-18T14:35:16.569Z"
   },
   {
    "duration": 3,
    "start_time": "2025-03-18T14:35:18.567Z"
   },
   {
    "duration": 99,
    "start_time": "2025-03-18T14:35:18.571Z"
   },
   {
    "duration": 55,
    "start_time": "2025-03-18T14:35:18.672Z"
   },
   {
    "duration": 148,
    "start_time": "2025-03-18T14:35:18.729Z"
   },
   {
    "duration": 48,
    "start_time": "2025-03-18T14:35:18.879Z"
   },
   {
    "duration": 25,
    "start_time": "2025-03-18T14:35:18.929Z"
   },
   {
    "duration": 4,
    "start_time": "2025-03-18T14:35:18.956Z"
   },
   {
    "duration": 11,
    "start_time": "2025-03-18T14:35:18.963Z"
   },
   {
    "duration": 20,
    "start_time": "2025-03-18T14:35:18.976Z"
   },
   {
    "duration": 13,
    "start_time": "2025-03-18T14:35:18.997Z"
   },
   {
    "duration": 46,
    "start_time": "2025-03-18T14:35:19.012Z"
   },
   {
    "duration": 30,
    "start_time": "2025-03-18T14:35:19.060Z"
   },
   {
    "duration": 7,
    "start_time": "2025-03-18T14:35:19.091Z"
   },
   {
    "duration": 35,
    "start_time": "2025-03-18T14:35:19.100Z"
   },
   {
    "duration": 34,
    "start_time": "2025-03-18T14:35:19.137Z"
   },
   {
    "duration": 4,
    "start_time": "2025-03-18T14:35:19.172Z"
   },
   {
    "duration": 17,
    "start_time": "2025-03-18T14:35:19.177Z"
   },
   {
    "duration": 40,
    "start_time": "2025-03-18T14:35:19.195Z"
   },
   {
    "duration": 9,
    "start_time": "2025-03-18T14:35:19.237Z"
   },
   {
    "duration": 18,
    "start_time": "2025-03-18T14:35:19.247Z"
   },
   {
    "duration": 22,
    "start_time": "2025-03-18T14:35:19.267Z"
   },
   {
    "duration": 3,
    "start_time": "2025-03-18T14:35:19.291Z"
   },
   {
    "duration": 9,
    "start_time": "2025-03-18T14:35:19.296Z"
   },
   {
    "duration": 57,
    "start_time": "2025-03-18T14:35:19.307Z"
   },
   {
    "duration": 30,
    "start_time": "2025-03-18T14:35:19.366Z"
   },
   {
    "duration": 44,
    "start_time": "2025-03-18T14:35:19.400Z"
   },
   {
    "duration": 13,
    "start_time": "2025-03-18T14:35:19.446Z"
   },
   {
    "duration": 16,
    "start_time": "2025-03-18T14:35:19.461Z"
   },
   {
    "duration": 28,
    "start_time": "2025-03-18T14:35:19.479Z"
   },
   {
    "duration": 5,
    "start_time": "2025-03-18T14:35:19.509Z"
   },
   {
    "duration": 34,
    "start_time": "2025-03-18T14:35:19.515Z"
   },
   {
    "duration": 16,
    "start_time": "2025-03-18T14:35:19.551Z"
   },
   {
    "duration": 4,
    "start_time": "2025-03-18T14:35:19.568Z"
   },
   {
    "duration": 1140,
    "start_time": "2025-03-18T14:35:19.574Z"
   },
   {
    "duration": 5696,
    "start_time": "2025-03-18T14:35:20.716Z"
   },
   {
    "duration": 12,
    "start_time": "2025-03-18T14:35:26.413Z"
   },
   {
    "duration": 287,
    "start_time": "2025-03-18T14:35:26.427Z"
   },
   {
    "duration": 3,
    "start_time": "2025-03-18T14:35:26.716Z"
   },
   {
    "duration": 171,
    "start_time": "2025-03-18T14:35:26.721Z"
   },
   {
    "duration": 505,
    "start_time": "2025-03-18T14:35:26.894Z"
   },
   {
    "duration": 2051,
    "start_time": "2025-03-18T14:35:27.400Z"
   },
   {
    "duration": 6,
    "start_time": "2025-03-18T14:35:29.453Z"
   },
   {
    "duration": 28,
    "start_time": "2025-03-18T14:35:29.460Z"
   },
   {
    "duration": 5,
    "start_time": "2025-03-18T14:35:29.489Z"
   },
   {
    "duration": 11,
    "start_time": "2025-03-18T14:35:29.495Z"
   },
   {
    "duration": 3,
    "start_time": "2025-03-18T14:35:29.508Z"
   },
   {
    "duration": 52,
    "start_time": "2025-03-18T14:35:29.512Z"
   },
   {
    "duration": 477,
    "start_time": "2025-03-18T14:35:29.566Z"
   },
   {
    "duration": 376,
    "start_time": "2025-03-18T14:35:30.050Z"
   },
   {
    "duration": 43218,
    "start_time": "2025-03-18T14:35:30.427Z"
   },
   {
    "duration": 0,
    "start_time": "2025-03-18T14:36:13.647Z"
   },
   {
    "duration": 0,
    "start_time": "2025-03-18T14:36:13.648Z"
   },
   {
    "duration": 0,
    "start_time": "2025-03-18T14:36:13.649Z"
   },
   {
    "duration": 0,
    "start_time": "2025-03-18T14:36:13.650Z"
   },
   {
    "duration": 15187,
    "start_time": "2025-03-18T14:36:18.783Z"
   },
   {
    "duration": 1801,
    "start_time": "2025-03-18T14:36:33.972Z"
   },
   {
    "duration": 2,
    "start_time": "2025-03-18T14:36:35.775Z"
   },
   {
    "duration": 108,
    "start_time": "2025-03-18T14:36:35.779Z"
   },
   {
    "duration": 49,
    "start_time": "2025-03-18T14:36:35.888Z"
   },
   {
    "duration": 55,
    "start_time": "2025-03-18T14:36:35.939Z"
   },
   {
    "duration": 47,
    "start_time": "2025-03-18T14:36:35.996Z"
   },
   {
    "duration": 27,
    "start_time": "2025-03-18T14:36:36.044Z"
   },
   {
    "duration": 5,
    "start_time": "2025-03-18T14:36:36.072Z"
   },
   {
    "duration": 23,
    "start_time": "2025-03-18T14:36:36.080Z"
   },
   {
    "duration": 40,
    "start_time": "2025-03-18T14:36:36.104Z"
   },
   {
    "duration": 46,
    "start_time": "2025-03-18T14:36:36.145Z"
   },
   {
    "duration": 22,
    "start_time": "2025-03-18T14:36:36.193Z"
   },
   {
    "duration": 11,
    "start_time": "2025-03-18T14:36:36.217Z"
   },
   {
    "duration": 19,
    "start_time": "2025-03-18T14:36:36.229Z"
   },
   {
    "duration": 13,
    "start_time": "2025-03-18T14:36:36.249Z"
   },
   {
    "duration": 32,
    "start_time": "2025-03-18T14:36:36.263Z"
   },
   {
    "duration": 3,
    "start_time": "2025-03-18T14:36:36.297Z"
   },
   {
    "duration": 34,
    "start_time": "2025-03-18T14:36:36.302Z"
   },
   {
    "duration": 71,
    "start_time": "2025-03-18T14:36:36.338Z"
   },
   {
    "duration": 4,
    "start_time": "2025-03-18T14:36:36.410Z"
   },
   {
    "duration": 42,
    "start_time": "2025-03-18T14:36:36.416Z"
   },
   {
    "duration": 35,
    "start_time": "2025-03-18T14:36:36.460Z"
   },
   {
    "duration": 3,
    "start_time": "2025-03-18T14:36:36.497Z"
   },
   {
    "duration": 58,
    "start_time": "2025-03-18T14:36:36.502Z"
   },
   {
    "duration": 50,
    "start_time": "2025-03-18T14:36:36.561Z"
   },
   {
    "duration": 31,
    "start_time": "2025-03-18T14:36:36.612Z"
   },
   {
    "duration": 17,
    "start_time": "2025-03-18T14:36:36.647Z"
   },
   {
    "duration": 13,
    "start_time": "2025-03-18T14:36:36.666Z"
   },
   {
    "duration": 28,
    "start_time": "2025-03-18T14:36:36.680Z"
   },
   {
    "duration": 46,
    "start_time": "2025-03-18T14:36:36.710Z"
   },
   {
    "duration": 46,
    "start_time": "2025-03-18T14:36:36.757Z"
   },
   {
    "duration": 48,
    "start_time": "2025-03-18T14:36:36.805Z"
   },
   {
    "duration": 19,
    "start_time": "2025-03-18T14:36:36.855Z"
   },
   {
    "duration": 3,
    "start_time": "2025-03-18T14:36:36.876Z"
   },
   {
    "duration": 1100,
    "start_time": "2025-03-18T14:36:36.880Z"
   },
   {
    "duration": 4429,
    "start_time": "2025-03-18T14:36:37.982Z"
   },
   {
    "duration": 11,
    "start_time": "2025-03-18T14:36:42.413Z"
   },
   {
    "duration": 296,
    "start_time": "2025-03-18T14:36:42.425Z"
   },
   {
    "duration": 3,
    "start_time": "2025-03-18T14:36:42.723Z"
   },
   {
    "duration": 165,
    "start_time": "2025-03-18T14:36:42.742Z"
   },
   {
    "duration": 500,
    "start_time": "2025-03-18T14:36:42.909Z"
   },
   {
    "duration": 2025,
    "start_time": "2025-03-18T14:36:43.411Z"
   },
   {
    "duration": 6,
    "start_time": "2025-03-18T14:36:45.438Z"
   },
   {
    "duration": 29,
    "start_time": "2025-03-18T14:36:45.446Z"
   },
   {
    "duration": 4,
    "start_time": "2025-03-18T14:36:45.477Z"
   },
   {
    "duration": 34,
    "start_time": "2025-03-18T14:36:45.483Z"
   },
   {
    "duration": 3,
    "start_time": "2025-03-18T14:36:45.519Z"
   },
   {
    "duration": 49,
    "start_time": "2025-03-18T14:36:45.523Z"
   },
   {
    "duration": 378,
    "start_time": "2025-03-18T14:36:45.574Z"
   },
   {
    "duration": 500,
    "start_time": "2025-03-18T14:36:46.044Z"
   },
   {
    "duration": 336853,
    "start_time": "2025-03-18T14:36:46.546Z"
   },
   {
    "duration": 257,
    "start_time": "2025-03-18T14:42:23.401Z"
   },
   {
    "duration": 0,
    "start_time": "2025-03-18T14:42:23.660Z"
   },
   {
    "duration": 335603,
    "start_time": "2025-03-18T14:44:33.563Z"
   },
   {
    "duration": 129,
    "start_time": "2025-03-18T14:53:14.340Z"
   },
   {
    "duration": 12,
    "start_time": "2025-03-18T14:53:29.069Z"
   },
   {
    "duration": 14948,
    "start_time": "2025-03-18T14:54:43.286Z"
   },
   {
    "duration": 1852,
    "start_time": "2025-03-18T14:54:58.236Z"
   },
   {
    "duration": 3,
    "start_time": "2025-03-18T14:55:00.089Z"
   },
   {
    "duration": 157,
    "start_time": "2025-03-18T14:55:00.095Z"
   },
   {
    "duration": 58,
    "start_time": "2025-03-18T14:55:00.254Z"
   },
   {
    "duration": 108,
    "start_time": "2025-03-18T14:55:00.314Z"
   },
   {
    "duration": 70,
    "start_time": "2025-03-18T14:55:00.424Z"
   },
   {
    "duration": 30,
    "start_time": "2025-03-18T14:55:00.495Z"
   },
   {
    "duration": 23,
    "start_time": "2025-03-18T14:55:00.527Z"
   },
   {
    "duration": 32,
    "start_time": "2025-03-18T14:55:00.553Z"
   },
   {
    "duration": 21,
    "start_time": "2025-03-18T14:55:00.587Z"
   },
   {
    "duration": 18,
    "start_time": "2025-03-18T14:55:00.610Z"
   },
   {
    "duration": 42,
    "start_time": "2025-03-18T14:55:00.630Z"
   },
   {
    "duration": 15,
    "start_time": "2025-03-18T14:55:00.674Z"
   },
   {
    "duration": 40,
    "start_time": "2025-03-18T14:55:00.691Z"
   },
   {
    "duration": 32,
    "start_time": "2025-03-18T14:55:00.733Z"
   },
   {
    "duration": 26,
    "start_time": "2025-03-18T14:55:00.767Z"
   },
   {
    "duration": 30,
    "start_time": "2025-03-18T14:55:00.796Z"
   },
   {
    "duration": 87,
    "start_time": "2025-03-18T14:55:00.828Z"
   },
   {
    "duration": 68,
    "start_time": "2025-03-18T14:55:00.916Z"
   },
   {
    "duration": 4,
    "start_time": "2025-03-18T14:55:00.986Z"
   },
   {
    "duration": 42,
    "start_time": "2025-03-18T14:55:00.992Z"
   },
   {
    "duration": 27,
    "start_time": "2025-03-18T14:55:01.037Z"
   },
   {
    "duration": 10,
    "start_time": "2025-03-18T14:55:01.066Z"
   },
   {
    "duration": 9,
    "start_time": "2025-03-18T14:55:01.077Z"
   },
   {
    "duration": 110,
    "start_time": "2025-03-18T14:55:01.088Z"
   },
   {
    "duration": 32,
    "start_time": "2025-03-18T14:55:01.199Z"
   },
   {
    "duration": 23,
    "start_time": "2025-03-18T14:55:01.235Z"
   },
   {
    "duration": 20,
    "start_time": "2025-03-18T14:55:01.260Z"
   },
   {
    "duration": 20,
    "start_time": "2025-03-18T14:55:01.281Z"
   },
   {
    "duration": 49,
    "start_time": "2025-03-18T14:55:01.303Z"
   },
   {
    "duration": 8,
    "start_time": "2025-03-18T14:55:01.354Z"
   },
   {
    "duration": 34,
    "start_time": "2025-03-18T14:55:01.364Z"
   },
   {
    "duration": 24,
    "start_time": "2025-03-18T14:55:01.400Z"
   },
   {
    "duration": 16,
    "start_time": "2025-03-18T14:55:01.426Z"
   },
   {
    "duration": 1081,
    "start_time": "2025-03-18T14:55:01.444Z"
   },
   {
    "duration": 4592,
    "start_time": "2025-03-18T14:55:02.526Z"
   },
   {
    "duration": 24,
    "start_time": "2025-03-18T14:55:07.120Z"
   },
   {
    "duration": 338,
    "start_time": "2025-03-18T14:55:07.146Z"
   },
   {
    "duration": 3,
    "start_time": "2025-03-18T14:55:07.486Z"
   },
   {
    "duration": 190,
    "start_time": "2025-03-18T14:55:07.491Z"
   },
   {
    "duration": 507,
    "start_time": "2025-03-18T14:55:07.682Z"
   },
   {
    "duration": 2089,
    "start_time": "2025-03-18T14:55:08.191Z"
   },
   {
    "duration": 5,
    "start_time": "2025-03-18T14:55:10.282Z"
   },
   {
    "duration": 26,
    "start_time": "2025-03-18T14:55:10.288Z"
   },
   {
    "duration": 4,
    "start_time": "2025-03-18T14:55:10.316Z"
   },
   {
    "duration": 7,
    "start_time": "2025-03-18T14:55:10.322Z"
   },
   {
    "duration": 20,
    "start_time": "2025-03-18T14:55:10.331Z"
   },
   {
    "duration": 65,
    "start_time": "2025-03-18T14:55:10.353Z"
   },
   {
    "duration": 332,
    "start_time": "2025-03-18T14:55:10.419Z"
   },
   {
    "duration": 607,
    "start_time": "2025-03-18T14:55:10.753Z"
   },
   {
    "duration": 331993,
    "start_time": "2025-03-18T14:55:11.362Z"
   },
   {
    "duration": 19,
    "start_time": "2025-03-18T15:00:43.357Z"
   },
   {
    "duration": 15860,
    "start_time": "2025-03-18T15:59:13.493Z"
   },
   {
    "duration": 1834,
    "start_time": "2025-03-18T15:59:29.355Z"
   },
   {
    "duration": 3,
    "start_time": "2025-03-18T15:59:31.191Z"
   },
   {
    "duration": 164,
    "start_time": "2025-03-18T15:59:31.197Z"
   },
   {
    "duration": 82,
    "start_time": "2025-03-18T15:59:31.363Z"
   },
   {
    "duration": 108,
    "start_time": "2025-03-18T15:59:31.447Z"
   },
   {
    "duration": 80,
    "start_time": "2025-03-18T15:59:31.556Z"
   },
   {
    "duration": 26,
    "start_time": "2025-03-18T15:59:31.637Z"
   },
   {
    "duration": 6,
    "start_time": "2025-03-18T15:59:31.665Z"
   },
   {
    "duration": 47,
    "start_time": "2025-03-18T15:59:31.673Z"
   },
   {
    "duration": 46,
    "start_time": "2025-03-18T15:59:31.721Z"
   },
   {
    "duration": 5,
    "start_time": "2025-03-18T15:59:31.768Z"
   },
   {
    "duration": 34,
    "start_time": "2025-03-18T15:59:31.774Z"
   },
   {
    "duration": 20,
    "start_time": "2025-03-18T15:59:31.810Z"
   },
   {
    "duration": 14,
    "start_time": "2025-03-18T15:59:31.832Z"
   },
   {
    "duration": 32,
    "start_time": "2025-03-18T15:59:31.847Z"
   },
   {
    "duration": 80,
    "start_time": "2025-03-18T15:59:31.881Z"
   },
   {
    "duration": 5,
    "start_time": "2025-03-18T15:59:31.963Z"
   },
   {
    "duration": 50,
    "start_time": "2025-03-18T15:59:31.969Z"
   },
   {
    "duration": 49,
    "start_time": "2025-03-18T15:59:32.020Z"
   },
   {
    "duration": 4,
    "start_time": "2025-03-18T15:59:32.070Z"
   },
   {
    "duration": 39,
    "start_time": "2025-03-18T15:59:32.075Z"
   },
   {
    "duration": 57,
    "start_time": "2025-03-18T15:59:32.116Z"
   },
   {
    "duration": 23,
    "start_time": "2025-03-18T15:59:32.174Z"
   },
   {
    "duration": 23,
    "start_time": "2025-03-18T15:59:32.199Z"
   },
   {
    "duration": 37,
    "start_time": "2025-03-18T15:59:32.224Z"
   },
   {
    "duration": 32,
    "start_time": "2025-03-18T15:59:32.263Z"
   },
   {
    "duration": 45,
    "start_time": "2025-03-18T15:59:32.299Z"
   },
   {
    "duration": 25,
    "start_time": "2025-03-18T15:59:32.345Z"
   },
   {
    "duration": 38,
    "start_time": "2025-03-18T15:59:32.372Z"
   },
   {
    "duration": 36,
    "start_time": "2025-03-18T15:59:32.412Z"
   },
   {
    "duration": 6,
    "start_time": "2025-03-18T15:59:32.449Z"
   },
   {
    "duration": 39,
    "start_time": "2025-03-18T15:59:32.457Z"
   },
   {
    "duration": 37,
    "start_time": "2025-03-18T15:59:32.498Z"
   },
   {
    "duration": 19,
    "start_time": "2025-03-18T15:59:32.536Z"
   },
   {
    "duration": 1225,
    "start_time": "2025-03-18T15:59:32.557Z"
   },
   {
    "duration": 4533,
    "start_time": "2025-03-18T15:59:33.784Z"
   },
   {
    "duration": 24,
    "start_time": "2025-03-18T15:59:38.319Z"
   },
   {
    "duration": 300,
    "start_time": "2025-03-18T15:59:38.345Z"
   },
   {
    "duration": 4,
    "start_time": "2025-03-18T15:59:38.647Z"
   },
   {
    "duration": 180,
    "start_time": "2025-03-18T15:59:38.652Z"
   },
   {
    "duration": 482,
    "start_time": "2025-03-18T15:59:38.834Z"
   },
   {
    "duration": 2073,
    "start_time": "2025-03-18T15:59:39.318Z"
   },
   {
    "duration": 5,
    "start_time": "2025-03-18T15:59:41.393Z"
   },
   {
    "duration": 17,
    "start_time": "2025-03-18T15:59:41.400Z"
   },
   {
    "duration": 5,
    "start_time": "2025-03-18T15:59:41.418Z"
   },
   {
    "duration": 21,
    "start_time": "2025-03-18T15:59:41.425Z"
   },
   {
    "duration": 3,
    "start_time": "2025-03-18T15:59:41.448Z"
   },
   {
    "duration": 49,
    "start_time": "2025-03-18T15:59:41.453Z"
   },
   {
    "duration": 440,
    "start_time": "2025-03-18T15:59:41.504Z"
   },
   {
    "duration": 517,
    "start_time": "2025-03-18T15:59:41.946Z"
   },
   {
    "duration": 338143,
    "start_time": "2025-03-18T15:59:42.465Z"
   },
   {
    "duration": 13,
    "start_time": "2025-03-18T16:05:20.610Z"
   },
   {
    "duration": 30222,
    "start_time": "2025-03-19T14:03:47.051Z"
   },
   {
    "duration": 1879,
    "start_time": "2025-03-19T14:04:17.276Z"
   },
   {
    "duration": 2,
    "start_time": "2025-03-19T14:04:19.157Z"
   },
   {
    "duration": 115,
    "start_time": "2025-03-19T14:04:19.160Z"
   },
   {
    "duration": 131,
    "start_time": "2025-03-19T14:04:19.276Z"
   },
   {
    "duration": 93,
    "start_time": "2025-03-19T14:04:19.408Z"
   },
   {
    "duration": 83,
    "start_time": "2025-03-19T14:04:19.503Z"
   },
   {
    "duration": 21,
    "start_time": "2025-03-19T14:04:19.588Z"
   },
   {
    "duration": 4,
    "start_time": "2025-03-19T14:04:19.610Z"
   },
   {
    "duration": 17,
    "start_time": "2025-03-19T14:04:19.616Z"
   },
   {
    "duration": 15,
    "start_time": "2025-03-19T14:04:19.634Z"
   },
   {
    "duration": 3,
    "start_time": "2025-03-19T14:04:19.650Z"
   },
   {
    "duration": 21,
    "start_time": "2025-03-19T14:04:19.654Z"
   },
   {
    "duration": 8,
    "start_time": "2025-03-19T14:04:19.676Z"
   },
   {
    "duration": 26,
    "start_time": "2025-03-19T14:04:19.685Z"
   },
   {
    "duration": 21,
    "start_time": "2025-03-19T14:04:19.713Z"
   },
   {
    "duration": 17,
    "start_time": "2025-03-19T14:04:19.735Z"
   },
   {
    "duration": 3,
    "start_time": "2025-03-19T14:04:19.753Z"
   },
   {
    "duration": 10,
    "start_time": "2025-03-19T14:04:19.757Z"
   },
   {
    "duration": 27,
    "start_time": "2025-03-19T14:04:19.768Z"
   },
   {
    "duration": 5,
    "start_time": "2025-03-19T14:04:19.797Z"
   },
   {
    "duration": 10,
    "start_time": "2025-03-19T14:04:19.803Z"
   },
   {
    "duration": 43,
    "start_time": "2025-03-19T14:04:19.814Z"
   },
   {
    "duration": 4,
    "start_time": "2025-03-19T14:04:19.858Z"
   },
   {
    "duration": 16,
    "start_time": "2025-03-19T14:04:19.863Z"
   },
   {
    "duration": 24,
    "start_time": "2025-03-19T14:04:19.881Z"
   },
   {
    "duration": 29,
    "start_time": "2025-03-19T14:04:19.906Z"
   },
   {
    "duration": 28,
    "start_time": "2025-03-19T14:04:19.938Z"
   },
   {
    "duration": 10,
    "start_time": "2025-03-19T14:04:19.968Z"
   },
   {
    "duration": 15,
    "start_time": "2025-03-19T14:04:19.980Z"
   },
   {
    "duration": 23,
    "start_time": "2025-03-19T14:04:19.997Z"
   },
   {
    "duration": 4,
    "start_time": "2025-03-19T14:04:20.022Z"
   },
   {
    "duration": 58,
    "start_time": "2025-03-19T14:04:20.028Z"
   },
   {
    "duration": 24,
    "start_time": "2025-03-19T14:04:20.087Z"
   },
   {
    "duration": 12,
    "start_time": "2025-03-19T14:04:20.113Z"
   },
   {
    "duration": 930,
    "start_time": "2025-03-19T14:04:20.127Z"
   },
   {
    "duration": 3656,
    "start_time": "2025-03-19T14:04:21.059Z"
   },
   {
    "duration": 10,
    "start_time": "2025-03-19T14:04:24.716Z"
   },
   {
    "duration": 269,
    "start_time": "2025-03-19T14:04:24.727Z"
   },
   {
    "duration": 2,
    "start_time": "2025-03-19T14:04:24.998Z"
   },
   {
    "duration": 133,
    "start_time": "2025-03-19T14:04:25.002Z"
   },
   {
    "duration": 403,
    "start_time": "2025-03-19T14:04:25.137Z"
   },
   {
    "duration": 1526,
    "start_time": "2025-03-19T14:04:25.542Z"
   },
   {
    "duration": 5,
    "start_time": "2025-03-19T14:04:27.070Z"
   },
   {
    "duration": 80,
    "start_time": "2025-03-19T14:04:27.076Z"
   },
   {
    "duration": 15,
    "start_time": "2025-03-19T14:04:27.158Z"
   },
   {
    "duration": 74,
    "start_time": "2025-03-19T14:04:27.174Z"
   },
   {
    "duration": 54,
    "start_time": "2025-03-19T14:04:27.250Z"
   },
   {
    "duration": 186,
    "start_time": "2025-03-19T14:04:27.305Z"
   },
   {
    "duration": 113,
    "start_time": "2025-03-19T14:04:27.493Z"
   },
   {
    "duration": 0,
    "start_time": "2025-03-19T14:04:27.607Z"
   },
   {
    "duration": 1,
    "start_time": "2025-03-19T14:04:27.608Z"
   },
   {
    "duration": 4,
    "start_time": "2025-03-19T14:06:43.246Z"
   },
   {
    "duration": 13520,
    "start_time": "2025-03-19T14:06:48.204Z"
   },
   {
    "duration": 1534,
    "start_time": "2025-03-19T14:07:01.726Z"
   },
   {
    "duration": 2,
    "start_time": "2025-03-19T14:07:03.262Z"
   },
   {
    "duration": 215,
    "start_time": "2025-03-19T14:07:03.266Z"
   },
   {
    "duration": 87,
    "start_time": "2025-03-19T14:07:03.482Z"
   },
   {
    "duration": 87,
    "start_time": "2025-03-19T14:07:03.571Z"
   },
   {
    "duration": 42,
    "start_time": "2025-03-19T14:07:03.659Z"
   },
   {
    "duration": 62,
    "start_time": "2025-03-19T14:07:03.702Z"
   },
   {
    "duration": 4,
    "start_time": "2025-03-19T14:07:03.765Z"
   },
   {
    "duration": 26,
    "start_time": "2025-03-19T14:07:03.771Z"
   },
   {
    "duration": 103,
    "start_time": "2025-03-19T14:07:03.798Z"
   },
   {
    "duration": 54,
    "start_time": "2025-03-19T14:07:03.902Z"
   },
   {
    "duration": 20,
    "start_time": "2025-03-19T14:07:03.957Z"
   },
   {
    "duration": 31,
    "start_time": "2025-03-19T14:07:03.978Z"
   },
   {
    "duration": 49,
    "start_time": "2025-03-19T14:07:04.010Z"
   },
   {
    "duration": 102,
    "start_time": "2025-03-19T14:07:04.060Z"
   },
   {
    "duration": 99,
    "start_time": "2025-03-19T14:07:04.163Z"
   },
   {
    "duration": 55,
    "start_time": "2025-03-19T14:07:04.264Z"
   },
   {
    "duration": 17,
    "start_time": "2025-03-19T14:07:04.320Z"
   },
   {
    "duration": 42,
    "start_time": "2025-03-19T14:07:04.338Z"
   },
   {
    "duration": 3,
    "start_time": "2025-03-19T14:07:04.381Z"
   },
   {
    "duration": 25,
    "start_time": "2025-03-19T14:07:04.385Z"
   },
   {
    "duration": 21,
    "start_time": "2025-03-19T14:07:04.411Z"
   },
   {
    "duration": 21,
    "start_time": "2025-03-19T14:07:04.434Z"
   },
   {
    "duration": 30,
    "start_time": "2025-03-19T14:07:04.456Z"
   },
   {
    "duration": 44,
    "start_time": "2025-03-19T14:07:04.487Z"
   },
   {
    "duration": 21,
    "start_time": "2025-03-19T14:07:04.533Z"
   },
   {
    "duration": 25,
    "start_time": "2025-03-19T14:07:04.557Z"
   },
   {
    "duration": 96,
    "start_time": "2025-03-19T14:07:04.583Z"
   },
   {
    "duration": 20,
    "start_time": "2025-03-19T14:07:04.680Z"
   },
   {
    "duration": 73,
    "start_time": "2025-03-19T14:07:04.702Z"
   },
   {
    "duration": 4,
    "start_time": "2025-03-19T14:07:04.777Z"
   },
   {
    "duration": 74,
    "start_time": "2025-03-19T14:07:04.783Z"
   },
   {
    "duration": 11,
    "start_time": "2025-03-19T14:07:04.858Z"
   },
   {
    "duration": 91,
    "start_time": "2025-03-19T14:07:04.870Z"
   },
   {
    "duration": 1166,
    "start_time": "2025-03-19T14:07:04.962Z"
   },
   {
    "duration": 4159,
    "start_time": "2025-03-19T14:07:06.130Z"
   },
   {
    "duration": 8,
    "start_time": "2025-03-19T14:07:10.290Z"
   },
   {
    "duration": 283,
    "start_time": "2025-03-19T14:07:10.300Z"
   },
   {
    "duration": 3,
    "start_time": "2025-03-19T14:07:10.584Z"
   },
   {
    "duration": 197,
    "start_time": "2025-03-19T14:07:10.588Z"
   },
   {
    "duration": 386,
    "start_time": "2025-03-19T14:07:10.787Z"
   },
   {
    "duration": 1538,
    "start_time": "2025-03-19T14:07:11.174Z"
   },
   {
    "duration": 5,
    "start_time": "2025-03-19T14:07:12.714Z"
   },
   {
    "duration": 30,
    "start_time": "2025-03-19T14:07:12.720Z"
   },
   {
    "duration": 4,
    "start_time": "2025-03-19T14:07:12.752Z"
   },
   {
    "duration": 17,
    "start_time": "2025-03-19T14:07:12.758Z"
   },
   {
    "duration": 22,
    "start_time": "2025-03-19T14:07:12.776Z"
   },
   {
    "duration": 49,
    "start_time": "2025-03-19T14:07:12.799Z"
   },
   {
    "duration": 114,
    "start_time": "2025-03-19T14:07:12.850Z"
   },
   {
    "duration": 0,
    "start_time": "2025-03-19T14:07:12.965Z"
   },
   {
    "duration": 0,
    "start_time": "2025-03-19T14:07:12.967Z"
   },
   {
    "duration": 13948,
    "start_time": "2025-03-19T14:07:50.275Z"
   },
   {
    "duration": 1464,
    "start_time": "2025-03-19T14:08:04.225Z"
   },
   {
    "duration": 3,
    "start_time": "2025-03-19T14:08:05.690Z"
   },
   {
    "duration": 80,
    "start_time": "2025-03-19T14:08:05.694Z"
   },
   {
    "duration": 55,
    "start_time": "2025-03-19T14:08:05.775Z"
   },
   {
    "duration": 58,
    "start_time": "2025-03-19T14:08:05.831Z"
   },
   {
    "duration": 40,
    "start_time": "2025-03-19T14:08:05.890Z"
   },
   {
    "duration": 19,
    "start_time": "2025-03-19T14:08:05.931Z"
   },
   {
    "duration": 34,
    "start_time": "2025-03-19T14:08:05.951Z"
   },
   {
    "duration": 111,
    "start_time": "2025-03-19T14:08:05.987Z"
   },
   {
    "duration": 81,
    "start_time": "2025-03-19T14:08:06.100Z"
   },
   {
    "duration": 47,
    "start_time": "2025-03-19T14:08:06.182Z"
   },
   {
    "duration": 145,
    "start_time": "2025-03-19T14:08:06.230Z"
   },
   {
    "duration": 35,
    "start_time": "2025-03-19T14:08:06.376Z"
   },
   {
    "duration": 16,
    "start_time": "2025-03-19T14:08:06.412Z"
   },
   {
    "duration": 16,
    "start_time": "2025-03-19T14:08:06.429Z"
   },
   {
    "duration": 48,
    "start_time": "2025-03-19T14:08:06.445Z"
   },
   {
    "duration": 26,
    "start_time": "2025-03-19T14:08:06.494Z"
   },
   {
    "duration": 12,
    "start_time": "2025-03-19T14:08:06.521Z"
   },
   {
    "duration": 38,
    "start_time": "2025-03-19T14:08:06.535Z"
   },
   {
    "duration": 5,
    "start_time": "2025-03-19T14:08:06.574Z"
   },
   {
    "duration": 91,
    "start_time": "2025-03-19T14:08:06.580Z"
   },
   {
    "duration": 69,
    "start_time": "2025-03-19T14:08:06.672Z"
   },
   {
    "duration": 35,
    "start_time": "2025-03-19T14:08:06.742Z"
   },
   {
    "duration": 58,
    "start_time": "2025-03-19T14:08:06.778Z"
   },
   {
    "duration": 19,
    "start_time": "2025-03-19T14:08:06.837Z"
   },
   {
    "duration": 108,
    "start_time": "2025-03-19T14:08:06.857Z"
   },
   {
    "duration": 19,
    "start_time": "2025-03-19T14:08:06.968Z"
   },
   {
    "duration": 25,
    "start_time": "2025-03-19T14:08:06.988Z"
   },
   {
    "duration": 20,
    "start_time": "2025-03-19T14:08:07.014Z"
   },
   {
    "duration": 17,
    "start_time": "2025-03-19T14:08:07.035Z"
   },
   {
    "duration": 4,
    "start_time": "2025-03-19T14:08:07.054Z"
   },
   {
    "duration": 110,
    "start_time": "2025-03-19T14:08:07.059Z"
   },
   {
    "duration": 25,
    "start_time": "2025-03-19T14:08:07.171Z"
   },
   {
    "duration": 8,
    "start_time": "2025-03-19T14:08:07.198Z"
   },
   {
    "duration": 1031,
    "start_time": "2025-03-19T14:08:07.208Z"
   },
   {
    "duration": 3480,
    "start_time": "2025-03-19T14:08:08.241Z"
   },
   {
    "duration": 8,
    "start_time": "2025-03-19T14:08:11.723Z"
   },
   {
    "duration": 267,
    "start_time": "2025-03-19T14:08:11.732Z"
   },
   {
    "duration": 3,
    "start_time": "2025-03-19T14:08:12.000Z"
   },
   {
    "duration": 133,
    "start_time": "2025-03-19T14:08:12.004Z"
   },
   {
    "duration": 400,
    "start_time": "2025-03-19T14:08:12.139Z"
   },
   {
    "duration": 1483,
    "start_time": "2025-03-19T14:08:12.541Z"
   },
   {
    "duration": 4,
    "start_time": "2025-03-19T14:08:14.025Z"
   },
   {
    "duration": 10,
    "start_time": "2025-03-19T14:08:14.031Z"
   },
   {
    "duration": 3,
    "start_time": "2025-03-19T14:08:14.042Z"
   },
   {
    "duration": 5,
    "start_time": "2025-03-19T14:08:14.046Z"
   },
   {
    "duration": 5,
    "start_time": "2025-03-19T14:08:14.052Z"
   },
   {
    "duration": 33,
    "start_time": "2025-03-19T14:08:14.059Z"
   },
   {
    "duration": 1070,
    "start_time": "2025-03-19T14:08:14.093Z"
   },
   {
    "duration": 300771,
    "start_time": "2025-03-19T14:08:15.165Z"
   },
   {
    "duration": 117,
    "start_time": "2025-03-19T14:13:15.937Z"
   },
   {
    "duration": 298966,
    "start_time": "2025-03-19T14:21:30.604Z"
   },
   {
    "duration": 14198,
    "start_time": "2025-03-19T14:28:12.077Z"
   },
   {
    "duration": 1956,
    "start_time": "2025-03-19T14:28:26.277Z"
   },
   {
    "duration": 3,
    "start_time": "2025-03-19T14:28:28.235Z"
   },
   {
    "duration": 79,
    "start_time": "2025-03-19T14:28:28.240Z"
   },
   {
    "duration": 50,
    "start_time": "2025-03-19T14:28:28.321Z"
   },
   {
    "duration": 52,
    "start_time": "2025-03-19T14:28:28.372Z"
   },
   {
    "duration": 40,
    "start_time": "2025-03-19T14:28:28.425Z"
   },
   {
    "duration": 21,
    "start_time": "2025-03-19T14:28:28.466Z"
   },
   {
    "duration": 15,
    "start_time": "2025-03-19T14:28:28.489Z"
   },
   {
    "duration": 20,
    "start_time": "2025-03-19T14:28:28.506Z"
   },
   {
    "duration": 15,
    "start_time": "2025-03-19T14:28:28.527Z"
   },
   {
    "duration": 3,
    "start_time": "2025-03-19T14:28:28.543Z"
   },
   {
    "duration": 36,
    "start_time": "2025-03-19T14:28:28.547Z"
   },
   {
    "duration": 35,
    "start_time": "2025-03-19T14:28:28.584Z"
   },
   {
    "duration": 54,
    "start_time": "2025-03-19T14:28:28.620Z"
   },
   {
    "duration": 43,
    "start_time": "2025-03-19T14:28:28.675Z"
   },
   {
    "duration": 17,
    "start_time": "2025-03-19T14:28:28.720Z"
   },
   {
    "duration": 3,
    "start_time": "2025-03-19T14:28:28.738Z"
   },
   {
    "duration": 13,
    "start_time": "2025-03-19T14:28:28.742Z"
   },
   {
    "duration": 34,
    "start_time": "2025-03-19T14:28:28.756Z"
   },
   {
    "duration": 11,
    "start_time": "2025-03-19T14:28:28.791Z"
   },
   {
    "duration": 23,
    "start_time": "2025-03-19T14:28:28.803Z"
   },
   {
    "duration": 18,
    "start_time": "2025-03-19T14:28:28.828Z"
   },
   {
    "duration": 3,
    "start_time": "2025-03-19T14:28:28.848Z"
   },
   {
    "duration": 51,
    "start_time": "2025-03-19T14:28:28.852Z"
   },
   {
    "duration": 40,
    "start_time": "2025-03-19T14:28:28.904Z"
   },
   {
    "duration": 114,
    "start_time": "2025-03-19T14:28:28.945Z"
   },
   {
    "duration": 15,
    "start_time": "2025-03-19T14:28:29.062Z"
   },
   {
    "duration": 29,
    "start_time": "2025-03-19T14:28:29.078Z"
   },
   {
    "duration": 17,
    "start_time": "2025-03-19T14:28:29.108Z"
   },
   {
    "duration": 17,
    "start_time": "2025-03-19T14:28:29.126Z"
   },
   {
    "duration": 12,
    "start_time": "2025-03-19T14:28:29.144Z"
   },
   {
    "duration": 112,
    "start_time": "2025-03-19T14:28:29.158Z"
   },
   {
    "duration": 31,
    "start_time": "2025-03-19T14:28:29.271Z"
   },
   {
    "duration": 14,
    "start_time": "2025-03-19T14:28:29.303Z"
   },
   {
    "duration": 1031,
    "start_time": "2025-03-19T14:28:29.318Z"
   },
   {
    "duration": 3762,
    "start_time": "2025-03-19T14:28:30.356Z"
   },
   {
    "duration": 9,
    "start_time": "2025-03-19T14:28:34.120Z"
   },
   {
    "duration": 266,
    "start_time": "2025-03-19T14:28:34.130Z"
   },
   {
    "duration": 3,
    "start_time": "2025-03-19T14:28:34.398Z"
   },
   {
    "duration": 156,
    "start_time": "2025-03-19T14:28:34.403Z"
   },
   {
    "duration": 405,
    "start_time": "2025-03-19T14:28:34.560Z"
   },
   {
    "duration": 1553,
    "start_time": "2025-03-19T14:28:34.967Z"
   },
   {
    "duration": 4,
    "start_time": "2025-03-19T14:28:36.522Z"
   },
   {
    "duration": 29,
    "start_time": "2025-03-19T14:28:36.527Z"
   },
   {
    "duration": 36,
    "start_time": "2025-03-19T14:28:36.558Z"
   },
   {
    "duration": 18,
    "start_time": "2025-03-19T14:28:36.595Z"
   },
   {
    "duration": 11,
    "start_time": "2025-03-19T14:28:36.614Z"
   },
   {
    "duration": 109,
    "start_time": "2025-03-19T14:28:36.626Z"
   },
   {
    "duration": 927,
    "start_time": "2025-03-19T14:28:36.737Z"
   },
   {
    "duration": 323887,
    "start_time": "2025-03-19T14:28:37.665Z"
   },
   {
    "duration": 10,
    "start_time": "2025-03-19T14:34:01.553Z"
   },
   {
    "duration": 99,
    "start_time": "2025-03-19T15:15:26.798Z"
   },
   {
    "duration": 130,
    "start_time": "2025-03-19T15:16:27.028Z"
   },
   {
    "duration": 3,
    "start_time": "2025-03-19T15:40:47.039Z"
   },
   {
    "duration": 11,
    "start_time": "2025-03-19T15:40:57.662Z"
   },
   {
    "duration": 3,
    "start_time": "2025-03-19T15:41:33.598Z"
   },
   {
    "duration": 7,
    "start_time": "2025-03-19T15:41:34.827Z"
   },
   {
    "duration": 3,
    "start_time": "2025-03-19T15:41:50.361Z"
   },
   {
    "duration": 8,
    "start_time": "2025-03-19T15:41:50.819Z"
   },
   {
    "duration": 3,
    "start_time": "2025-03-19T15:41:56.398Z"
   },
   {
    "duration": 8,
    "start_time": "2025-03-19T15:41:57.333Z"
   },
   {
    "duration": 9,
    "start_time": "2025-03-19T15:43:08.942Z"
   },
   {
    "duration": 110,
    "start_time": "2025-03-19T15:43:29.488Z"
   },
   {
    "duration": 9,
    "start_time": "2025-03-19T15:43:35.292Z"
   },
   {
    "duration": 8,
    "start_time": "2025-03-19T15:44:35.763Z"
   },
   {
    "duration": 8,
    "start_time": "2025-03-19T15:44:53.656Z"
   },
   {
    "duration": 8,
    "start_time": "2025-03-19T15:45:17.448Z"
   },
   {
    "duration": 236,
    "start_time": "2025-03-19T15:46:36.726Z"
   },
   {
    "duration": 8,
    "start_time": "2025-03-19T15:49:03.240Z"
   },
   {
    "duration": 9,
    "start_time": "2025-03-19T15:49:03.571Z"
   },
   {
    "duration": 9,
    "start_time": "2025-03-19T15:49:03.796Z"
   },
   {
    "duration": 7,
    "start_time": "2025-03-19T15:49:03.984Z"
   },
   {
    "duration": 9,
    "start_time": "2025-03-19T15:49:04.553Z"
   },
   {
    "duration": 10,
    "start_time": "2025-03-19T15:49:04.773Z"
   },
   {
    "duration": 9,
    "start_time": "2025-03-19T15:49:04.950Z"
   },
   {
    "duration": 8,
    "start_time": "2025-03-19T15:49:05.528Z"
   },
   {
    "duration": 3,
    "start_time": "2025-03-19T16:08:36.133Z"
   },
   {
    "duration": 8,
    "start_time": "2025-03-19T16:09:27.043Z"
   },
   {
    "duration": 9,
    "start_time": "2025-03-19T16:10:08.480Z"
   },
   {
    "duration": 3,
    "start_time": "2025-03-19T16:10:39.143Z"
   },
   {
    "duration": 6,
    "start_time": "2025-03-19T16:10:40.447Z"
   },
   {
    "duration": 76,
    "start_time": "2025-03-19T16:12:38.840Z"
   },
   {
    "duration": 10,
    "start_time": "2025-03-19T16:12:54.403Z"
   },
   {
    "duration": 10,
    "start_time": "2025-03-19T16:13:51.404Z"
   },
   {
    "duration": 9,
    "start_time": "2025-03-19T16:14:25.140Z"
   },
   {
    "duration": 2,
    "start_time": "2025-03-19T16:14:25.438Z"
   },
   {
    "duration": 4,
    "start_time": "2025-03-19T16:16:23.061Z"
   },
   {
    "duration": 4,
    "start_time": "2025-03-19T16:16:56.331Z"
   },
   {
    "duration": 4,
    "start_time": "2025-03-19T16:17:12.399Z"
   },
   {
    "duration": 5,
    "start_time": "2025-03-19T16:17:12.887Z"
   },
   {
    "duration": 12,
    "start_time": "2025-03-19T16:17:47.025Z"
   },
   {
    "duration": 2,
    "start_time": "2025-03-19T16:17:52.010Z"
   },
   {
    "duration": 3,
    "start_time": "2025-03-19T16:17:52.552Z"
   },
   {
    "duration": 9,
    "start_time": "2025-03-19T16:17:53.022Z"
   },
   {
    "duration": 11,
    "start_time": "2025-03-19T16:31:30.045Z"
   },
   {
    "duration": 11,
    "start_time": "2025-03-19T16:34:16.835Z"
   },
   {
    "duration": 10,
    "start_time": "2025-03-19T16:34:19.906Z"
   },
   {
    "duration": 12,
    "start_time": "2025-03-19T16:35:32.925Z"
   },
   {
    "duration": 13984,
    "start_time": "2025-03-19T16:48:58.395Z"
   },
   {
    "duration": 1525,
    "start_time": "2025-03-19T16:49:12.381Z"
   },
   {
    "duration": 3,
    "start_time": "2025-03-19T16:49:13.907Z"
   },
   {
    "duration": 122,
    "start_time": "2025-03-19T16:49:13.911Z"
   },
   {
    "duration": 108,
    "start_time": "2025-03-19T16:49:14.034Z"
   },
   {
    "duration": 99,
    "start_time": "2025-03-19T16:49:14.144Z"
   },
   {
    "duration": 349,
    "start_time": "2025-03-19T16:49:14.245Z"
   },
   {
    "duration": 22,
    "start_time": "2025-03-19T16:49:14.596Z"
   },
   {
    "duration": 3,
    "start_time": "2025-03-19T16:49:14.620Z"
   },
   {
    "duration": 11,
    "start_time": "2025-03-19T16:49:14.626Z"
   },
   {
    "duration": 15,
    "start_time": "2025-03-19T16:49:14.638Z"
   },
   {
    "duration": 4,
    "start_time": "2025-03-19T16:49:14.654Z"
   },
   {
    "duration": 18,
    "start_time": "2025-03-19T16:49:14.659Z"
   },
   {
    "duration": 7,
    "start_time": "2025-03-19T16:49:14.678Z"
   },
   {
    "duration": 12,
    "start_time": "2025-03-19T16:49:14.687Z"
   },
   {
    "duration": 10,
    "start_time": "2025-03-19T16:49:14.701Z"
   },
   {
    "duration": 21,
    "start_time": "2025-03-19T16:49:14.712Z"
   },
   {
    "duration": 3,
    "start_time": "2025-03-19T16:49:14.734Z"
   },
   {
    "duration": 15,
    "start_time": "2025-03-19T16:49:14.755Z"
   },
   {
    "duration": 58,
    "start_time": "2025-03-19T16:49:14.772Z"
   },
   {
    "duration": 4,
    "start_time": "2025-03-19T16:49:14.831Z"
   },
   {
    "duration": 14,
    "start_time": "2025-03-19T16:49:14.837Z"
   },
   {
    "duration": 18,
    "start_time": "2025-03-19T16:49:14.852Z"
   },
   {
    "duration": 3,
    "start_time": "2025-03-19T16:49:14.872Z"
   },
   {
    "duration": 10,
    "start_time": "2025-03-19T16:49:14.877Z"
   },
   {
    "duration": 25,
    "start_time": "2025-03-19T16:49:14.889Z"
   },
   {
    "duration": 41,
    "start_time": "2025-03-19T16:49:14.915Z"
   },
   {
    "duration": 15,
    "start_time": "2025-03-19T16:49:14.960Z"
   },
   {
    "duration": 92,
    "start_time": "2025-03-19T16:49:14.976Z"
   },
   {
    "duration": 154,
    "start_time": "2025-03-19T16:49:15.070Z"
   },
   {
    "duration": 37,
    "start_time": "2025-03-19T16:49:15.226Z"
   },
   {
    "duration": 17,
    "start_time": "2025-03-19T16:49:15.265Z"
   },
   {
    "duration": 20,
    "start_time": "2025-03-19T16:49:15.283Z"
   },
   {
    "duration": 32,
    "start_time": "2025-03-19T16:49:15.305Z"
   },
   {
    "duration": 21,
    "start_time": "2025-03-19T16:49:15.339Z"
   },
   {
    "duration": 13,
    "start_time": "2025-03-19T16:49:15.361Z"
   },
   {
    "duration": 17,
    "start_time": "2025-03-19T16:49:15.375Z"
   },
   {
    "duration": 10,
    "start_time": "2025-03-19T16:49:15.394Z"
   },
   {
    "duration": 30,
    "start_time": "2025-03-19T16:49:15.405Z"
   },
   {
    "duration": 44,
    "start_time": "2025-03-19T16:49:15.436Z"
   },
   {
    "duration": 16,
    "start_time": "2025-03-19T16:49:15.482Z"
   },
   {
    "duration": 27,
    "start_time": "2025-03-19T16:49:15.500Z"
   },
   {
    "duration": 7,
    "start_time": "2025-03-19T16:49:15.529Z"
   },
   {
    "duration": 15,
    "start_time": "2025-03-19T16:49:15.538Z"
   },
   {
    "duration": 8,
    "start_time": "2025-03-19T16:49:15.554Z"
   },
   {
    "duration": 8,
    "start_time": "2025-03-19T16:49:15.563Z"
   },
   {
    "duration": 8,
    "start_time": "2025-03-19T16:49:15.572Z"
   },
   {
    "duration": 7,
    "start_time": "2025-03-19T16:49:15.582Z"
   },
   {
    "duration": 7,
    "start_time": "2025-03-19T16:49:15.590Z"
   },
   {
    "duration": 93,
    "start_time": "2025-03-19T16:49:15.598Z"
   },
   {
    "duration": 865,
    "start_time": "2025-03-19T16:49:15.692Z"
   },
   {
    "duration": 3666,
    "start_time": "2025-03-19T16:49:16.558Z"
   },
   {
    "duration": 227588,
    "start_time": "2025-03-19T16:49:23.956Z"
   },
   {
    "duration": 0,
    "start_time": "2025-03-19T16:53:11.545Z"
   },
   {
    "duration": 14241,
    "start_time": "2025-03-19T16:55:39.944Z"
   },
   {
    "duration": 1493,
    "start_time": "2025-03-19T16:55:54.187Z"
   },
   {
    "duration": 2,
    "start_time": "2025-03-19T16:55:55.682Z"
   },
   {
    "duration": 114,
    "start_time": "2025-03-19T16:55:55.686Z"
   },
   {
    "duration": 56,
    "start_time": "2025-03-19T16:55:55.801Z"
   },
   {
    "duration": 60,
    "start_time": "2025-03-19T16:55:55.862Z"
   },
   {
    "duration": 52,
    "start_time": "2025-03-19T16:55:55.924Z"
   },
   {
    "duration": 25,
    "start_time": "2025-03-19T16:55:55.978Z"
   },
   {
    "duration": 45,
    "start_time": "2025-03-19T16:55:56.004Z"
   },
   {
    "duration": 20,
    "start_time": "2025-03-19T16:55:56.051Z"
   },
   {
    "duration": 16,
    "start_time": "2025-03-19T16:55:56.073Z"
   },
   {
    "duration": 10,
    "start_time": "2025-03-19T16:55:56.090Z"
   },
   {
    "duration": 21,
    "start_time": "2025-03-19T16:55:56.102Z"
   },
   {
    "duration": 8,
    "start_time": "2025-03-19T16:55:56.124Z"
   },
   {
    "duration": 5,
    "start_time": "2025-03-19T16:55:56.133Z"
   },
   {
    "duration": 30,
    "start_time": "2025-03-19T16:55:56.139Z"
   },
   {
    "duration": 23,
    "start_time": "2025-03-19T16:55:56.172Z"
   },
   {
    "duration": 3,
    "start_time": "2025-03-19T16:55:56.197Z"
   },
   {
    "duration": 12,
    "start_time": "2025-03-19T16:55:56.201Z"
   },
   {
    "duration": 28,
    "start_time": "2025-03-19T16:55:56.214Z"
   },
   {
    "duration": 13,
    "start_time": "2025-03-19T16:55:56.255Z"
   },
   {
    "duration": 11,
    "start_time": "2025-03-19T16:55:56.269Z"
   },
   {
    "duration": 23,
    "start_time": "2025-03-19T16:55:56.282Z"
   },
   {
    "duration": 2,
    "start_time": "2025-03-19T16:55:56.307Z"
   },
   {
    "duration": 18,
    "start_time": "2025-03-19T16:55:56.310Z"
   },
   {
    "duration": 40,
    "start_time": "2025-03-19T16:55:56.329Z"
   },
   {
    "duration": 23,
    "start_time": "2025-03-19T16:55:56.371Z"
   },
   {
    "duration": 17,
    "start_time": "2025-03-19T16:55:56.399Z"
   },
   {
    "duration": 10,
    "start_time": "2025-03-19T16:55:56.417Z"
   },
   {
    "duration": 46,
    "start_time": "2025-03-19T16:55:56.428Z"
   },
   {
    "duration": 22,
    "start_time": "2025-03-19T16:55:56.475Z"
   },
   {
    "duration": 4,
    "start_time": "2025-03-19T16:55:56.498Z"
   },
   {
    "duration": 5,
    "start_time": "2025-03-19T16:55:56.504Z"
   },
   {
    "duration": 13,
    "start_time": "2025-03-19T16:55:56.510Z"
   },
   {
    "duration": 3,
    "start_time": "2025-03-19T16:55:56.524Z"
   },
   {
    "duration": 13,
    "start_time": "2025-03-19T16:55:56.528Z"
   },
   {
    "duration": 27,
    "start_time": "2025-03-19T16:55:56.542Z"
   },
   {
    "duration": 17,
    "start_time": "2025-03-19T16:55:56.571Z"
   },
   {
    "duration": 8,
    "start_time": "2025-03-19T16:55:56.589Z"
   },
   {
    "duration": 7,
    "start_time": "2025-03-19T16:55:56.599Z"
   },
   {
    "duration": 7,
    "start_time": "2025-03-19T16:55:56.608Z"
   },
   {
    "duration": 8,
    "start_time": "2025-03-19T16:55:56.616Z"
   },
   {
    "duration": 9,
    "start_time": "2025-03-19T16:55:56.625Z"
   },
   {
    "duration": 15,
    "start_time": "2025-03-19T16:55:56.664Z"
   },
   {
    "duration": 43,
    "start_time": "2025-03-19T16:55:56.680Z"
   },
   {
    "duration": 12,
    "start_time": "2025-03-19T16:55:56.725Z"
   },
   {
    "duration": 8,
    "start_time": "2025-03-19T16:55:56.739Z"
   },
   {
    "duration": 25,
    "start_time": "2025-03-19T16:55:56.749Z"
   },
   {
    "duration": 7,
    "start_time": "2025-03-19T16:55:56.776Z"
   },
   {
    "duration": 14,
    "start_time": "2025-03-19T16:55:56.784Z"
   },
   {
    "duration": 902,
    "start_time": "2025-03-19T16:55:56.799Z"
   },
   {
    "duration": 3560,
    "start_time": "2025-03-19T16:55:57.703Z"
   },
   {
    "duration": 14,
    "start_time": "2025-03-19T16:56:01.268Z"
   },
   {
    "duration": 243,
    "start_time": "2025-03-19T16:56:01.283Z"
   },
   {
    "duration": 3,
    "start_time": "2025-03-19T16:56:01.528Z"
   },
   {
    "duration": 160,
    "start_time": "2025-03-19T16:56:01.532Z"
   },
   {
    "duration": 411,
    "start_time": "2025-03-19T16:56:01.694Z"
   },
   {
    "duration": 1593,
    "start_time": "2025-03-19T16:56:02.107Z"
   },
   {
    "duration": 4,
    "start_time": "2025-03-19T16:56:03.702Z"
   },
   {
    "duration": 30,
    "start_time": "2025-03-19T16:56:03.707Z"
   },
   {
    "duration": 93,
    "start_time": "2025-03-19T16:56:03.738Z"
   },
   {
    "duration": 21,
    "start_time": "2025-03-19T16:56:03.832Z"
   },
   {
    "duration": 13,
    "start_time": "2025-03-19T16:56:03.855Z"
   },
   {
    "duration": 59,
    "start_time": "2025-03-19T16:56:03.869Z"
   },
   {
    "duration": 2546,
    "start_time": "2025-03-19T16:56:03.930Z"
   },
   {
    "duration": 298028,
    "start_time": "2025-03-19T16:56:06.477Z"
   },
   {
    "duration": 10,
    "start_time": "2025-03-19T17:01:04.506Z"
   },
   {
    "duration": 16,
    "start_time": "2025-03-19T17:10:32.854Z"
   },
   {
    "duration": 15,
    "start_time": "2025-03-19T17:10:59.480Z"
   },
   {
    "duration": 13,
    "start_time": "2025-03-19T17:11:30.105Z"
   },
   {
    "duration": 14,
    "start_time": "2025-03-19T17:11:48.579Z"
   },
   {
    "duration": 13823,
    "start_time": "2025-03-19T17:16:51.890Z"
   },
   {
    "duration": 1429,
    "start_time": "2025-03-19T17:17:05.716Z"
   },
   {
    "duration": 3,
    "start_time": "2025-03-19T17:17:07.146Z"
   },
   {
    "duration": 222,
    "start_time": "2025-03-19T17:17:07.150Z"
   },
   {
    "duration": 64,
    "start_time": "2025-03-19T17:17:07.374Z"
   },
   {
    "duration": 60,
    "start_time": "2025-03-19T17:17:07.439Z"
   },
   {
    "duration": 54,
    "start_time": "2025-03-19T17:17:07.501Z"
   },
   {
    "duration": 19,
    "start_time": "2025-03-19T17:17:07.556Z"
   },
   {
    "duration": 4,
    "start_time": "2025-03-19T17:17:07.576Z"
   },
   {
    "duration": 9,
    "start_time": "2025-03-19T17:17:07.582Z"
   },
   {
    "duration": 14,
    "start_time": "2025-03-19T17:17:07.593Z"
   },
   {
    "duration": 3,
    "start_time": "2025-03-19T17:17:07.608Z"
   },
   {
    "duration": 45,
    "start_time": "2025-03-19T17:17:07.612Z"
   },
   {
    "duration": 8,
    "start_time": "2025-03-19T17:17:07.658Z"
   },
   {
    "duration": 4,
    "start_time": "2025-03-19T17:17:07.667Z"
   },
   {
    "duration": 12,
    "start_time": "2025-03-19T17:17:07.672Z"
   },
   {
    "duration": 15,
    "start_time": "2025-03-19T17:17:07.685Z"
   },
   {
    "duration": 9,
    "start_time": "2025-03-19T17:17:07.701Z"
   },
   {
    "duration": 146,
    "start_time": "2025-03-19T17:17:07.711Z"
   },
   {
    "duration": 95,
    "start_time": "2025-03-19T17:17:07.859Z"
   },
   {
    "duration": 3,
    "start_time": "2025-03-19T17:17:07.956Z"
   },
   {
    "duration": 9,
    "start_time": "2025-03-19T17:17:07.960Z"
   },
   {
    "duration": 22,
    "start_time": "2025-03-19T17:17:07.970Z"
   },
   {
    "duration": 3,
    "start_time": "2025-03-19T17:17:07.993Z"
   },
   {
    "duration": 7,
    "start_time": "2025-03-19T17:17:07.998Z"
   },
   {
    "duration": 20,
    "start_time": "2025-03-19T17:17:08.006Z"
   },
   {
    "duration": 47,
    "start_time": "2025-03-19T17:17:08.028Z"
   },
   {
    "duration": 83,
    "start_time": "2025-03-19T17:17:08.080Z"
   },
   {
    "duration": 10,
    "start_time": "2025-03-19T17:17:08.165Z"
   },
   {
    "duration": 13,
    "start_time": "2025-03-19T17:17:08.177Z"
   },
   {
    "duration": 27,
    "start_time": "2025-03-19T17:17:08.192Z"
   },
   {
    "duration": 5,
    "start_time": "2025-03-19T17:17:08.221Z"
   },
   {
    "duration": 7,
    "start_time": "2025-03-19T17:17:08.256Z"
   },
   {
    "duration": 13,
    "start_time": "2025-03-19T17:17:08.264Z"
   },
   {
    "duration": 10,
    "start_time": "2025-03-19T17:17:08.279Z"
   },
   {
    "duration": 16,
    "start_time": "2025-03-19T17:17:08.290Z"
   },
   {
    "duration": 14,
    "start_time": "2025-03-19T17:17:08.307Z"
   },
   {
    "duration": 8,
    "start_time": "2025-03-19T17:17:08.321Z"
   },
   {
    "duration": 8,
    "start_time": "2025-03-19T17:17:08.330Z"
   },
   {
    "duration": 7,
    "start_time": "2025-03-19T17:17:08.355Z"
   },
   {
    "duration": 8,
    "start_time": "2025-03-19T17:17:08.363Z"
   },
   {
    "duration": 8,
    "start_time": "2025-03-19T17:17:08.372Z"
   },
   {
    "duration": 9,
    "start_time": "2025-03-19T17:17:08.381Z"
   },
   {
    "duration": 14,
    "start_time": "2025-03-19T17:17:08.391Z"
   },
   {
    "duration": 8,
    "start_time": "2025-03-19T17:17:08.406Z"
   },
   {
    "duration": 9,
    "start_time": "2025-03-19T17:17:08.415Z"
   },
   {
    "duration": 31,
    "start_time": "2025-03-19T17:17:08.426Z"
   },
   {
    "duration": 8,
    "start_time": "2025-03-19T17:17:08.459Z"
   },
   {
    "duration": 13,
    "start_time": "2025-03-19T17:17:08.468Z"
   },
   {
    "duration": 875,
    "start_time": "2025-03-19T17:17:08.483Z"
   },
   {
    "duration": 3473,
    "start_time": "2025-03-19T17:17:09.360Z"
   },
   {
    "duration": 7,
    "start_time": "2025-03-19T17:17:12.835Z"
   },
   {
    "duration": 238,
    "start_time": "2025-03-19T17:17:12.856Z"
   },
   {
    "duration": 3,
    "start_time": "2025-03-19T17:17:13.095Z"
   },
   {
    "duration": 128,
    "start_time": "2025-03-19T17:17:13.100Z"
   },
   {
    "duration": 390,
    "start_time": "2025-03-19T17:17:13.230Z"
   },
   {
    "duration": 1546,
    "start_time": "2025-03-19T17:17:13.622Z"
   },
   {
    "duration": 3,
    "start_time": "2025-03-19T17:17:15.170Z"
   },
   {
    "duration": 111,
    "start_time": "2025-03-19T17:17:15.175Z"
   },
   {
    "duration": 18,
    "start_time": "2025-03-19T17:17:15.287Z"
   },
   {
    "duration": 36,
    "start_time": "2025-03-19T17:17:15.307Z"
   },
   {
    "duration": 23,
    "start_time": "2025-03-19T17:17:15.344Z"
   },
   {
    "duration": 55,
    "start_time": "2025-03-19T17:17:15.368Z"
   },
   {
    "duration": 939,
    "start_time": "2025-03-19T17:17:15.425Z"
   },
   {
    "duration": 288312,
    "start_time": "2025-03-19T17:17:16.459Z"
   },
   {
    "duration": 14,
    "start_time": "2025-03-19T17:22:04.773Z"
   }
  ],
  "kernelspec": {
   "display_name": "Python 3 (ipykernel)",
   "language": "python",
   "name": "python3"
  },
  "language_info": {
   "codemirror_mode": {
    "name": "ipython",
    "version": 3
   },
   "file_extension": ".py",
   "mimetype": "text/x-python",
   "name": "python",
   "nbconvert_exporter": "python",
   "pygments_lexer": "ipython3",
   "version": "3.9.5"
  },
  "toc": {
   "base_numbering": 1,
   "nav_menu": {},
   "number_sections": false,
   "sideBar": true,
   "skip_h1_title": true,
   "title_cell": "Table of Contents",
   "title_sidebar": "Contents",
   "toc_cell": true,
   "toc_position": {
    "height": "calc(100% - 180px)",
    "left": "10px",
    "top": "150px",
    "width": "219.347px"
   },
   "toc_section_display": true,
   "toc_window_display": true
  }
 },
 "nbformat": 4,
 "nbformat_minor": 5
}
