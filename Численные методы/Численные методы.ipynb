{
 "cells": [
  {
   "cell_type": "markdown",
   "metadata": {},
   "source": [
    "# Определение стоимости автомобилей"
   ]
  },
  {
   "cell_type": "markdown",
   "metadata": {},
   "source": [
    "Сервис по продаже автомобилей с пробегом разрабатывает приложение для привлечения новых клиентов. В нём можно быстро узнать рыночную стоимость своего автомобиля. В нашем распоряжении исторические данные: технические характеристики, комплектации и цены автомобилей. Нам нужно построить модель для определения стоимости. \n",
    "\n",
    "Заказчику важны:\n",
    "\n",
    "- качество предсказания;\n",
    "- скорость предсказания;\n",
    "- время обучения."
   ]
  },
  {
   "cell_type": "markdown",
   "metadata": {},
   "source": [
    "# Основные шаги:"
   ]
  },
  {
   "cell_type": "markdown",
   "metadata": {},
   "source": [
    "1. Загрузим данные, путь к файлу: /datasets/autos.csv.\n",
    "2. Изучим данные. Заполним пропущенные значения и обработаем аномалии в столбцах. Если среди признаков имеются неинформативные, удалим их.\n",
    "3. Подготовим выборки для обучения моделей.\n",
    "4. Обучим разные модели, одна из которых — LightGBM, как минимум одна — не бустинг. Для каждой модели попробуем разные гиперпараметры.\n",
    "5. Проанализируем время обучения, время предсказания и качество моделей.\n",
    "6. Опираясь на критерии заказчика, выберем лучшую модель, проверим её качество на тестовой выборке."
   ]
  },
  {
   "cell_type": "markdown",
   "metadata": {},
   "source": [
    "## 1. Подготовка данных"
   ]
  },
  {
   "cell_type": "markdown",
   "metadata": {},
   "source": [
    "### 1.1 Импорт необходимых библиотек"
   ]
  },
  {
   "cell_type": "code",
   "execution_count": 1,
   "metadata": {},
   "outputs": [],
   "source": [
    "import pandas as pd\n",
    "import matplotlib.pyplot as plt\n",
    "import numpy as np\n",
    "import warnings\n",
    "from sklearn.model_selection import train_test_split\n",
    "from sklearn.preprocessing import StandardScaler\n",
    "from sklearn.metrics import mean_squared_error\n",
    "from sklearn.preprocessing import PolynomialFeatures\n",
    "from sklearn.preprocessing import OrdinalEncoder\n",
    "from sklearn.preprocessing import OneHotEncoder\n",
    "from sklearn.linear_model import LinearRegression\n",
    "from sklearn.linear_model import Ridge\n",
    "from sklearn.tree import DecisionTreeRegressor\n",
    "from sklearn.ensemble import ExtraTreesRegressor\n",
    "from sklearn.ensemble import RandomForestRegressor\n",
    "from catboost import Pool, CatBoostRegressor, cv\n",
    "from lightgbm import LGBMRegressor\n",
    "import lightgbm as lgb\n",
    "from sklearn.compose import ColumnTransformer\n",
    "from sklearn.model_selection import cross_val_score\n",
    "from sklearn.model_selection import GridSearchCV\n",
    "from sklearn.pipeline import Pipeline\n",
    "warnings.filterwarnings('ignore')"
   ]
  },
  {
   "cell_type": "markdown",
   "metadata": {},
   "source": [
    "### 1.2 Загрузка датасета "
   ]
  },
  {
   "cell_type": "code",
   "execution_count": 2,
   "metadata": {},
   "outputs": [],
   "source": [
    "df = pd.read_csv('/datasets/autos.csv')"
   ]
  },
  {
   "cell_type": "code",
   "execution_count": 3,
   "metadata": {},
   "outputs": [
    {
     "name": "stdout",
     "output_type": "stream",
     "text": [
      "<class 'pandas.core.frame.DataFrame'>\n",
      "RangeIndex: 354369 entries, 0 to 354368\n",
      "Data columns (total 16 columns):\n",
      " #   Column             Non-Null Count   Dtype \n",
      "---  ------             --------------   ----- \n",
      " 0   DateCrawled        354369 non-null  object\n",
      " 1   Price              354369 non-null  int64 \n",
      " 2   VehicleType        316879 non-null  object\n",
      " 3   RegistrationYear   354369 non-null  int64 \n",
      " 4   Gearbox            334536 non-null  object\n",
      " 5   Power              354369 non-null  int64 \n",
      " 6   Model              334664 non-null  object\n",
      " 7   Kilometer          354369 non-null  int64 \n",
      " 8   RegistrationMonth  354369 non-null  int64 \n",
      " 9   FuelType           321474 non-null  object\n",
      " 10  Brand              354369 non-null  object\n",
      " 11  Repaired           283215 non-null  object\n",
      " 12  DateCreated        354369 non-null  object\n",
      " 13  NumberOfPictures   354369 non-null  int64 \n",
      " 14  PostalCode         354369 non-null  int64 \n",
      " 15  LastSeen           354369 non-null  object\n",
      "dtypes: int64(7), object(9)\n",
      "memory usage: 43.3+ MB\n"
     ]
    }
   ],
   "source": [
    "df.info()"
   ]
  },
  {
   "cell_type": "code",
   "execution_count": 4,
   "metadata": {},
   "outputs": [
    {
     "data": {
      "text/html": [
       "<div>\n",
       "<style scoped>\n",
       "    .dataframe tbody tr th:only-of-type {\n",
       "        vertical-align: middle;\n",
       "    }\n",
       "\n",
       "    .dataframe tbody tr th {\n",
       "        vertical-align: top;\n",
       "    }\n",
       "\n",
       "    .dataframe thead th {\n",
       "        text-align: right;\n",
       "    }\n",
       "</style>\n",
       "<table border=\"1\" class=\"dataframe\">\n",
       "  <thead>\n",
       "    <tr style=\"text-align: right;\">\n",
       "      <th></th>\n",
       "      <th>DateCrawled</th>\n",
       "      <th>Price</th>\n",
       "      <th>VehicleType</th>\n",
       "      <th>RegistrationYear</th>\n",
       "      <th>Gearbox</th>\n",
       "      <th>Power</th>\n",
       "      <th>Model</th>\n",
       "      <th>Kilometer</th>\n",
       "      <th>RegistrationMonth</th>\n",
       "      <th>FuelType</th>\n",
       "      <th>Brand</th>\n",
       "      <th>Repaired</th>\n",
       "      <th>DateCreated</th>\n",
       "      <th>NumberOfPictures</th>\n",
       "      <th>PostalCode</th>\n",
       "      <th>LastSeen</th>\n",
       "    </tr>\n",
       "  </thead>\n",
       "  <tbody>\n",
       "    <tr>\n",
       "      <th>0</th>\n",
       "      <td>2016-03-24 11:52:17</td>\n",
       "      <td>480</td>\n",
       "      <td>NaN</td>\n",
       "      <td>1993</td>\n",
       "      <td>manual</td>\n",
       "      <td>0</td>\n",
       "      <td>golf</td>\n",
       "      <td>150000</td>\n",
       "      <td>0</td>\n",
       "      <td>petrol</td>\n",
       "      <td>volkswagen</td>\n",
       "      <td>NaN</td>\n",
       "      <td>2016-03-24 00:00:00</td>\n",
       "      <td>0</td>\n",
       "      <td>70435</td>\n",
       "      <td>2016-04-07 03:16:57</td>\n",
       "    </tr>\n",
       "    <tr>\n",
       "      <th>1</th>\n",
       "      <td>2016-03-24 10:58:45</td>\n",
       "      <td>18300</td>\n",
       "      <td>coupe</td>\n",
       "      <td>2011</td>\n",
       "      <td>manual</td>\n",
       "      <td>190</td>\n",
       "      <td>NaN</td>\n",
       "      <td>125000</td>\n",
       "      <td>5</td>\n",
       "      <td>gasoline</td>\n",
       "      <td>audi</td>\n",
       "      <td>yes</td>\n",
       "      <td>2016-03-24 00:00:00</td>\n",
       "      <td>0</td>\n",
       "      <td>66954</td>\n",
       "      <td>2016-04-07 01:46:50</td>\n",
       "    </tr>\n",
       "    <tr>\n",
       "      <th>2</th>\n",
       "      <td>2016-03-14 12:52:21</td>\n",
       "      <td>9800</td>\n",
       "      <td>suv</td>\n",
       "      <td>2004</td>\n",
       "      <td>auto</td>\n",
       "      <td>163</td>\n",
       "      <td>grand</td>\n",
       "      <td>125000</td>\n",
       "      <td>8</td>\n",
       "      <td>gasoline</td>\n",
       "      <td>jeep</td>\n",
       "      <td>NaN</td>\n",
       "      <td>2016-03-14 00:00:00</td>\n",
       "      <td>0</td>\n",
       "      <td>90480</td>\n",
       "      <td>2016-04-05 12:47:46</td>\n",
       "    </tr>\n",
       "    <tr>\n",
       "      <th>3</th>\n",
       "      <td>2016-03-17 16:54:04</td>\n",
       "      <td>1500</td>\n",
       "      <td>small</td>\n",
       "      <td>2001</td>\n",
       "      <td>manual</td>\n",
       "      <td>75</td>\n",
       "      <td>golf</td>\n",
       "      <td>150000</td>\n",
       "      <td>6</td>\n",
       "      <td>petrol</td>\n",
       "      <td>volkswagen</td>\n",
       "      <td>no</td>\n",
       "      <td>2016-03-17 00:00:00</td>\n",
       "      <td>0</td>\n",
       "      <td>91074</td>\n",
       "      <td>2016-03-17 17:40:17</td>\n",
       "    </tr>\n",
       "    <tr>\n",
       "      <th>4</th>\n",
       "      <td>2016-03-31 17:25:20</td>\n",
       "      <td>3600</td>\n",
       "      <td>small</td>\n",
       "      <td>2008</td>\n",
       "      <td>manual</td>\n",
       "      <td>69</td>\n",
       "      <td>fabia</td>\n",
       "      <td>90000</td>\n",
       "      <td>7</td>\n",
       "      <td>gasoline</td>\n",
       "      <td>skoda</td>\n",
       "      <td>no</td>\n",
       "      <td>2016-03-31 00:00:00</td>\n",
       "      <td>0</td>\n",
       "      <td>60437</td>\n",
       "      <td>2016-04-06 10:17:21</td>\n",
       "    </tr>\n",
       "    <tr>\n",
       "      <th>5</th>\n",
       "      <td>2016-04-04 17:36:23</td>\n",
       "      <td>650</td>\n",
       "      <td>sedan</td>\n",
       "      <td>1995</td>\n",
       "      <td>manual</td>\n",
       "      <td>102</td>\n",
       "      <td>3er</td>\n",
       "      <td>150000</td>\n",
       "      <td>10</td>\n",
       "      <td>petrol</td>\n",
       "      <td>bmw</td>\n",
       "      <td>yes</td>\n",
       "      <td>2016-04-04 00:00:00</td>\n",
       "      <td>0</td>\n",
       "      <td>33775</td>\n",
       "      <td>2016-04-06 19:17:07</td>\n",
       "    </tr>\n",
       "    <tr>\n",
       "      <th>6</th>\n",
       "      <td>2016-04-01 20:48:51</td>\n",
       "      <td>2200</td>\n",
       "      <td>convertible</td>\n",
       "      <td>2004</td>\n",
       "      <td>manual</td>\n",
       "      <td>109</td>\n",
       "      <td>2_reihe</td>\n",
       "      <td>150000</td>\n",
       "      <td>8</td>\n",
       "      <td>petrol</td>\n",
       "      <td>peugeot</td>\n",
       "      <td>no</td>\n",
       "      <td>2016-04-01 00:00:00</td>\n",
       "      <td>0</td>\n",
       "      <td>67112</td>\n",
       "      <td>2016-04-05 18:18:39</td>\n",
       "    </tr>\n",
       "    <tr>\n",
       "      <th>7</th>\n",
       "      <td>2016-03-21 18:54:38</td>\n",
       "      <td>0</td>\n",
       "      <td>sedan</td>\n",
       "      <td>1980</td>\n",
       "      <td>manual</td>\n",
       "      <td>50</td>\n",
       "      <td>other</td>\n",
       "      <td>40000</td>\n",
       "      <td>7</td>\n",
       "      <td>petrol</td>\n",
       "      <td>volkswagen</td>\n",
       "      <td>no</td>\n",
       "      <td>2016-03-21 00:00:00</td>\n",
       "      <td>0</td>\n",
       "      <td>19348</td>\n",
       "      <td>2016-03-25 16:47:58</td>\n",
       "    </tr>\n",
       "    <tr>\n",
       "      <th>8</th>\n",
       "      <td>2016-04-04 23:42:13</td>\n",
       "      <td>14500</td>\n",
       "      <td>bus</td>\n",
       "      <td>2014</td>\n",
       "      <td>manual</td>\n",
       "      <td>125</td>\n",
       "      <td>c_max</td>\n",
       "      <td>30000</td>\n",
       "      <td>8</td>\n",
       "      <td>petrol</td>\n",
       "      <td>ford</td>\n",
       "      <td>NaN</td>\n",
       "      <td>2016-04-04 00:00:00</td>\n",
       "      <td>0</td>\n",
       "      <td>94505</td>\n",
       "      <td>2016-04-04 23:42:13</td>\n",
       "    </tr>\n",
       "    <tr>\n",
       "      <th>9</th>\n",
       "      <td>2016-03-17 10:53:50</td>\n",
       "      <td>999</td>\n",
       "      <td>small</td>\n",
       "      <td>1998</td>\n",
       "      <td>manual</td>\n",
       "      <td>101</td>\n",
       "      <td>golf</td>\n",
       "      <td>150000</td>\n",
       "      <td>0</td>\n",
       "      <td>NaN</td>\n",
       "      <td>volkswagen</td>\n",
       "      <td>NaN</td>\n",
       "      <td>2016-03-17 00:00:00</td>\n",
       "      <td>0</td>\n",
       "      <td>27472</td>\n",
       "      <td>2016-03-31 17:17:06</td>\n",
       "    </tr>\n",
       "  </tbody>\n",
       "</table>\n",
       "</div>"
      ],
      "text/plain": [
       "           DateCrawled  Price  VehicleType  RegistrationYear Gearbox  Power  \\\n",
       "0  2016-03-24 11:52:17    480          NaN              1993  manual      0   \n",
       "1  2016-03-24 10:58:45  18300        coupe              2011  manual    190   \n",
       "2  2016-03-14 12:52:21   9800          suv              2004    auto    163   \n",
       "3  2016-03-17 16:54:04   1500        small              2001  manual     75   \n",
       "4  2016-03-31 17:25:20   3600        small              2008  manual     69   \n",
       "5  2016-04-04 17:36:23    650        sedan              1995  manual    102   \n",
       "6  2016-04-01 20:48:51   2200  convertible              2004  manual    109   \n",
       "7  2016-03-21 18:54:38      0        sedan              1980  manual     50   \n",
       "8  2016-04-04 23:42:13  14500          bus              2014  manual    125   \n",
       "9  2016-03-17 10:53:50    999        small              1998  manual    101   \n",
       "\n",
       "     Model  Kilometer  RegistrationMonth  FuelType       Brand Repaired  \\\n",
       "0     golf     150000                  0    petrol  volkswagen      NaN   \n",
       "1      NaN     125000                  5  gasoline        audi      yes   \n",
       "2    grand     125000                  8  gasoline        jeep      NaN   \n",
       "3     golf     150000                  6    petrol  volkswagen       no   \n",
       "4    fabia      90000                  7  gasoline       skoda       no   \n",
       "5      3er     150000                 10    petrol         bmw      yes   \n",
       "6  2_reihe     150000                  8    petrol     peugeot       no   \n",
       "7    other      40000                  7    petrol  volkswagen       no   \n",
       "8    c_max      30000                  8    petrol        ford      NaN   \n",
       "9     golf     150000                  0       NaN  volkswagen      NaN   \n",
       "\n",
       "           DateCreated  NumberOfPictures  PostalCode             LastSeen  \n",
       "0  2016-03-24 00:00:00                 0       70435  2016-04-07 03:16:57  \n",
       "1  2016-03-24 00:00:00                 0       66954  2016-04-07 01:46:50  \n",
       "2  2016-03-14 00:00:00                 0       90480  2016-04-05 12:47:46  \n",
       "3  2016-03-17 00:00:00                 0       91074  2016-03-17 17:40:17  \n",
       "4  2016-03-31 00:00:00                 0       60437  2016-04-06 10:17:21  \n",
       "5  2016-04-04 00:00:00                 0       33775  2016-04-06 19:17:07  \n",
       "6  2016-04-01 00:00:00                 0       67112  2016-04-05 18:18:39  \n",
       "7  2016-03-21 00:00:00                 0       19348  2016-03-25 16:47:58  \n",
       "8  2016-04-04 00:00:00                 0       94505  2016-04-04 23:42:13  \n",
       "9  2016-03-17 00:00:00                 0       27472  2016-03-31 17:17:06  "
      ]
     },
     "execution_count": 4,
     "metadata": {},
     "output_type": "execute_result"
    }
   ],
   "source": [
    "df.head(10)"
   ]
  },
  {
   "cell_type": "code",
   "execution_count": 5,
   "metadata": {},
   "outputs": [
    {
     "data": {
      "text/html": [
       "<div>\n",
       "<style scoped>\n",
       "    .dataframe tbody tr th:only-of-type {\n",
       "        vertical-align: middle;\n",
       "    }\n",
       "\n",
       "    .dataframe tbody tr th {\n",
       "        vertical-align: top;\n",
       "    }\n",
       "\n",
       "    .dataframe thead th {\n",
       "        text-align: right;\n",
       "    }\n",
       "</style>\n",
       "<table border=\"1\" class=\"dataframe\">\n",
       "  <thead>\n",
       "    <tr style=\"text-align: right;\">\n",
       "      <th></th>\n",
       "      <th>Price</th>\n",
       "      <th>RegistrationYear</th>\n",
       "      <th>Power</th>\n",
       "      <th>Kilometer</th>\n",
       "      <th>RegistrationMonth</th>\n",
       "      <th>NumberOfPictures</th>\n",
       "      <th>PostalCode</th>\n",
       "    </tr>\n",
       "  </thead>\n",
       "  <tbody>\n",
       "    <tr>\n",
       "      <th>count</th>\n",
       "      <td>354369.000000</td>\n",
       "      <td>354369.000000</td>\n",
       "      <td>354369.000000</td>\n",
       "      <td>354369.000000</td>\n",
       "      <td>354369.000000</td>\n",
       "      <td>354369.0</td>\n",
       "      <td>354369.000000</td>\n",
       "    </tr>\n",
       "    <tr>\n",
       "      <th>mean</th>\n",
       "      <td>4416.656776</td>\n",
       "      <td>2004.234448</td>\n",
       "      <td>110.094337</td>\n",
       "      <td>128211.172535</td>\n",
       "      <td>5.714645</td>\n",
       "      <td>0.0</td>\n",
       "      <td>50508.689087</td>\n",
       "    </tr>\n",
       "    <tr>\n",
       "      <th>std</th>\n",
       "      <td>4514.158514</td>\n",
       "      <td>90.227958</td>\n",
       "      <td>189.850405</td>\n",
       "      <td>37905.341530</td>\n",
       "      <td>3.726421</td>\n",
       "      <td>0.0</td>\n",
       "      <td>25783.096248</td>\n",
       "    </tr>\n",
       "    <tr>\n",
       "      <th>min</th>\n",
       "      <td>0.000000</td>\n",
       "      <td>1000.000000</td>\n",
       "      <td>0.000000</td>\n",
       "      <td>5000.000000</td>\n",
       "      <td>0.000000</td>\n",
       "      <td>0.0</td>\n",
       "      <td>1067.000000</td>\n",
       "    </tr>\n",
       "    <tr>\n",
       "      <th>25%</th>\n",
       "      <td>1050.000000</td>\n",
       "      <td>1999.000000</td>\n",
       "      <td>69.000000</td>\n",
       "      <td>125000.000000</td>\n",
       "      <td>3.000000</td>\n",
       "      <td>0.0</td>\n",
       "      <td>30165.000000</td>\n",
       "    </tr>\n",
       "    <tr>\n",
       "      <th>50%</th>\n",
       "      <td>2700.000000</td>\n",
       "      <td>2003.000000</td>\n",
       "      <td>105.000000</td>\n",
       "      <td>150000.000000</td>\n",
       "      <td>6.000000</td>\n",
       "      <td>0.0</td>\n",
       "      <td>49413.000000</td>\n",
       "    </tr>\n",
       "    <tr>\n",
       "      <th>75%</th>\n",
       "      <td>6400.000000</td>\n",
       "      <td>2008.000000</td>\n",
       "      <td>143.000000</td>\n",
       "      <td>150000.000000</td>\n",
       "      <td>9.000000</td>\n",
       "      <td>0.0</td>\n",
       "      <td>71083.000000</td>\n",
       "    </tr>\n",
       "    <tr>\n",
       "      <th>max</th>\n",
       "      <td>20000.000000</td>\n",
       "      <td>9999.000000</td>\n",
       "      <td>20000.000000</td>\n",
       "      <td>150000.000000</td>\n",
       "      <td>12.000000</td>\n",
       "      <td>0.0</td>\n",
       "      <td>99998.000000</td>\n",
       "    </tr>\n",
       "  </tbody>\n",
       "</table>\n",
       "</div>"
      ],
      "text/plain": [
       "               Price  RegistrationYear          Power      Kilometer  \\\n",
       "count  354369.000000     354369.000000  354369.000000  354369.000000   \n",
       "mean     4416.656776       2004.234448     110.094337  128211.172535   \n",
       "std      4514.158514         90.227958     189.850405   37905.341530   \n",
       "min         0.000000       1000.000000       0.000000    5000.000000   \n",
       "25%      1050.000000       1999.000000      69.000000  125000.000000   \n",
       "50%      2700.000000       2003.000000     105.000000  150000.000000   \n",
       "75%      6400.000000       2008.000000     143.000000  150000.000000   \n",
       "max     20000.000000       9999.000000   20000.000000  150000.000000   \n",
       "\n",
       "       RegistrationMonth  NumberOfPictures     PostalCode  \n",
       "count      354369.000000          354369.0  354369.000000  \n",
       "mean            5.714645               0.0   50508.689087  \n",
       "std             3.726421               0.0   25783.096248  \n",
       "min             0.000000               0.0    1067.000000  \n",
       "25%             3.000000               0.0   30165.000000  \n",
       "50%             6.000000               0.0   49413.000000  \n",
       "75%             9.000000               0.0   71083.000000  \n",
       "max            12.000000               0.0   99998.000000  "
      ]
     },
     "execution_count": 5,
     "metadata": {},
     "output_type": "execute_result"
    }
   ],
   "source": [
    "df.describe()"
   ]
  },
  {
   "cell_type": "markdown",
   "metadata": {},
   "source": [
    "### 1.3 Поиск пропусков в данных"
   ]
  },
  {
   "cell_type": "code",
   "execution_count": 6,
   "metadata": {},
   "outputs": [
    {
     "data": {
      "text/plain": [
       "DateCrawled              0\n",
       "Price                    0\n",
       "VehicleType          37490\n",
       "RegistrationYear         0\n",
       "Gearbox              19833\n",
       "Power                    0\n",
       "Model                19705\n",
       "Kilometer                0\n",
       "RegistrationMonth        0\n",
       "FuelType             32895\n",
       "Brand                    0\n",
       "Repaired             71154\n",
       "DateCreated              0\n",
       "NumberOfPictures         0\n",
       "PostalCode               0\n",
       "LastSeen                 0\n",
       "dtype: int64"
      ]
     },
     "execution_count": 6,
     "metadata": {},
     "output_type": "execute_result"
    }
   ],
   "source": [
    "df.isna().sum()"
   ]
  },
  {
   "cell_type": "markdown",
   "metadata": {},
   "source": [
    "В столбцах **VehicleType**, **Gearbox**, **Model**, **FuelType** и **Repaired** имеются пропуски, проанализируем их."
   ]
  },
  {
   "cell_type": "markdown",
   "metadata": {},
   "source": [
    "### 1.4 Обработка данных"
   ]
  },
  {
   "cell_type": "markdown",
   "metadata": {},
   "source": [
    "Для начала определим признаки, влияющие на стоимость.\n",
    "\n",
    "\n",
    "***VehicleType*** - Тип автомобильного кузова ***влияет*** на стоимость.\\\n",
    "***RegistrationYear*** - Год регистрации ***влияет*** на стоимость, тк показывает сколько времени машина эксплуатируется.\\\n",
    "***Gearbox*** - Тип коробки передач ***влияет*** на стоимость, автомобиль с автоматической коробкой передач дороже.\\\n",
    "***Power*** - Мощность ***влияет*** на стоимость, мощнее двигатель - выше цена.\\\n",
    "***Model*** - Модель ***влияет*** на стоимость.\\\n",
    "***Kilometer*** - Пробег ***влияет*** на стоимость, выше пробег - ниже цена.\\\n",
    "***FuelType*** - Тип топлива указывает на тип двигателя, а тип двигателя ***влияет*** на стоимость.\\\n",
    "***Brand*** - Бренд ***влияет*** на стоимость.\\\n",
    "***Repaired*** - Ремонт машины ***влияет*** на стоимость в зависимости от причины ремонта.\n"
   ]
  },
  {
   "cell_type": "markdown",
   "metadata": {},
   "source": [
    "И создадим датафрейм с нужными нам столбцами."
   ]
  },
  {
   "cell_type": "code",
   "execution_count": 7,
   "metadata": {},
   "outputs": [],
   "source": [
    "dff = df[['Price',\n",
    "        'VehicleType',\n",
    "        'RegistrationYear',\n",
    "        'Gearbox',\n",
    "        'Power',\n",
    "        'Model',\n",
    "        'Kilometer',\n",
    "        'FuelType',\n",
    "        'Brand',\n",
    "        'Repaired']]"
   ]
  },
  {
   "cell_type": "markdown",
   "metadata": {},
   "source": [
    "#### Price - целевой признак"
   ]
  },
  {
   "cell_type": "code",
   "execution_count": 8,
   "metadata": {},
   "outputs": [
    {
     "data": {
      "text/plain": [
       "0        10772\n",
       "500       5670\n",
       "1500      5394\n",
       "1000      4649\n",
       "1200      4594\n",
       "         ...  \n",
       "13180        1\n",
       "10879        1\n",
       "2683         1\n",
       "634          1\n",
       "8188         1\n",
       "Name: Price, Length: 3731, dtype: int64"
      ]
     },
     "execution_count": 8,
     "metadata": {},
     "output_type": "execute_result"
    }
   ],
   "source": [
    "# Выведем уникальные значения столбца price\n",
    "dff['Price'].value_counts()"
   ]
  },
  {
   "cell_type": "code",
   "execution_count": 9,
   "metadata": {},
   "outputs": [],
   "source": [
    "# И удалим их\n",
    "dff = dff.loc[dff['Price'] != 0]"
   ]
  },
  {
   "cell_type": "markdown",
   "metadata": {},
   "source": [
    "#### VehicleType"
   ]
  },
  {
   "cell_type": "code",
   "execution_count": 10,
   "metadata": {},
   "outputs": [],
   "source": [
    "# Заменим пропуски на unknown, тк их невозможно корректно заполнить, а при удалении потеряется слишком много записей\n",
    "dff['VehicleType'] = dff['VehicleType'].fillna('unknown')"
   ]
  },
  {
   "cell_type": "markdown",
   "metadata": {},
   "source": [
    "#### RegistrationYear"
   ]
  },
  {
   "cell_type": "code",
   "execution_count": 11,
   "metadata": {},
   "outputs": [
    {
     "name": "stdout",
     "output_type": "stream",
     "text": [
      "[1000, 1001, 1039, 1111, 1234, 1255, 1300, 1400, 1500, 1600, 1602, 1800, 1910, 1923, 1925, 1927, 1928, 1929, 1930, 1931, 1932, 1933, 1934, 1935, 1936, 1937, 1938, 1940, 1941, 1942, 1943, 1944, 1945, 1946, 1947, 1948, 1949, 1950, 1951, 1952, 1953, 1954, 1955, 1956, 1957, 1958, 1959, 1960, 1961, 1962, 1963, 1964, 1965, 1966, 1967, 1968, 1969, 1970, 1971, 1972, 1973, 1974, 1975, 1976, 1977, 1978, 1979, 1980, 1981, 1982, 1983, 1984, 1985, 1986, 1987, 1988, 1989, 1990, 1991, 1992, 1993, 1994, 1995, 1996, 1997, 1998, 1999, 2000, 2001, 2002, 2003, 2004, 2005, 2006, 2007, 2008, 2009, 2010, 2011, 2012, 2013, 2014, 2015, 2016, 2017, 2018, 2019, 2066, 2200, 2222, 2290, 2500, 2800, 2900, 3000, 3200, 3700, 3800, 4000, 4100, 4500, 4800, 5000, 5300, 5555, 5600, 5900, 5911, 6000, 6500, 7000, 7100, 7800, 8000, 8200, 8500, 8888, 9000, 9450, 9999]\n"
     ]
    }
   ],
   "source": [
    "# Выведем уникальные значения столбца RegistrationYear\n",
    "sdff = sorted(dff['RegistrationYear'].unique())\n",
    "print(sdff)"
   ]
  },
  {
   "cell_type": "code",
   "execution_count": 12,
   "metadata": {},
   "outputs": [],
   "source": [
    "# Имеются данные с некорректной датой регистрации, отфильтруем эти записи\n",
    "dff = dff.loc[(dff['RegistrationYear'] <= 2016) & (dff['RegistrationYear'] >= 1910)]"
   ]
  },
  {
   "cell_type": "markdown",
   "metadata": {},
   "source": [
    "#### Gearbox"
   ]
  },
  {
   "cell_type": "code",
   "execution_count": 13,
   "metadata": {},
   "outputs": [
    {
     "data": {
      "text/plain": [
       "manual    251160\n",
       "auto       63003\n",
       "Name: Gearbox, dtype: int64"
      ]
     },
     "execution_count": 13,
     "metadata": {},
     "output_type": "execute_result"
    }
   ],
   "source": [
    "dff['Gearbox'].value_counts()"
   ]
  },
  {
   "cell_type": "code",
   "execution_count": 14,
   "metadata": {},
   "outputs": [],
   "source": [
    "# Пропуски с столбце Gearbox заменим на manual, тк этот тип коробки передач встречается чаще.\n",
    "dff['Gearbox'] = dff['Gearbox'].fillna('manual')"
   ]
  },
  {
   "cell_type": "code",
   "execution_count": 15,
   "metadata": {},
   "outputs": [],
   "source": [
    "# Изменим тип данных на булевый тип, механика - 1, автомат - 0\n",
    "dff['Gearbox'] = dff['Gearbox'].replace({'manual': 1, 'auto': 0})"
   ]
  },
  {
   "cell_type": "code",
   "execution_count": 16,
   "metadata": {},
   "outputs": [
    {
     "data": {
      "text/plain": [
       "1    266762\n",
       "0     63003\n",
       "Name: Gearbox, dtype: int64"
      ]
     },
     "execution_count": 16,
     "metadata": {},
     "output_type": "execute_result"
    }
   ],
   "source": [
    "dff['Gearbox'].value_counts()"
   ]
  },
  {
   "cell_type": "markdown",
   "metadata": {},
   "source": [
    "#### Model"
   ]
  },
  {
   "cell_type": "code",
   "execution_count": 17,
   "metadata": {},
   "outputs": [],
   "source": [
    "# Пропуски в model удаляем, тк их невозможно восстановить или заменить другими значениями\n",
    "dff = dff.loc[~dff['Model'].isna()]"
   ]
  },
  {
   "cell_type": "markdown",
   "metadata": {},
   "source": [
    "#### Power"
   ]
  },
  {
   "cell_type": "code",
   "execution_count": 18,
   "metadata": {
    "scrolled": true
   },
   "outputs": [
    {
     "name": "stdout",
     "output_type": "stream",
     "text": [
      "[0, 1, 2, 3, 4, 5, 6, 7, 8, 9, 10, 11, 12, 13, 14, 15, 16, 17, 18, 19, 20, 21, 22, 23, 24, 25, 26, 27, 28, 29, 30, 31, 32, 33, 34, 35, 36, 37, 38, 39, 40, 41, 42, 43, 44, 45, 46, 47, 48, 49, 50, 51, 52, 53, 54, 55, 56, 57, 58, 59, 60, 61, 62, 63, 64, 65, 66, 67, 68, 69, 70, 71, 72, 73, 74, 75, 76, 77, 78, 79, 80, 81, 82, 83, 84, 85, 86, 87, 88, 89, 90, 91, 92, 93, 94, 95, 96, 97, 98, 99, 100, 101, 102, 103, 104, 105, 106, 107, 108, 109, 110, 111, 112, 113, 114, 115, 116, 117, 118, 119, 120, 121, 122, 123, 124, 125, 126, 127, 128, 129, 130, 131, 132, 133, 134, 135, 136, 137, 138, 139, 140, 141, 142, 143, 144, 145, 146, 147, 148, 149, 150, 151, 152, 153, 154, 155, 156, 157, 158, 159, 160, 161, 162, 163, 164, 165, 166, 167, 168, 169, 170, 171, 172, 173, 174, 175, 176, 177, 178, 179, 180, 181, 182, 183, 184, 185, 186, 187, 188, 189, 190, 191, 192, 193, 194, 195, 196, 197, 198, 199, 200, 201, 202, 203, 204, 205, 206, 207, 208, 209, 210, 211, 212, 213, 214, 215, 216, 217, 218, 219, 220, 221, 222, 223, 224, 225, 226, 227, 228, 229, 230, 231, 232, 233, 234, 235, 236, 237, 238, 239, 240, 241, 242, 243, 244, 245, 246, 247, 248, 249, 250, 251, 252, 253, 254, 255, 256, 257, 258, 259, 260, 261, 262, 264, 265, 266, 267, 268, 269, 270, 271, 272, 273, 274, 275, 276, 277, 278, 279, 280, 281, 282, 283, 284, 285, 286, 287, 288, 289, 290, 292, 293, 294, 295, 296, 298, 299, 300, 301, 303, 304, 305, 306, 307, 308, 309, 310, 311, 313, 314, 315, 316, 317, 318, 320, 321, 322, 323, 324, 325, 326, 328, 329, 330, 331, 332, 333, 334, 335, 336, 337, 338, 339, 340, 341, 343, 344, 345, 346, 347, 348, 349, 350, 351, 352, 353, 354, 355, 356, 357, 358, 360, 361, 362, 363, 364, 365, 367, 368, 370, 371, 374, 376, 377, 379, 380, 381, 382, 385, 386, 387, 388, 390, 392, 394, 396, 398, 399, 400, 401, 405, 408, 409, 411, 416, 420, 421, 425, 426, 428, 430, 431, 435, 440, 445, 449, 450, 454, 457, 459, 460, 475, 476, 487, 489, 490, 500, 504, 505, 507, 508, 510, 514, 515, 517, 519, 520, 521, 525, 540, 541, 544, 550, 551, 560, 572, 574, 579, 580, 584, 585, 600, 601, 603, 604, 606, 610, 612, 620, 640, 645, 650, 651, 671, 678, 685, 696, 700, 702, 703, 743, 750, 754, 771, 776, 805, 850, 871, 900, 902, 903, 907, 909, 923, 950, 952, 953, 998, 999, 1000, 1001, 1003, 1004, 1005, 1011, 1012, 1016, 1017, 1021, 1024, 1054, 1055, 1056, 1062, 1079, 1082, 1090, 1100, 1103, 1105, 1115, 1149, 1151, 1158, 1160, 1162, 1164, 1199, 1202, 1221, 1223, 1230, 1239, 1240, 1241, 1250, 1275, 1288, 1299, 1300, 1312, 1339, 1360, 1362, 1363, 1367, 1390, 1398, 1399, 1400, 1401, 1403, 1405, 1416, 1432, 1433, 1436, 1500, 1501, 1502, 1503, 1506, 1521, 1548, 1595, 1597, 1598, 1600, 1625, 1631, 1653, 1659, 1689, 1700, 1701, 1703, 1704, 1707, 1753, 1771, 1779, 1780, 1781, 1783, 1793, 1796, 1799, 1800, 1870, 1895, 1896, 1900, 1920, 1933, 1937, 1968, 1988, 1992, 1993, 1995, 1998, 1999, 2000, 2005, 2007, 2009, 2016, 2017, 2018, 2172, 2201, 2331, 2402, 2461, 2598, 2729, 2789, 2792, 2799, 3199, 3454, 3500, 3750, 4400, 4507, 4700, 5411, 5420, 5575, 5809, 5815, 5867, 6006, 6010, 6011, 6012, 6018, 6045, 6062, 6226, 6512, 6920, 7508, 7511, 7512, 7515, 7518, 7529, 7544, 8259, 8404, 8500, 9007, 9012, 9013, 10110, 10218, 10311, 10520, 10522, 10710, 11011, 11025, 11111, 11509, 11530, 11635, 12012, 12510, 12512, 13616, 13636, 15001, 15017, 15020, 15033, 16311, 16312, 17011, 17019, 17410, 17700, 17932, 19208, 19211, 19312, 20000]\n"
     ]
    }
   ],
   "source": [
    "# Получим уникальные значения столбца Power\n",
    "sdff = sorted(dff['Power'].unique())\n",
    "print(sdff)"
   ]
  },
  {
   "cell_type": "code",
   "execution_count": 19,
   "metadata": {},
   "outputs": [],
   "source": [
    "# И отфильтруем некорректные значения\n",
    "dff.loc[(dff['Power'] > 1000) | (dff['Power'] <= 0), 'Power'] = None\n",
    "dff['Power'] = dff['Power'].fillna(dff.groupby('Model')['Power'].transform('median'))\n",
    "dff = dff.loc[~dff['Power'].isna()]\n",
    "dff['Power'] = dff['Power'].astype('int64')"
   ]
  },
  {
   "cell_type": "markdown",
   "metadata": {},
   "source": [
    "#### Repaired"
   ]
  },
  {
   "cell_type": "code",
   "execution_count": 20,
   "metadata": {},
   "outputs": [],
   "source": [
    "# Заменим пропущенные значение на yes, отсутствие данных скорее всего подразумевает отсутствие ремонта\n",
    "dff['Repaired'].fillna(\"no\", inplace=True)"
   ]
  },
  {
   "cell_type": "code",
   "execution_count": 21,
   "metadata": {},
   "outputs": [
    {
     "data": {
      "text/plain": [
       "no     283101\n",
       "yes     31026\n",
       "Name: Repaired, dtype: int64"
      ]
     },
     "execution_count": 21,
     "metadata": {},
     "output_type": "execute_result"
    }
   ],
   "source": [
    "dff['Repaired'].value_counts()"
   ]
  },
  {
   "cell_type": "code",
   "execution_count": 22,
   "metadata": {},
   "outputs": [],
   "source": [
    "# Изменим тип данных на булевый тип, был ремонт - 1, не было ремонта - 0\n",
    "dff['Repaired'] = dff['Repaired'].replace({'yes': 1, 'no': 0})"
   ]
  },
  {
   "cell_type": "code",
   "execution_count": 23,
   "metadata": {},
   "outputs": [
    {
     "data": {
      "text/plain": [
       "0    283101\n",
       "1     31026\n",
       "Name: Repaired, dtype: int64"
      ]
     },
     "execution_count": 23,
     "metadata": {},
     "output_type": "execute_result"
    }
   ],
   "source": [
    "dff['Repaired'].value_counts()"
   ]
  },
  {
   "cell_type": "markdown",
   "metadata": {},
   "source": [
    "#### FuelType"
   ]
  },
  {
   "cell_type": "code",
   "execution_count": 24,
   "metadata": {},
   "outputs": [],
   "source": [
    "# Заменим пропуски на среднее по моделям\n",
    "dff['FuelType'] = dff['FuelType'].fillna(dff.groupby('Model')['FuelType'].transform(lambda x: x.value_counts().idxmax()))"
   ]
  },
  {
   "cell_type": "code",
   "execution_count": 25,
   "metadata": {},
   "outputs": [
    {
     "data": {
      "text/plain": [
       "Price               0\n",
       "VehicleType         0\n",
       "RegistrationYear    0\n",
       "Gearbox             0\n",
       "Power               0\n",
       "Model               0\n",
       "Kilometer           0\n",
       "FuelType            0\n",
       "Brand               0\n",
       "Repaired            0\n",
       "dtype: int64"
      ]
     },
     "execution_count": 25,
     "metadata": {},
     "output_type": "execute_result"
    }
   ],
   "source": [
    "dff.isna().sum()"
   ]
  },
  {
   "cell_type": "code",
   "execution_count": 26,
   "metadata": {},
   "outputs": [
    {
     "data": {
      "text/html": [
       "<div>\n",
       "<style scoped>\n",
       "    .dataframe tbody tr th:only-of-type {\n",
       "        vertical-align: middle;\n",
       "    }\n",
       "\n",
       "    .dataframe tbody tr th {\n",
       "        vertical-align: top;\n",
       "    }\n",
       "\n",
       "    .dataframe thead th {\n",
       "        text-align: right;\n",
       "    }\n",
       "</style>\n",
       "<table border=\"1\" class=\"dataframe\">\n",
       "  <thead>\n",
       "    <tr style=\"text-align: right;\">\n",
       "      <th></th>\n",
       "      <th>Price</th>\n",
       "      <th>VehicleType</th>\n",
       "      <th>RegistrationYear</th>\n",
       "      <th>Gearbox</th>\n",
       "      <th>Power</th>\n",
       "      <th>Model</th>\n",
       "      <th>Kilometer</th>\n",
       "      <th>FuelType</th>\n",
       "      <th>Brand</th>\n",
       "      <th>Repaired</th>\n",
       "    </tr>\n",
       "  </thead>\n",
       "  <tbody>\n",
       "    <tr>\n",
       "      <th>0</th>\n",
       "      <td>480</td>\n",
       "      <td>unknown</td>\n",
       "      <td>1993</td>\n",
       "      <td>1</td>\n",
       "      <td>101</td>\n",
       "      <td>golf</td>\n",
       "      <td>150000</td>\n",
       "      <td>petrol</td>\n",
       "      <td>volkswagen</td>\n",
       "      <td>0</td>\n",
       "    </tr>\n",
       "    <tr>\n",
       "      <th>2</th>\n",
       "      <td>9800</td>\n",
       "      <td>suv</td>\n",
       "      <td>2004</td>\n",
       "      <td>0</td>\n",
       "      <td>163</td>\n",
       "      <td>grand</td>\n",
       "      <td>125000</td>\n",
       "      <td>gasoline</td>\n",
       "      <td>jeep</td>\n",
       "      <td>0</td>\n",
       "    </tr>\n",
       "    <tr>\n",
       "      <th>3</th>\n",
       "      <td>1500</td>\n",
       "      <td>small</td>\n",
       "      <td>2001</td>\n",
       "      <td>1</td>\n",
       "      <td>75</td>\n",
       "      <td>golf</td>\n",
       "      <td>150000</td>\n",
       "      <td>petrol</td>\n",
       "      <td>volkswagen</td>\n",
       "      <td>0</td>\n",
       "    </tr>\n",
       "    <tr>\n",
       "      <th>4</th>\n",
       "      <td>3600</td>\n",
       "      <td>small</td>\n",
       "      <td>2008</td>\n",
       "      <td>1</td>\n",
       "      <td>69</td>\n",
       "      <td>fabia</td>\n",
       "      <td>90000</td>\n",
       "      <td>gasoline</td>\n",
       "      <td>skoda</td>\n",
       "      <td>0</td>\n",
       "    </tr>\n",
       "    <tr>\n",
       "      <th>5</th>\n",
       "      <td>650</td>\n",
       "      <td>sedan</td>\n",
       "      <td>1995</td>\n",
       "      <td>1</td>\n",
       "      <td>102</td>\n",
       "      <td>3er</td>\n",
       "      <td>150000</td>\n",
       "      <td>petrol</td>\n",
       "      <td>bmw</td>\n",
       "      <td>1</td>\n",
       "    </tr>\n",
       "    <tr>\n",
       "      <th>...</th>\n",
       "      <td>...</td>\n",
       "      <td>...</td>\n",
       "      <td>...</td>\n",
       "      <td>...</td>\n",
       "      <td>...</td>\n",
       "      <td>...</td>\n",
       "      <td>...</td>\n",
       "      <td>...</td>\n",
       "      <td>...</td>\n",
       "      <td>...</td>\n",
       "    </tr>\n",
       "    <tr>\n",
       "      <th>354362</th>\n",
       "      <td>3200</td>\n",
       "      <td>sedan</td>\n",
       "      <td>2004</td>\n",
       "      <td>1</td>\n",
       "      <td>225</td>\n",
       "      <td>leon</td>\n",
       "      <td>150000</td>\n",
       "      <td>petrol</td>\n",
       "      <td>seat</td>\n",
       "      <td>1</td>\n",
       "    </tr>\n",
       "    <tr>\n",
       "      <th>354363</th>\n",
       "      <td>1150</td>\n",
       "      <td>bus</td>\n",
       "      <td>2000</td>\n",
       "      <td>1</td>\n",
       "      <td>125</td>\n",
       "      <td>zafira</td>\n",
       "      <td>150000</td>\n",
       "      <td>petrol</td>\n",
       "      <td>opel</td>\n",
       "      <td>0</td>\n",
       "    </tr>\n",
       "    <tr>\n",
       "      <th>354366</th>\n",
       "      <td>1199</td>\n",
       "      <td>convertible</td>\n",
       "      <td>2000</td>\n",
       "      <td>0</td>\n",
       "      <td>101</td>\n",
       "      <td>fortwo</td>\n",
       "      <td>125000</td>\n",
       "      <td>petrol</td>\n",
       "      <td>smart</td>\n",
       "      <td>0</td>\n",
       "    </tr>\n",
       "    <tr>\n",
       "      <th>354367</th>\n",
       "      <td>9200</td>\n",
       "      <td>bus</td>\n",
       "      <td>1996</td>\n",
       "      <td>1</td>\n",
       "      <td>102</td>\n",
       "      <td>transporter</td>\n",
       "      <td>150000</td>\n",
       "      <td>gasoline</td>\n",
       "      <td>volkswagen</td>\n",
       "      <td>0</td>\n",
       "    </tr>\n",
       "    <tr>\n",
       "      <th>354368</th>\n",
       "      <td>3400</td>\n",
       "      <td>wagon</td>\n",
       "      <td>2002</td>\n",
       "      <td>1</td>\n",
       "      <td>100</td>\n",
       "      <td>golf</td>\n",
       "      <td>150000</td>\n",
       "      <td>gasoline</td>\n",
       "      <td>volkswagen</td>\n",
       "      <td>0</td>\n",
       "    </tr>\n",
       "  </tbody>\n",
       "</table>\n",
       "<p>314127 rows × 10 columns</p>\n",
       "</div>"
      ],
      "text/plain": [
       "        Price  VehicleType  RegistrationYear  Gearbox  Power        Model  \\\n",
       "0         480      unknown              1993        1    101         golf   \n",
       "2        9800          suv              2004        0    163        grand   \n",
       "3        1500        small              2001        1     75         golf   \n",
       "4        3600        small              2008        1     69        fabia   \n",
       "5         650        sedan              1995        1    102          3er   \n",
       "...       ...          ...               ...      ...    ...          ...   \n",
       "354362   3200        sedan              2004        1    225         leon   \n",
       "354363   1150          bus              2000        1    125       zafira   \n",
       "354366   1199  convertible              2000        0    101       fortwo   \n",
       "354367   9200          bus              1996        1    102  transporter   \n",
       "354368   3400        wagon              2002        1    100         golf   \n",
       "\n",
       "        Kilometer  FuelType       Brand  Repaired  \n",
       "0          150000    petrol  volkswagen         0  \n",
       "2          125000  gasoline        jeep         0  \n",
       "3          150000    petrol  volkswagen         0  \n",
       "4           90000  gasoline       skoda         0  \n",
       "5          150000    petrol         bmw         1  \n",
       "...           ...       ...         ...       ...  \n",
       "354362     150000    petrol        seat         1  \n",
       "354363     150000    petrol        opel         0  \n",
       "354366     125000    petrol       smart         0  \n",
       "354367     150000  gasoline  volkswagen         0  \n",
       "354368     150000  gasoline  volkswagen         0  \n",
       "\n",
       "[314127 rows x 10 columns]"
      ]
     },
     "metadata": {},
     "output_type": "display_data"
    }
   ],
   "source": [
    "display(dff)"
   ]
  },
  {
   "cell_type": "code",
   "execution_count": 27,
   "metadata": {},
   "outputs": [
    {
     "data": {
      "text/plain": [
       "1    253888\n",
       "0     60239\n",
       "Name: Gearbox, dtype: int64"
      ]
     },
     "execution_count": 27,
     "metadata": {},
     "output_type": "execute_result"
    }
   ],
   "source": [
    "dff['Gearbox'].value_counts() #325 989"
   ]
  },
  {
   "cell_type": "code",
   "execution_count": 28,
   "metadata": {},
   "outputs": [
    {
     "data": {
      "text/plain": [
       "manual    268251\n",
       "auto       66285\n",
       "Name: Gearbox, dtype: int64"
      ]
     },
     "execution_count": 28,
     "metadata": {},
     "output_type": "execute_result"
    }
   ],
   "source": [
    "df['Gearbox'].value_counts() #334 536"
   ]
  },
  {
   "cell_type": "code",
   "execution_count": 29,
   "metadata": {},
   "outputs": [
    {
     "data": {
      "text/plain": [
       "19833"
      ]
     },
     "execution_count": 29,
     "metadata": {},
     "output_type": "execute_result"
    }
   ],
   "source": [
    "df['Gearbox'].isna().sum()"
   ]
  },
  {
   "cell_type": "code",
   "execution_count": 30,
   "metadata": {},
   "outputs": [
    {
     "data": {
      "text/plain": [
       "0    283101\n",
       "1     31026\n",
       "Name: Repaired, dtype: int64"
      ]
     },
     "execution_count": 30,
     "metadata": {},
     "output_type": "execute_result"
    }
   ],
   "source": [
    "dff['Repaired'].value_counts()"
   ]
  },
  {
   "cell_type": "markdown",
   "metadata": {},
   "source": [
    "### Вывод:\n",
    "- Импортировал необходимые библиотеки\n",
    "- Загрузил датасет для работы\n",
    "- Проверил данные на пропуски\n",
    "- Выделил необходимые признаки и проверил данные, удалил пропуски и исправил некорректные значения"
   ]
  },
  {
   "cell_type": "markdown",
   "metadata": {},
   "source": [
    "## 2. Обучение моделей"
   ]
  },
  {
   "cell_type": "markdown",
   "metadata": {},
   "source": [
    "Обучать модели будем с помощью:\n",
    "- LinearRegression\n",
    "- DecisionTreeRegressor\n",
    "- LGBMRegressor\n"
   ]
  },
  {
   "cell_type": "code",
   "execution_count": 31,
   "metadata": {},
   "outputs": [],
   "source": [
    "# Удаляем price\n",
    "features = dff.drop('Price', axis=1)"
   ]
  },
  {
   "cell_type": "code",
   "execution_count": 32,
   "metadata": {},
   "outputs": [],
   "source": [
    "#Целевой признак\n",
    "target = dff['Price']"
   ]
  },
  {
   "cell_type": "code",
   "execution_count": 33,
   "metadata": {},
   "outputs": [],
   "source": [
    "X_train, X_temp, y_train, y_temp = train_test_split(dff.drop(columns=['Price']), dff['Price'], test_size=0.3, random_state=12345)\n",
    "X_val, X_test, y_val, y_test = train_test_split(X_temp, y_temp, test_size=0.5, random_state=12345)"
   ]
  },
  {
   "cell_type": "code",
   "execution_count": 34,
   "metadata": {},
   "outputs": [
    {
     "name": "stdout",
     "output_type": "stream",
     "text": [
      "Форма закодированных признаков: (314127, 305)\n"
     ]
    }
   ],
   "source": [
    "categorical_features = ['VehicleType','FuelType','Brand','Model']\n",
    "numerical_features = ['RegistrationYear', 'Gearbox', 'Power', 'Kilometer', 'Repaired']\n",
    "# Кодирование категориальных признаков\n",
    "preprocessor = ColumnTransformer(\n",
    "    transformers=[\n",
    "        ('cat', OneHotEncoder(drop='first', sparse=False), categorical_features),\n",
    "        ('num', 'passthrough', numerical_features)\n",
    "    ]\n",
    ")\n",
    "\n",
    "# Преобразуем данные\n",
    "features = dff.drop(columns=['Price'])  # Удаляем целевой столбец\n",
    "target = dff['Price']\n",
    "\n",
    "# Применяем преобразование\n",
    "ohe_features = preprocessor.fit_transform(features)\n",
    "\n",
    "# Проверка, что результат преобразования корректен:\n",
    "print(f\"Форма закодированных признаков: {ohe_features.shape}\")"
   ]
  },
  {
   "cell_type": "code",
   "execution_count": 35,
   "metadata": {},
   "outputs": [],
   "source": [
    "preprocessor = ColumnTransformer(\n",
    "    transformers=[\n",
    "        ('cat', OneHotEncoder(handle_unknown='ignore', sparse=False), categorical_features),\n",
    "        ('num', 'passthrough', numerical_features)\n",
    "    ]\n",
    ")"
   ]
  },
  {
   "cell_type": "code",
   "execution_count": 36,
   "metadata": {},
   "outputs": [
    {
     "name": "stdout",
     "output_type": "stream",
     "text": [
      "X_train.shape: (219888, 9), X_val.shape: (47119, 9)\n"
     ]
    }
   ],
   "source": [
    "print(f\"X_train.shape: {X_train.shape}, X_val.shape: {X_val.shape}\")\n"
   ]
  },
  {
   "cell_type": "code",
   "execution_count": 37,
   "metadata": {},
   "outputs": [],
   "source": [
    "# Кодирование категориальных данных\n",
    "X_train_transformed = preprocessor.fit_transform(X_train)\n",
    "X_val_transformed = preprocessor.transform(X_val)\n",
    "X_test_transformed = preprocessor.transform(X_test)"
   ]
  },
  {
   "cell_type": "code",
   "execution_count": 38,
   "metadata": {},
   "outputs": [
    {
     "data": {
      "text/plain": [
       "LinearRegression()"
      ]
     },
     "execution_count": 38,
     "metadata": {},
     "output_type": "execute_result"
    }
   ],
   "source": [
    "# Линейная регрессия\n",
    "\n",
    "linear_model = LinearRegression()\n",
    "linear_model.fit(X_train_transformed, y_train)"
   ]
  },
  {
   "cell_type": "code",
   "execution_count": 39,
   "metadata": {},
   "outputs": [
    {
     "name": "stdout",
     "output_type": "stream",
     "text": [
      "Лучшие гиперпараметры: {'alpha': 1.0, 'solver': 'svd'}\n",
      "Лучший результат (RMSE): 2653.961787299938\n"
     ]
    }
   ],
   "source": [
    "# Задаём параметры для перебора\n",
    "ridge_params = {\n",
    "    'alpha': [0.1, 1.0, 10.0],\n",
    "    'solver': ['auto', 'svd', 'cholesky']\n",
    "}\n",
    "\n",
    "best_params = {}\n",
    "best_rmse = float(\"inf\")\n",
    "\n",
    "# Перебираем все комбинации параметров\n",
    "for alpha in ridge_params['alpha']:\n",
    "    for solver in ridge_params['solver']:\n",
    "        ridge_model = Ridge(alpha=alpha, solver=solver)\n",
    "        ridge_model.fit(X_train_transformed, y_train)\n",
    "        y_pred = ridge_model.predict(X_val_transformed)\n",
    "        rmse = np.sqrt(mean_squared_error(y_val, y_pred))\n",
    "        \n",
    "        if rmse < best_rmse:\n",
    "            best_rmse = rmse\n",
    "            best_params = {'alpha': alpha, 'solver': solver}\n",
    "\n",
    "print(\"Лучшие гиперпараметры:\", best_params)\n",
    "print(\"Лучший результат (RMSE):\", best_rmse)"
   ]
  },
  {
   "cell_type": "code",
   "execution_count": 40,
   "metadata": {},
   "outputs": [],
   "source": [
    "# Преобразуем категориальные признаки в индексы для LightGBM\n",
    "def encode_categories(df, cat_columns):\n",
    "    for col in cat_columns:\n",
    "        df[col] = df[col].astype('category')\n",
    "    return df"
   ]
  },
  {
   "cell_type": "code",
   "execution_count": 41,
   "metadata": {},
   "outputs": [],
   "source": [
    "lgbm_X_train_transformed = encode_categories(X_train, categorical_features)\n",
    "lgbm_X_val_transformed = encode_categories(X_val, categorical_features)\n"
   ]
  },
  {
   "cell_type": "code",
   "execution_count": 42,
   "metadata": {},
   "outputs": [
    {
     "name": "stdout",
     "output_type": "stream",
     "text": [
      "Лучшие гиперпараметры: {'learning_rate': 0.1, 'n_estimators': 200}\n",
      "Лучший результат (RMSE): 1618.9087117832075\n"
     ]
    }
   ],
   "source": [
    "# Задаём параметры для перебора\n",
    "lgbm_params = {\n",
    "    'learning_rate': [0.01, 0.1],\n",
    "    'n_estimators': [100, 200]\n",
    "}\n",
    "\n",
    "best_params = {}\n",
    "best_rmse = float(\"inf\")\n",
    "\n",
    "# Перебираем все комбинации параметров\n",
    "for learning_rate in lgbm_params['learning_rate']:\n",
    "    for n_estimators in lgbm_params['n_estimators']:\n",
    "        lgbm_model = lgb.LGBMRegressor(learning_rate=learning_rate, n_estimators=n_estimators)\n",
    "        lgbm_model.fit(lgbm_X_train_transformed, y_train)\n",
    "        y_pred = lgbm_model.predict(lgbm_X_val_transformed)\n",
    "        rmse = np.sqrt(mean_squared_error(y_val, y_pred))\n",
    "        \n",
    "        if rmse < best_rmse:\n",
    "            best_rmse = rmse\n",
    "            best_params = {'learning_rate': learning_rate, 'n_estimators': n_estimators}\n",
    "\n",
    "print(\"Лучшие гиперпараметры:\", best_params)\n",
    "print(\"Лучший результат (RMSE):\", best_rmse)"
   ]
  },
  {
   "cell_type": "markdown",
   "metadata": {},
   "source": [
    "## 3. Анализ моделей"
   ]
  },
  {
   "cell_type": "markdown",
   "metadata": {},
   "source": [
    "### 3.1 LinearRegression"
   ]
  },
  {
   "cell_type": "markdown",
   "metadata": {},
   "source": [
    "RMSE вычисляется на валидационной выборке.\n",
    "Время обучения = время model.fit(X_train, y_train)\n",
    "Время предсказания = model.predict(X_valid)"
   ]
  },
  {
   "cell_type": "code",
   "execution_count": 43,
   "metadata": {},
   "outputs": [
    {
     "name": "stdout",
     "output_type": "stream",
     "text": [
      "CPU times: user 17.9 s, sys: 13.4 s, total: 31.2 s\n",
      "Wall time: 31.5 s\n"
     ]
    },
    {
     "data": {
      "text/plain": [
       "LinearRegression()"
      ]
     },
     "execution_count": 43,
     "metadata": {},
     "output_type": "execute_result"
    }
   ],
   "source": [
    "linear_model = LinearRegression()\n",
    "%time linear_model.fit(X_train_transformed, y_train)"
   ]
  },
  {
   "cell_type": "code",
   "execution_count": 44,
   "metadata": {},
   "outputs": [
    {
     "name": "stdout",
     "output_type": "stream",
     "text": [
      "CPU times: user 45.3 ms, sys: 58.8 ms, total: 104 ms\n",
      "Wall time: 97.1 ms\n"
     ]
    }
   ],
   "source": [
    "%time linear_predict = linear_model.predict(X_val_transformed)"
   ]
  },
  {
   "cell_type": "code",
   "execution_count": 45,
   "metadata": {},
   "outputs": [
    {
     "name": "stdout",
     "output_type": "stream",
     "text": [
      "Linear Regression валидационный RMSE: 2654.574338848986\n"
     ]
    }
   ],
   "source": [
    "linear_RMSE = mean_squared_error(linear_predict, y_val, squared=False)\n",
    "print(f\"Linear Regression валидационный RMSE: {linear_RMSE}\")"
   ]
  },
  {
   "cell_type": "markdown",
   "metadata": {},
   "source": [
    "### 3.2 Ridge"
   ]
  },
  {
   "cell_type": "code",
   "execution_count": 46,
   "metadata": {},
   "outputs": [
    {
     "name": "stdout",
     "output_type": "stream",
     "text": [
      "CPU times: user 31.3 s, sys: 22.1 s, total: 53.4 s\n",
      "Wall time: 53.4 s\n"
     ]
    },
    {
     "data": {
      "text/plain": [
       "Ridge(solver='svd')"
      ]
     },
     "execution_count": 46,
     "metadata": {},
     "output_type": "execute_result"
    }
   ],
   "source": [
    "ridge_model = Ridge(alpha=1.0, solver='svd')\n",
    "%time ridge_model.fit(X_train_transformed, y_train)"
   ]
  },
  {
   "cell_type": "code",
   "execution_count": 47,
   "metadata": {},
   "outputs": [
    {
     "name": "stdout",
     "output_type": "stream",
     "text": [
      "CPU times: user 47.4 ms, sys: 34.2 ms, total: 81.6 ms\n",
      "Wall time: 97.9 ms\n"
     ]
    }
   ],
   "source": [
    "%time ridge_predict = ridge_model.predict(X_val_transformed)"
   ]
  },
  {
   "cell_type": "code",
   "execution_count": 48,
   "metadata": {},
   "outputs": [
    {
     "name": "stdout",
     "output_type": "stream",
     "text": [
      "ridge Regression валидационный RMSE: 2653.961787299938\n"
     ]
    }
   ],
   "source": [
    "ridge_RMSE = mean_squared_error(ridge_predict, y_val, squared=False)\n",
    "print(f\"ridge Regression валидационный RMSE: {ridge_RMSE}\")"
   ]
  },
  {
   "cell_type": "markdown",
   "metadata": {},
   "source": [
    "### 3.3 LGBMRegressor"
   ]
  },
  {
   "cell_type": "code",
   "execution_count": 49,
   "metadata": {},
   "outputs": [
    {
     "name": "stdout",
     "output_type": "stream",
     "text": [
      "CPU times: user 35.7 s, sys: 0 ns, total: 35.7 s\n",
      "Wall time: 35.7 s\n"
     ]
    },
    {
     "data": {
      "text/plain": [
       "LGBMRegressor(n_estimators=200)"
      ]
     },
     "execution_count": 49,
     "metadata": {},
     "output_type": "execute_result"
    }
   ],
   "source": [
    "lgbm_model = LGBMRegressor(\n",
    "    n_estimators=200, \n",
    "    learning_rate=0.1\n",
    ")\n",
    "%time lgbm_model.fit(lgbm_X_train_transformed, y_train)"
   ]
  },
  {
   "cell_type": "code",
   "execution_count": 50,
   "metadata": {},
   "outputs": [
    {
     "name": "stdout",
     "output_type": "stream",
     "text": [
      "CPU times: user 959 ms, sys: 0 ns, total: 959 ms\n",
      "Wall time: 1 s\n"
     ]
    }
   ],
   "source": [
    "%time lgbm_predict = lgbm_model.predict(lgbm_X_val_transformed)"
   ]
  },
  {
   "cell_type": "code",
   "execution_count": 51,
   "metadata": {},
   "outputs": [
    {
     "name": "stdout",
     "output_type": "stream",
     "text": [
      "LGBM Regressor валидационный RMSE: 1618.9087117832075\n"
     ]
    }
   ],
   "source": [
    "lgbm_RMSE = mean_squared_error(lgbm_predict, y_val, squared=False)\n",
    "print(f\"LGBM Regressor валидационный RMSE: {lgbm_RMSE}\")"
   ]
  },
  {
   "cell_type": "markdown",
   "metadata": {},
   "source": [
    "### Вывод: \n",
    "В итоге мы получили следующие данные (total time): \n",
    "1. LinearRegression:\n",
    "    - Время обучения - 44.4 s\n",
    "    - Время предсказания на валидационной выборке - 109 ms\n",
    "    - RMSE - 2654.574\n",
    "2. Redge:\n",
    "    - Время обучения - 53.4 s\n",
    "    - Время предсказания на валидационной выборке - 93.6 ms\n",
    "    - RMSE - 2653.961\n",
    "3. LGBMRegressor:\n",
    "    - Время обучения - 2min 14s\n",
    "    - Время предсказания на валидационной выборке - 822 ms\n",
    "    - RMSE - 1618.908"
   ]
  },
  {
   "cell_type": "code",
   "execution_count": 52,
   "metadata": {},
   "outputs": [
    {
     "data": {
      "text/html": [
       "<div>\n",
       "<style scoped>\n",
       "    .dataframe tbody tr th:only-of-type {\n",
       "        vertical-align: middle;\n",
       "    }\n",
       "\n",
       "    .dataframe tbody tr th {\n",
       "        vertical-align: top;\n",
       "    }\n",
       "\n",
       "    .dataframe thead th {\n",
       "        text-align: right;\n",
       "    }\n",
       "</style>\n",
       "<table border=\"1\" class=\"dataframe\">\n",
       "  <thead>\n",
       "    <tr style=\"text-align: right;\">\n",
       "      <th></th>\n",
       "      <th>fit_time, s</th>\n",
       "      <th>predict_time, s</th>\n",
       "      <th>RMSE</th>\n",
       "      <th>score</th>\n",
       "    </tr>\n",
       "  </thead>\n",
       "  <tbody>\n",
       "    <tr>\n",
       "      <th>Linear Regression</th>\n",
       "      <td>22.3</td>\n",
       "      <td>0.059</td>\n",
       "      <td>2654.574</td>\n",
       "      <td>0.500000</td>\n",
       "    </tr>\n",
       "    <tr>\n",
       "      <th>Ridge</th>\n",
       "      <td>47.4</td>\n",
       "      <td>0.084</td>\n",
       "      <td>2653.961</td>\n",
       "      <td>0.194085</td>\n",
       "    </tr>\n",
       "    <tr>\n",
       "      <th>LGBMRegressor</th>\n",
       "      <td>37.5</td>\n",
       "      <td>0.864</td>\n",
       "      <td>1618.908</td>\n",
       "      <td>0.618327</td>\n",
       "    </tr>\n",
       "  </tbody>\n",
       "</table>\n",
       "</div>"
      ],
      "text/plain": [
       "                   fit_time, s  predict_time, s      RMSE     score\n",
       "Linear Regression         22.3            0.059  2654.574  0.500000\n",
       "Ridge                     47.4            0.084  2653.961  0.194085\n",
       "LGBMRegressor             37.5            0.864  1618.908  0.618327"
      ]
     },
     "execution_count": 52,
     "metadata": {},
     "output_type": "execute_result"
    }
   ],
   "source": [
    "# Данные\n",
    "data = [[22.3, 0.059, 2654.574],\n",
    "        [47.4, 0.084, 2653.961],\n",
    "        [37.5, 0.864, 1618.908]]\n",
    "model = ['Linear Regression', 'Ridge', 'LGBMRegressor']\n",
    "columns = ['fit_time, s', 'predict_time, s', 'RMSE']\n",
    "\n",
    "df = pd.DataFrame(data=data, index=model, columns=columns)\n",
    "\n",
    "# Нормализуем показатели:\n",
    "df['norm_fit_time'] = 1 - (df['fit_time, s'] - df['fit_time, s'].min()) / (df['fit_time, s'].max() - df['fit_time, s'].min())\n",
    "df['norm_predict_time'] = 1 - (df['predict_time, s'] - df['predict_time, s'].min()) / (df['predict_time, s'].max() - df['predict_time, s'].min())\n",
    "df['norm_rmse'] = 1 - (df['RMSE'] - df['RMSE'].min()) / (df['RMSE'].max() - df['RMSE'].min())\n",
    "\n",
    "# Весовые коэффициенты для метрик\n",
    "fit_time_weight = 0.3       \n",
    "predict_time_weight = 0.2    \n",
    "rmse_weight = 0.5          \n",
    "\n",
    "# Рассчитываем итоговый рейтинг\n",
    "df['score'] = (\n",
    "    fit_time_weight * df['norm_fit_time'] +\n",
    "    predict_time_weight * df['norm_predict_time'] +\n",
    "    rmse_weight * df['norm_rmse']\n",
    ")\n",
    "\n",
    "# Сортируем по рейтингу\n",
    "result = df[['score']].sort_values(by='score', ascending=False)\n",
    "\n",
    "pd.DataFrame(data=df, index=model, columns=['fit_time, s', 'predict_time, s', 'RMSE', 'score'])"
   ]
  },
  {
   "cell_type": "markdown",
   "metadata": {},
   "source": [
    "### Ещё вывод:\n",
    "1. Лучшей моделью по результату рассчетов оказалась модель **LGBMRegressor**, имея итоговый рейтинг **0.618**\n",
    "2. Второе место заняла модель **Linear Regressionr** - **0.5**\n",
    "3. Третье место заняла модель **Linear Regression** - **0.194**\\\n",
    "Разница между рейтингом Ridge и LGBM небольшая, но у Ridge слишком большой показатель RMSE, больше 2500, что неудовлетворяет требованиям заказчика, поэтому лучшей считаем LGBM"
   ]
  },
  {
   "cell_type": "markdown",
   "metadata": {},
   "source": [
    "### Проверка лучшей модели на тестовой выборке"
   ]
  },
  {
   "cell_type": "code",
   "execution_count": 53,
   "metadata": {},
   "outputs": [
    {
     "name": "stdout",
     "output_type": "stream",
     "text": [
      "CPU times: user 970 ms, sys: 0 ns, total: 970 ms\n",
      "Wall time: 967 ms\n",
      "RMSE: 1583.7887171099358\n"
     ]
    }
   ],
   "source": [
    "\n",
    "# Преобразование категориальных признаков новых данных\n",
    "X_test_transformed = encode_categories(X_test, categorical_features)\n",
    "\n",
    "# Предсказать значения\n",
    "%time predictions = lgbm_model.predict(X_test_transformed)\n",
    "\n",
    "rmse = np.sqrt(mean_squared_error(y_test, predictions))\n",
    "print(f\"RMSE: {rmse}\")"
   ]
  },
  {
   "cell_type": "markdown",
   "metadata": {},
   "source": [
    "## ОБЩИЙ ВЫВОД:\n",
    "В ходе работы я:\n",
    "- Импортировал необходимые библиотеки\n",
    "- Загрузил датасет\n",
    "- Обработал данные\n",
    "- Обучил модели\n",
    "- Проанализировал модели на валидационной выборке \n",
    "- Нашел лучшую модель\n",
    "- И проверил лучшую модель на тестовых данных\\\n",
    "Лучшей оказалась модель LGBMRegressor, с рейтингом 0.618, которая на тестовых данных показала результаты:\n",
    "- RMSE: 1583.7887171099358\n",
    "- Total time при обучении - total: 37.5 s\n",
    "- Total time при предсказании - 0.824 s"
   ]
  },
  {
   "cell_type": "code",
   "execution_count": null,
   "metadata": {},
   "outputs": [],
   "source": []
  }
 ],
 "metadata": {
  "ExecuteTimeLog": [
   {
    "duration": 1630,
    "start_time": "2025-01-14T17:44:06.010Z"
   },
   {
    "duration": 3003,
    "start_time": "2025-01-14T17:45:35.123Z"
   },
   {
    "duration": 146,
    "start_time": "2025-01-14T17:45:49.344Z"
   },
   {
    "duration": 113,
    "start_time": "2025-01-14T17:46:13.957Z"
   },
   {
    "duration": 27,
    "start_time": "2025-01-14T17:46:29.274Z"
   },
   {
    "duration": 26,
    "start_time": "2025-01-14T17:46:50.262Z"
   },
   {
    "duration": 14,
    "start_time": "2025-01-14T17:47:06.225Z"
   },
   {
    "duration": 148,
    "start_time": "2025-01-14T17:48:58.782Z"
   },
   {
    "duration": 139,
    "start_time": "2025-01-14T17:49:12.474Z"
   },
   {
    "duration": 95,
    "start_time": "2025-01-14T17:52:54.098Z"
   },
   {
    "duration": 8,
    "start_time": "2025-01-15T16:13:43.366Z"
   },
   {
    "duration": 44,
    "start_time": "2025-01-15T16:14:15.708Z"
   },
   {
    "duration": 4,
    "start_time": "2025-01-15T16:14:36.158Z"
   },
   {
    "duration": 6,
    "start_time": "2025-01-15T16:14:36.924Z"
   },
   {
    "duration": 1650,
    "start_time": "2025-01-15T16:14:44.715Z"
   },
   {
    "duration": 3599,
    "start_time": "2025-01-15T16:14:46.367Z"
   },
   {
    "duration": 136,
    "start_time": "2025-01-15T16:14:49.968Z"
   },
   {
    "duration": 18,
    "start_time": "2025-01-15T16:14:50.105Z"
   },
   {
    "duration": 151,
    "start_time": "2025-01-15T16:14:50.125Z"
   },
   {
    "duration": 135,
    "start_time": "2025-01-15T16:14:50.278Z"
   },
   {
    "duration": 3,
    "start_time": "2025-01-15T16:14:50.415Z"
   },
   {
    "duration": 303,
    "start_time": "2025-01-15T16:14:50.419Z"
   },
   {
    "duration": 17,
    "start_time": "2025-01-15T16:18:54.559Z"
   },
   {
    "duration": 14,
    "start_time": "2025-01-15T16:30:42.482Z"
   },
   {
    "duration": 13,
    "start_time": "2025-01-15T16:30:59.918Z"
   },
   {
    "duration": 108,
    "start_time": "2025-01-15T16:33:20.547Z"
   },
   {
    "duration": 50,
    "start_time": "2025-01-15T16:33:26.072Z"
   },
   {
    "duration": 8,
    "start_time": "2025-01-15T17:17:55.341Z"
   },
   {
    "duration": 1534,
    "start_time": "2025-01-15T17:20:50.982Z"
   },
   {
    "duration": 31,
    "start_time": "2025-01-15T17:21:06.616Z"
   },
   {
    "duration": 35,
    "start_time": "2025-01-15T17:21:10.333Z"
   },
   {
    "duration": 21,
    "start_time": "2025-01-15T17:21:11.660Z"
   },
   {
    "duration": 34,
    "start_time": "2025-01-15T17:21:18.906Z"
   },
   {
    "duration": 1541,
    "start_time": "2025-01-15T17:21:27.429Z"
   },
   {
    "duration": 957,
    "start_time": "2025-01-15T17:21:28.974Z"
   },
   {
    "duration": 160,
    "start_time": "2025-01-15T17:21:29.933Z"
   },
   {
    "duration": 20,
    "start_time": "2025-01-15T17:21:30.095Z"
   },
   {
    "duration": 112,
    "start_time": "2025-01-15T17:21:30.118Z"
   },
   {
    "duration": 166,
    "start_time": "2025-01-15T17:21:30.232Z"
   },
   {
    "duration": 25,
    "start_time": "2025-01-15T17:21:30.399Z"
   },
   {
    "duration": 39,
    "start_time": "2025-01-15T17:21:30.426Z"
   },
   {
    "duration": 37,
    "start_time": "2025-01-15T17:21:30.467Z"
   },
   {
    "duration": 9,
    "start_time": "2025-01-15T17:21:41.735Z"
   },
   {
    "duration": 27,
    "start_time": "2025-01-15T17:24:57.612Z"
   },
   {
    "duration": 21,
    "start_time": "2025-01-15T17:27:43.512Z"
   },
   {
    "duration": 13,
    "start_time": "2025-01-15T17:29:17.115Z"
   },
   {
    "duration": 11,
    "start_time": "2025-01-15T17:29:34.969Z"
   },
   {
    "duration": 6,
    "start_time": "2025-01-15T17:30:05.425Z"
   },
   {
    "duration": 124,
    "start_time": "2025-01-15T17:31:25.114Z"
   },
   {
    "duration": 5,
    "start_time": "2025-01-15T17:31:32.147Z"
   },
   {
    "duration": 171,
    "start_time": "2025-01-15T17:33:59.759Z"
   },
   {
    "duration": 4,
    "start_time": "2025-01-15T17:34:20.117Z"
   },
   {
    "duration": 9,
    "start_time": "2025-01-15T17:36:29.323Z"
   },
   {
    "duration": 22,
    "start_time": "2025-01-15T17:36:36.293Z"
   },
   {
    "duration": 33,
    "start_time": "2025-01-15T17:43:04.027Z"
   },
   {
    "duration": 29,
    "start_time": "2025-01-15T17:46:50.577Z"
   },
   {
    "duration": 6,
    "start_time": "2025-01-15T17:48:50.516Z"
   },
   {
    "duration": 6,
    "start_time": "2025-01-15T17:49:46.842Z"
   },
   {
    "duration": 16,
    "start_time": "2025-01-15T17:53:22.570Z"
   },
   {
    "duration": 19,
    "start_time": "2025-01-15T17:59:28.645Z"
   },
   {
    "duration": 18,
    "start_time": "2025-01-15T17:59:33.359Z"
   },
   {
    "duration": 6,
    "start_time": "2025-01-15T17:59:47.217Z"
   },
   {
    "duration": 5,
    "start_time": "2025-01-15T18:04:18.784Z"
   },
   {
    "duration": 5,
    "start_time": "2025-01-15T18:04:25.756Z"
   },
   {
    "duration": 37,
    "start_time": "2025-01-15T18:07:33.008Z"
   },
   {
    "duration": 6,
    "start_time": "2025-01-15T18:07:46.422Z"
   },
   {
    "duration": 5,
    "start_time": "2025-01-15T18:08:18.522Z"
   },
   {
    "duration": 7,
    "start_time": "2025-01-15T18:08:45.208Z"
   },
   {
    "duration": 27,
    "start_time": "2025-01-15T18:08:49.719Z"
   },
   {
    "duration": 1585,
    "start_time": "2025-01-15T18:09:24.841Z"
   },
   {
    "duration": 951,
    "start_time": "2025-01-15T18:09:26.428Z"
   },
   {
    "duration": 151,
    "start_time": "2025-01-15T18:09:27.381Z"
   },
   {
    "duration": 35,
    "start_time": "2025-01-15T18:09:27.534Z"
   },
   {
    "duration": 99,
    "start_time": "2025-01-15T18:09:27.572Z"
   },
   {
    "duration": 159,
    "start_time": "2025-01-15T18:09:27.673Z"
   },
   {
    "duration": 40,
    "start_time": "2025-01-15T18:09:27.834Z"
   },
   {
    "duration": 56,
    "start_time": "2025-01-15T18:09:27.876Z"
   },
   {
    "duration": 40,
    "start_time": "2025-01-15T18:09:27.934Z"
   },
   {
    "duration": 20,
    "start_time": "2025-01-15T18:09:27.978Z"
   },
   {
    "duration": 5,
    "start_time": "2025-01-15T18:09:28.000Z"
   },
   {
    "duration": 28,
    "start_time": "2025-01-15T18:09:28.006Z"
   },
   {
    "duration": 37,
    "start_time": "2025-01-15T18:09:28.057Z"
   },
   {
    "duration": 29,
    "start_time": "2025-01-15T18:09:28.096Z"
   },
   {
    "duration": 7,
    "start_time": "2025-01-15T18:09:28.127Z"
   },
   {
    "duration": 57,
    "start_time": "2025-01-15T18:09:28.135Z"
   },
   {
    "duration": 4,
    "start_time": "2025-01-15T18:09:28.194Z"
   },
   {
    "duration": 1551,
    "start_time": "2025-01-15T18:09:44.526Z"
   },
   {
    "duration": 931,
    "start_time": "2025-01-15T18:09:46.079Z"
   },
   {
    "duration": 157,
    "start_time": "2025-01-15T18:09:47.012Z"
   },
   {
    "duration": 17,
    "start_time": "2025-01-15T18:09:47.172Z"
   },
   {
    "duration": 102,
    "start_time": "2025-01-15T18:09:47.190Z"
   },
   {
    "duration": 141,
    "start_time": "2025-01-15T18:09:47.294Z"
   },
   {
    "duration": 34,
    "start_time": "2025-01-15T18:09:47.437Z"
   },
   {
    "duration": 11,
    "start_time": "2025-01-15T18:09:47.474Z"
   },
   {
    "duration": 35,
    "start_time": "2025-01-15T18:09:47.487Z"
   },
   {
    "duration": 50,
    "start_time": "2025-01-15T18:09:47.525Z"
   },
   {
    "duration": 6,
    "start_time": "2025-01-15T18:09:47.577Z"
   },
   {
    "duration": 30,
    "start_time": "2025-01-15T18:09:47.584Z"
   },
   {
    "duration": 60,
    "start_time": "2025-01-15T18:09:47.616Z"
   },
   {
    "duration": 26,
    "start_time": "2025-01-15T18:09:47.678Z"
   },
   {
    "duration": 8,
    "start_time": "2025-01-15T18:09:47.706Z"
   },
   {
    "duration": 132,
    "start_time": "2025-01-15T18:09:47.716Z"
   },
   {
    "duration": 0,
    "start_time": "2025-01-15T18:09:47.850Z"
   },
   {
    "duration": 13,
    "start_time": "2025-01-15T18:10:06.038Z"
   },
   {
    "duration": 6,
    "start_time": "2025-01-15T18:10:07.415Z"
   },
   {
    "duration": 524,
    "start_time": "2025-01-15T18:10:58.913Z"
   },
   {
    "duration": 1471,
    "start_time": "2025-01-15T18:11:15.297Z"
   },
   {
    "duration": 933,
    "start_time": "2025-01-15T18:11:16.770Z"
   },
   {
    "duration": 164,
    "start_time": "2025-01-15T18:11:17.705Z"
   },
   {
    "duration": 17,
    "start_time": "2025-01-15T18:11:17.873Z"
   },
   {
    "duration": 107,
    "start_time": "2025-01-15T18:11:17.892Z"
   },
   {
    "duration": 145,
    "start_time": "2025-01-15T18:11:18.000Z"
   },
   {
    "duration": 39,
    "start_time": "2025-01-15T18:11:18.147Z"
   },
   {
    "duration": 8,
    "start_time": "2025-01-15T18:11:18.188Z"
   },
   {
    "duration": 31,
    "start_time": "2025-01-15T18:11:18.197Z"
   },
   {
    "duration": 44,
    "start_time": "2025-01-15T18:11:18.230Z"
   },
   {
    "duration": 5,
    "start_time": "2025-01-15T18:11:18.276Z"
   },
   {
    "duration": 30,
    "start_time": "2025-01-15T18:11:18.283Z"
   },
   {
    "duration": 61,
    "start_time": "2025-01-15T18:11:18.315Z"
   },
   {
    "duration": 32,
    "start_time": "2025-01-15T18:11:18.378Z"
   },
   {
    "duration": 6,
    "start_time": "2025-01-15T18:11:18.411Z"
   },
   {
    "duration": 10,
    "start_time": "2025-01-15T18:11:18.418Z"
   },
   {
    "duration": 5,
    "start_time": "2025-01-15T18:11:18.429Z"
   },
   {
    "duration": 687,
    "start_time": "2025-01-15T18:11:18.435Z"
   },
   {
    "duration": 7,
    "start_time": "2025-01-15T18:15:59.118Z"
   },
   {
    "duration": 8,
    "start_time": "2025-01-15T18:16:00.466Z"
   },
   {
    "duration": 598,
    "start_time": "2025-01-15T18:16:03.023Z"
   },
   {
    "duration": 25,
    "start_time": "2025-01-15T18:16:29.403Z"
   },
   {
    "duration": 8,
    "start_time": "2025-01-15T18:16:48.776Z"
   },
   {
    "duration": 7,
    "start_time": "2025-01-15T18:17:05.048Z"
   },
   {
    "duration": 13,
    "start_time": "2025-01-15T18:17:05.656Z"
   },
   {
    "duration": 10,
    "start_time": "2025-01-15T18:17:07.270Z"
   },
   {
    "duration": 1544,
    "start_time": "2025-01-15T18:17:18.451Z"
   },
   {
    "duration": 948,
    "start_time": "2025-01-15T18:17:19.997Z"
   },
   {
    "duration": 170,
    "start_time": "2025-01-15T18:17:20.947Z"
   },
   {
    "duration": 18,
    "start_time": "2025-01-15T18:17:21.119Z"
   },
   {
    "duration": 99,
    "start_time": "2025-01-15T18:17:21.160Z"
   },
   {
    "duration": 166,
    "start_time": "2025-01-15T18:17:21.260Z"
   },
   {
    "duration": 42,
    "start_time": "2025-01-15T18:17:21.428Z"
   },
   {
    "duration": 22,
    "start_time": "2025-01-15T18:17:21.472Z"
   },
   {
    "duration": 74,
    "start_time": "2025-01-15T18:17:21.496Z"
   },
   {
    "duration": 21,
    "start_time": "2025-01-15T18:17:21.573Z"
   },
   {
    "duration": 21,
    "start_time": "2025-01-15T18:17:21.595Z"
   },
   {
    "duration": 40,
    "start_time": "2025-01-15T18:17:21.617Z"
   },
   {
    "duration": 36,
    "start_time": "2025-01-15T18:17:21.667Z"
   },
   {
    "duration": 35,
    "start_time": "2025-01-15T18:17:21.705Z"
   },
   {
    "duration": 20,
    "start_time": "2025-01-15T18:17:21.741Z"
   },
   {
    "duration": 117,
    "start_time": "2025-01-15T18:17:21.763Z"
   },
   {
    "duration": 5,
    "start_time": "2025-01-15T18:17:21.882Z"
   },
   {
    "duration": 11,
    "start_time": "2025-01-15T18:17:21.888Z"
   },
   {
    "duration": 761,
    "start_time": "2025-01-15T18:17:21.900Z"
   },
   {
    "duration": 631,
    "start_time": "2025-01-15T18:17:47.159Z"
   },
   {
    "duration": 15,
    "start_time": "2025-01-15T18:18:17.376Z"
   },
   {
    "duration": 10,
    "start_time": "2025-01-15T18:18:38.847Z"
   },
   {
    "duration": 4,
    "start_time": "2025-01-15T18:18:40.980Z"
   },
   {
    "duration": 6,
    "start_time": "2025-01-15T18:18:41.336Z"
   },
   {
    "duration": 5,
    "start_time": "2025-01-15T18:18:56.828Z"
   },
   {
    "duration": 1515,
    "start_time": "2025-01-15T18:19:01.877Z"
   },
   {
    "duration": 933,
    "start_time": "2025-01-15T18:19:03.394Z"
   },
   {
    "duration": 185,
    "start_time": "2025-01-15T18:19:04.328Z"
   },
   {
    "duration": 17,
    "start_time": "2025-01-15T18:19:04.515Z"
   },
   {
    "duration": 105,
    "start_time": "2025-01-15T18:19:04.534Z"
   },
   {
    "duration": 162,
    "start_time": "2025-01-15T18:19:04.641Z"
   },
   {
    "duration": 24,
    "start_time": "2025-01-15T18:19:04.804Z"
   },
   {
    "duration": 39,
    "start_time": "2025-01-15T18:19:04.829Z"
   },
   {
    "duration": 39,
    "start_time": "2025-01-15T18:19:04.870Z"
   },
   {
    "duration": 20,
    "start_time": "2025-01-15T18:19:04.911Z"
   },
   {
    "duration": 4,
    "start_time": "2025-01-15T18:19:04.933Z"
   },
   {
    "duration": 54,
    "start_time": "2025-01-15T18:19:04.938Z"
   },
   {
    "duration": 35,
    "start_time": "2025-01-15T18:19:04.994Z"
   },
   {
    "duration": 33,
    "start_time": "2025-01-15T18:19:05.031Z"
   },
   {
    "duration": 9,
    "start_time": "2025-01-15T18:19:05.067Z"
   },
   {
    "duration": 48,
    "start_time": "2025-01-15T18:19:05.078Z"
   },
   {
    "duration": 29,
    "start_time": "2025-01-15T18:19:05.127Z"
   },
   {
    "duration": 6,
    "start_time": "2025-01-15T18:19:26.199Z"
   },
   {
    "duration": 5,
    "start_time": "2025-01-15T18:19:28.068Z"
   },
   {
    "duration": 8,
    "start_time": "2025-01-15T18:20:37.122Z"
   },
   {
    "duration": 5,
    "start_time": "2025-01-15T18:20:37.767Z"
   },
   {
    "duration": 125,
    "start_time": "2025-01-15T18:22:20.420Z"
   },
   {
    "duration": 6,
    "start_time": "2025-01-15T18:22:28.714Z"
   },
   {
    "duration": 5,
    "start_time": "2025-01-15T18:22:29.802Z"
   },
   {
    "duration": 572,
    "start_time": "2025-01-15T18:23:03.031Z"
   },
   {
    "duration": 17,
    "start_time": "2025-01-15T18:23:19.288Z"
   },
   {
    "duration": 1568,
    "start_time": "2025-01-15T18:26:25.429Z"
   },
   {
    "duration": 17,
    "start_time": "2025-01-15T18:30:17.102Z"
   },
   {
    "duration": 5,
    "start_time": "2025-01-15T18:30:20.946Z"
   },
   {
    "duration": 10,
    "start_time": "2025-01-15T18:30:33.028Z"
   },
   {
    "duration": 20,
    "start_time": "2025-01-15T18:30:42.651Z"
   },
   {
    "duration": 12,
    "start_time": "2025-01-15T18:30:50.504Z"
   },
   {
    "duration": 1504,
    "start_time": "2025-01-15T18:31:15.995Z"
   },
   {
    "duration": 960,
    "start_time": "2025-01-15T18:31:17.500Z"
   },
   {
    "duration": 164,
    "start_time": "2025-01-15T18:31:18.462Z"
   },
   {
    "duration": 29,
    "start_time": "2025-01-15T18:31:18.628Z"
   },
   {
    "duration": 148,
    "start_time": "2025-01-15T18:31:18.659Z"
   },
   {
    "duration": 139,
    "start_time": "2025-01-15T18:31:18.808Z"
   },
   {
    "duration": 33,
    "start_time": "2025-01-15T18:31:18.949Z"
   },
   {
    "duration": 16,
    "start_time": "2025-01-15T18:31:18.983Z"
   },
   {
    "duration": 85,
    "start_time": "2025-01-15T18:31:19.000Z"
   },
   {
    "duration": 19,
    "start_time": "2025-01-15T18:31:19.088Z"
   },
   {
    "duration": 5,
    "start_time": "2025-01-15T18:31:19.109Z"
   },
   {
    "duration": 46,
    "start_time": "2025-01-15T18:31:19.115Z"
   },
   {
    "duration": 39,
    "start_time": "2025-01-15T18:31:19.164Z"
   },
   {
    "duration": 25,
    "start_time": "2025-01-15T18:31:19.204Z"
   },
   {
    "duration": 78,
    "start_time": "2025-01-15T18:31:19.230Z"
   },
   {
    "duration": 19,
    "start_time": "2025-01-15T18:31:19.310Z"
   },
   {
    "duration": 6,
    "start_time": "2025-01-15T18:31:19.331Z"
   },
   {
    "duration": 15,
    "start_time": "2025-01-15T18:31:19.355Z"
   },
   {
    "duration": 1605,
    "start_time": "2025-01-15T18:31:19.371Z"
   },
   {
    "duration": 0,
    "start_time": "2025-01-15T18:31:20.978Z"
   },
   {
    "duration": 18,
    "start_time": "2025-01-15T18:31:36.704Z"
   },
   {
    "duration": 8,
    "start_time": "2025-01-15T18:31:45.836Z"
   },
   {
    "duration": 7,
    "start_time": "2025-01-15T18:31:48.766Z"
   },
   {
    "duration": 1481,
    "start_time": "2025-01-15T18:31:51.301Z"
   },
   {
    "duration": 1510,
    "start_time": "2025-01-15T18:32:01.058Z"
   },
   {
    "duration": 900,
    "start_time": "2025-01-15T18:32:02.570Z"
   },
   {
    "duration": 150,
    "start_time": "2025-01-15T18:32:03.471Z"
   },
   {
    "duration": 19,
    "start_time": "2025-01-15T18:32:03.622Z"
   },
   {
    "duration": 90,
    "start_time": "2025-01-15T18:32:03.643Z"
   },
   {
    "duration": 146,
    "start_time": "2025-01-15T18:32:03.734Z"
   },
   {
    "duration": 58,
    "start_time": "2025-01-15T18:32:03.882Z"
   },
   {
    "duration": 88,
    "start_time": "2025-01-15T18:32:03.941Z"
   },
   {
    "duration": 36,
    "start_time": "2025-01-15T18:32:04.030Z"
   },
   {
    "duration": 31,
    "start_time": "2025-01-15T18:32:04.067Z"
   },
   {
    "duration": 23,
    "start_time": "2025-01-15T18:32:04.099Z"
   },
   {
    "duration": 41,
    "start_time": "2025-01-15T18:32:04.124Z"
   },
   {
    "duration": 37,
    "start_time": "2025-01-15T18:32:04.167Z"
   },
   {
    "duration": 24,
    "start_time": "2025-01-15T18:32:04.207Z"
   },
   {
    "duration": 73,
    "start_time": "2025-01-15T18:32:04.232Z"
   },
   {
    "duration": 6,
    "start_time": "2025-01-15T18:32:04.307Z"
   },
   {
    "duration": 12,
    "start_time": "2025-01-15T18:32:04.314Z"
   },
   {
    "duration": 1751,
    "start_time": "2025-01-15T18:32:04.327Z"
   },
   {
    "duration": 0,
    "start_time": "2025-01-15T18:32:06.080Z"
   },
   {
    "duration": 123,
    "start_time": "2025-01-15T18:33:42.419Z"
   },
   {
    "duration": 98,
    "start_time": "2025-01-15T18:34:11.129Z"
   },
   {
    "duration": 95,
    "start_time": "2025-01-15T18:36:36.008Z"
   },
   {
    "duration": 33,
    "start_time": "2025-01-15T18:58:45.755Z"
   },
   {
    "duration": 1683,
    "start_time": "2025-01-17T20:33:10.566Z"
   },
   {
    "duration": 2991,
    "start_time": "2025-01-17T20:33:12.251Z"
   },
   {
    "duration": 151,
    "start_time": "2025-01-17T20:33:15.244Z"
   },
   {
    "duration": 17,
    "start_time": "2025-01-17T20:33:15.397Z"
   },
   {
    "duration": 159,
    "start_time": "2025-01-17T20:33:15.416Z"
   },
   {
    "duration": 156,
    "start_time": "2025-01-17T20:33:15.576Z"
   },
   {
    "duration": 37,
    "start_time": "2025-01-17T20:33:15.734Z"
   },
   {
    "duration": 15,
    "start_time": "2025-01-17T20:33:15.774Z"
   },
   {
    "duration": 37,
    "start_time": "2025-01-17T20:33:15.791Z"
   },
   {
    "duration": 44,
    "start_time": "2025-01-17T20:33:15.832Z"
   },
   {
    "duration": 17,
    "start_time": "2025-01-17T20:33:15.877Z"
   },
   {
    "duration": 35,
    "start_time": "2025-01-17T20:33:15.896Z"
   },
   {
    "duration": 47,
    "start_time": "2025-01-17T20:33:15.933Z"
   },
   {
    "duration": 46,
    "start_time": "2025-01-17T20:33:15.983Z"
   },
   {
    "duration": 75,
    "start_time": "2025-01-17T20:33:16.031Z"
   },
   {
    "duration": 6,
    "start_time": "2025-01-17T20:33:16.108Z"
   },
   {
    "duration": 103,
    "start_time": "2025-01-17T20:33:16.115Z"
   },
   {
    "duration": 20,
    "start_time": "2025-01-17T20:33:16.220Z"
   },
   {
    "duration": 135,
    "start_time": "2025-01-17T20:33:40.109Z"
   },
   {
    "duration": 90,
    "start_time": "2025-01-17T20:33:48.589Z"
   },
   {
    "duration": 53,
    "start_time": "2025-01-17T20:34:07.777Z"
   },
   {
    "duration": 6,
    "start_time": "2025-01-17T20:34:09.131Z"
   },
   {
    "duration": 69,
    "start_time": "2025-01-17T20:34:09.942Z"
   },
   {
    "duration": 18,
    "start_time": "2025-01-17T20:34:11.907Z"
   },
   {
    "duration": 88,
    "start_time": "2025-01-17T20:34:12.471Z"
   },
   {
    "duration": 267,
    "start_time": "2025-01-17T20:36:02.155Z"
   },
   {
    "duration": 87,
    "start_time": "2025-01-17T20:36:03.049Z"
   },
   {
    "duration": 27,
    "start_time": "2025-01-17T20:37:59.929Z"
   },
   {
    "duration": 138,
    "start_time": "2025-01-17T20:40:12.609Z"
   },
   {
    "duration": 6,
    "start_time": "2025-01-17T20:41:00.429Z"
   },
   {
    "duration": 1709,
    "start_time": "2025-01-17T20:41:06.215Z"
   },
   {
    "duration": 903,
    "start_time": "2025-01-17T20:41:07.926Z"
   },
   {
    "duration": 166,
    "start_time": "2025-01-17T20:41:08.831Z"
   },
   {
    "duration": 17,
    "start_time": "2025-01-17T20:41:09.000Z"
   },
   {
    "duration": 151,
    "start_time": "2025-01-17T20:41:09.019Z"
   },
   {
    "duration": 152,
    "start_time": "2025-01-17T20:41:09.171Z"
   },
   {
    "duration": 25,
    "start_time": "2025-01-17T20:41:09.325Z"
   },
   {
    "duration": 30,
    "start_time": "2025-01-17T20:41:09.352Z"
   },
   {
    "duration": 36,
    "start_time": "2025-01-17T20:41:09.383Z"
   },
   {
    "duration": 21,
    "start_time": "2025-01-17T20:41:09.422Z"
   },
   {
    "duration": 26,
    "start_time": "2025-01-17T20:41:09.445Z"
   },
   {
    "duration": 31,
    "start_time": "2025-01-17T20:41:09.473Z"
   },
   {
    "duration": 40,
    "start_time": "2025-01-17T20:41:09.505Z"
   },
   {
    "duration": 58,
    "start_time": "2025-01-17T20:41:09.547Z"
   },
   {
    "duration": 30,
    "start_time": "2025-01-17T20:41:09.607Z"
   },
   {
    "duration": 61,
    "start_time": "2025-01-17T20:41:09.639Z"
   },
   {
    "duration": 6,
    "start_time": "2025-01-17T20:41:09.702Z"
   },
   {
    "duration": 82,
    "start_time": "2025-01-17T20:41:09.710Z"
   },
   {
    "duration": 20,
    "start_time": "2025-01-17T20:41:09.794Z"
   },
   {
    "duration": 15,
    "start_time": "2025-01-17T20:41:09.815Z"
   },
   {
    "duration": 304,
    "start_time": "2025-01-17T20:41:09.832Z"
   },
   {
    "duration": 78,
    "start_time": "2025-01-17T20:41:10.138Z"
   },
   {
    "duration": 17,
    "start_time": "2025-01-17T20:41:33.140Z"
   },
   {
    "duration": 16,
    "start_time": "2025-01-17T20:42:36.203Z"
   },
   {
    "duration": 6,
    "start_time": "2025-01-17T20:42:49.566Z"
   },
   {
    "duration": 1543,
    "start_time": "2025-01-17T20:43:15.962Z"
   },
   {
    "duration": 912,
    "start_time": "2025-01-17T20:43:17.507Z"
   },
   {
    "duration": 156,
    "start_time": "2025-01-17T20:43:18.420Z"
   },
   {
    "duration": 19,
    "start_time": "2025-01-17T20:43:18.577Z"
   },
   {
    "duration": 109,
    "start_time": "2025-01-17T20:43:18.598Z"
   },
   {
    "duration": 170,
    "start_time": "2025-01-17T20:43:18.709Z"
   },
   {
    "duration": 29,
    "start_time": "2025-01-17T20:43:18.881Z"
   },
   {
    "duration": 15,
    "start_time": "2025-01-17T20:43:18.912Z"
   },
   {
    "duration": 57,
    "start_time": "2025-01-17T20:43:18.929Z"
   },
   {
    "duration": 22,
    "start_time": "2025-01-17T20:43:18.988Z"
   },
   {
    "duration": 62,
    "start_time": "2025-01-17T20:43:19.012Z"
   },
   {
    "duration": 30,
    "start_time": "2025-01-17T20:43:19.077Z"
   },
   {
    "duration": 37,
    "start_time": "2025-01-17T20:43:19.108Z"
   },
   {
    "duration": 42,
    "start_time": "2025-01-17T20:43:19.147Z"
   },
   {
    "duration": 14,
    "start_time": "2025-01-17T20:43:19.191Z"
   },
   {
    "duration": 43,
    "start_time": "2025-01-17T20:43:19.206Z"
   },
   {
    "duration": 6,
    "start_time": "2025-01-17T20:43:19.271Z"
   },
   {
    "duration": 72,
    "start_time": "2025-01-17T20:43:19.279Z"
   },
   {
    "duration": 32,
    "start_time": "2025-01-17T20:43:19.352Z"
   },
   {
    "duration": 34,
    "start_time": "2025-01-17T20:43:19.385Z"
   },
   {
    "duration": 275,
    "start_time": "2025-01-17T20:43:19.421Z"
   },
   {
    "duration": 73,
    "start_time": "2025-01-17T20:43:19.697Z"
   },
   {
    "duration": 17,
    "start_time": "2025-01-17T20:43:19.772Z"
   },
   {
    "duration": 33,
    "start_time": "2025-01-17T20:43:54.708Z"
   },
   {
    "duration": 271,
    "start_time": "2025-01-17T20:43:56.273Z"
   },
   {
    "duration": 64,
    "start_time": "2025-01-17T20:43:56.910Z"
   },
   {
    "duration": 16,
    "start_time": "2025-01-17T20:43:57.591Z"
   },
   {
    "duration": 62,
    "start_time": "2025-01-17T20:45:01.260Z"
   },
   {
    "duration": 46,
    "start_time": "2025-01-17T20:45:02.790Z"
   },
   {
    "duration": 7,
    "start_time": "2025-01-17T20:45:04.072Z"
   },
   {
    "duration": 78,
    "start_time": "2025-01-17T20:45:05.455Z"
   },
   {
    "duration": 3,
    "start_time": "2025-01-17T20:45:11.876Z"
   },
   {
    "duration": 65,
    "start_time": "2025-01-17T20:45:34.948Z"
   },
   {
    "duration": 300,
    "start_time": "2025-01-17T20:45:36.321Z"
   },
   {
    "duration": 79,
    "start_time": "2025-01-17T20:45:37.067Z"
   },
   {
    "duration": 17,
    "start_time": "2025-01-17T20:45:37.895Z"
   },
   {
    "duration": 1628,
    "start_time": "2025-01-17T20:46:56.757Z"
   },
   {
    "duration": 1485,
    "start_time": "2025-01-17T20:47:07.968Z"
   },
   {
    "duration": 8,
    "start_time": "2025-01-17T20:47:29.616Z"
   },
   {
    "duration": 7,
    "start_time": "2025-01-17T20:48:40.150Z"
   },
   {
    "duration": 44,
    "start_time": "2025-01-17T20:51:23.771Z"
   },
   {
    "duration": 24,
    "start_time": "2025-01-17T20:54:36.477Z"
   },
   {
    "duration": 7,
    "start_time": "2025-01-17T20:55:37.292Z"
   },
   {
    "duration": 1576,
    "start_time": "2025-01-17T20:55:44.767Z"
   },
   {
    "duration": 963,
    "start_time": "2025-01-17T20:55:46.345Z"
   },
   {
    "duration": 165,
    "start_time": "2025-01-17T20:55:47.310Z"
   },
   {
    "duration": 19,
    "start_time": "2025-01-17T20:55:47.479Z"
   },
   {
    "duration": 109,
    "start_time": "2025-01-17T20:55:47.500Z"
   },
   {
    "duration": 160,
    "start_time": "2025-01-17T20:55:47.611Z"
   },
   {
    "duration": 28,
    "start_time": "2025-01-17T20:55:47.774Z"
   },
   {
    "duration": 25,
    "start_time": "2025-01-17T20:55:47.803Z"
   },
   {
    "duration": 49,
    "start_time": "2025-01-17T20:55:47.830Z"
   },
   {
    "duration": 23,
    "start_time": "2025-01-17T20:55:47.883Z"
   },
   {
    "duration": 51,
    "start_time": "2025-01-17T20:55:47.908Z"
   },
   {
    "duration": 39,
    "start_time": "2025-01-17T20:55:47.961Z"
   },
   {
    "duration": 39,
    "start_time": "2025-01-17T20:55:48.002Z"
   },
   {
    "duration": 38,
    "start_time": "2025-01-17T20:55:48.042Z"
   },
   {
    "duration": 38,
    "start_time": "2025-01-17T20:55:48.083Z"
   },
   {
    "duration": 90,
    "start_time": "2025-01-17T20:55:48.123Z"
   },
   {
    "duration": 48,
    "start_time": "2025-01-17T20:55:48.215Z"
   },
   {
    "duration": 10,
    "start_time": "2025-01-17T20:55:48.271Z"
   },
   {
    "duration": 66,
    "start_time": "2025-01-17T20:55:48.283Z"
   },
   {
    "duration": 46,
    "start_time": "2025-01-17T20:55:48.351Z"
   },
   {
    "duration": 74,
    "start_time": "2025-01-17T20:55:48.399Z"
   },
   {
    "duration": 295,
    "start_time": "2025-01-17T20:55:48.475Z"
   },
   {
    "duration": 104,
    "start_time": "2025-01-17T20:55:48.773Z"
   },
   {
    "duration": 19,
    "start_time": "2025-01-17T20:55:48.879Z"
   },
   {
    "duration": 31,
    "start_time": "2025-01-17T20:55:48.899Z"
   },
   {
    "duration": 72,
    "start_time": "2025-01-17T20:55:48.932Z"
   },
   {
    "duration": 21,
    "start_time": "2025-01-17T20:55:49.005Z"
   },
   {
    "duration": 45,
    "start_time": "2025-01-17T20:55:49.029Z"
   },
   {
    "duration": 19,
    "start_time": "2025-01-17T20:57:43.950Z"
   },
   {
    "duration": 1513,
    "start_time": "2025-01-17T20:57:50.375Z"
   },
   {
    "duration": 917,
    "start_time": "2025-01-17T20:57:51.890Z"
   },
   {
    "duration": 162,
    "start_time": "2025-01-17T20:57:52.809Z"
   },
   {
    "duration": 19,
    "start_time": "2025-01-17T20:57:52.973Z"
   },
   {
    "duration": 109,
    "start_time": "2025-01-17T20:57:52.994Z"
   },
   {
    "duration": 148,
    "start_time": "2025-01-17T20:57:53.105Z"
   },
   {
    "duration": 75,
    "start_time": "2025-01-17T20:57:53.254Z"
   },
   {
    "duration": 9,
    "start_time": "2025-01-17T20:57:53.331Z"
   },
   {
    "duration": 38,
    "start_time": "2025-01-17T20:57:53.342Z"
   },
   {
    "duration": 22,
    "start_time": "2025-01-17T20:57:53.382Z"
   },
   {
    "duration": 5,
    "start_time": "2025-01-17T20:57:53.406Z"
   },
   {
    "duration": 32,
    "start_time": "2025-01-17T20:57:53.413Z"
   },
   {
    "duration": 54,
    "start_time": "2025-01-17T20:57:53.447Z"
   },
   {
    "duration": 19,
    "start_time": "2025-01-17T20:57:53.503Z"
   },
   {
    "duration": 32,
    "start_time": "2025-01-17T20:57:53.524Z"
   },
   {
    "duration": 46,
    "start_time": "2025-01-17T20:57:53.557Z"
   },
   {
    "duration": 83,
    "start_time": "2025-01-17T20:57:53.604Z"
   },
   {
    "duration": 48,
    "start_time": "2025-01-17T20:57:53.689Z"
   },
   {
    "duration": 6,
    "start_time": "2025-01-17T20:57:53.739Z"
   },
   {
    "duration": 84,
    "start_time": "2025-01-17T20:57:53.747Z"
   },
   {
    "duration": 19,
    "start_time": "2025-01-17T20:57:53.832Z"
   },
   {
    "duration": 76,
    "start_time": "2025-01-17T20:57:53.853Z"
   },
   {
    "duration": 316,
    "start_time": "2025-01-17T20:57:53.931Z"
   },
   {
    "duration": 100,
    "start_time": "2025-01-17T20:57:54.248Z"
   },
   {
    "duration": 33,
    "start_time": "2025-01-17T20:57:54.350Z"
   },
   {
    "duration": 34,
    "start_time": "2025-01-17T20:57:54.385Z"
   },
   {
    "duration": 52,
    "start_time": "2025-01-17T20:57:54.421Z"
   },
   {
    "duration": 19,
    "start_time": "2025-01-17T20:57:54.476Z"
   },
   {
    "duration": 104,
    "start_time": "2025-01-17T20:57:54.497Z"
   },
   {
    "duration": 31,
    "start_time": "2025-01-17T20:58:57.790Z"
   },
   {
    "duration": 99,
    "start_time": "2025-01-17T21:00:55.271Z"
   },
   {
    "duration": 7,
    "start_time": "2025-01-17T21:00:56.345Z"
   },
   {
    "duration": 1556,
    "start_time": "2025-01-17T21:01:04.836Z"
   },
   {
    "duration": 905,
    "start_time": "2025-01-17T21:01:06.395Z"
   },
   {
    "duration": 149,
    "start_time": "2025-01-17T21:01:07.302Z"
   },
   {
    "duration": 30,
    "start_time": "2025-01-17T21:01:07.453Z"
   },
   {
    "duration": 97,
    "start_time": "2025-01-17T21:01:07.484Z"
   },
   {
    "duration": 158,
    "start_time": "2025-01-17T21:01:07.583Z"
   },
   {
    "duration": 30,
    "start_time": "2025-01-17T21:01:07.742Z"
   },
   {
    "duration": 40,
    "start_time": "2025-01-17T21:01:07.774Z"
   },
   {
    "duration": 35,
    "start_time": "2025-01-17T21:01:07.816Z"
   },
   {
    "duration": 22,
    "start_time": "2025-01-17T21:01:07.854Z"
   },
   {
    "duration": 7,
    "start_time": "2025-01-17T21:01:07.878Z"
   },
   {
    "duration": 54,
    "start_time": "2025-01-17T21:01:07.886Z"
   },
   {
    "duration": 108,
    "start_time": "2025-01-17T21:01:07.942Z"
   },
   {
    "duration": 31,
    "start_time": "2025-01-17T21:01:08.051Z"
   },
   {
    "duration": 39,
    "start_time": "2025-01-17T21:01:08.084Z"
   },
   {
    "duration": 185,
    "start_time": "2025-01-17T21:01:08.125Z"
   },
   {
    "duration": 7,
    "start_time": "2025-01-17T21:01:08.312Z"
   },
   {
    "duration": 50,
    "start_time": "2025-01-17T21:01:08.321Z"
   },
   {
    "duration": 6,
    "start_time": "2025-01-17T21:01:08.373Z"
   },
   {
    "duration": 101,
    "start_time": "2025-01-17T21:01:08.381Z"
   },
   {
    "duration": 20,
    "start_time": "2025-01-17T21:01:08.484Z"
   },
   {
    "duration": 159,
    "start_time": "2025-01-17T21:01:08.505Z"
   },
   {
    "duration": 272,
    "start_time": "2025-01-17T21:01:08.666Z"
   },
   {
    "duration": 78,
    "start_time": "2025-01-17T21:01:08.940Z"
   },
   {
    "duration": 22,
    "start_time": "2025-01-17T21:01:09.020Z"
   },
   {
    "duration": 60,
    "start_time": "2025-01-17T21:01:09.043Z"
   },
   {
    "duration": 120,
    "start_time": "2025-01-17T21:01:09.104Z"
   },
   {
    "duration": 129,
    "start_time": "2025-01-17T21:01:09.227Z"
   },
   {
    "duration": 34,
    "start_time": "2025-01-17T21:01:09.357Z"
   },
   {
    "duration": 117,
    "start_time": "2025-01-17T21:02:12.515Z"
   },
   {
    "duration": 8,
    "start_time": "2025-01-17T21:02:46.729Z"
   },
   {
    "duration": 1501,
    "start_time": "2025-01-17T21:02:59.694Z"
   },
   {
    "duration": 914,
    "start_time": "2025-01-17T21:03:01.197Z"
   },
   {
    "duration": 165,
    "start_time": "2025-01-17T21:03:02.113Z"
   },
   {
    "duration": 17,
    "start_time": "2025-01-17T21:03:02.280Z"
   },
   {
    "duration": 149,
    "start_time": "2025-01-17T21:03:02.298Z"
   },
   {
    "duration": 149,
    "start_time": "2025-01-17T21:03:02.448Z"
   },
   {
    "duration": 72,
    "start_time": "2025-01-17T21:03:02.598Z"
   },
   {
    "duration": 75,
    "start_time": "2025-01-17T21:03:02.672Z"
   },
   {
    "duration": 62,
    "start_time": "2025-01-17T21:03:02.749Z"
   },
   {
    "duration": 38,
    "start_time": "2025-01-17T21:03:02.813Z"
   },
   {
    "duration": 74,
    "start_time": "2025-01-17T21:03:02.853Z"
   },
   {
    "duration": 48,
    "start_time": "2025-01-17T21:03:02.929Z"
   },
   {
    "duration": 37,
    "start_time": "2025-01-17T21:03:02.979Z"
   },
   {
    "duration": 35,
    "start_time": "2025-01-17T21:03:03.017Z"
   },
   {
    "duration": 129,
    "start_time": "2025-01-17T21:03:03.053Z"
   },
   {
    "duration": 7,
    "start_time": "2025-01-17T21:03:03.184Z"
   },
   {
    "duration": 99,
    "start_time": "2025-01-17T21:03:03.193Z"
   },
   {
    "duration": 59,
    "start_time": "2025-01-17T21:03:03.293Z"
   },
   {
    "duration": 91,
    "start_time": "2025-01-17T21:03:03.354Z"
   },
   {
    "duration": 23,
    "start_time": "2025-01-17T21:03:03.447Z"
   },
   {
    "duration": 53,
    "start_time": "2025-01-17T21:03:03.472Z"
   },
   {
    "duration": 115,
    "start_time": "2025-01-17T21:03:03.527Z"
   },
   {
    "duration": 8,
    "start_time": "2025-01-17T21:03:03.644Z"
   },
   {
    "duration": 288,
    "start_time": "2025-01-17T21:03:03.654Z"
   },
   {
    "duration": 68,
    "start_time": "2025-01-17T21:03:03.944Z"
   },
   {
    "duration": 87,
    "start_time": "2025-01-17T21:03:04.014Z"
   },
   {
    "duration": 45,
    "start_time": "2025-01-17T21:03:04.103Z"
   },
   {
    "duration": 41,
    "start_time": "2025-01-17T21:03:04.151Z"
   },
   {
    "duration": 34,
    "start_time": "2025-01-17T21:03:04.194Z"
   },
   {
    "duration": 17,
    "start_time": "2025-01-17T21:03:04.229Z"
   },
   {
    "duration": 1044,
    "start_time": "2025-01-17T21:58:27.596Z"
   },
   {
    "duration": 113,
    "start_time": "2025-01-17T22:00:47.940Z"
   },
   {
    "duration": 487,
    "start_time": "2025-01-17T22:01:19.472Z"
   },
   {
    "duration": 1036,
    "start_time": "2025-01-17T22:07:53.434Z"
   },
   {
    "duration": 478,
    "start_time": "2025-01-17T22:07:55.736Z"
   },
   {
    "duration": 172,
    "start_time": "2025-01-17T22:11:04.099Z"
   },
   {
    "duration": 383,
    "start_time": "2025-01-17T22:11:08.030Z"
   },
   {
    "duration": 151,
    "start_time": "2025-01-17T22:11:09.583Z"
   },
   {
    "duration": 1478,
    "start_time": "2025-01-17T22:12:35.398Z"
   },
   {
    "duration": 900,
    "start_time": "2025-01-17T22:12:36.878Z"
   },
   {
    "duration": 167,
    "start_time": "2025-01-17T22:12:37.780Z"
   },
   {
    "duration": 29,
    "start_time": "2025-01-17T22:12:37.950Z"
   },
   {
    "duration": 103,
    "start_time": "2025-01-17T22:12:37.981Z"
   },
   {
    "duration": 153,
    "start_time": "2025-01-17T22:12:38.087Z"
   },
   {
    "duration": 79,
    "start_time": "2025-01-17T22:12:38.242Z"
   },
   {
    "duration": 18,
    "start_time": "2025-01-17T22:12:38.322Z"
   },
   {
    "duration": 35,
    "start_time": "2025-01-17T22:12:38.342Z"
   },
   {
    "duration": 21,
    "start_time": "2025-01-17T22:12:38.379Z"
   },
   {
    "duration": 11,
    "start_time": "2025-01-17T22:12:38.402Z"
   },
   {
    "duration": 31,
    "start_time": "2025-01-17T22:12:38.414Z"
   },
   {
    "duration": 45,
    "start_time": "2025-01-17T22:12:38.446Z"
   },
   {
    "duration": 24,
    "start_time": "2025-01-17T22:12:38.492Z"
   },
   {
    "duration": 127,
    "start_time": "2025-01-17T22:12:38.518Z"
   },
   {
    "duration": 7,
    "start_time": "2025-01-17T22:12:38.647Z"
   },
   {
    "duration": 50,
    "start_time": "2025-01-17T22:12:38.656Z"
   },
   {
    "duration": 5,
    "start_time": "2025-01-17T22:12:38.708Z"
   },
   {
    "duration": 101,
    "start_time": "2025-01-17T22:12:38.715Z"
   },
   {
    "duration": 19,
    "start_time": "2025-01-17T22:12:38.818Z"
   },
   {
    "duration": 46,
    "start_time": "2025-01-17T22:12:38.839Z"
   },
   {
    "duration": 106,
    "start_time": "2025-01-17T22:12:38.886Z"
   },
   {
    "duration": 7,
    "start_time": "2025-01-17T22:12:38.994Z"
   },
   {
    "duration": 273,
    "start_time": "2025-01-17T22:12:39.002Z"
   },
   {
    "duration": 60,
    "start_time": "2025-01-17T22:12:39.277Z"
   },
   {
    "duration": 15,
    "start_time": "2025-01-17T22:12:39.339Z"
   },
   {
    "duration": 6,
    "start_time": "2025-01-17T22:12:39.370Z"
   },
   {
    "duration": 38,
    "start_time": "2025-01-17T22:12:39.379Z"
   },
   {
    "duration": 46,
    "start_time": "2025-01-17T22:12:39.419Z"
   },
   {
    "duration": 121,
    "start_time": "2025-01-17T22:12:39.466Z"
   },
   {
    "duration": 1058,
    "start_time": "2025-01-17T22:12:39.588Z"
   },
   {
    "duration": 175,
    "start_time": "2025-01-17T22:12:40.648Z"
   },
   {
    "duration": 0,
    "start_time": "2025-01-17T22:12:40.824Z"
   },
   {
    "duration": 0,
    "start_time": "2025-01-17T22:12:40.825Z"
   },
   {
    "duration": 492,
    "start_time": "2025-01-17T22:13:21.934Z"
   },
   {
    "duration": 33495,
    "start_time": "2025-01-17T22:13:40.795Z"
   },
   {
    "duration": 17,
    "start_time": "2025-01-17T22:14:14.295Z"
   },
   {
    "duration": 18,
    "start_time": "2025-01-17T22:15:12.932Z"
   },
   {
    "duration": 38,
    "start_time": "2025-01-17T22:15:25.623Z"
   },
   {
    "duration": 20982,
    "start_time": "2025-01-17T22:16:17.691Z"
   },
   {
    "duration": 108,
    "start_time": "2025-01-17T22:17:00.972Z"
   },
   {
    "duration": 203,
    "start_time": "2025-01-17T22:17:10.974Z"
   },
   {
    "duration": 5,
    "start_time": "2025-01-17T22:17:31.511Z"
   },
   {
    "duration": 131,
    "start_time": "2025-01-17T22:23:12.527Z"
   },
   {
    "duration": 1473,
    "start_time": "2025-01-17T22:23:24.126Z"
   },
   {
    "duration": 2969,
    "start_time": "2025-01-17T22:23:25.601Z"
   },
   {
    "duration": 149,
    "start_time": "2025-01-17T22:23:28.572Z"
   },
   {
    "duration": 18,
    "start_time": "2025-01-17T22:23:28.723Z"
   },
   {
    "duration": 114,
    "start_time": "2025-01-17T22:23:28.743Z"
   },
   {
    "duration": 149,
    "start_time": "2025-01-17T22:23:28.859Z"
   },
   {
    "duration": 48,
    "start_time": "2025-01-17T22:23:29.009Z"
   },
   {
    "duration": 20,
    "start_time": "2025-01-17T22:23:29.059Z"
   },
   {
    "duration": 38,
    "start_time": "2025-01-17T22:23:29.081Z"
   },
   {
    "duration": 22,
    "start_time": "2025-01-17T22:23:29.121Z"
   },
   {
    "duration": 27,
    "start_time": "2025-01-17T22:23:29.145Z"
   },
   {
    "duration": 31,
    "start_time": "2025-01-17T22:23:29.174Z"
   },
   {
    "duration": 38,
    "start_time": "2025-01-17T22:23:29.206Z"
   },
   {
    "duration": 38,
    "start_time": "2025-01-17T22:23:29.248Z"
   },
   {
    "duration": 141,
    "start_time": "2025-01-17T22:23:29.288Z"
   },
   {
    "duration": 9,
    "start_time": "2025-01-17T22:23:29.431Z"
   },
   {
    "duration": 59,
    "start_time": "2025-01-17T22:23:29.442Z"
   },
   {
    "duration": 7,
    "start_time": "2025-01-17T22:23:29.503Z"
   },
   {
    "duration": 137,
    "start_time": "2025-01-17T22:23:29.511Z"
   },
   {
    "duration": 19,
    "start_time": "2025-01-17T22:23:29.650Z"
   },
   {
    "duration": 58,
    "start_time": "2025-01-17T22:23:29.670Z"
   },
   {
    "duration": 101,
    "start_time": "2025-01-17T22:23:29.729Z"
   },
   {
    "duration": 7,
    "start_time": "2025-01-17T22:23:29.832Z"
   },
   {
    "duration": 293,
    "start_time": "2025-01-17T22:23:29.841Z"
   },
   {
    "duration": 63,
    "start_time": "2025-01-17T22:23:30.136Z"
   },
   {
    "duration": 113,
    "start_time": "2025-01-17T22:23:30.201Z"
   },
   {
    "duration": 117,
    "start_time": "2025-01-17T22:23:30.316Z"
   },
   {
    "duration": 73,
    "start_time": "2025-01-17T22:23:30.435Z"
   },
   {
    "duration": 33,
    "start_time": "2025-01-17T22:23:30.510Z"
   },
   {
    "duration": 9,
    "start_time": "2025-01-17T22:23:30.544Z"
   },
   {
    "duration": 1015,
    "start_time": "2025-01-17T22:23:30.554Z"
   },
   {
    "duration": 492,
    "start_time": "2025-01-17T22:23:31.571Z"
   },
   {
    "duration": 20710,
    "start_time": "2025-01-17T22:23:32.064Z"
   },
   {
    "duration": 300,
    "start_time": "2025-01-17T22:23:52.776Z"
   },
   {
    "duration": 95,
    "start_time": "2025-01-17T22:23:53.078Z"
   },
   {
    "duration": 344,
    "start_time": "2025-01-17T22:31:44.965Z"
   },
   {
    "duration": 110,
    "start_time": "2025-01-17T22:31:55.667Z"
   },
   {
    "duration": 1493,
    "start_time": "2025-01-17T22:31:59.514Z"
   },
   {
    "duration": 2962,
    "start_time": "2025-01-17T22:32:01.009Z"
   },
   {
    "duration": 152,
    "start_time": "2025-01-17T22:32:03.973Z"
   },
   {
    "duration": 42,
    "start_time": "2025-01-17T22:32:04.128Z"
   },
   {
    "duration": 117,
    "start_time": "2025-01-17T22:32:04.173Z"
   },
   {
    "duration": 141,
    "start_time": "2025-01-17T22:32:04.292Z"
   },
   {
    "duration": 38,
    "start_time": "2025-01-17T22:32:04.435Z"
   },
   {
    "duration": 27,
    "start_time": "2025-01-17T22:32:04.475Z"
   },
   {
    "duration": 52,
    "start_time": "2025-01-17T22:32:04.504Z"
   },
   {
    "duration": 22,
    "start_time": "2025-01-17T22:32:04.559Z"
   },
   {
    "duration": 15,
    "start_time": "2025-01-17T22:32:04.582Z"
   },
   {
    "duration": 44,
    "start_time": "2025-01-17T22:32:04.599Z"
   },
   {
    "duration": 38,
    "start_time": "2025-01-17T22:32:04.645Z"
   },
   {
    "duration": 41,
    "start_time": "2025-01-17T22:32:04.685Z"
   },
   {
    "duration": 124,
    "start_time": "2025-01-17T22:32:04.728Z"
   },
   {
    "duration": 9,
    "start_time": "2025-01-17T22:32:04.853Z"
   },
   {
    "duration": 83,
    "start_time": "2025-01-17T22:32:04.871Z"
   },
   {
    "duration": 7,
    "start_time": "2025-01-17T22:32:04.956Z"
   },
   {
    "duration": 101,
    "start_time": "2025-01-17T22:32:04.965Z"
   },
   {
    "duration": 41,
    "start_time": "2025-01-17T22:32:05.068Z"
   },
   {
    "duration": 49,
    "start_time": "2025-01-17T22:32:05.111Z"
   },
   {
    "duration": 103,
    "start_time": "2025-01-17T22:32:05.162Z"
   },
   {
    "duration": 7,
    "start_time": "2025-01-17T22:32:05.267Z"
   },
   {
    "duration": 292,
    "start_time": "2025-01-17T22:32:05.275Z"
   },
   {
    "duration": 61,
    "start_time": "2025-01-17T22:32:05.569Z"
   },
   {
    "duration": 90,
    "start_time": "2025-01-17T22:32:05.632Z"
   },
   {
    "duration": 34,
    "start_time": "2025-01-17T22:32:05.724Z"
   },
   {
    "duration": 66,
    "start_time": "2025-01-17T22:32:05.762Z"
   },
   {
    "duration": 35,
    "start_time": "2025-01-17T22:32:05.830Z"
   },
   {
    "duration": 48,
    "start_time": "2025-01-17T22:32:05.867Z"
   },
   {
    "duration": 1088,
    "start_time": "2025-01-17T22:32:05.917Z"
   },
   {
    "duration": 495,
    "start_time": "2025-01-17T22:32:07.007Z"
   },
   {
    "duration": 20372,
    "start_time": "2025-01-17T22:32:07.504Z"
   },
   {
    "duration": 294,
    "start_time": "2025-01-17T22:32:27.878Z"
   },
   {
    "duration": 96,
    "start_time": "2025-01-17T22:32:28.175Z"
   },
   {
    "duration": 181105,
    "start_time": "2025-01-17T22:32:28.273Z"
   },
   {
    "duration": 269,
    "start_time": "2025-01-17T22:35:29.471Z"
   },
   {
    "duration": 10,
    "start_time": "2025-01-17T22:35:29.742Z"
   },
   {
    "duration": 0,
    "start_time": "2025-01-17T22:35:29.753Z"
   },
   {
    "duration": 1,
    "start_time": "2025-01-17T22:35:29.754Z"
   },
   {
    "duration": 0,
    "start_time": "2025-01-17T22:35:29.756Z"
   },
   {
    "duration": 228,
    "start_time": "2025-01-17T22:36:33.248Z"
   },
   {
    "duration": 5,
    "start_time": "2025-01-17T22:36:35.538Z"
   },
   {
    "duration": 104,
    "start_time": "2025-01-17T22:36:45.246Z"
   },
   {
    "duration": 3,
    "start_time": "2025-01-17T22:46:03.163Z"
   },
   {
    "duration": 10410,
    "start_time": "2025-01-17T22:46:07.274Z"
   },
   {
    "duration": 136,
    "start_time": "2025-01-17T22:46:30.737Z"
   },
   {
    "duration": 104,
    "start_time": "2025-01-17T22:46:46.139Z"
   },
   {
    "duration": 3,
    "start_time": "2025-01-17T22:48:59.559Z"
   },
   {
    "duration": 10787,
    "start_time": "2025-01-17T22:49:01.985Z"
   },
   {
    "duration": 91,
    "start_time": "2025-01-17T22:49:17.581Z"
   },
   {
    "duration": 328738,
    "start_time": "2025-01-17T22:51:09.639Z"
   },
   {
    "duration": 1400,
    "start_time": "2025-01-17T22:56:38.379Z"
   },
   {
    "duration": 5,
    "start_time": "2025-01-17T22:56:39.781Z"
   },
   {
    "duration": 89,
    "start_time": "2025-01-18T11:22:59.435Z"
   },
   {
    "duration": 96,
    "start_time": "2025-01-18T11:23:40.082Z"
   },
   {
    "duration": 81,
    "start_time": "2025-01-18T11:24:44.621Z"
   },
   {
    "duration": 86,
    "start_time": "2025-01-18T11:25:22.543Z"
   },
   {
    "duration": 3,
    "start_time": "2025-01-18T11:27:04.619Z"
   },
   {
    "duration": 54,
    "start_time": "2025-01-18T11:27:21.091Z"
   },
   {
    "duration": 3,
    "start_time": "2025-01-18T11:27:34.905Z"
   },
   {
    "duration": 7,
    "start_time": "2025-01-18T11:27:41.445Z"
   },
   {
    "duration": 1621,
    "start_time": "2025-01-18T11:28:48.097Z"
   },
   {
    "duration": 2851,
    "start_time": "2025-01-18T11:28:49.721Z"
   },
   {
    "duration": 138,
    "start_time": "2025-01-18T11:28:52.573Z"
   },
   {
    "duration": 26,
    "start_time": "2025-01-18T11:28:52.713Z"
   },
   {
    "duration": 90,
    "start_time": "2025-01-18T11:28:52.740Z"
   },
   {
    "duration": 139,
    "start_time": "2025-01-18T11:28:52.832Z"
   },
   {
    "duration": 21,
    "start_time": "2025-01-18T11:28:52.973Z"
   },
   {
    "duration": 25,
    "start_time": "2025-01-18T11:28:52.996Z"
   },
   {
    "duration": 33,
    "start_time": "2025-01-18T11:28:53.023Z"
   },
   {
    "duration": 20,
    "start_time": "2025-01-18T11:28:53.059Z"
   },
   {
    "duration": 25,
    "start_time": "2025-01-18T11:28:53.080Z"
   },
   {
    "duration": 33,
    "start_time": "2025-01-18T11:28:53.106Z"
   },
   {
    "duration": 35,
    "start_time": "2025-01-18T11:28:53.141Z"
   },
   {
    "duration": 32,
    "start_time": "2025-01-18T11:28:53.177Z"
   },
   {
    "duration": 124,
    "start_time": "2025-01-18T11:28:53.211Z"
   },
   {
    "duration": 7,
    "start_time": "2025-01-18T11:28:53.336Z"
   },
   {
    "duration": 46,
    "start_time": "2025-01-18T11:28:53.345Z"
   },
   {
    "duration": 6,
    "start_time": "2025-01-18T11:28:53.393Z"
   },
   {
    "duration": 75,
    "start_time": "2025-01-18T11:28:53.400Z"
   },
   {
    "duration": 17,
    "start_time": "2025-01-18T11:28:53.477Z"
   },
   {
    "duration": 43,
    "start_time": "2025-01-18T11:28:53.495Z"
   },
   {
    "duration": 102,
    "start_time": "2025-01-18T11:28:53.539Z"
   },
   {
    "duration": 7,
    "start_time": "2025-01-18T11:28:53.642Z"
   },
   {
    "duration": 263,
    "start_time": "2025-01-18T11:28:53.651Z"
   },
   {
    "duration": 58,
    "start_time": "2025-01-18T11:28:53.916Z"
   },
   {
    "duration": 24,
    "start_time": "2025-01-18T11:28:53.975Z"
   },
   {
    "duration": 19,
    "start_time": "2025-01-18T11:28:54.000Z"
   },
   {
    "duration": 46,
    "start_time": "2025-01-18T11:28:54.022Z"
   },
   {
    "duration": 18,
    "start_time": "2025-01-18T11:28:54.070Z"
   },
   {
    "duration": 7,
    "start_time": "2025-01-18T11:28:54.089Z"
   },
   {
    "duration": 966,
    "start_time": "2025-01-18T11:28:54.097Z"
   },
   {
    "duration": 488,
    "start_time": "2025-01-18T11:28:55.064Z"
   },
   {
    "duration": 20372,
    "start_time": "2025-01-18T11:28:55.554Z"
   },
   {
    "duration": 295,
    "start_time": "2025-01-18T11:29:15.928Z"
   },
   {
    "duration": 97,
    "start_time": "2025-01-18T11:29:16.225Z"
   },
   {
    "duration": 176301,
    "start_time": "2025-01-18T11:29:16.324Z"
   },
   {
    "duration": 300,
    "start_time": "2025-01-18T11:32:12.627Z"
   },
   {
    "duration": 6,
    "start_time": "2025-01-18T11:32:13.023Z"
   },
   {
    "duration": 104,
    "start_time": "2025-01-18T11:32:13.031Z"
   },
   {
    "duration": 12198,
    "start_time": "2025-01-18T11:32:13.136Z"
   },
   {
    "duration": 1395,
    "start_time": "2025-01-18T11:32:25.336Z"
   },
   {
    "duration": 5,
    "start_time": "2025-01-18T11:32:26.733Z"
   },
   {
    "duration": 9,
    "start_time": "2025-01-18T11:32:26.739Z"
   },
   {
    "duration": 10,
    "start_time": "2025-01-18T11:32:26.749Z"
   },
   {
    "duration": 1639,
    "start_time": "2025-01-19T13:21:18.163Z"
   },
   {
    "duration": 2952,
    "start_time": "2025-01-19T13:21:19.804Z"
   },
   {
    "duration": 154,
    "start_time": "2025-01-19T13:21:22.758Z"
   },
   {
    "duration": 21,
    "start_time": "2025-01-19T13:21:22.915Z"
   },
   {
    "duration": 104,
    "start_time": "2025-01-19T13:21:22.938Z"
   },
   {
    "duration": 146,
    "start_time": "2025-01-19T13:21:23.044Z"
   },
   {
    "duration": 25,
    "start_time": "2025-01-19T13:21:23.192Z"
   },
   {
    "duration": 9,
    "start_time": "2025-01-19T13:21:23.218Z"
   },
   {
    "duration": 59,
    "start_time": "2025-01-19T13:21:23.228Z"
   },
   {
    "duration": 20,
    "start_time": "2025-01-19T13:21:23.290Z"
   },
   {
    "duration": 13,
    "start_time": "2025-01-19T13:21:23.312Z"
   },
   {
    "duration": 37,
    "start_time": "2025-01-19T13:21:23.326Z"
   },
   {
    "duration": 37,
    "start_time": "2025-01-19T13:21:23.365Z"
   },
   {
    "duration": 21,
    "start_time": "2025-01-19T13:21:23.404Z"
   },
   {
    "duration": 186,
    "start_time": "2025-01-19T13:21:23.427Z"
   },
   {
    "duration": 7,
    "start_time": "2025-01-19T13:21:23.615Z"
   },
   {
    "duration": 52,
    "start_time": "2025-01-19T13:21:23.623Z"
   },
   {
    "duration": 6,
    "start_time": "2025-01-19T13:21:23.676Z"
   },
   {
    "duration": 124,
    "start_time": "2025-01-19T13:21:23.684Z"
   },
   {
    "duration": 19,
    "start_time": "2025-01-19T13:21:23.809Z"
   },
   {
    "duration": 44,
    "start_time": "2025-01-19T13:21:23.830Z"
   },
   {
    "duration": 106,
    "start_time": "2025-01-19T13:21:23.875Z"
   },
   {
    "duration": 6,
    "start_time": "2025-01-19T13:21:23.983Z"
   },
   {
    "duration": 356,
    "start_time": "2025-01-19T13:21:23.991Z"
   },
   {
    "duration": 66,
    "start_time": "2025-01-19T13:21:24.349Z"
   },
   {
    "duration": 18,
    "start_time": "2025-01-19T13:21:24.417Z"
   },
   {
    "duration": 10,
    "start_time": "2025-01-19T13:21:24.436Z"
   },
   {
    "duration": 53,
    "start_time": "2025-01-19T13:21:24.450Z"
   },
   {
    "duration": 28,
    "start_time": "2025-01-19T13:21:24.505Z"
   },
   {
    "duration": 14,
    "start_time": "2025-01-19T13:21:24.535Z"
   },
   {
    "duration": 27,
    "start_time": "2025-01-19T13:21:24.551Z"
   },
   {
    "duration": 3,
    "start_time": "2025-01-19T13:21:24.579Z"
   },
   {
    "duration": 133,
    "start_time": "2025-01-19T13:21:24.584Z"
   },
   {
    "duration": 0,
    "start_time": "2025-01-19T13:21:24.719Z"
   },
   {
    "duration": 0,
    "start_time": "2025-01-19T13:21:24.721Z"
   },
   {
    "duration": 0,
    "start_time": "2025-01-19T13:21:24.722Z"
   },
   {
    "duration": 0,
    "start_time": "2025-01-19T13:21:24.723Z"
   },
   {
    "duration": 0,
    "start_time": "2025-01-19T13:21:24.724Z"
   },
   {
    "duration": 0,
    "start_time": "2025-01-19T13:21:24.726Z"
   },
   {
    "duration": 0,
    "start_time": "2025-01-19T13:21:24.727Z"
   },
   {
    "duration": 0,
    "start_time": "2025-01-19T13:21:24.729Z"
   },
   {
    "duration": 0,
    "start_time": "2025-01-19T13:21:24.730Z"
   },
   {
    "duration": 0,
    "start_time": "2025-01-19T13:21:24.731Z"
   },
   {
    "duration": 0,
    "start_time": "2025-01-19T13:21:24.732Z"
   },
   {
    "duration": 0,
    "start_time": "2025-01-19T13:21:24.734Z"
   },
   {
    "duration": 0,
    "start_time": "2025-01-19T13:21:24.735Z"
   },
   {
    "duration": 0,
    "start_time": "2025-01-19T13:21:24.736Z"
   },
   {
    "duration": 0,
    "start_time": "2025-01-19T13:21:24.737Z"
   },
   {
    "duration": 75,
    "start_time": "2025-01-19T13:21:52.221Z"
   },
   {
    "duration": 965,
    "start_time": "2025-01-19T13:21:54.014Z"
   },
   {
    "duration": 9,
    "start_time": "2025-01-19T13:21:57.296Z"
   },
   {
    "duration": 236,
    "start_time": "2025-01-19T13:23:15.876Z"
   },
   {
    "duration": 3,
    "start_time": "2025-01-19T13:27:26.023Z"
   },
   {
    "duration": 312,
    "start_time": "2025-01-19T13:27:56.540Z"
   },
   {
    "duration": 1486,
    "start_time": "2025-01-19T13:28:15.729Z"
   },
   {
    "duration": 870,
    "start_time": "2025-01-19T13:28:17.217Z"
   },
   {
    "duration": 153,
    "start_time": "2025-01-19T13:28:18.088Z"
   },
   {
    "duration": 30,
    "start_time": "2025-01-19T13:28:18.243Z"
   },
   {
    "duration": 108,
    "start_time": "2025-01-19T13:28:18.275Z"
   },
   {
    "duration": 148,
    "start_time": "2025-01-19T13:28:18.385Z"
   },
   {
    "duration": 36,
    "start_time": "2025-01-19T13:28:18.535Z"
   },
   {
    "duration": 10,
    "start_time": "2025-01-19T13:28:18.573Z"
   },
   {
    "duration": 32,
    "start_time": "2025-01-19T13:28:18.585Z"
   },
   {
    "duration": 21,
    "start_time": "2025-01-19T13:28:18.620Z"
   },
   {
    "duration": 29,
    "start_time": "2025-01-19T13:28:18.643Z"
   },
   {
    "duration": 22,
    "start_time": "2025-01-19T13:28:18.673Z"
   },
   {
    "duration": 35,
    "start_time": "2025-01-19T13:28:18.697Z"
   },
   {
    "duration": 41,
    "start_time": "2025-01-19T13:28:18.734Z"
   },
   {
    "duration": 110,
    "start_time": "2025-01-19T13:28:18.777Z"
   },
   {
    "duration": 7,
    "start_time": "2025-01-19T13:28:18.889Z"
   },
   {
    "duration": 39,
    "start_time": "2025-01-19T13:28:18.897Z"
   },
   {
    "duration": 8,
    "start_time": "2025-01-19T13:28:18.939Z"
   },
   {
    "duration": 60,
    "start_time": "2025-01-19T13:28:18.971Z"
   },
   {
    "duration": 18,
    "start_time": "2025-01-19T13:28:19.033Z"
   },
   {
    "duration": 49,
    "start_time": "2025-01-19T13:28:19.053Z"
   },
   {
    "duration": 108,
    "start_time": "2025-01-19T13:28:19.104Z"
   },
   {
    "duration": 7,
    "start_time": "2025-01-19T13:28:19.213Z"
   },
   {
    "duration": 274,
    "start_time": "2025-01-19T13:28:19.222Z"
   },
   {
    "duration": 58,
    "start_time": "2025-01-19T13:28:19.498Z"
   },
   {
    "duration": 23,
    "start_time": "2025-01-19T13:28:19.558Z"
   },
   {
    "duration": 8,
    "start_time": "2025-01-19T13:28:19.583Z"
   },
   {
    "duration": 41,
    "start_time": "2025-01-19T13:28:19.594Z"
   },
   {
    "duration": 34,
    "start_time": "2025-01-19T13:28:19.637Z"
   },
   {
    "duration": 7,
    "start_time": "2025-01-19T13:28:19.672Z"
   },
   {
    "duration": 17,
    "start_time": "2025-01-19T13:28:19.680Z"
   },
   {
    "duration": 8,
    "start_time": "2025-01-19T13:28:19.699Z"
   },
   {
    "duration": 90,
    "start_time": "2025-01-19T13:28:19.709Z"
   },
   {
    "duration": 1009,
    "start_time": "2025-01-19T13:28:19.801Z"
   },
   {
    "duration": 244,
    "start_time": "2025-01-19T13:28:20.812Z"
   },
   {
    "duration": 417,
    "start_time": "2025-01-19T13:28:21.058Z"
   },
   {
    "duration": 0,
    "start_time": "2025-01-19T13:28:21.476Z"
   },
   {
    "duration": 0,
    "start_time": "2025-01-19T13:28:21.478Z"
   },
   {
    "duration": 0,
    "start_time": "2025-01-19T13:28:21.479Z"
   },
   {
    "duration": 0,
    "start_time": "2025-01-19T13:28:21.480Z"
   },
   {
    "duration": 0,
    "start_time": "2025-01-19T13:28:21.482Z"
   },
   {
    "duration": 0,
    "start_time": "2025-01-19T13:28:21.483Z"
   },
   {
    "duration": 0,
    "start_time": "2025-01-19T13:28:21.485Z"
   },
   {
    "duration": 0,
    "start_time": "2025-01-19T13:28:21.486Z"
   },
   {
    "duration": 0,
    "start_time": "2025-01-19T13:28:21.487Z"
   },
   {
    "duration": 0,
    "start_time": "2025-01-19T13:28:21.488Z"
   },
   {
    "duration": 0,
    "start_time": "2025-01-19T13:28:21.490Z"
   },
   {
    "duration": 0,
    "start_time": "2025-01-19T13:28:21.491Z"
   },
   {
    "duration": 15,
    "start_time": "2025-01-19T13:30:22.577Z"
   },
   {
    "duration": 15,
    "start_time": "2025-01-19T13:30:34.420Z"
   },
   {
    "duration": 14,
    "start_time": "2025-01-19T13:30:39.732Z"
   },
   {
    "duration": 1012,
    "start_time": "2025-01-19T13:30:40.606Z"
   },
   {
    "duration": 224,
    "start_time": "2025-01-19T13:30:41.620Z"
   },
   {
    "duration": 16,
    "start_time": "2025-01-19T13:30:43.200Z"
   },
   {
    "duration": 1498,
    "start_time": "2025-01-19T13:59:01.231Z"
   },
   {
    "duration": 900,
    "start_time": "2025-01-19T13:59:02.731Z"
   },
   {
    "duration": 169,
    "start_time": "2025-01-19T13:59:03.633Z"
   },
   {
    "duration": 18,
    "start_time": "2025-01-19T13:59:03.805Z"
   },
   {
    "duration": 113,
    "start_time": "2025-01-19T13:59:03.825Z"
   },
   {
    "duration": 152,
    "start_time": "2025-01-19T13:59:03.940Z"
   },
   {
    "duration": 26,
    "start_time": "2025-01-19T13:59:04.094Z"
   },
   {
    "duration": 114,
    "start_time": "2025-01-19T13:59:04.122Z"
   },
   {
    "duration": 52,
    "start_time": "2025-01-19T13:59:04.237Z"
   },
   {
    "duration": 22,
    "start_time": "2025-01-19T13:59:04.292Z"
   },
   {
    "duration": 20,
    "start_time": "2025-01-19T13:59:04.315Z"
   },
   {
    "duration": 29,
    "start_time": "2025-01-19T13:59:04.337Z"
   },
   {
    "duration": 38,
    "start_time": "2025-01-19T13:59:04.369Z"
   },
   {
    "duration": 37,
    "start_time": "2025-01-19T13:59:04.409Z"
   },
   {
    "duration": 109,
    "start_time": "2025-01-19T13:59:04.448Z"
   },
   {
    "duration": 13,
    "start_time": "2025-01-19T13:59:04.558Z"
   },
   {
    "duration": 78,
    "start_time": "2025-01-19T13:59:04.572Z"
   },
   {
    "duration": 6,
    "start_time": "2025-01-19T13:59:04.652Z"
   },
   {
    "duration": 82,
    "start_time": "2025-01-19T13:59:04.660Z"
   },
   {
    "duration": 20,
    "start_time": "2025-01-19T13:59:04.743Z"
   },
   {
    "duration": 87,
    "start_time": "2025-01-19T13:59:04.766Z"
   },
   {
    "duration": 111,
    "start_time": "2025-01-19T13:59:04.855Z"
   },
   {
    "duration": 9,
    "start_time": "2025-01-19T13:59:04.968Z"
   },
   {
    "duration": 281,
    "start_time": "2025-01-19T13:59:04.979Z"
   },
   {
    "duration": 65,
    "start_time": "2025-01-19T13:59:05.261Z"
   },
   {
    "duration": 31,
    "start_time": "2025-01-19T13:59:05.328Z"
   },
   {
    "duration": 27,
    "start_time": "2025-01-19T13:59:05.360Z"
   },
   {
    "duration": 69,
    "start_time": "2025-01-19T13:59:05.390Z"
   },
   {
    "duration": 55,
    "start_time": "2025-01-19T13:59:05.460Z"
   },
   {
    "duration": 54,
    "start_time": "2025-01-19T13:59:05.517Z"
   },
   {
    "duration": 90,
    "start_time": "2025-01-19T13:59:05.572Z"
   },
   {
    "duration": 4,
    "start_time": "2025-01-19T13:59:05.664Z"
   },
   {
    "duration": 166,
    "start_time": "2025-01-19T13:59:05.669Z"
   },
   {
    "duration": 121,
    "start_time": "2025-01-19T13:59:05.837Z"
   },
   {
    "duration": 0,
    "start_time": "2025-01-19T13:59:05.960Z"
   },
   {
    "duration": 0,
    "start_time": "2025-01-19T13:59:05.961Z"
   },
   {
    "duration": 0,
    "start_time": "2025-01-19T13:59:05.970Z"
   },
   {
    "duration": 0,
    "start_time": "2025-01-19T13:59:05.971Z"
   },
   {
    "duration": 1,
    "start_time": "2025-01-19T13:59:05.972Z"
   },
   {
    "duration": 0,
    "start_time": "2025-01-19T13:59:05.974Z"
   },
   {
    "duration": 0,
    "start_time": "2025-01-19T13:59:05.975Z"
   },
   {
    "duration": 0,
    "start_time": "2025-01-19T13:59:05.976Z"
   },
   {
    "duration": 0,
    "start_time": "2025-01-19T13:59:05.977Z"
   },
   {
    "duration": 0,
    "start_time": "2025-01-19T13:59:05.978Z"
   },
   {
    "duration": 0,
    "start_time": "2025-01-19T13:59:05.979Z"
   },
   {
    "duration": 0,
    "start_time": "2025-01-19T13:59:05.981Z"
   },
   {
    "duration": 0,
    "start_time": "2025-01-19T13:59:05.982Z"
   },
   {
    "duration": 1580,
    "start_time": "2025-01-19T14:01:22.340Z"
   },
   {
    "duration": 920,
    "start_time": "2025-01-19T14:01:23.922Z"
   },
   {
    "duration": 172,
    "start_time": "2025-01-19T14:01:24.843Z"
   },
   {
    "duration": 18,
    "start_time": "2025-01-19T14:01:25.018Z"
   },
   {
    "duration": 116,
    "start_time": "2025-01-19T14:01:25.037Z"
   },
   {
    "duration": 155,
    "start_time": "2025-01-19T14:01:25.155Z"
   },
   {
    "duration": 25,
    "start_time": "2025-01-19T14:01:25.312Z"
   },
   {
    "duration": 33,
    "start_time": "2025-01-19T14:01:25.339Z"
   },
   {
    "duration": 34,
    "start_time": "2025-01-19T14:01:25.374Z"
   },
   {
    "duration": 21,
    "start_time": "2025-01-19T14:01:25.411Z"
   },
   {
    "duration": 6,
    "start_time": "2025-01-19T14:01:25.434Z"
   },
   {
    "duration": 54,
    "start_time": "2025-01-19T14:01:25.441Z"
   },
   {
    "duration": 37,
    "start_time": "2025-01-19T14:01:25.497Z"
   },
   {
    "duration": 28,
    "start_time": "2025-01-19T14:01:25.535Z"
   },
   {
    "duration": 171,
    "start_time": "2025-01-19T14:01:25.571Z"
   },
   {
    "duration": 11,
    "start_time": "2025-01-19T14:01:25.746Z"
   },
   {
    "duration": 57,
    "start_time": "2025-01-19T14:01:25.760Z"
   },
   {
    "duration": 8,
    "start_time": "2025-01-19T14:01:25.819Z"
   },
   {
    "duration": 105,
    "start_time": "2025-01-19T14:01:25.829Z"
   },
   {
    "duration": 19,
    "start_time": "2025-01-19T14:01:25.936Z"
   },
   {
    "duration": 46,
    "start_time": "2025-01-19T14:01:25.957Z"
   },
   {
    "duration": 107,
    "start_time": "2025-01-19T14:01:26.005Z"
   },
   {
    "duration": 7,
    "start_time": "2025-01-19T14:01:26.114Z"
   },
   {
    "duration": 281,
    "start_time": "2025-01-19T14:01:26.122Z"
   },
   {
    "duration": 72,
    "start_time": "2025-01-19T14:01:26.405Z"
   },
   {
    "duration": 24,
    "start_time": "2025-01-19T14:01:26.479Z"
   },
   {
    "duration": 10,
    "start_time": "2025-01-19T14:01:26.505Z"
   },
   {
    "duration": 130,
    "start_time": "2025-01-19T14:01:26.520Z"
   },
   {
    "duration": 31,
    "start_time": "2025-01-19T14:01:26.652Z"
   },
   {
    "duration": 8,
    "start_time": "2025-01-19T14:01:26.685Z"
   },
   {
    "duration": 22,
    "start_time": "2025-01-19T14:01:26.695Z"
   },
   {
    "duration": 12,
    "start_time": "2025-01-19T14:01:26.719Z"
   },
   {
    "duration": 88,
    "start_time": "2025-01-19T14:01:26.733Z"
   },
   {
    "duration": 1769,
    "start_time": "2025-01-19T14:01:26.823Z"
   },
   {
    "duration": 406,
    "start_time": "2025-01-19T14:01:28.594Z"
   },
   {
    "duration": 0,
    "start_time": "2025-01-19T14:01:29.002Z"
   },
   {
    "duration": 0,
    "start_time": "2025-01-19T14:01:29.003Z"
   },
   {
    "duration": 0,
    "start_time": "2025-01-19T14:01:29.004Z"
   },
   {
    "duration": 0,
    "start_time": "2025-01-19T14:01:29.005Z"
   },
   {
    "duration": 0,
    "start_time": "2025-01-19T14:01:29.007Z"
   },
   {
    "duration": 0,
    "start_time": "2025-01-19T14:01:29.008Z"
   },
   {
    "duration": 0,
    "start_time": "2025-01-19T14:01:29.009Z"
   },
   {
    "duration": 0,
    "start_time": "2025-01-19T14:01:29.010Z"
   },
   {
    "duration": 0,
    "start_time": "2025-01-19T14:01:29.011Z"
   },
   {
    "duration": 0,
    "start_time": "2025-01-19T14:01:29.012Z"
   },
   {
    "duration": 0,
    "start_time": "2025-01-19T14:01:29.013Z"
   },
   {
    "duration": 0,
    "start_time": "2025-01-19T14:01:29.014Z"
   },
   {
    "duration": 1031,
    "start_time": "2025-01-19T14:13:17.786Z"
   },
   {
    "duration": 1517,
    "start_time": "2025-01-19T14:27:10.564Z"
   },
   {
    "duration": 872,
    "start_time": "2025-01-19T14:27:12.083Z"
   },
   {
    "duration": 155,
    "start_time": "2025-01-19T14:27:12.957Z"
   },
   {
    "duration": 19,
    "start_time": "2025-01-19T14:27:13.115Z"
   },
   {
    "duration": 111,
    "start_time": "2025-01-19T14:27:13.135Z"
   },
   {
    "duration": 151,
    "start_time": "2025-01-19T14:27:13.247Z"
   },
   {
    "duration": 34,
    "start_time": "2025-01-19T14:27:13.400Z"
   },
   {
    "duration": 12,
    "start_time": "2025-01-19T14:27:13.436Z"
   },
   {
    "duration": 45,
    "start_time": "2025-01-19T14:27:13.450Z"
   },
   {
    "duration": 22,
    "start_time": "2025-01-19T14:27:13.499Z"
   },
   {
    "duration": 12,
    "start_time": "2025-01-19T14:27:13.523Z"
   },
   {
    "duration": 46,
    "start_time": "2025-01-19T14:27:13.537Z"
   },
   {
    "duration": 36,
    "start_time": "2025-01-19T14:27:13.585Z"
   },
   {
    "duration": 23,
    "start_time": "2025-01-19T14:27:13.624Z"
   },
   {
    "duration": 144,
    "start_time": "2025-01-19T14:27:13.649Z"
   },
   {
    "duration": 7,
    "start_time": "2025-01-19T14:27:13.795Z"
   },
   {
    "duration": 46,
    "start_time": "2025-01-19T14:27:13.803Z"
   },
   {
    "duration": 22,
    "start_time": "2025-01-19T14:27:13.850Z"
   },
   {
    "duration": 75,
    "start_time": "2025-01-19T14:27:13.874Z"
   },
   {
    "duration": 28,
    "start_time": "2025-01-19T14:27:13.950Z"
   },
   {
    "duration": 65,
    "start_time": "2025-01-19T14:27:13.979Z"
   },
   {
    "duration": 126,
    "start_time": "2025-01-19T14:27:14.046Z"
   },
   {
    "duration": 8,
    "start_time": "2025-01-19T14:27:14.174Z"
   },
   {
    "duration": 276,
    "start_time": "2025-01-19T14:27:14.184Z"
   },
   {
    "duration": 61,
    "start_time": "2025-01-19T14:27:14.461Z"
   },
   {
    "duration": 36,
    "start_time": "2025-01-19T14:27:14.524Z"
   },
   {
    "duration": 10,
    "start_time": "2025-01-19T14:27:14.561Z"
   },
   {
    "duration": 39,
    "start_time": "2025-01-19T14:27:14.575Z"
   },
   {
    "duration": 37,
    "start_time": "2025-01-19T14:27:14.616Z"
   },
   {
    "duration": 55,
    "start_time": "2025-01-19T14:27:14.655Z"
   },
   {
    "duration": 23,
    "start_time": "2025-01-19T14:27:14.711Z"
   },
   {
    "duration": 3,
    "start_time": "2025-01-19T14:27:14.735Z"
   },
   {
    "duration": 101,
    "start_time": "2025-01-19T14:27:14.740Z"
   },
   {
    "duration": 1769,
    "start_time": "2025-01-19T14:27:14.843Z"
   },
   {
    "duration": 4,
    "start_time": "2025-01-19T14:27:16.614Z"
   },
   {
    "duration": 1463,
    "start_time": "2025-01-19T14:27:16.619Z"
   },
   {
    "duration": 0,
    "start_time": "2025-01-19T14:27:18.084Z"
   },
   {
    "duration": 0,
    "start_time": "2025-01-19T14:27:18.085Z"
   },
   {
    "duration": 0,
    "start_time": "2025-01-19T14:27:18.086Z"
   },
   {
    "duration": 0,
    "start_time": "2025-01-19T14:27:18.087Z"
   },
   {
    "duration": 0,
    "start_time": "2025-01-19T14:27:18.088Z"
   },
   {
    "duration": 0,
    "start_time": "2025-01-19T14:27:18.090Z"
   },
   {
    "duration": 0,
    "start_time": "2025-01-19T14:27:18.091Z"
   },
   {
    "duration": 0,
    "start_time": "2025-01-19T14:27:18.092Z"
   },
   {
    "duration": 1,
    "start_time": "2025-01-19T14:27:18.092Z"
   },
   {
    "duration": 0,
    "start_time": "2025-01-19T14:27:18.094Z"
   },
   {
    "duration": 0,
    "start_time": "2025-01-19T14:27:18.095Z"
   },
   {
    "duration": 0,
    "start_time": "2025-01-19T14:27:18.096Z"
   },
   {
    "duration": 0,
    "start_time": "2025-01-19T14:27:18.097Z"
   },
   {
    "duration": 0,
    "start_time": "2025-01-19T14:27:18.098Z"
   },
   {
    "duration": 0,
    "start_time": "2025-01-19T14:27:18.099Z"
   },
   {
    "duration": 1,
    "start_time": "2025-01-19T14:27:18.100Z"
   },
   {
    "duration": 3,
    "start_time": "2025-01-19T14:28:50.222Z"
   },
   {
    "duration": 40,
    "start_time": "2025-01-19T14:30:03.659Z"
   },
   {
    "duration": 2390,
    "start_time": "2025-01-19T14:32:01.104Z"
   },
   {
    "duration": 4,
    "start_time": "2025-01-19T14:32:10.706Z"
   },
   {
    "duration": 4,
    "start_time": "2025-01-19T14:32:11.450Z"
   },
   {
    "duration": 1282,
    "start_time": "2025-01-19T14:32:12.298Z"
   },
   {
    "duration": 3,
    "start_time": "2025-01-19T14:33:54.121Z"
   },
   {
    "duration": 3,
    "start_time": "2025-01-19T14:33:57.608Z"
   },
   {
    "duration": 25,
    "start_time": "2025-01-19T14:33:59.169Z"
   },
   {
    "duration": 4,
    "start_time": "2025-01-19T14:36:01.817Z"
   },
   {
    "duration": 4,
    "start_time": "2025-01-19T14:36:02.523Z"
   },
   {
    "duration": 33,
    "start_time": "2025-01-19T14:36:03.066Z"
   },
   {
    "duration": 3,
    "start_time": "2025-01-19T14:36:11.249Z"
   },
   {
    "duration": 3,
    "start_time": "2025-01-19T14:36:12.016Z"
   },
   {
    "duration": 1632,
    "start_time": "2025-01-19T14:36:12.531Z"
   },
   {
    "duration": 41172,
    "start_time": "2025-01-19T14:36:16.504Z"
   },
   {
    "duration": 43983,
    "start_time": "2025-01-19T14:37:46.488Z"
   },
   {
    "duration": 575669,
    "start_time": "2025-01-19T14:38:34.609Z"
   },
   {
    "duration": 949,
    "start_time": "2025-01-19T14:48:25.834Z"
   },
   {
    "duration": 94,
    "start_time": "2025-01-19T14:53:10.270Z"
   },
   {
    "duration": 939,
    "start_time": "2025-01-19T14:59:11.535Z"
   },
   {
    "duration": 89,
    "start_time": "2025-01-19T14:59:17.283Z"
   },
   {
    "duration": 5,
    "start_time": "2025-01-19T15:03:04.111Z"
   },
   {
    "duration": 5,
    "start_time": "2025-01-19T15:03:29.578Z"
   },
   {
    "duration": 1547,
    "start_time": "2025-01-19T15:04:28.572Z"
   },
   {
    "duration": 908,
    "start_time": "2025-01-19T15:04:30.120Z"
   },
   {
    "duration": 156,
    "start_time": "2025-01-19T15:04:31.030Z"
   },
   {
    "duration": 19,
    "start_time": "2025-01-19T15:04:31.188Z"
   },
   {
    "duration": 123,
    "start_time": "2025-01-19T15:04:31.208Z"
   },
   {
    "duration": 147,
    "start_time": "2025-01-19T15:04:31.333Z"
   },
   {
    "duration": 28,
    "start_time": "2025-01-19T15:04:31.482Z"
   },
   {
    "duration": 28,
    "start_time": "2025-01-19T15:04:31.512Z"
   },
   {
    "duration": 48,
    "start_time": "2025-01-19T15:04:31.541Z"
   },
   {
    "duration": 22,
    "start_time": "2025-01-19T15:04:31.592Z"
   },
   {
    "duration": 33,
    "start_time": "2025-01-19T15:04:31.616Z"
   },
   {
    "duration": 51,
    "start_time": "2025-01-19T15:04:31.650Z"
   },
   {
    "duration": 46,
    "start_time": "2025-01-19T15:04:31.702Z"
   },
   {
    "duration": 28,
    "start_time": "2025-01-19T15:04:31.750Z"
   },
   {
    "duration": 117,
    "start_time": "2025-01-19T15:04:31.780Z"
   },
   {
    "duration": 17,
    "start_time": "2025-01-19T15:04:31.898Z"
   },
   {
    "duration": 55,
    "start_time": "2025-01-19T15:04:31.916Z"
   },
   {
    "duration": 7,
    "start_time": "2025-01-19T15:04:31.972Z"
   },
   {
    "duration": 97,
    "start_time": "2025-01-19T15:04:31.980Z"
   },
   {
    "duration": 18,
    "start_time": "2025-01-19T15:04:32.079Z"
   },
   {
    "duration": 128,
    "start_time": "2025-01-19T15:04:32.098Z"
   },
   {
    "duration": 111,
    "start_time": "2025-01-19T15:04:32.227Z"
   },
   {
    "duration": 7,
    "start_time": "2025-01-19T15:04:32.340Z"
   },
   {
    "duration": 268,
    "start_time": "2025-01-19T15:04:32.348Z"
   },
   {
    "duration": 67,
    "start_time": "2025-01-19T15:04:32.618Z"
   },
   {
    "duration": 32,
    "start_time": "2025-01-19T15:04:32.686Z"
   },
   {
    "duration": 20,
    "start_time": "2025-01-19T15:04:32.719Z"
   },
   {
    "duration": 40,
    "start_time": "2025-01-19T15:04:32.742Z"
   },
   {
    "duration": 123,
    "start_time": "2025-01-19T15:04:32.783Z"
   },
   {
    "duration": 109,
    "start_time": "2025-01-19T15:04:32.908Z"
   },
   {
    "duration": 93,
    "start_time": "2025-01-19T15:04:33.019Z"
   },
   {
    "duration": 27,
    "start_time": "2025-01-19T15:04:33.114Z"
   },
   {
    "duration": 99,
    "start_time": "2025-01-19T15:04:33.142Z"
   },
   {
    "duration": 1760,
    "start_time": "2025-01-19T15:04:33.243Z"
   },
   {
    "duration": 2,
    "start_time": "2025-01-19T15:04:35.005Z"
   },
   {
    "duration": 11,
    "start_time": "2025-01-19T15:04:35.009Z"
   },
   {
    "duration": 1766,
    "start_time": "2025-01-19T15:04:35.021Z"
   },
   {
    "duration": 5,
    "start_time": "2025-01-19T15:04:36.788Z"
   },
   {
    "duration": 0,
    "start_time": "2025-01-19T15:04:36.795Z"
   },
   {
    "duration": 0,
    "start_time": "2025-01-19T15:04:36.796Z"
   },
   {
    "duration": 0,
    "start_time": "2025-01-19T15:04:36.797Z"
   },
   {
    "duration": 0,
    "start_time": "2025-01-19T15:04:36.798Z"
   },
   {
    "duration": 0,
    "start_time": "2025-01-19T15:04:36.799Z"
   },
   {
    "duration": 0,
    "start_time": "2025-01-19T15:04:36.800Z"
   },
   {
    "duration": 0,
    "start_time": "2025-01-19T15:04:36.801Z"
   },
   {
    "duration": 0,
    "start_time": "2025-01-19T15:04:36.802Z"
   },
   {
    "duration": 0,
    "start_time": "2025-01-19T15:04:36.803Z"
   },
   {
    "duration": 0,
    "start_time": "2025-01-19T15:04:36.804Z"
   },
   {
    "duration": 0,
    "start_time": "2025-01-19T15:04:36.805Z"
   },
   {
    "duration": 0,
    "start_time": "2025-01-19T15:04:36.806Z"
   },
   {
    "duration": 0,
    "start_time": "2025-01-19T15:04:36.807Z"
   },
   {
    "duration": 0,
    "start_time": "2025-01-19T15:04:36.808Z"
   },
   {
    "duration": 0,
    "start_time": "2025-01-19T15:04:36.809Z"
   },
   {
    "duration": 36797,
    "start_time": "2025-01-19T15:05:20.983Z"
   },
   {
    "duration": 41736,
    "start_time": "2025-01-19T15:06:46.538Z"
   },
   {
    "duration": 507099,
    "start_time": "2025-01-19T15:07:28.276Z"
   },
   {
    "duration": 23004,
    "start_time": "2025-01-19T15:24:32.675Z"
   },
   {
    "duration": 18295,
    "start_time": "2025-01-19T15:24:55.680Z"
   },
   {
    "duration": 116,
    "start_time": "2025-01-19T15:25:23.076Z"
   },
   {
    "duration": 89,
    "start_time": "2025-01-19T15:30:04.656Z"
   },
   {
    "duration": 109,
    "start_time": "2025-01-19T15:31:00.209Z"
   },
   {
    "duration": 1513,
    "start_time": "2025-01-19T15:31:17.060Z"
   },
   {
    "duration": 887,
    "start_time": "2025-01-19T15:31:18.575Z"
   },
   {
    "duration": 168,
    "start_time": "2025-01-19T15:31:19.463Z"
   },
   {
    "duration": 18,
    "start_time": "2025-01-19T15:31:19.633Z"
   },
   {
    "duration": 105,
    "start_time": "2025-01-19T15:31:19.652Z"
   },
   {
    "duration": 160,
    "start_time": "2025-01-19T15:31:19.758Z"
   },
   {
    "duration": 63,
    "start_time": "2025-01-19T15:31:19.919Z"
   },
   {
    "duration": 23,
    "start_time": "2025-01-19T15:31:19.984Z"
   },
   {
    "duration": 53,
    "start_time": "2025-01-19T15:31:20.008Z"
   },
   {
    "duration": 28,
    "start_time": "2025-01-19T15:31:20.064Z"
   },
   {
    "duration": 7,
    "start_time": "2025-01-19T15:31:20.094Z"
   },
   {
    "duration": 31,
    "start_time": "2025-01-19T15:31:20.103Z"
   },
   {
    "duration": 52,
    "start_time": "2025-01-19T15:31:20.136Z"
   },
   {
    "duration": 21,
    "start_time": "2025-01-19T15:31:20.190Z"
   },
   {
    "duration": 129,
    "start_time": "2025-01-19T15:31:20.213Z"
   },
   {
    "duration": 9,
    "start_time": "2025-01-19T15:31:20.344Z"
   },
   {
    "duration": 55,
    "start_time": "2025-01-19T15:31:20.355Z"
   },
   {
    "duration": 5,
    "start_time": "2025-01-19T15:31:20.412Z"
   },
   {
    "duration": 77,
    "start_time": "2025-01-19T15:31:20.419Z"
   },
   {
    "duration": 18,
    "start_time": "2025-01-19T15:31:20.498Z"
   },
   {
    "duration": 146,
    "start_time": "2025-01-19T15:31:20.517Z"
   },
   {
    "duration": 105,
    "start_time": "2025-01-19T15:31:20.665Z"
   },
   {
    "duration": 7,
    "start_time": "2025-01-19T15:31:20.772Z"
   },
   {
    "duration": 281,
    "start_time": "2025-01-19T15:31:20.780Z"
   },
   {
    "duration": 65,
    "start_time": "2025-01-19T15:31:21.063Z"
   },
   {
    "duration": 18,
    "start_time": "2025-01-19T15:31:21.129Z"
   },
   {
    "duration": 24,
    "start_time": "2025-01-19T15:31:21.148Z"
   },
   {
    "duration": 38,
    "start_time": "2025-01-19T15:31:21.175Z"
   },
   {
    "duration": 31,
    "start_time": "2025-01-19T15:31:21.215Z"
   },
   {
    "duration": 8,
    "start_time": "2025-01-19T15:31:21.247Z"
   },
   {
    "duration": 28,
    "start_time": "2025-01-19T15:31:21.257Z"
   },
   {
    "duration": 3,
    "start_time": "2025-01-19T15:31:21.287Z"
   },
   {
    "duration": 108,
    "start_time": "2025-01-19T15:31:21.292Z"
   },
   {
    "duration": 1769,
    "start_time": "2025-01-19T15:31:21.402Z"
   },
   {
    "duration": 4,
    "start_time": "2025-01-19T15:31:23.173Z"
   },
   {
    "duration": 4,
    "start_time": "2025-01-19T15:31:23.179Z"
   },
   {
    "duration": 1740,
    "start_time": "2025-01-19T15:31:23.185Z"
   },
   {
    "duration": 38155,
    "start_time": "2025-01-19T15:31:24.927Z"
   },
   {
    "duration": 44002,
    "start_time": "2025-01-19T15:32:03.170Z"
   },
   {
    "duration": 519695,
    "start_time": "2025-01-19T15:32:47.177Z"
   },
   {
    "duration": 20398,
    "start_time": "2025-01-19T15:41:26.875Z"
   },
   {
    "duration": 211,
    "start_time": "2025-01-19T15:41:47.275Z"
   },
   {
    "duration": 17687,
    "start_time": "2025-01-19T15:41:47.488Z"
   },
   {
    "duration": 100,
    "start_time": "2025-01-19T15:42:05.180Z"
   },
   {
    "duration": 0,
    "start_time": "2025-01-19T15:42:05.281Z"
   },
   {
    "duration": 0,
    "start_time": "2025-01-19T15:42:05.282Z"
   },
   {
    "duration": 0,
    "start_time": "2025-01-19T15:42:05.283Z"
   },
   {
    "duration": 0,
    "start_time": "2025-01-19T15:42:05.284Z"
   },
   {
    "duration": 0,
    "start_time": "2025-01-19T15:42:05.285Z"
   },
   {
    "duration": 0,
    "start_time": "2025-01-19T15:42:05.286Z"
   },
   {
    "duration": 0,
    "start_time": "2025-01-19T15:42:05.287Z"
   },
   {
    "duration": 0,
    "start_time": "2025-01-19T15:42:05.288Z"
   },
   {
    "duration": 0,
    "start_time": "2025-01-19T15:42:05.289Z"
   },
   {
    "duration": 1461,
    "start_time": "2025-01-19T16:13:08.019Z"
   },
   {
    "duration": 923,
    "start_time": "2025-01-19T16:13:09.483Z"
   },
   {
    "duration": 170,
    "start_time": "2025-01-19T16:13:10.408Z"
   },
   {
    "duration": 20,
    "start_time": "2025-01-19T16:13:10.581Z"
   },
   {
    "duration": 119,
    "start_time": "2025-01-19T16:13:10.603Z"
   },
   {
    "duration": 204,
    "start_time": "2025-01-19T16:13:10.724Z"
   },
   {
    "duration": 25,
    "start_time": "2025-01-19T16:13:10.930Z"
   },
   {
    "duration": 19,
    "start_time": "2025-01-19T16:13:10.957Z"
   },
   {
    "duration": 36,
    "start_time": "2025-01-19T16:13:10.978Z"
   },
   {
    "duration": 23,
    "start_time": "2025-01-19T16:13:11.016Z"
   },
   {
    "duration": 29,
    "start_time": "2025-01-19T16:13:11.041Z"
   },
   {
    "duration": 31,
    "start_time": "2025-01-19T16:13:11.072Z"
   },
   {
    "duration": 51,
    "start_time": "2025-01-19T16:13:11.104Z"
   },
   {
    "duration": 102,
    "start_time": "2025-01-19T16:13:11.157Z"
   },
   {
    "duration": 110,
    "start_time": "2025-01-19T16:13:11.260Z"
   },
   {
    "duration": 8,
    "start_time": "2025-01-19T16:13:11.372Z"
   },
   {
    "duration": 40,
    "start_time": "2025-01-19T16:13:11.381Z"
   },
   {
    "duration": 7,
    "start_time": "2025-01-19T16:13:11.422Z"
   },
   {
    "duration": 86,
    "start_time": "2025-01-19T16:13:11.430Z"
   },
   {
    "duration": 20,
    "start_time": "2025-01-19T16:13:11.518Z"
   },
   {
    "duration": 48,
    "start_time": "2025-01-19T16:13:11.539Z"
   },
   {
    "duration": 113,
    "start_time": "2025-01-19T16:13:11.588Z"
   },
   {
    "duration": 8,
    "start_time": "2025-01-19T16:13:11.703Z"
   },
   {
    "duration": 327,
    "start_time": "2025-01-19T16:13:11.712Z"
   },
   {
    "duration": 63,
    "start_time": "2025-01-19T16:13:12.040Z"
   },
   {
    "duration": 32,
    "start_time": "2025-01-19T16:13:12.104Z"
   },
   {
    "duration": 10,
    "start_time": "2025-01-19T16:13:12.137Z"
   },
   {
    "duration": 42,
    "start_time": "2025-01-19T16:13:12.151Z"
   },
   {
    "duration": 20,
    "start_time": "2025-01-19T16:13:12.194Z"
   },
   {
    "duration": 9,
    "start_time": "2025-01-19T16:13:12.216Z"
   },
   {
    "duration": 28,
    "start_time": "2025-01-19T16:13:12.227Z"
   },
   {
    "duration": 4,
    "start_time": "2025-01-19T16:13:12.271Z"
   },
   {
    "duration": 94,
    "start_time": "2025-01-19T16:13:12.276Z"
   },
   {
    "duration": 1937,
    "start_time": "2025-01-19T16:13:12.372Z"
   },
   {
    "duration": 3,
    "start_time": "2025-01-19T16:13:14.311Z"
   },
   {
    "duration": 57,
    "start_time": "2025-01-19T16:13:14.315Z"
   },
   {
    "duration": 2360,
    "start_time": "2025-01-19T16:13:14.374Z"
   },
   {
    "duration": 20040,
    "start_time": "2025-01-19T16:13:16.735Z"
   },
   {
    "duration": 1665,
    "start_time": "2025-01-19T16:19:03.661Z"
   },
   {
    "duration": 952,
    "start_time": "2025-01-19T16:19:05.330Z"
   },
   {
    "duration": 156,
    "start_time": "2025-01-19T16:19:06.284Z"
   },
   {
    "duration": 30,
    "start_time": "2025-01-19T16:19:06.441Z"
   },
   {
    "duration": 103,
    "start_time": "2025-01-19T16:19:06.473Z"
   },
   {
    "duration": 153,
    "start_time": "2025-01-19T16:19:06.578Z"
   },
   {
    "duration": 57,
    "start_time": "2025-01-19T16:19:06.733Z"
   },
   {
    "duration": 19,
    "start_time": "2025-01-19T16:19:06.792Z"
   },
   {
    "duration": 40,
    "start_time": "2025-01-19T16:19:06.814Z"
   },
   {
    "duration": 22,
    "start_time": "2025-01-19T16:19:06.856Z"
   },
   {
    "duration": 26,
    "start_time": "2025-01-19T16:19:06.880Z"
   },
   {
    "duration": 36,
    "start_time": "2025-01-19T16:19:06.908Z"
   },
   {
    "duration": 36,
    "start_time": "2025-01-19T16:19:06.946Z"
   },
   {
    "duration": 30,
    "start_time": "2025-01-19T16:19:06.984Z"
   },
   {
    "duration": 118,
    "start_time": "2025-01-19T16:19:07.016Z"
   },
   {
    "duration": 8,
    "start_time": "2025-01-19T16:19:07.135Z"
   },
   {
    "duration": 52,
    "start_time": "2025-01-19T16:19:07.145Z"
   },
   {
    "duration": 7,
    "start_time": "2025-01-19T16:19:07.199Z"
   },
   {
    "duration": 133,
    "start_time": "2025-01-19T16:19:07.208Z"
   },
   {
    "duration": 20,
    "start_time": "2025-01-19T16:19:07.343Z"
   },
   {
    "duration": 38,
    "start_time": "2025-01-19T16:19:07.365Z"
   },
   {
    "duration": 105,
    "start_time": "2025-01-19T16:19:07.405Z"
   },
   {
    "duration": 7,
    "start_time": "2025-01-19T16:19:07.512Z"
   },
   {
    "duration": 283,
    "start_time": "2025-01-19T16:19:07.520Z"
   },
   {
    "duration": 68,
    "start_time": "2025-01-19T16:19:07.805Z"
   },
   {
    "duration": 16,
    "start_time": "2025-01-19T16:19:07.874Z"
   },
   {
    "duration": 6,
    "start_time": "2025-01-19T16:19:07.893Z"
   },
   {
    "duration": 39,
    "start_time": "2025-01-19T16:19:07.900Z"
   },
   {
    "duration": 47,
    "start_time": "2025-01-19T16:19:07.941Z"
   },
   {
    "duration": 17,
    "start_time": "2025-01-19T16:19:07.990Z"
   },
   {
    "duration": 23,
    "start_time": "2025-01-19T16:19:08.009Z"
   },
   {
    "duration": 4,
    "start_time": "2025-01-19T16:19:08.033Z"
   },
   {
    "duration": 212,
    "start_time": "2025-01-19T16:19:08.039Z"
   },
   {
    "duration": 1754,
    "start_time": "2025-01-19T16:19:08.252Z"
   },
   {
    "duration": 3,
    "start_time": "2025-01-19T16:19:10.008Z"
   },
   {
    "duration": 19,
    "start_time": "2025-01-19T16:19:10.013Z"
   },
   {
    "duration": 1767,
    "start_time": "2025-01-19T16:19:10.033Z"
   },
   {
    "duration": 19569,
    "start_time": "2025-01-19T16:19:11.802Z"
   },
   {
    "duration": 717399,
    "start_time": "2025-01-19T16:19:31.373Z"
   },
   {
    "duration": 4,
    "start_time": "2025-01-19T16:31:28.774Z"
   },
   {
    "duration": 190,
    "start_time": "2025-01-19T16:31:28.780Z"
   },
   {
    "duration": 426609,
    "start_time": "2025-01-19T16:31:28.973Z"
   },
   {
    "duration": 91,
    "start_time": "2025-01-19T16:38:35.584Z"
   },
   {
    "duration": 18509,
    "start_time": "2025-01-19T16:38:35.678Z"
   },
   {
    "duration": 186,
    "start_time": "2025-01-19T16:38:54.190Z"
   },
   {
    "duration": 28296,
    "start_time": "2025-01-19T16:38:54.379Z"
   },
   {
    "duration": 1202,
    "start_time": "2025-01-19T16:39:22.678Z"
   },
   {
    "duration": 29500,
    "start_time": "2025-01-19T16:39:23.882Z"
   },
   {
    "duration": 3,
    "start_time": "2025-01-19T16:39:53.384Z"
   },
   {
    "duration": 18,
    "start_time": "2025-01-19T16:39:53.388Z"
   },
   {
    "duration": 573061,
    "start_time": "2025-01-19T16:47:41.815Z"
   },
   {
    "duration": 91,
    "start_time": "2025-01-19T16:57:14.881Z"
   },
   {
    "duration": 1098,
    "start_time": "2025-01-19T16:57:14.974Z"
   },
   {
    "duration": 3,
    "start_time": "2025-01-19T17:04:36.050Z"
   },
   {
    "duration": 10,
    "start_time": "2025-01-19T17:05:27.962Z"
   },
   {
    "duration": 4,
    "start_time": "2025-01-19T17:05:55.114Z"
   },
   {
    "duration": 9,
    "start_time": "2025-01-19T17:05:55.710Z"
   },
   {
    "duration": 129,
    "start_time": "2025-01-19T17:14:16.529Z"
   },
   {
    "duration": 26,
    "start_time": "2025-01-19T17:14:40.407Z"
   },
   {
    "duration": 4,
    "start_time": "2025-01-19T17:15:51.318Z"
   },
   {
    "duration": 25,
    "start_time": "2025-01-19T17:15:52.475Z"
   },
   {
    "duration": 4,
    "start_time": "2025-01-19T17:17:18.144Z"
   },
   {
    "duration": 11,
    "start_time": "2025-01-19T17:17:25.109Z"
   },
   {
    "duration": 14,
    "start_time": "2025-01-19T17:18:03.640Z"
   },
   {
    "duration": 25,
    "start_time": "2025-01-19T17:18:13.255Z"
   },
   {
    "duration": 19,
    "start_time": "2025-01-19T17:18:52.186Z"
   },
   {
    "duration": 21,
    "start_time": "2025-01-19T17:19:42.094Z"
   },
   {
    "duration": 10,
    "start_time": "2025-01-19T17:22:35.259Z"
   },
   {
    "duration": 9,
    "start_time": "2025-01-19T17:28:41.337Z"
   },
   {
    "duration": 11,
    "start_time": "2025-01-19T17:30:20.758Z"
   },
   {
    "duration": 27,
    "start_time": "2025-01-19T17:30:42.265Z"
   },
   {
    "duration": 12,
    "start_time": "2025-01-19T17:38:44.392Z"
   },
   {
    "duration": 10,
    "start_time": "2025-01-19T17:41:09.493Z"
   },
   {
    "duration": 7,
    "start_time": "2025-01-19T17:41:17.381Z"
   },
   {
    "duration": 14251,
    "start_time": "2025-01-19T17:41:23.639Z"
   },
   {
    "duration": 29260,
    "start_time": "2025-01-19T17:41:41.424Z"
   },
   {
    "duration": 1151,
    "start_time": "2025-01-19T17:43:19.622Z"
   },
   {
    "duration": 1216,
    "start_time": "2025-01-19T17:47:00.255Z"
   },
   {
    "duration": 1202,
    "start_time": "2025-01-19T17:47:12.869Z"
   },
   {
    "duration": 1588,
    "start_time": "2025-01-19T18:04:18.852Z"
   },
   {
    "duration": 977,
    "start_time": "2025-01-19T18:04:20.442Z"
   },
   {
    "duration": 166,
    "start_time": "2025-01-19T18:04:21.421Z"
   },
   {
    "duration": 19,
    "start_time": "2025-01-19T18:04:21.591Z"
   },
   {
    "duration": 116,
    "start_time": "2025-01-19T18:04:21.612Z"
   },
   {
    "duration": 170,
    "start_time": "2025-01-19T18:04:21.730Z"
   },
   {
    "duration": 27,
    "start_time": "2025-01-19T18:04:21.902Z"
   },
   {
    "duration": 14,
    "start_time": "2025-01-19T18:04:21.932Z"
   },
   {
    "duration": 56,
    "start_time": "2025-01-19T18:04:21.948Z"
   },
   {
    "duration": 22,
    "start_time": "2025-01-19T18:04:22.007Z"
   },
   {
    "duration": 6,
    "start_time": "2025-01-19T18:04:22.031Z"
   },
   {
    "duration": 56,
    "start_time": "2025-01-19T18:04:22.038Z"
   },
   {
    "duration": 36,
    "start_time": "2025-01-19T18:04:22.096Z"
   },
   {
    "duration": 24,
    "start_time": "2025-01-19T18:04:22.133Z"
   },
   {
    "duration": 139,
    "start_time": "2025-01-19T18:04:22.170Z"
   },
   {
    "duration": 8,
    "start_time": "2025-01-19T18:04:22.311Z"
   },
   {
    "duration": 50,
    "start_time": "2025-01-19T18:04:22.321Z"
   },
   {
    "duration": 8,
    "start_time": "2025-01-19T18:04:22.373Z"
   },
   {
    "duration": 97,
    "start_time": "2025-01-19T18:04:22.384Z"
   },
   {
    "duration": 23,
    "start_time": "2025-01-19T18:04:22.483Z"
   },
   {
    "duration": 43,
    "start_time": "2025-01-19T18:04:22.508Z"
   },
   {
    "duration": 121,
    "start_time": "2025-01-19T18:04:22.553Z"
   },
   {
    "duration": 11,
    "start_time": "2025-01-19T18:04:22.677Z"
   },
   {
    "duration": 321,
    "start_time": "2025-01-19T18:04:22.690Z"
   },
   {
    "duration": 68,
    "start_time": "2025-01-19T18:04:23.012Z"
   },
   {
    "duration": 27,
    "start_time": "2025-01-19T18:04:23.082Z"
   },
   {
    "duration": 18,
    "start_time": "2025-01-19T18:04:23.111Z"
   },
   {
    "duration": 140,
    "start_time": "2025-01-19T18:04:23.133Z"
   },
   {
    "duration": 34,
    "start_time": "2025-01-19T18:04:23.275Z"
   },
   {
    "duration": 9,
    "start_time": "2025-01-19T18:04:23.311Z"
   },
   {
    "duration": 22,
    "start_time": "2025-01-19T18:04:23.321Z"
   },
   {
    "duration": 3,
    "start_time": "2025-01-19T18:04:23.345Z"
   },
   {
    "duration": 108,
    "start_time": "2025-01-19T18:04:23.350Z"
   },
   {
    "duration": 1932,
    "start_time": "2025-01-19T18:04:23.460Z"
   },
   {
    "duration": 4,
    "start_time": "2025-01-19T18:04:25.395Z"
   },
   {
    "duration": 13,
    "start_time": "2025-01-19T18:04:25.401Z"
   },
   {
    "duration": 1937,
    "start_time": "2025-01-19T18:04:25.417Z"
   },
   {
    "duration": 40719,
    "start_time": "2025-01-19T18:04:27.356Z"
   },
   {
    "duration": 1067793,
    "start_time": "2025-01-19T18:05:08.078Z"
   },
   {
    "duration": 7,
    "start_time": "2025-01-19T18:22:55.873Z"
   },
   {
    "duration": 88,
    "start_time": "2025-01-19T18:22:55.883Z"
   },
   {
    "duration": 88,
    "start_time": "2025-01-19T18:22:55.973Z"
   },
   {
    "duration": 864014,
    "start_time": "2025-01-19T18:22:56.070Z"
   },
   {
    "duration": 94,
    "start_time": "2025-01-19T18:37:20.086Z"
   },
   {
    "duration": 18193,
    "start_time": "2025-01-19T18:37:20.182Z"
   },
   {
    "duration": 106,
    "start_time": "2025-01-19T18:37:38.377Z"
   },
   {
    "duration": 29492,
    "start_time": "2025-01-19T18:37:38.485Z"
   },
   {
    "duration": 1207,
    "start_time": "2025-01-19T18:38:07.979Z"
   },
   {
    "duration": 29886,
    "start_time": "2025-01-19T18:38:09.187Z"
   },
   {
    "duration": 22,
    "start_time": "2025-01-19T18:38:39.075Z"
   },
   {
    "duration": 10484,
    "start_time": "2025-01-19T18:38:39.098Z"
   },
   {
    "duration": 1189,
    "start_time": "2025-01-19T18:38:49.583Z"
   },
   {
    "duration": 1645,
    "start_time": "2025-01-20T18:00:27.698Z"
   },
   {
    "duration": 1123,
    "start_time": "2025-01-20T18:00:29.345Z"
   },
   {
    "duration": 112,
    "start_time": "2025-01-20T18:00:30.470Z"
   },
   {
    "duration": 17,
    "start_time": "2025-01-20T18:00:30.584Z"
   },
   {
    "duration": 107,
    "start_time": "2025-01-20T18:00:30.603Z"
   },
   {
    "duration": 102,
    "start_time": "2025-01-20T18:00:30.712Z"
   },
   {
    "duration": 16,
    "start_time": "2025-01-20T18:00:30.816Z"
   },
   {
    "duration": 15,
    "start_time": "2025-01-20T18:00:30.849Z"
   },
   {
    "duration": 39,
    "start_time": "2025-01-20T18:00:30.866Z"
   },
   {
    "duration": 59,
    "start_time": "2025-01-20T18:00:30.909Z"
   },
   {
    "duration": 6,
    "start_time": "2025-01-20T18:00:30.969Z"
   },
   {
    "duration": 31,
    "start_time": "2025-01-20T18:00:30.977Z"
   },
   {
    "duration": 27,
    "start_time": "2025-01-20T18:00:31.010Z"
   },
   {
    "duration": 32,
    "start_time": "2025-01-20T18:00:31.046Z"
   },
   {
    "duration": 124,
    "start_time": "2025-01-20T18:00:31.080Z"
   },
   {
    "duration": 7,
    "start_time": "2025-01-20T18:00:31.206Z"
   },
   {
    "duration": 50,
    "start_time": "2025-01-20T18:00:31.215Z"
   },
   {
    "duration": 7,
    "start_time": "2025-01-20T18:00:31.267Z"
   },
   {
    "duration": 113,
    "start_time": "2025-01-20T18:00:31.275Z"
   },
   {
    "duration": 16,
    "start_time": "2025-01-20T18:00:31.390Z"
   },
   {
    "duration": 40,
    "start_time": "2025-01-20T18:00:31.408Z"
   },
   {
    "duration": 96,
    "start_time": "2025-01-20T18:00:31.450Z"
   },
   {
    "duration": 8,
    "start_time": "2025-01-20T18:00:31.549Z"
   },
   {
    "duration": 321,
    "start_time": "2025-01-20T18:00:31.559Z"
   },
   {
    "duration": 45,
    "start_time": "2025-01-20T18:00:31.882Z"
   },
   {
    "duration": 80,
    "start_time": "2025-01-20T18:00:31.929Z"
   },
   {
    "duration": 36,
    "start_time": "2025-01-20T18:00:32.011Z"
   },
   {
    "duration": 46,
    "start_time": "2025-01-20T18:00:32.050Z"
   },
   {
    "duration": 38,
    "start_time": "2025-01-20T18:00:32.098Z"
   },
   {
    "duration": 38,
    "start_time": "2025-01-20T18:00:32.138Z"
   },
   {
    "duration": 34,
    "start_time": "2025-01-20T18:00:32.178Z"
   },
   {
    "duration": 14,
    "start_time": "2025-01-20T18:00:32.214Z"
   },
   {
    "duration": 112,
    "start_time": "2025-01-20T18:00:32.230Z"
   },
   {
    "duration": 2264,
    "start_time": "2025-01-20T18:00:32.343Z"
   },
   {
    "duration": 3,
    "start_time": "2025-01-20T18:00:34.608Z"
   },
   {
    "duration": 80,
    "start_time": "2025-01-20T18:00:34.613Z"
   },
   {
    "duration": 2281,
    "start_time": "2025-01-20T18:00:34.695Z"
   },
   {
    "duration": 46402,
    "start_time": "2025-01-20T18:00:36.978Z"
   },
   {
    "duration": 1195098,
    "start_time": "2025-01-20T18:01:23.382Z"
   },
   {
    "duration": 14,
    "start_time": "2025-01-20T18:21:18.550Z"
   },
   {
    "duration": 8,
    "start_time": "2025-01-20T18:21:18.566Z"
   },
   {
    "duration": 179,
    "start_time": "2025-01-20T18:21:18.576Z"
   },
   {
    "duration": 1412,
    "start_time": "2025-01-20T19:45:02.106Z"
   },
   {
    "duration": 850,
    "start_time": "2025-01-20T19:45:03.520Z"
   },
   {
    "duration": 220,
    "start_time": "2025-01-20T19:45:04.372Z"
   },
   {
    "duration": 0,
    "start_time": "2025-01-20T19:45:04.595Z"
   },
   {
    "duration": 0,
    "start_time": "2025-01-20T19:45:04.596Z"
   },
   {
    "duration": 0,
    "start_time": "2025-01-20T19:45:04.597Z"
   },
   {
    "duration": 0,
    "start_time": "2025-01-20T19:45:04.598Z"
   },
   {
    "duration": 0,
    "start_time": "2025-01-20T19:45:04.599Z"
   },
   {
    "duration": 0,
    "start_time": "2025-01-20T19:45:04.600Z"
   },
   {
    "duration": 0,
    "start_time": "2025-01-20T19:45:04.601Z"
   },
   {
    "duration": 0,
    "start_time": "2025-01-20T19:45:04.602Z"
   },
   {
    "duration": 0,
    "start_time": "2025-01-20T19:45:04.603Z"
   },
   {
    "duration": 0,
    "start_time": "2025-01-20T19:45:04.604Z"
   },
   {
    "duration": 0,
    "start_time": "2025-01-20T19:45:04.604Z"
   },
   {
    "duration": 0,
    "start_time": "2025-01-20T19:45:04.606Z"
   },
   {
    "duration": 0,
    "start_time": "2025-01-20T19:45:04.607Z"
   },
   {
    "duration": 0,
    "start_time": "2025-01-20T19:45:04.608Z"
   },
   {
    "duration": 0,
    "start_time": "2025-01-20T19:45:04.609Z"
   },
   {
    "duration": 0,
    "start_time": "2025-01-20T19:45:04.610Z"
   },
   {
    "duration": 0,
    "start_time": "2025-01-20T19:45:04.611Z"
   },
   {
    "duration": 0,
    "start_time": "2025-01-20T19:45:04.612Z"
   },
   {
    "duration": 0,
    "start_time": "2025-01-20T19:45:04.613Z"
   },
   {
    "duration": 0,
    "start_time": "2025-01-20T19:45:04.646Z"
   },
   {
    "duration": 0,
    "start_time": "2025-01-20T19:45:04.648Z"
   },
   {
    "duration": 0,
    "start_time": "2025-01-20T19:45:04.649Z"
   },
   {
    "duration": 0,
    "start_time": "2025-01-20T19:45:04.650Z"
   },
   {
    "duration": 0,
    "start_time": "2025-01-20T19:45:04.651Z"
   },
   {
    "duration": 0,
    "start_time": "2025-01-20T19:45:04.652Z"
   },
   {
    "duration": 0,
    "start_time": "2025-01-20T19:45:04.653Z"
   },
   {
    "duration": 0,
    "start_time": "2025-01-20T19:45:04.654Z"
   },
   {
    "duration": 0,
    "start_time": "2025-01-20T19:45:04.655Z"
   },
   {
    "duration": 0,
    "start_time": "2025-01-20T19:45:04.656Z"
   },
   {
    "duration": 0,
    "start_time": "2025-01-20T19:45:04.657Z"
   },
   {
    "duration": 0,
    "start_time": "2025-01-20T19:45:04.658Z"
   },
   {
    "duration": 0,
    "start_time": "2025-01-20T19:45:04.659Z"
   },
   {
    "duration": 0,
    "start_time": "2025-01-20T19:45:04.660Z"
   },
   {
    "duration": 0,
    "start_time": "2025-01-20T19:45:04.661Z"
   },
   {
    "duration": 0,
    "start_time": "2025-01-20T19:45:04.662Z"
   },
   {
    "duration": 0,
    "start_time": "2025-01-20T19:45:04.665Z"
   },
   {
    "duration": 0,
    "start_time": "2025-01-20T19:45:04.666Z"
   },
   {
    "duration": 0,
    "start_time": "2025-01-20T19:45:04.667Z"
   },
   {
    "duration": 0,
    "start_time": "2025-01-20T19:45:04.668Z"
   },
   {
    "duration": 0,
    "start_time": "2025-01-20T19:45:04.669Z"
   },
   {
    "duration": 0,
    "start_time": "2025-01-20T19:45:04.670Z"
   },
   {
    "duration": 0,
    "start_time": "2025-01-20T19:45:04.671Z"
   },
   {
    "duration": 0,
    "start_time": "2025-01-20T19:45:04.672Z"
   },
   {
    "duration": 0,
    "start_time": "2025-01-20T19:45:04.673Z"
   },
   {
    "duration": 0,
    "start_time": "2025-01-20T19:45:04.675Z"
   },
   {
    "duration": 0,
    "start_time": "2025-01-20T19:45:04.676Z"
   },
   {
    "duration": 0,
    "start_time": "2025-01-20T19:45:04.677Z"
   },
   {
    "duration": 0,
    "start_time": "2025-01-20T19:45:04.678Z"
   },
   {
    "duration": 0,
    "start_time": "2025-01-20T19:45:04.679Z"
   },
   {
    "duration": 0,
    "start_time": "2025-01-20T19:45:04.680Z"
   },
   {
    "duration": 0,
    "start_time": "2025-01-20T19:45:04.681Z"
   },
   {
    "duration": 0,
    "start_time": "2025-01-20T19:45:04.682Z"
   },
   {
    "duration": 1495,
    "start_time": "2025-01-20T19:45:27.199Z"
   },
   {
    "duration": 766,
    "start_time": "2025-01-20T19:45:28.695Z"
   },
   {
    "duration": 128,
    "start_time": "2025-01-20T19:45:29.463Z"
   },
   {
    "duration": 17,
    "start_time": "2025-01-20T19:45:29.593Z"
   },
   {
    "duration": 101,
    "start_time": "2025-01-20T19:45:29.612Z"
   },
   {
    "duration": 122,
    "start_time": "2025-01-20T19:45:29.714Z"
   },
   {
    "duration": 31,
    "start_time": "2025-01-20T19:45:29.838Z"
   },
   {
    "duration": 10,
    "start_time": "2025-01-20T19:45:29.871Z"
   },
   {
    "duration": 34,
    "start_time": "2025-01-20T19:45:29.882Z"
   },
   {
    "duration": 43,
    "start_time": "2025-01-20T19:45:29.918Z"
   },
   {
    "duration": 6,
    "start_time": "2025-01-20T19:45:29.962Z"
   },
   {
    "duration": 91,
    "start_time": "2025-01-20T19:45:29.969Z"
   },
   {
    "duration": 45,
    "start_time": "2025-01-20T19:45:30.062Z"
   },
   {
    "duration": 30,
    "start_time": "2025-01-20T19:45:30.108Z"
   },
   {
    "duration": 127,
    "start_time": "2025-01-20T19:45:30.139Z"
   },
   {
    "duration": 9,
    "start_time": "2025-01-20T19:45:30.268Z"
   },
   {
    "duration": 114,
    "start_time": "2025-01-20T19:45:30.278Z"
   },
   {
    "duration": 6,
    "start_time": "2025-01-20T19:45:30.394Z"
   },
   {
    "duration": 77,
    "start_time": "2025-01-20T19:45:30.401Z"
   },
   {
    "duration": 16,
    "start_time": "2025-01-20T19:45:30.480Z"
   },
   {
    "duration": 30,
    "start_time": "2025-01-20T19:45:30.497Z"
   },
   {
    "duration": 95,
    "start_time": "2025-01-20T19:45:30.528Z"
   },
   {
    "duration": 22,
    "start_time": "2025-01-20T19:45:30.625Z"
   },
   {
    "duration": 259,
    "start_time": "2025-01-20T19:45:30.648Z"
   },
   {
    "duration": 53,
    "start_time": "2025-01-20T19:45:30.909Z"
   },
   {
    "duration": 17,
    "start_time": "2025-01-20T19:45:30.964Z"
   },
   {
    "duration": 82,
    "start_time": "2025-01-20T19:45:30.982Z"
   },
   {
    "duration": 49,
    "start_time": "2025-01-20T19:45:31.069Z"
   },
   {
    "duration": 17,
    "start_time": "2025-01-20T19:45:31.119Z"
   },
   {
    "duration": 21,
    "start_time": "2025-01-20T19:45:31.138Z"
   },
   {
    "duration": 16,
    "start_time": "2025-01-20T19:45:31.161Z"
   },
   {
    "duration": 2,
    "start_time": "2025-01-20T19:45:31.179Z"
   },
   {
    "duration": 88,
    "start_time": "2025-01-20T19:45:31.183Z"
   },
   {
    "duration": 1662,
    "start_time": "2025-01-20T19:45:31.273Z"
   },
   {
    "duration": 10,
    "start_time": "2025-01-20T19:45:32.937Z"
   },
   {
    "duration": 15,
    "start_time": "2025-01-20T19:45:32.949Z"
   },
   {
    "duration": 1656,
    "start_time": "2025-01-20T19:45:32.966Z"
   },
   {
    "duration": 45245,
    "start_time": "2025-01-20T19:45:34.623Z"
   },
   {
    "duration": 1473,
    "start_time": "2025-01-20T19:48:16.428Z"
   },
   {
    "duration": 800,
    "start_time": "2025-01-20T19:48:17.904Z"
   },
   {
    "duration": 126,
    "start_time": "2025-01-20T19:48:18.705Z"
   },
   {
    "duration": 34,
    "start_time": "2025-01-20T19:48:18.833Z"
   },
   {
    "duration": 104,
    "start_time": "2025-01-20T19:48:18.868Z"
   },
   {
    "duration": 120,
    "start_time": "2025-01-20T19:48:18.974Z"
   },
   {
    "duration": 23,
    "start_time": "2025-01-20T19:48:19.096Z"
   },
   {
    "duration": 28,
    "start_time": "2025-01-20T19:48:19.121Z"
   },
   {
    "duration": 38,
    "start_time": "2025-01-20T19:48:19.151Z"
   },
   {
    "duration": 17,
    "start_time": "2025-01-20T19:48:19.191Z"
   },
   {
    "duration": 5,
    "start_time": "2025-01-20T19:48:19.210Z"
   },
   {
    "duration": 57,
    "start_time": "2025-01-20T19:48:19.217Z"
   },
   {
    "duration": 28,
    "start_time": "2025-01-20T19:48:19.275Z"
   },
   {
    "duration": 32,
    "start_time": "2025-01-20T19:48:19.304Z"
   },
   {
    "duration": 99,
    "start_time": "2025-01-20T19:48:19.337Z"
   },
   {
    "duration": 12,
    "start_time": "2025-01-20T19:48:19.437Z"
   },
   {
    "duration": 46,
    "start_time": "2025-01-20T19:48:19.451Z"
   },
   {
    "duration": 6,
    "start_time": "2025-01-20T19:48:19.498Z"
   },
   {
    "duration": 78,
    "start_time": "2025-01-20T19:48:19.505Z"
   },
   {
    "duration": 15,
    "start_time": "2025-01-20T19:48:19.585Z"
   },
   {
    "duration": 27,
    "start_time": "2025-01-20T19:48:19.602Z"
   },
   {
    "duration": 123,
    "start_time": "2025-01-20T19:48:19.630Z"
   },
   {
    "duration": 11,
    "start_time": "2025-01-20T19:48:19.755Z"
   },
   {
    "duration": 257,
    "start_time": "2025-01-20T19:48:19.767Z"
   },
   {
    "duration": 61,
    "start_time": "2025-01-20T19:48:20.025Z"
   },
   {
    "duration": 32,
    "start_time": "2025-01-20T19:48:20.087Z"
   },
   {
    "duration": 25,
    "start_time": "2025-01-20T19:48:20.120Z"
   },
   {
    "duration": 39,
    "start_time": "2025-01-20T19:48:20.148Z"
   },
   {
    "duration": 15,
    "start_time": "2025-01-20T19:48:20.189Z"
   },
   {
    "duration": 16,
    "start_time": "2025-01-20T19:48:20.205Z"
   },
   {
    "duration": 32,
    "start_time": "2025-01-20T19:48:20.222Z"
   },
   {
    "duration": 5,
    "start_time": "2025-01-20T19:48:20.256Z"
   },
   {
    "duration": 97,
    "start_time": "2025-01-20T19:48:20.264Z"
   },
   {
    "duration": 1683,
    "start_time": "2025-01-20T19:48:20.363Z"
   },
   {
    "duration": 3,
    "start_time": "2025-01-20T19:48:22.047Z"
   },
   {
    "duration": 5,
    "start_time": "2025-01-20T19:48:22.052Z"
   },
   {
    "duration": 1743,
    "start_time": "2025-01-20T19:48:22.058Z"
   },
   {
    "duration": 44046,
    "start_time": "2025-01-20T19:48:23.803Z"
   },
   {
    "duration": 537117,
    "start_time": "2025-01-20T19:49:07.854Z"
   },
   {
    "duration": 98,
    "start_time": "2025-01-20T19:58:05.047Z"
   },
   {
    "duration": 10,
    "start_time": "2025-01-20T19:58:05.147Z"
   },
   {
    "duration": 88,
    "start_time": "2025-01-20T19:58:05.158Z"
   },
   {
    "duration": 1400,
    "start_time": "2025-01-20T20:21:32.618Z"
   },
   {
    "duration": 1376,
    "start_time": "2025-01-20T20:21:39.971Z"
   },
   {
    "duration": 813,
    "start_time": "2025-01-20T20:21:41.349Z"
   },
   {
    "duration": 120,
    "start_time": "2025-01-20T20:21:42.167Z"
   },
   {
    "duration": 16,
    "start_time": "2025-01-20T20:21:42.288Z"
   },
   {
    "duration": 112,
    "start_time": "2025-01-20T20:21:42.306Z"
   },
   {
    "duration": 126,
    "start_time": "2025-01-20T20:21:42.420Z"
   },
   {
    "duration": 28,
    "start_time": "2025-01-20T20:21:42.548Z"
   },
   {
    "duration": 13,
    "start_time": "2025-01-20T20:21:42.579Z"
   },
   {
    "duration": 56,
    "start_time": "2025-01-20T20:21:42.595Z"
   },
   {
    "duration": 20,
    "start_time": "2025-01-20T20:21:42.653Z"
   },
   {
    "duration": 5,
    "start_time": "2025-01-20T20:21:42.675Z"
   },
   {
    "duration": 34,
    "start_time": "2025-01-20T20:21:42.682Z"
   },
   {
    "duration": 70,
    "start_time": "2025-01-20T20:21:42.719Z"
   },
   {
    "duration": 33,
    "start_time": "2025-01-20T20:21:42.791Z"
   },
   {
    "duration": 124,
    "start_time": "2025-01-20T20:21:42.826Z"
   },
   {
    "duration": 7,
    "start_time": "2025-01-20T20:21:42.952Z"
   },
   {
    "duration": 41,
    "start_time": "2025-01-20T20:21:42.961Z"
   },
   {
    "duration": 7,
    "start_time": "2025-01-20T20:21:43.004Z"
   },
   {
    "duration": 93,
    "start_time": "2025-01-20T20:21:43.013Z"
   },
   {
    "duration": 15,
    "start_time": "2025-01-20T20:21:43.108Z"
   },
   {
    "duration": 79,
    "start_time": "2025-01-20T20:21:43.125Z"
   },
   {
    "duration": 91,
    "start_time": "2025-01-20T20:21:43.205Z"
   },
   {
    "duration": 8,
    "start_time": "2025-01-20T20:21:43.297Z"
   },
   {
    "duration": 252,
    "start_time": "2025-01-20T20:21:43.306Z"
   },
   {
    "duration": 43,
    "start_time": "2025-01-20T20:21:43.559Z"
   },
   {
    "duration": 14,
    "start_time": "2025-01-20T20:21:43.604Z"
   },
   {
    "duration": 26,
    "start_time": "2025-01-20T20:21:43.622Z"
   },
   {
    "duration": 38,
    "start_time": "2025-01-20T20:21:43.651Z"
   },
   {
    "duration": 18,
    "start_time": "2025-01-20T20:21:43.690Z"
   },
   {
    "duration": 6,
    "start_time": "2025-01-20T20:21:43.709Z"
   },
   {
    "duration": 37,
    "start_time": "2025-01-20T20:21:43.717Z"
   },
   {
    "duration": 32,
    "start_time": "2025-01-20T20:21:43.756Z"
   },
   {
    "duration": 82,
    "start_time": "2025-01-20T20:21:43.789Z"
   },
   {
    "duration": 1733,
    "start_time": "2025-01-20T20:21:43.872Z"
   },
   {
    "duration": 3,
    "start_time": "2025-01-20T20:21:45.607Z"
   },
   {
    "duration": 35,
    "start_time": "2025-01-20T20:21:45.612Z"
   },
   {
    "duration": 2459,
    "start_time": "2025-01-20T20:21:45.648Z"
   },
   {
    "duration": 39641,
    "start_time": "2025-01-20T20:21:48.108Z"
   },
   {
    "duration": 551703,
    "start_time": "2025-01-20T20:22:27.750Z"
   },
   {
    "duration": 8,
    "start_time": "2025-01-20T20:31:39.455Z"
   },
   {
    "duration": 21,
    "start_time": "2025-01-20T20:31:39.546Z"
   },
   {
    "duration": 86,
    "start_time": "2025-01-20T20:31:39.646Z"
   },
   {
    "duration": 1473,
    "start_time": "2025-01-20T21:14:27.638Z"
   },
   {
    "duration": 798,
    "start_time": "2025-01-20T21:14:29.113Z"
   },
   {
    "duration": 109,
    "start_time": "2025-01-20T21:14:29.912Z"
   },
   {
    "duration": 55,
    "start_time": "2025-01-20T21:14:30.023Z"
   },
   {
    "duration": 94,
    "start_time": "2025-01-20T21:14:30.080Z"
   },
   {
    "duration": 123,
    "start_time": "2025-01-20T21:14:30.176Z"
   },
   {
    "duration": 55,
    "start_time": "2025-01-20T21:14:30.301Z"
   },
   {
    "duration": 20,
    "start_time": "2025-01-20T21:14:30.358Z"
   },
   {
    "duration": 63,
    "start_time": "2025-01-20T21:14:30.379Z"
   },
   {
    "duration": 58,
    "start_time": "2025-01-20T21:14:30.445Z"
   },
   {
    "duration": 7,
    "start_time": "2025-01-20T21:14:30.505Z"
   },
   {
    "duration": 35,
    "start_time": "2025-01-20T21:14:30.513Z"
   },
   {
    "duration": 26,
    "start_time": "2025-01-20T21:14:30.549Z"
   },
   {
    "duration": 40,
    "start_time": "2025-01-20T21:14:30.576Z"
   },
   {
    "duration": 91,
    "start_time": "2025-01-20T21:14:30.618Z"
   },
   {
    "duration": 7,
    "start_time": "2025-01-20T21:14:30.711Z"
   },
   {
    "duration": 47,
    "start_time": "2025-01-20T21:14:30.719Z"
   },
   {
    "duration": 5,
    "start_time": "2025-01-20T21:14:30.768Z"
   },
   {
    "duration": 72,
    "start_time": "2025-01-20T21:14:30.774Z"
   },
   {
    "duration": 16,
    "start_time": "2025-01-20T21:14:30.848Z"
   },
   {
    "duration": 28,
    "start_time": "2025-01-20T21:14:30.865Z"
   },
   {
    "duration": 103,
    "start_time": "2025-01-20T21:14:30.894Z"
   },
   {
    "duration": 6,
    "start_time": "2025-01-20T21:14:30.999Z"
   },
   {
    "duration": 241,
    "start_time": "2025-01-20T21:14:31.006Z"
   },
   {
    "duration": 43,
    "start_time": "2025-01-20T21:14:31.248Z"
   },
   {
    "duration": 89,
    "start_time": "2025-01-20T21:14:31.293Z"
   },
   {
    "duration": 8,
    "start_time": "2025-01-20T21:14:31.384Z"
   },
   {
    "duration": 29,
    "start_time": "2025-01-20T21:14:31.395Z"
   },
   {
    "duration": 23,
    "start_time": "2025-01-20T21:14:31.426Z"
   },
   {
    "duration": 14,
    "start_time": "2025-01-20T21:14:31.450Z"
   },
   {
    "duration": 16,
    "start_time": "2025-01-20T21:14:31.466Z"
   },
   {
    "duration": 2,
    "start_time": "2025-01-20T21:14:31.484Z"
   },
   {
    "duration": 85,
    "start_time": "2025-01-20T21:14:31.487Z"
   },
   {
    "duration": 1650,
    "start_time": "2025-01-20T21:14:31.574Z"
   },
   {
    "duration": 3,
    "start_time": "2025-01-20T21:14:33.225Z"
   },
   {
    "duration": 15,
    "start_time": "2025-01-20T21:14:33.230Z"
   },
   {
    "duration": 1667,
    "start_time": "2025-01-20T21:14:33.247Z"
   },
   {
    "duration": 39134,
    "start_time": "2025-01-20T21:14:34.916Z"
   },
   {
    "duration": 512703,
    "start_time": "2025-01-20T21:15:14.052Z"
   },
   {
    "duration": 4,
    "start_time": "2025-01-20T21:23:46.756Z"
   },
   {
    "duration": 86,
    "start_time": "2025-01-20T21:23:46.762Z"
   },
   {
    "duration": 186,
    "start_time": "2025-01-20T21:23:46.850Z"
   },
   {
    "duration": 1142449,
    "start_time": "2025-01-20T21:23:47.037Z"
   },
   {
    "duration": 0,
    "start_time": "2025-01-20T21:42:49.488Z"
   },
   {
    "duration": 0,
    "start_time": "2025-01-20T21:42:49.489Z"
   },
   {
    "duration": 0,
    "start_time": "2025-01-20T21:42:49.490Z"
   },
   {
    "duration": 0,
    "start_time": "2025-01-20T21:42:49.492Z"
   },
   {
    "duration": 0,
    "start_time": "2025-01-20T21:42:49.493Z"
   },
   {
    "duration": 0,
    "start_time": "2025-01-20T21:42:49.495Z"
   },
   {
    "duration": 0,
    "start_time": "2025-01-20T21:42:49.496Z"
   },
   {
    "duration": 0,
    "start_time": "2025-01-20T21:42:49.498Z"
   },
   {
    "duration": 0,
    "start_time": "2025-01-20T21:42:49.498Z"
   },
   {
    "duration": 0,
    "start_time": "2025-01-20T21:42:49.499Z"
   },
   {
    "duration": 0,
    "start_time": "2025-01-20T21:42:49.501Z"
   },
   {
    "duration": 0,
    "start_time": "2025-01-20T21:42:49.502Z"
   },
   {
    "duration": 41378,
    "start_time": "2025-01-20T21:42:56.989Z"
   },
   {
    "duration": 183,
    "start_time": "2025-01-20T21:43:38.368Z"
   },
   {
    "duration": 9,
    "start_time": "2025-01-20T21:43:38.552Z"
   },
   {
    "duration": 3704,
    "start_time": "2025-01-20T21:43:38.563Z"
   },
   {
    "duration": 113,
    "start_time": "2025-01-20T21:43:42.350Z"
   },
   {
    "duration": 96,
    "start_time": "2025-01-20T21:43:42.465Z"
   },
   {
    "duration": 129463,
    "start_time": "2025-01-20T21:43:47.691Z"
   },
   {
    "duration": 895,
    "start_time": "2025-01-20T21:45:57.162Z"
   },
   {
    "duration": 5,
    "start_time": "2025-01-20T21:45:58.060Z"
   },
   {
    "duration": 4230,
    "start_time": "2025-01-20T21:48:16.527Z"
   },
   {
    "duration": 17,
    "start_time": "2025-01-20T21:48:30.688Z"
   },
   {
    "duration": 135582,
    "start_time": "2025-01-20T21:49:14.675Z"
   },
   {
    "duration": 903,
    "start_time": "2025-01-20T21:51:30.259Z"
   },
   {
    "duration": 44413,
    "start_time": "2025-01-20T21:52:26.646Z"
   },
   {
    "duration": 101,
    "start_time": "2025-01-20T21:53:11.062Z"
   },
   {
    "duration": 94,
    "start_time": "2025-01-20T21:53:11.166Z"
   },
   {
    "duration": 4089,
    "start_time": "2025-01-20T21:53:11.264Z"
   },
   {
    "duration": 111,
    "start_time": "2025-01-20T21:53:15.356Z"
   },
   {
    "duration": 92,
    "start_time": "2025-01-20T21:53:15.469Z"
   },
   {
    "duration": 3922,
    "start_time": "2025-01-20T21:56:12.025Z"
   },
   {
    "duration": 29,
    "start_time": "2025-01-20T21:57:55.929Z"
   },
   {
    "duration": 1360,
    "start_time": "2025-01-20T21:58:59.266Z"
   },
   {
    "duration": 805,
    "start_time": "2025-01-20T21:59:00.628Z"
   },
   {
    "duration": 128,
    "start_time": "2025-01-20T21:59:01.434Z"
   },
   {
    "duration": 25,
    "start_time": "2025-01-20T21:59:01.565Z"
   },
   {
    "duration": 110,
    "start_time": "2025-01-20T21:59:01.592Z"
   },
   {
    "duration": 105,
    "start_time": "2025-01-20T21:59:01.703Z"
   },
   {
    "duration": 56,
    "start_time": "2025-01-20T21:59:01.810Z"
   },
   {
    "duration": 21,
    "start_time": "2025-01-20T21:59:01.867Z"
   },
   {
    "duration": 37,
    "start_time": "2025-01-20T21:59:01.889Z"
   },
   {
    "duration": 29,
    "start_time": "2025-01-20T21:59:01.929Z"
   },
   {
    "duration": 9,
    "start_time": "2025-01-20T21:59:01.959Z"
   },
   {
    "duration": 36,
    "start_time": "2025-01-20T21:59:01.970Z"
   },
   {
    "duration": 28,
    "start_time": "2025-01-20T21:59:02.008Z"
   },
   {
    "duration": 87,
    "start_time": "2025-01-20T21:59:02.037Z"
   },
   {
    "duration": 117,
    "start_time": "2025-01-20T21:59:02.126Z"
   },
   {
    "duration": 12,
    "start_time": "2025-01-20T21:59:02.249Z"
   },
   {
    "duration": 37,
    "start_time": "2025-01-20T21:59:02.263Z"
   },
   {
    "duration": 6,
    "start_time": "2025-01-20T21:59:02.301Z"
   },
   {
    "duration": 77,
    "start_time": "2025-01-20T21:59:02.308Z"
   },
   {
    "duration": 15,
    "start_time": "2025-01-20T21:59:02.387Z"
   },
   {
    "duration": 36,
    "start_time": "2025-01-20T21:59:02.404Z"
   },
   {
    "duration": 98,
    "start_time": "2025-01-20T21:59:02.442Z"
   },
   {
    "duration": 16,
    "start_time": "2025-01-20T21:59:02.542Z"
   },
   {
    "duration": 260,
    "start_time": "2025-01-20T21:59:02.560Z"
   },
   {
    "duration": 61,
    "start_time": "2025-01-20T21:59:02.822Z"
   },
   {
    "duration": 20,
    "start_time": "2025-01-20T21:59:02.885Z"
   },
   {
    "duration": 8,
    "start_time": "2025-01-20T21:59:02.907Z"
   },
   {
    "duration": 53,
    "start_time": "2025-01-20T21:59:02.919Z"
   },
   {
    "duration": 14,
    "start_time": "2025-01-20T21:59:02.974Z"
   },
   {
    "duration": 23,
    "start_time": "2025-01-20T21:59:02.989Z"
   },
   {
    "duration": 17,
    "start_time": "2025-01-20T21:59:03.014Z"
   },
   {
    "duration": 26,
    "start_time": "2025-01-20T21:59:03.032Z"
   },
   {
    "duration": 89,
    "start_time": "2025-01-20T21:59:03.060Z"
   },
   {
    "duration": 1682,
    "start_time": "2025-01-20T21:59:03.153Z"
   },
   {
    "duration": 2,
    "start_time": "2025-01-20T21:59:04.837Z"
   },
   {
    "duration": 5,
    "start_time": "2025-01-20T21:59:04.854Z"
   },
   {
    "duration": 1665,
    "start_time": "2025-01-20T21:59:04.861Z"
   },
   {
    "duration": 41939,
    "start_time": "2025-01-20T21:59:06.528Z"
   },
   {
    "duration": 1192599,
    "start_time": "2025-01-20T21:59:48.468Z"
   },
   {
    "duration": 5,
    "start_time": "2025-01-20T22:19:41.157Z"
   },
   {
    "duration": 3,
    "start_time": "2025-01-20T22:19:41.164Z"
   },
   {
    "duration": 161,
    "start_time": "2025-01-20T22:19:41.168Z"
   },
   {
    "duration": 2002736,
    "start_time": "2025-01-20T22:19:41.330Z"
   },
   {
    "duration": 43011,
    "start_time": "2025-01-20T22:53:04.147Z"
   },
   {
    "duration": 18,
    "start_time": "2025-01-20T22:53:47.160Z"
   },
   {
    "duration": 10,
    "start_time": "2025-01-20T22:53:47.259Z"
   },
   {
    "duration": 3907,
    "start_time": "2025-01-20T22:53:47.354Z"
   },
   {
    "duration": 114,
    "start_time": "2025-01-20T22:53:51.346Z"
   },
   {
    "duration": 4,
    "start_time": "2025-01-20T22:53:51.463Z"
   },
   {
    "duration": 112788,
    "start_time": "2025-01-20T22:53:51.469Z"
   },
   {
    "duration": 900,
    "start_time": "2025-01-20T22:55:44.266Z"
   },
   {
    "duration": 4,
    "start_time": "2025-01-20T22:55:45.168Z"
   },
   {
    "duration": 21,
    "start_time": "2025-01-20T22:55:45.253Z"
   },
   {
    "duration": 183279,
    "start_time": "2025-01-20T22:55:45.276Z"
   },
   {
    "duration": 1112,
    "start_time": "2025-01-20T22:58:48.556Z"
   },
   {
    "duration": 13890,
    "start_time": "2025-01-21T02:52:43.158Z"
   },
   {
    "duration": 211,
    "start_time": "2025-01-21T02:52:57.050Z"
   },
   {
    "duration": 107,
    "start_time": "2025-01-21T02:55:40.827Z"
   },
   {
    "duration": 1899,
    "start_time": "2025-01-21T02:58:14.153Z"
   },
   {
    "duration": 118,
    "start_time": "2025-01-21T02:58:16.676Z"
   },
   {
    "duration": 94,
    "start_time": "2025-01-21T02:59:33.678Z"
   },
   {
    "duration": 119,
    "start_time": "2025-01-21T03:01:43.521Z"
   },
   {
    "duration": 8,
    "start_time": "2025-01-21T03:02:33.457Z"
   },
   {
    "duration": 5,
    "start_time": "2025-01-21T03:02:48.363Z"
   },
   {
    "duration": 18,
    "start_time": "2025-01-21T03:03:01.029Z"
   },
   {
    "duration": 14,
    "start_time": "2025-01-21T03:04:08.028Z"
   },
   {
    "duration": 17,
    "start_time": "2025-01-21T03:04:16.560Z"
   },
   {
    "duration": 4,
    "start_time": "2025-01-21T03:04:22.081Z"
   },
   {
    "duration": 19,
    "start_time": "2025-01-21T03:04:38.989Z"
   },
   {
    "duration": 1353,
    "start_time": "2025-01-21T03:06:35.283Z"
   },
   {
    "duration": 780,
    "start_time": "2025-01-21T03:06:36.638Z"
   },
   {
    "duration": 127,
    "start_time": "2025-01-21T03:06:37.419Z"
   },
   {
    "duration": 16,
    "start_time": "2025-01-21T03:06:37.547Z"
   },
   {
    "duration": 99,
    "start_time": "2025-01-21T03:06:37.565Z"
   },
   {
    "duration": 110,
    "start_time": "2025-01-21T03:06:37.666Z"
   },
   {
    "duration": 32,
    "start_time": "2025-01-21T03:06:37.778Z"
   },
   {
    "duration": 34,
    "start_time": "2025-01-21T03:06:37.811Z"
   },
   {
    "duration": 38,
    "start_time": "2025-01-21T03:06:37.846Z"
   },
   {
    "duration": 57,
    "start_time": "2025-01-21T03:06:37.887Z"
   },
   {
    "duration": 20,
    "start_time": "2025-01-21T03:06:37.945Z"
   },
   {
    "duration": 41,
    "start_time": "2025-01-21T03:06:37.966Z"
   },
   {
    "duration": 26,
    "start_time": "2025-01-21T03:06:38.009Z"
   },
   {
    "duration": 21,
    "start_time": "2025-01-21T03:06:38.037Z"
   },
   {
    "duration": 92,
    "start_time": "2025-01-21T03:06:38.060Z"
   },
   {
    "duration": 7,
    "start_time": "2025-01-21T03:06:38.153Z"
   },
   {
    "duration": 34,
    "start_time": "2025-01-21T03:06:38.161Z"
   },
   {
    "duration": 5,
    "start_time": "2025-01-21T03:06:38.196Z"
   },
   {
    "duration": 91,
    "start_time": "2025-01-21T03:06:38.203Z"
   },
   {
    "duration": 15,
    "start_time": "2025-01-21T03:06:38.295Z"
   },
   {
    "duration": 51,
    "start_time": "2025-01-21T03:06:38.311Z"
   },
   {
    "duration": 83,
    "start_time": "2025-01-21T03:06:38.363Z"
   },
   {
    "duration": 7,
    "start_time": "2025-01-21T03:06:38.447Z"
   },
   {
    "duration": 231,
    "start_time": "2025-01-21T03:06:38.455Z"
   },
   {
    "duration": 42,
    "start_time": "2025-01-21T03:06:38.688Z"
   },
   {
    "duration": 40,
    "start_time": "2025-01-21T03:06:38.732Z"
   },
   {
    "duration": 82,
    "start_time": "2025-01-21T03:06:38.773Z"
   },
   {
    "duration": 29,
    "start_time": "2025-01-21T03:06:38.859Z"
   },
   {
    "duration": 29,
    "start_time": "2025-01-21T03:06:38.890Z"
   },
   {
    "duration": 6,
    "start_time": "2025-01-21T03:06:38.921Z"
   },
   {
    "duration": 23,
    "start_time": "2025-01-21T03:06:38.929Z"
   },
   {
    "duration": 2,
    "start_time": "2025-01-21T03:06:38.953Z"
   },
   {
    "duration": 71,
    "start_time": "2025-01-21T03:06:38.957Z"
   },
   {
    "duration": 1702,
    "start_time": "2025-01-21T03:06:39.030Z"
   },
   {
    "duration": 3,
    "start_time": "2025-01-21T03:06:40.733Z"
   },
   {
    "duration": 9,
    "start_time": "2025-01-21T03:06:40.737Z"
   },
   {
    "duration": 1644,
    "start_time": "2025-01-21T03:06:40.747Z"
   },
   {
    "duration": 4,
    "start_time": "2025-01-21T03:06:42.392Z"
   },
   {
    "duration": 11,
    "start_time": "2025-01-21T03:06:42.397Z"
   },
   {
    "duration": 15242,
    "start_time": "2025-01-21T03:06:42.409Z"
   },
   {
    "duration": 421300,
    "start_time": "2025-01-21T03:06:57.653Z"
   },
   {
    "duration": 92,
    "start_time": "2025-01-21T03:13:58.955Z"
   },
   {
    "duration": 114,
    "start_time": "2025-01-21T03:13:59.049Z"
   },
   {
    "duration": 79,
    "start_time": "2025-01-21T03:13:59.165Z"
   },
   {
    "duration": 137500,
    "start_time": "2025-01-21T03:13:59.246Z"
   },
   {
    "duration": 16499,
    "start_time": "2025-01-21T03:16:16.748Z"
   },
   {
    "duration": 98,
    "start_time": "2025-01-21T03:16:33.248Z"
   },
   {
    "duration": 5,
    "start_time": "2025-01-21T03:16:33.348Z"
   },
   {
    "duration": 1799,
    "start_time": "2025-01-21T03:16:33.354Z"
   },
   {
    "duration": 198,
    "start_time": "2025-01-21T03:16:35.155Z"
   },
   {
    "duration": 92,
    "start_time": "2025-01-21T03:16:35.355Z"
   },
   {
    "duration": 7502,
    "start_time": "2025-01-21T03:16:35.449Z"
   },
   {
    "duration": 896,
    "start_time": "2025-01-21T03:16:42.953Z"
   },
   {
    "duration": 5,
    "start_time": "2025-01-21T03:16:43.851Z"
   },
   {
    "duration": 21,
    "start_time": "2025-01-21T03:16:43.857Z"
   },
   {
    "duration": 1907,
    "start_time": "2025-01-21T03:16:43.946Z"
   },
   {
    "duration": 198,
    "start_time": "2025-01-21T03:16:45.855Z"
   },
   {
    "duration": 11700,
    "start_time": "2025-01-21T03:16:46.055Z"
   },
   {
    "duration": 1102,
    "start_time": "2025-01-21T03:16:57.846Z"
   },
   {
    "duration": 19065,
    "start_time": "2025-01-21T03:24:17.882Z"
   },
   {
    "duration": 1000,
    "start_time": "2025-01-21T03:24:36.948Z"
   },
   {
    "duration": 18773,
    "start_time": "2025-01-21T03:24:57.383Z"
   },
   {
    "duration": 1008,
    "start_time": "2025-01-21T03:25:16.247Z"
   },
   {
    "duration": 49,
    "start_time": "2025-01-22T03:39:10.695Z"
   },
   {
    "duration": 1572,
    "start_time": "2025-01-22T03:39:19.958Z"
   },
   {
    "duration": 2807,
    "start_time": "2025-01-22T03:39:21.532Z"
   },
   {
    "duration": 141,
    "start_time": "2025-01-22T03:39:24.341Z"
   },
   {
    "duration": 17,
    "start_time": "2025-01-22T03:39:24.483Z"
   },
   {
    "duration": 101,
    "start_time": "2025-01-22T03:39:24.502Z"
   },
   {
    "duration": 138,
    "start_time": "2025-01-22T03:39:24.604Z"
   },
   {
    "duration": 28,
    "start_time": "2025-01-22T03:39:24.744Z"
   },
   {
    "duration": 15,
    "start_time": "2025-01-22T03:39:24.774Z"
   },
   {
    "duration": 46,
    "start_time": "2025-01-22T03:39:24.790Z"
   },
   {
    "duration": 21,
    "start_time": "2025-01-22T03:39:24.837Z"
   },
   {
    "duration": 5,
    "start_time": "2025-01-22T03:39:24.860Z"
   },
   {
    "duration": 32,
    "start_time": "2025-01-22T03:39:24.867Z"
   },
   {
    "duration": 42,
    "start_time": "2025-01-22T03:39:24.900Z"
   },
   {
    "duration": 23,
    "start_time": "2025-01-22T03:39:24.945Z"
   },
   {
    "duration": 110,
    "start_time": "2025-01-22T03:39:24.969Z"
   },
   {
    "duration": 7,
    "start_time": "2025-01-22T03:39:25.081Z"
   },
   {
    "duration": 61,
    "start_time": "2025-01-22T03:39:25.089Z"
   },
   {
    "duration": 6,
    "start_time": "2025-01-22T03:39:25.153Z"
   },
   {
    "duration": 76,
    "start_time": "2025-01-22T03:39:25.162Z"
   },
   {
    "duration": 18,
    "start_time": "2025-01-22T03:39:25.239Z"
   },
   {
    "duration": 41,
    "start_time": "2025-01-22T03:39:25.258Z"
   },
   {
    "duration": 107,
    "start_time": "2025-01-22T03:39:25.300Z"
   },
   {
    "duration": 14,
    "start_time": "2025-01-22T03:39:25.408Z"
   },
   {
    "duration": 256,
    "start_time": "2025-01-22T03:39:25.423Z"
   },
   {
    "duration": 59,
    "start_time": "2025-01-22T03:39:25.681Z"
   },
   {
    "duration": 20,
    "start_time": "2025-01-22T03:39:25.742Z"
   },
   {
    "duration": 21,
    "start_time": "2025-01-22T03:39:25.763Z"
   },
   {
    "duration": 40,
    "start_time": "2025-01-22T03:39:25.785Z"
   },
   {
    "duration": 19,
    "start_time": "2025-01-22T03:39:25.826Z"
   },
   {
    "duration": 26,
    "start_time": "2025-01-22T03:39:25.846Z"
   },
   {
    "duration": 47,
    "start_time": "2025-01-22T03:39:25.873Z"
   },
   {
    "duration": 2,
    "start_time": "2025-01-22T03:39:25.921Z"
   },
   {
    "duration": 87,
    "start_time": "2025-01-22T03:39:25.925Z"
   },
   {
    "duration": 1716,
    "start_time": "2025-01-22T03:39:26.013Z"
   },
   {
    "duration": 3,
    "start_time": "2025-01-22T03:39:27.731Z"
   },
   {
    "duration": 6,
    "start_time": "2025-01-22T03:39:27.735Z"
   },
   {
    "duration": 1693,
    "start_time": "2025-01-22T03:39:27.742Z"
   },
   {
    "duration": 19189,
    "start_time": "2025-01-22T03:39:29.437Z"
   },
   {
    "duration": 205,
    "start_time": "2025-01-22T03:39:48.628Z"
   },
   {
    "duration": 0,
    "start_time": "2025-01-22T03:39:48.835Z"
   },
   {
    "duration": 1,
    "start_time": "2025-01-22T03:39:48.836Z"
   },
   {
    "duration": 0,
    "start_time": "2025-01-22T03:39:48.838Z"
   },
   {
    "duration": 0,
    "start_time": "2025-01-22T03:39:48.839Z"
   },
   {
    "duration": 0,
    "start_time": "2025-01-22T03:39:48.840Z"
   },
   {
    "duration": 0,
    "start_time": "2025-01-22T03:39:48.841Z"
   },
   {
    "duration": 0,
    "start_time": "2025-01-22T03:39:48.842Z"
   },
   {
    "duration": 0,
    "start_time": "2025-01-22T03:39:48.843Z"
   },
   {
    "duration": 0,
    "start_time": "2025-01-22T03:39:48.844Z"
   },
   {
    "duration": 0,
    "start_time": "2025-01-22T03:39:48.845Z"
   },
   {
    "duration": 0,
    "start_time": "2025-01-22T03:39:48.846Z"
   },
   {
    "duration": 0,
    "start_time": "2025-01-22T03:39:48.847Z"
   },
   {
    "duration": 0,
    "start_time": "2025-01-22T03:39:48.848Z"
   },
   {
    "duration": 0,
    "start_time": "2025-01-22T03:39:48.850Z"
   },
   {
    "duration": 0,
    "start_time": "2025-01-22T03:39:48.851Z"
   },
   {
    "duration": 0,
    "start_time": "2025-01-22T03:39:48.852Z"
   },
   {
    "duration": 0,
    "start_time": "2025-01-22T03:39:48.853Z"
   },
   {
    "duration": 121013,
    "start_time": "2025-01-22T03:40:28.310Z"
   },
   {
    "duration": 557907,
    "start_time": "2025-01-22T03:42:52.517Z"
   },
   {
    "duration": 11,
    "start_time": "2025-01-22T04:07:03.438Z"
   },
   {
    "duration": 3,
    "start_time": "2025-01-22T04:07:11.110Z"
   },
   {
    "duration": 78,
    "start_time": "2025-01-22T04:07:11.922Z"
   },
   {
    "duration": 5493,
    "start_time": "2025-01-22T04:07:13.358Z"
   },
   {
    "duration": 5020,
    "start_time": "2025-01-22T04:09:09.010Z"
   },
   {
    "duration": 8195,
    "start_time": "2025-01-22T04:09:25.649Z"
   },
   {
    "duration": 3,
    "start_time": "2025-01-22T04:10:56.309Z"
   },
   {
    "duration": 7,
    "start_time": "2025-01-22T04:10:57.200Z"
   },
   {
    "duration": 8403,
    "start_time": "2025-01-22T04:10:58.129Z"
   },
   {
    "duration": 5410,
    "start_time": "2025-01-22T04:12:30.540Z"
   },
   {
    "duration": 1718,
    "start_time": "2025-01-22T05:57:17.373Z"
   },
   {
    "duration": 3104,
    "start_time": "2025-01-22T05:57:19.093Z"
   },
   {
    "duration": 148,
    "start_time": "2025-01-22T05:57:22.199Z"
   },
   {
    "duration": 18,
    "start_time": "2025-01-22T05:57:22.349Z"
   },
   {
    "duration": 115,
    "start_time": "2025-01-22T05:57:22.369Z"
   },
   {
    "duration": 151,
    "start_time": "2025-01-22T05:57:22.486Z"
   },
   {
    "duration": 24,
    "start_time": "2025-01-22T05:57:22.639Z"
   },
   {
    "duration": 13,
    "start_time": "2025-01-22T05:57:22.665Z"
   },
   {
    "duration": 55,
    "start_time": "2025-01-22T05:57:22.680Z"
   },
   {
    "duration": 21,
    "start_time": "2025-01-22T05:57:22.737Z"
   },
   {
    "duration": 12,
    "start_time": "2025-01-22T05:57:22.760Z"
   },
   {
    "duration": 37,
    "start_time": "2025-01-22T05:57:22.774Z"
   },
   {
    "duration": 43,
    "start_time": "2025-01-22T05:57:22.813Z"
   },
   {
    "duration": 29,
    "start_time": "2025-01-22T05:57:22.859Z"
   },
   {
    "duration": 128,
    "start_time": "2025-01-22T05:57:22.890Z"
   },
   {
    "duration": 16,
    "start_time": "2025-01-22T05:57:23.020Z"
   },
   {
    "duration": 57,
    "start_time": "2025-01-22T05:57:23.038Z"
   },
   {
    "duration": 6,
    "start_time": "2025-01-22T05:57:23.097Z"
   },
   {
    "duration": 75,
    "start_time": "2025-01-22T05:57:23.105Z"
   },
   {
    "duration": 19,
    "start_time": "2025-01-22T05:57:23.182Z"
   },
   {
    "duration": 78,
    "start_time": "2025-01-22T05:57:23.203Z"
   },
   {
    "duration": 99,
    "start_time": "2025-01-22T05:57:23.283Z"
   },
   {
    "duration": 7,
    "start_time": "2025-01-22T05:57:23.384Z"
   },
   {
    "duration": 286,
    "start_time": "2025-01-22T05:57:23.393Z"
   },
   {
    "duration": 64,
    "start_time": "2025-01-22T05:57:23.680Z"
   },
   {
    "duration": 17,
    "start_time": "2025-01-22T05:57:23.745Z"
   },
   {
    "duration": 7,
    "start_time": "2025-01-22T05:57:23.763Z"
   },
   {
    "duration": 63,
    "start_time": "2025-01-22T05:57:23.771Z"
   },
   {
    "duration": 40,
    "start_time": "2025-01-22T05:57:23.836Z"
   },
   {
    "duration": 13,
    "start_time": "2025-01-22T05:57:23.877Z"
   },
   {
    "duration": 21,
    "start_time": "2025-01-22T05:57:23.891Z"
   },
   {
    "duration": 81,
    "start_time": "2025-01-22T05:57:23.913Z"
   },
   {
    "duration": 100,
    "start_time": "2025-01-22T05:57:23.996Z"
   },
   {
    "duration": 1783,
    "start_time": "2025-01-22T05:57:24.098Z"
   },
   {
    "duration": 3,
    "start_time": "2025-01-22T05:57:25.883Z"
   },
   {
    "duration": 23,
    "start_time": "2025-01-22T05:57:25.888Z"
   },
   {
    "duration": 2450,
    "start_time": "2025-01-22T05:57:25.913Z"
   },
   {
    "duration": 23166,
    "start_time": "2025-01-22T05:57:28.365Z"
   },
   {
    "duration": 145699,
    "start_time": "2025-01-22T05:57:51.533Z"
   },
   {
    "duration": 4,
    "start_time": "2025-01-22T06:00:17.234Z"
   },
   {
    "duration": 104,
    "start_time": "2025-01-22T06:00:17.329Z"
   },
   {
    "duration": 8202,
    "start_time": "2025-01-22T06:00:17.434Z"
   },
   {
    "duration": 0,
    "start_time": "2025-01-22T06:00:25.637Z"
   },
   {
    "duration": 0,
    "start_time": "2025-01-22T06:00:25.639Z"
   },
   {
    "duration": 0,
    "start_time": "2025-01-22T06:00:25.640Z"
   },
   {
    "duration": 0,
    "start_time": "2025-01-22T06:00:25.641Z"
   },
   {
    "duration": 0,
    "start_time": "2025-01-22T06:00:25.643Z"
   },
   {
    "duration": 0,
    "start_time": "2025-01-22T06:00:25.644Z"
   },
   {
    "duration": 0,
    "start_time": "2025-01-22T06:00:25.645Z"
   },
   {
    "duration": 0,
    "start_time": "2025-01-22T06:00:25.646Z"
   },
   {
    "duration": 0,
    "start_time": "2025-01-22T06:00:25.647Z"
   },
   {
    "duration": 1,
    "start_time": "2025-01-22T06:00:25.648Z"
   },
   {
    "duration": 0,
    "start_time": "2025-01-22T06:00:25.650Z"
   },
   {
    "duration": 0,
    "start_time": "2025-01-22T06:00:25.651Z"
   },
   {
    "duration": 36848,
    "start_time": "2025-01-22T06:00:28.590Z"
   },
   {
    "duration": 0,
    "start_time": "2025-01-22T06:02:41.437Z"
   },
   {
    "duration": 0,
    "start_time": "2025-01-22T06:02:41.439Z"
   },
   {
    "duration": 0,
    "start_time": "2025-01-22T06:02:41.440Z"
   },
   {
    "duration": 22213,
    "start_time": "2025-01-22T06:03:04.522Z"
   },
   {
    "duration": 98,
    "start_time": "2025-01-22T06:03:26.737Z"
   },
   {
    "duration": 92,
    "start_time": "2025-01-22T06:03:26.841Z"
   },
   {
    "duration": 4,
    "start_time": "2025-01-22T06:03:38.121Z"
   },
   {
    "duration": 374,
    "start_time": "2025-01-22T06:03:38.373Z"
   },
   {
    "duration": 11,
    "start_time": "2025-01-22T06:03:39.482Z"
   },
   {
    "duration": 39475,
    "start_time": "2025-01-22T06:03:48.469Z"
   },
   {
    "duration": 183,
    "start_time": "2025-01-22T06:04:27.947Z"
   },
   {
    "duration": 9,
    "start_time": "2025-01-22T06:04:28.136Z"
   },
   {
    "duration": 81566,
    "start_time": "2025-01-22T06:04:39.076Z"
   },
   {
    "duration": 900,
    "start_time": "2025-01-22T06:06:00.644Z"
   },
   {
    "duration": 5,
    "start_time": "2025-01-22T06:06:01.546Z"
   },
   {
    "duration": 24,
    "start_time": "2025-01-22T06:06:52.577Z"
   },
   {
    "duration": 7732,
    "start_time": "2025-01-22T06:07:01.415Z"
   },
   {
    "duration": 0,
    "start_time": "2025-01-22T06:07:09.149Z"
   },
   {
    "duration": 24,
    "start_time": "2025-01-22T06:08:47.155Z"
   },
   {
    "duration": 9932,
    "start_time": "2025-01-22T06:08:50.815Z"
   },
   {
    "duration": 8005,
    "start_time": "2025-01-22T06:09:14.975Z"
   },
   {
    "duration": 133,
    "start_time": "2025-01-22T06:09:35.564Z"
   },
   {
    "duration": 1543,
    "start_time": "2025-01-22T06:09:57.575Z"
   },
   {
    "duration": 937,
    "start_time": "2025-01-22T06:09:59.120Z"
   },
   {
    "duration": 153,
    "start_time": "2025-01-22T06:10:00.059Z"
   },
   {
    "duration": 73,
    "start_time": "2025-01-22T06:10:00.215Z"
   },
   {
    "duration": 197,
    "start_time": "2025-01-22T06:10:00.290Z"
   },
   {
    "duration": 149,
    "start_time": "2025-01-22T06:10:00.489Z"
   },
   {
    "duration": 38,
    "start_time": "2025-01-22T06:10:00.640Z"
   },
   {
    "duration": 46,
    "start_time": "2025-01-22T06:10:00.680Z"
   },
   {
    "duration": 50,
    "start_time": "2025-01-22T06:10:00.728Z"
   },
   {
    "duration": 27,
    "start_time": "2025-01-22T06:10:00.781Z"
   },
   {
    "duration": 22,
    "start_time": "2025-01-22T06:10:00.809Z"
   },
   {
    "duration": 37,
    "start_time": "2025-01-22T06:10:00.832Z"
   },
   {
    "duration": 39,
    "start_time": "2025-01-22T06:10:00.870Z"
   },
   {
    "duration": 43,
    "start_time": "2025-01-22T06:10:00.911Z"
   },
   {
    "duration": 113,
    "start_time": "2025-01-22T06:10:00.956Z"
   },
   {
    "duration": 8,
    "start_time": "2025-01-22T06:10:01.071Z"
   },
   {
    "duration": 95,
    "start_time": "2025-01-22T06:10:01.080Z"
   },
   {
    "duration": 6,
    "start_time": "2025-01-22T06:10:01.177Z"
   },
   {
    "duration": 122,
    "start_time": "2025-01-22T06:10:01.185Z"
   },
   {
    "duration": 52,
    "start_time": "2025-01-22T06:10:01.309Z"
   },
   {
    "duration": 81,
    "start_time": "2025-01-22T06:10:01.363Z"
   },
   {
    "duration": 128,
    "start_time": "2025-01-22T06:10:01.446Z"
   },
   {
    "duration": 8,
    "start_time": "2025-01-22T06:10:01.576Z"
   },
   {
    "duration": 368,
    "start_time": "2025-01-22T06:10:01.586Z"
   },
   {
    "duration": 87,
    "start_time": "2025-01-22T06:10:01.956Z"
   },
   {
    "duration": 83,
    "start_time": "2025-01-22T06:10:02.046Z"
   },
   {
    "duration": 30,
    "start_time": "2025-01-22T06:10:02.131Z"
   },
   {
    "duration": 41,
    "start_time": "2025-01-22T06:10:02.164Z"
   },
   {
    "duration": 66,
    "start_time": "2025-01-22T06:10:02.206Z"
   },
   {
    "duration": 89,
    "start_time": "2025-01-22T06:10:02.274Z"
   },
   {
    "duration": 25,
    "start_time": "2025-01-22T06:10:02.365Z"
   },
   {
    "duration": 4,
    "start_time": "2025-01-22T06:10:02.391Z"
   },
   {
    "duration": 128,
    "start_time": "2025-01-22T06:10:02.396Z"
   },
   {
    "duration": 1763,
    "start_time": "2025-01-22T06:10:02.526Z"
   },
   {
    "duration": 3,
    "start_time": "2025-01-22T06:10:04.291Z"
   },
   {
    "duration": 78,
    "start_time": "2025-01-22T06:10:04.295Z"
   },
   {
    "duration": 1743,
    "start_time": "2025-01-22T06:10:04.374Z"
   },
   {
    "duration": 24616,
    "start_time": "2025-01-22T06:10:06.118Z"
   },
   {
    "duration": 164401,
    "start_time": "2025-01-22T06:10:30.736Z"
   },
   {
    "duration": 4,
    "start_time": "2025-01-22T06:13:15.139Z"
   },
   {
    "duration": 125,
    "start_time": "2025-01-22T06:13:15.230Z"
   },
   {
    "duration": 171097,
    "start_time": "2025-01-22T06:13:15.357Z"
   },
   {
    "duration": 22379,
    "start_time": "2025-01-22T06:16:06.456Z"
   },
   {
    "duration": 95,
    "start_time": "2025-01-22T06:16:28.836Z"
   },
   {
    "duration": 95,
    "start_time": "2025-01-22T06:16:28.935Z"
   },
   {
    "duration": 47401,
    "start_time": "2025-01-22T06:16:29.032Z"
   },
   {
    "duration": 104,
    "start_time": "2025-01-22T06:17:16.435Z"
   },
   {
    "duration": 93,
    "start_time": "2025-01-22T06:17:16.542Z"
   },
   {
    "duration": 40496,
    "start_time": "2025-01-22T06:17:16.638Z"
   },
   {
    "duration": 906,
    "start_time": "2025-01-22T06:17:57.136Z"
   },
   {
    "duration": 6,
    "start_time": "2025-01-22T06:17:58.044Z"
   },
   {
    "duration": 87,
    "start_time": "2025-01-22T06:17:58.051Z"
   },
   {
    "duration": 221,
    "start_time": "2025-01-22T06:17:58.141Z"
   },
   {
    "duration": 23,
    "start_time": "2025-01-22T06:33:42.859Z"
   },
   {
    "duration": 99,
    "start_time": "2025-01-22T06:33:51.698Z"
   },
   {
    "duration": 783,
    "start_time": "2025-01-22T06:41:54.757Z"
   },
   {
    "duration": 1653,
    "start_time": "2025-01-22T06:52:52.960Z"
   },
   {
    "duration": 920,
    "start_time": "2025-01-22T06:52:54.615Z"
   },
   {
    "duration": 152,
    "start_time": "2025-01-22T06:52:55.536Z"
   },
   {
    "duration": 18,
    "start_time": "2025-01-22T06:52:55.689Z"
   },
   {
    "duration": 114,
    "start_time": "2025-01-22T06:52:55.709Z"
   },
   {
    "duration": 141,
    "start_time": "2025-01-22T06:52:55.825Z"
   },
   {
    "duration": 27,
    "start_time": "2025-01-22T06:52:55.968Z"
   },
   {
    "duration": 34,
    "start_time": "2025-01-22T06:52:55.996Z"
   },
   {
    "duration": 44,
    "start_time": "2025-01-22T06:52:56.032Z"
   },
   {
    "duration": 29,
    "start_time": "2025-01-22T06:52:56.079Z"
   },
   {
    "duration": 29,
    "start_time": "2025-01-22T06:52:56.109Z"
   },
   {
    "duration": 40,
    "start_time": "2025-01-22T06:52:56.140Z"
   },
   {
    "duration": 56,
    "start_time": "2025-01-22T06:52:56.182Z"
   },
   {
    "duration": 20,
    "start_time": "2025-01-22T06:52:56.241Z"
   },
   {
    "duration": 117,
    "start_time": "2025-01-22T06:52:56.264Z"
   },
   {
    "duration": 7,
    "start_time": "2025-01-22T06:52:56.383Z"
   },
   {
    "duration": 57,
    "start_time": "2025-01-22T06:52:56.392Z"
   },
   {
    "duration": 6,
    "start_time": "2025-01-22T06:52:56.451Z"
   },
   {
    "duration": 138,
    "start_time": "2025-01-22T06:52:56.459Z"
   },
   {
    "duration": 18,
    "start_time": "2025-01-22T06:52:56.598Z"
   },
   {
    "duration": 38,
    "start_time": "2025-01-22T06:52:56.618Z"
   },
   {
    "duration": 104,
    "start_time": "2025-01-22T06:52:56.658Z"
   },
   {
    "duration": 7,
    "start_time": "2025-01-22T06:52:56.763Z"
   },
   {
    "duration": 280,
    "start_time": "2025-01-22T06:52:56.771Z"
   },
   {
    "duration": 58,
    "start_time": "2025-01-22T06:52:57.053Z"
   },
   {
    "duration": 40,
    "start_time": "2025-01-22T06:52:57.112Z"
   },
   {
    "duration": 8,
    "start_time": "2025-01-22T06:52:57.154Z"
   },
   {
    "duration": 40,
    "start_time": "2025-01-22T06:52:57.163Z"
   },
   {
    "duration": 32,
    "start_time": "2025-01-22T06:52:57.230Z"
   },
   {
    "duration": 9,
    "start_time": "2025-01-22T06:52:57.263Z"
   },
   {
    "duration": 24,
    "start_time": "2025-01-22T06:52:57.274Z"
   },
   {
    "duration": 3,
    "start_time": "2025-01-22T06:52:57.300Z"
   },
   {
    "duration": 129,
    "start_time": "2025-01-22T06:52:57.305Z"
   },
   {
    "duration": 1940,
    "start_time": "2025-01-22T06:52:57.436Z"
   },
   {
    "duration": 4,
    "start_time": "2025-01-22T06:52:59.378Z"
   },
   {
    "duration": 10,
    "start_time": "2025-01-22T06:52:59.384Z"
   },
   {
    "duration": 1680,
    "start_time": "2025-01-22T06:52:59.396Z"
   },
   {
    "duration": 28965,
    "start_time": "2025-01-22T06:53:01.078Z"
   },
   {
    "duration": 163288,
    "start_time": "2025-01-22T06:53:30.046Z"
   },
   {
    "duration": 4,
    "start_time": "2025-01-22T06:56:13.429Z"
   },
   {
    "duration": 107,
    "start_time": "2025-01-22T06:56:13.439Z"
   },
   {
    "duration": 90194,
    "start_time": "2025-01-22T06:56:13.548Z"
   },
   {
    "duration": 22090,
    "start_time": "2025-01-22T06:57:43.744Z"
   },
   {
    "duration": 101,
    "start_time": "2025-01-22T06:58:05.836Z"
   },
   {
    "duration": 7,
    "start_time": "2025-01-22T06:58:06.029Z"
   },
   {
    "duration": 38600,
    "start_time": "2025-01-22T06:58:06.038Z"
   },
   {
    "duration": 103,
    "start_time": "2025-01-22T06:58:44.639Z"
   },
   {
    "duration": 92,
    "start_time": "2025-01-22T06:58:44.838Z"
   },
   {
    "duration": 7808,
    "start_time": "2025-01-22T06:58:44.932Z"
   },
   {
    "duration": 888,
    "start_time": "2025-01-22T06:58:52.742Z"
   },
   {
    "duration": 5,
    "start_time": "2025-01-22T06:58:53.632Z"
   },
   {
    "duration": 52,
    "start_time": "2025-01-22T06:58:53.638Z"
   },
   {
    "duration": 841,
    "start_time": "2025-01-22T06:58:53.691Z"
   },
   {
    "duration": 1676,
    "start_time": "2025-01-22T09:07:07.991Z"
   },
   {
    "duration": 1104,
    "start_time": "2025-01-22T09:07:09.669Z"
   },
   {
    "duration": 115,
    "start_time": "2025-01-22T09:07:10.774Z"
   },
   {
    "duration": 17,
    "start_time": "2025-01-22T09:07:10.890Z"
   },
   {
    "duration": 111,
    "start_time": "2025-01-22T09:07:10.909Z"
   },
   {
    "duration": 113,
    "start_time": "2025-01-22T09:07:11.021Z"
   },
   {
    "duration": 27,
    "start_time": "2025-01-22T09:07:11.149Z"
   },
   {
    "duration": 34,
    "start_time": "2025-01-22T09:07:11.178Z"
   },
   {
    "duration": 57,
    "start_time": "2025-01-22T09:07:11.214Z"
   },
   {
    "duration": 17,
    "start_time": "2025-01-22T09:07:11.273Z"
   },
   {
    "duration": 6,
    "start_time": "2025-01-22T09:07:11.292Z"
   },
   {
    "duration": 35,
    "start_time": "2025-01-22T09:07:11.299Z"
   },
   {
    "duration": 38,
    "start_time": "2025-01-22T09:07:11.335Z"
   },
   {
    "duration": 22,
    "start_time": "2025-01-22T09:07:11.375Z"
   },
   {
    "duration": 109,
    "start_time": "2025-01-22T09:07:11.398Z"
   },
   {
    "duration": 7,
    "start_time": "2025-01-22T09:07:11.509Z"
   },
   {
    "duration": 89,
    "start_time": "2025-01-22T09:07:11.517Z"
   },
   {
    "duration": 5,
    "start_time": "2025-01-22T09:07:11.608Z"
   },
   {
    "duration": 83,
    "start_time": "2025-01-22T09:07:11.615Z"
   },
   {
    "duration": 15,
    "start_time": "2025-01-22T09:07:11.699Z"
   },
   {
    "duration": 48,
    "start_time": "2025-01-22T09:07:11.716Z"
   },
   {
    "duration": 96,
    "start_time": "2025-01-22T09:07:11.766Z"
   },
   {
    "duration": 7,
    "start_time": "2025-01-22T09:07:11.864Z"
   },
   {
    "duration": 254,
    "start_time": "2025-01-22T09:07:11.873Z"
   },
   {
    "duration": 56,
    "start_time": "2025-01-22T09:07:12.128Z"
   },
   {
    "duration": 16,
    "start_time": "2025-01-22T09:07:12.186Z"
   },
   {
    "duration": 6,
    "start_time": "2025-01-22T09:07:12.203Z"
   },
   {
    "duration": 63,
    "start_time": "2025-01-22T09:07:12.211Z"
   },
   {
    "duration": 16,
    "start_time": "2025-01-22T09:07:12.276Z"
   },
   {
    "duration": 8,
    "start_time": "2025-01-22T09:07:12.294Z"
   },
   {
    "duration": 52,
    "start_time": "2025-01-22T09:07:12.304Z"
   },
   {
    "duration": 25,
    "start_time": "2025-01-22T09:07:12.359Z"
   },
   {
    "duration": 89,
    "start_time": "2025-01-22T09:07:12.385Z"
   },
   {
    "duration": 1754,
    "start_time": "2025-01-22T09:07:12.476Z"
   },
   {
    "duration": 3,
    "start_time": "2025-01-22T09:07:14.231Z"
   },
   {
    "duration": 21,
    "start_time": "2025-01-22T09:07:14.236Z"
   },
   {
    "duration": 1662,
    "start_time": "2025-01-22T09:07:14.260Z"
   },
   {
    "duration": 29733,
    "start_time": "2025-01-22T09:07:15.924Z"
   },
   {
    "duration": 185191,
    "start_time": "2025-01-22T09:07:45.659Z"
   },
   {
    "duration": 7,
    "start_time": "2025-01-22T09:10:50.853Z"
   },
   {
    "duration": 169,
    "start_time": "2025-01-22T09:10:50.867Z"
   },
   {
    "duration": 109618,
    "start_time": "2025-01-22T09:10:51.045Z"
   },
   {
    "duration": 31489,
    "start_time": "2025-01-22T09:12:40.664Z"
   },
   {
    "duration": 105,
    "start_time": "2025-01-22T09:13:12.155Z"
   },
   {
    "duration": 91,
    "start_time": "2025-01-22T09:13:12.263Z"
   },
   {
    "duration": 53494,
    "start_time": "2025-01-22T09:13:12.358Z"
   },
   {
    "duration": 106,
    "start_time": "2025-01-22T09:14:05.855Z"
   },
   {
    "duration": 177,
    "start_time": "2025-01-22T09:14:05.968Z"
   },
   {
    "duration": 35711,
    "start_time": "2025-01-22T09:14:06.148Z"
   },
   {
    "duration": 1012,
    "start_time": "2025-01-22T09:14:41.865Z"
   },
   {
    "duration": 6,
    "start_time": "2025-01-22T09:14:42.879Z"
   },
   {
    "duration": 26,
    "start_time": "2025-01-22T09:14:42.952Z"
   },
   {
    "duration": 994,
    "start_time": "2025-01-22T09:14:42.979Z"
   }
  ],
  "kernelspec": {
   "display_name": "Python 3 (ipykernel)",
   "language": "python",
   "name": "python3"
  },
  "language_info": {
   "codemirror_mode": {
    "name": "ipython",
    "version": 3
   },
   "file_extension": ".py",
   "mimetype": "text/x-python",
   "name": "python",
   "nbconvert_exporter": "python",
   "pygments_lexer": "ipython3",
   "version": "3.9.5"
  },
  "toc": {
   "base_numbering": 1,
   "nav_menu": {},
   "number_sections": false,
   "sideBar": true,
   "skip_h1_title": true,
   "title_cell": "Table of Contents",
   "title_sidebar": "Contents",
   "toc_cell": false,
   "toc_position": {},
   "toc_section_display": true,
   "toc_window_display": true
  }
 },
 "nbformat": 4,
 "nbformat_minor": 2
}
